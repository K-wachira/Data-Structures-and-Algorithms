{
 "cells": [
  {
   "cell_type": "markdown",
   "metadata": {},
   "source": [
    "Unique Email Addresses\n",
    "\n",
    "[Question Link](https://leetcode.com/problems/unique-email-addresses/)\n",
    "\n",
    "\n",
    "\n",
    "Every email consists of a local name and a domain name, separated by the @ sign.\n",
    "\n",
    "For example, in alice@leetcode.com, alice is the local name, and leetcode.com is the domain name.\n",
    "\n",
    "Besides lowercase letters, these emails may contain '.'s or '+'s.\n",
    "\n",
    "If you add periods ('.') between some characters in the local name part of an email address, mail sent there will be forwarded to the same address without dots in the local name.  For example, \"alice.z@leetcode.com\" and \"alicez@leetcode.com\" forward to the same email address.  (Note that this rule does not apply for domain names.)\n",
    "\n",
    "If you add a plus ('+') in the local name, everything after the first plus sign will be ignored. This allows certain emails to be filtered, for example m.y+name@email.com will be forwarded to my@email.com.  (Again, this rule does not apply for domain names.)\n",
    "\n",
    "It is possible to use both of these rules at the same time.\n",
    "\n",
    "Given a list of emails, we send one email to each address in the list.  How many different addresses actually receive mails? "
   ]
  },
  {
   "cell_type": "code",
   "execution_count": 25,
   "metadata": {},
   "outputs": [
    {
     "data": {
      "text/plain": [
       "2"
      ]
     },
     "execution_count": 25,
     "metadata": {},
     "output_type": "execute_result"
    }
   ],
   "source": [
    "class Solution:\n",
    "    def numUniqueEmails(self, emails ) -> int:\n",
    "        \n",
    "#         pre-process the email. \n",
    "        \n",
    "        for i, email in enumerate(emails):\n",
    "            last = email.index('@')\n",
    "            if '+' in email[:last]:\n",
    "                split = email.index('+')\n",
    "                emails[i] = email[:split] + email[last:]\n",
    "            last = emails[i].index('@')\n",
    "            first = emails[i][:last].replace('.', '')\n",
    "            emails[i] = first+ emails[i][last:]\n",
    "            \n",
    "            \n",
    "#         return len(list(set(emails)))\n",
    "        from collections import Counter\n",
    "        zipped = Counter(emails)\n",
    "        return len(zipped)\n",
    "    \n",
    "    \n",
    "obj = Solution()\n",
    "emails = [\"test.email+alex@leetcode.com\",\"test.e.mail+bob.cathy@leetcode.com\",\"testemail+david@lee.tcode.com\"]\n",
    "obj.numUniqueEmails(emails)\n",
    "\n",
    "                    \n",
    "        "
   ]
  },
  {
   "cell_type": "code",
   "execution_count": 24,
   "metadata": {},
   "outputs": [],
   "source": [
    "class Solution:\n",
    "    def numUniqueEmails(self, emails) -> int:\n",
    "        uniqueEmails = set()\n",
    "        \n",
    "        for email in emails:\n",
    "            localName, domain = email.split('@')\n",
    "            localName = localName.split('+')[0]\n",
    "            localName = localName.replace('.', '')\n",
    "            \n",
    "            uniqueEmails.add(localName+'@'+domain)\n",
    "        \n",
    "        return len(uniqueEmails)"
   ]
  },
  {
   "cell_type": "code",
   "execution_count": null,
   "metadata": {},
   "outputs": [],
   "source": []
  }
 ],
 "metadata": {
  "kernelspec": {
   "display_name": "Python 3",
   "language": "python",
   "name": "python3"
  },
  "language_info": {
   "codemirror_mode": {
    "name": "ipython",
    "version": 3
   },
   "file_extension": ".py",
   "mimetype": "text/x-python",
   "name": "python",
   "nbconvert_exporter": "python",
   "pygments_lexer": "ipython3",
   "version": "3.8.5"
  }
 },
 "nbformat": 4,
 "nbformat_minor": 4
}
