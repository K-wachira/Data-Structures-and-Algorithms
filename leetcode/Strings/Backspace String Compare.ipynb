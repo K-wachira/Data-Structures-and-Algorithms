{
 "cells": [
  {
   "cell_type": "markdown",
   "metadata": {},
   "source": [
    "# Backspace String Compare\n",
    "\n",
    "[Question Link](https://leetcode.com/problems/backspace-string-compare/)\n",
    "\n",
    "Given two strings S and T, return if they are equal when both are typed into empty text editors. # means a backspace character.\n",
    "\n",
    "Note that after backspacing an empty text, the text will continue empty."
   ]
  },
  {
   "cell_type": "code",
   "execution_count": 15,
   "metadata": {},
   "outputs": [
    {
     "data": {
      "text/plain": [
       "True"
      ]
     },
     "execution_count": 15,
     "metadata": {},
     "output_type": "execute_result"
    }
   ],
   "source": [
    "\n",
    "class Solution:\n",
    "    def backspaceCompare(self, S: str, T: str) -> bool:\n",
    "        return self.typer(S) == self.typer(T)\n",
    "    def typer(self, text):\n",
    "        news = ''\n",
    "        for i in text:\n",
    "            if i != '#':\n",
    "                news += i\n",
    "            else:\n",
    "                leng = len(news)\n",
    "                news = news[:leng-1]                \n",
    "        return news\n",
    "\n",
    "        \n",
    "        \n",
    "\n",
    "S = \"ab##\"\n",
    "T = \"c#d#\"\n",
    "obj = Solution()\n",
    "obj.backspaceCompare(S, T)\n",
    "        \n"
   ]
  },
  {
   "cell_type": "code",
   "execution_count": 29,
   "metadata": {},
   "outputs": [
    {
     "data": {
      "text/plain": [
       "True"
      ]
     },
     "execution_count": 29,
     "metadata": {},
     "output_type": "execute_result"
    }
   ],
   "source": [
    "\n",
    "class Solution:\n",
    "    def backspaceCompare(self, S: str, T: str) -> bool:\n",
    "        return self.typer(S) ==self.typer(T)\n",
    "    def typer(self, text):\n",
    "        for i, n in enumerate(text):\n",
    "            if n == '#':\n",
    "                \n",
    "                x = text[i-1]\n",
    "                z =text.replace(x, '', 1)\n",
    "                text =z.replace(n, '', 1)\n",
    "                \n",
    "               \n",
    "        return text\n",
    "\n",
    "        \n",
    "        \n",
    "\n",
    "S = \"ab#\"\n",
    "T = \"ad#c\"\n",
    "\n",
    "obj = Solution()\n",
    "obj.backspaceCompare(S, T)\n",
    "        "
   ]
  }
 ],
 "metadata": {
  "kernelspec": {
   "display_name": "Python 3",
   "language": "python",
   "name": "python3"
  },
  "language_info": {
   "codemirror_mode": {
    "name": "ipython",
    "version": 3
   },
   "file_extension": ".py",
   "mimetype": "text/x-python",
   "name": "python",
   "nbconvert_exporter": "python",
   "pygments_lexer": "ipython3",
   "version": "3.8.5"
  }
 },
 "nbformat": 4,
 "nbformat_minor": 4
}
