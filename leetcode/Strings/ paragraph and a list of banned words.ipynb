{
 "cells": [
  {
   "cell_type": "code",
   "execution_count": null,
   "metadata": {},
   "outputs": [],
   "source": [
    "\n",
    "[Question Link]()\n",
    "\n",
    "Given a paragraph and a list of banned words, return the most frequent word that is not in the list of banned words.  It is guaranteed there is at least one word that isn't banned, and that the answer is unique.\n",
    "\n",
    "Words in the list of banned words are given in lowercase, and free of punctuation.  Words in the paragraph are not case sensitive.  The answer is in lowercase.\n",
    "\n",
    " \n",
    "\n",
    "Example:\n",
    "\n",
    "Input: \n",
    "paragraph = \"Bob hit a ball, the hit BALL flew far after it was hit.\"\n",
    "banned = [\"hit\"]\n",
    "Output: \"ball\"\n",
    "Explanation: \n",
    "\"hit\" occurs 3 times, but it is a banned word.\n",
    "\"ball\" occurs twice (and no other word does), so it is the most frequent non-banned word in the paragraph. \n",
    "Note that words in the paragraph are not case sensitive,\n",
    "that punctuation is ignored (even if adjacent to words, such as \"ball,\"), \n",
    "and that \"hit\" isn't the answer even though it occurs more because it is banned.\n"
   ]
  },
  {
   "cell_type": "code",
   "execution_count": 30,
   "metadata": {},
   "outputs": [
    {
     "name": "stdout",
     "output_type": "stream",
     "text": [
      "Counter({'': 2, 'bob': 1, 'hit': 1, 'ball': 1})\n"
     ]
    },
    {
     "data": {
      "text/plain": [
       "'ball'"
      ]
     },
     "execution_count": 30,
     "metadata": {},
     "output_type": "execute_result"
    }
   ],
   "source": [
    "from collections import Counter\n",
    "import string \n",
    "class Solution:\n",
    "    def mostCommonWord(self, paragraph, banned):\n",
    "        banned.append('')\n",
    "        paragraph = paragraph.lower()\n",
    "        letters = set(string.ascii_lowercase)\n",
    "        \n",
    "        for i in paragraph:\n",
    "            if i not in letters:\n",
    "                paragraph = paragraph.replace(i, ' ')\n",
    "        \n",
    "        z = paragraph.split(' ')\n",
    "        count = Counter(z)\n",
    "        print(count)\n",
    "        \n",
    "        maxi = 0\n",
    "        strs = ''\n",
    "        for key, value in count.items():\n",
    "            if key in banned:\n",
    "                pass\n",
    "            else:\n",
    "                if value > maxi:\n",
    "                    maxi = value \n",
    "                    strs = key\n",
    "                    \n",
    "        return(strs)\n",
    "        \n",
    "    \n",
    "    \n",
    "    \n",
    "paragraph = \"Bob. hIt, baLl\"\n",
    "banned =[\"bob\", \"hit\"]\n",
    "\n",
    "obj= Solution()\n",
    "obj.mostCommonWord(paragraph, banned)"
   ]
  },
  {
   "cell_type": "code",
   "execution_count": null,
   "metadata": {},
   "outputs": [],
   "source": []
  }
 ],
 "metadata": {
  "kernelspec": {
   "display_name": "Python 3",
   "language": "python",
   "name": "python3"
  },
  "language_info": {
   "codemirror_mode": {
    "name": "ipython",
    "version": 3
   },
   "file_extension": ".py",
   "mimetype": "text/x-python",
   "name": "python",
   "nbconvert_exporter": "python",
   "pygments_lexer": "ipython3",
   "version": "3.8.3"
  }
 },
 "nbformat": 4,
 "nbformat_minor": 4
}
