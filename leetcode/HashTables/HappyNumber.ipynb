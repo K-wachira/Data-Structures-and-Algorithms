{
 "cells": [
  {
   "cell_type": "markdown",
   "metadata": {},
   "source": [
    "# Happy Number\n",
    "[Question Link](https://leetcode.com/problems/happy-number/)\n",
    "--\n",
    "Write an algorithm to determine if a number n is \"happy\".<br>\n",
    "\n",
    "A happy number is a number defined by the following process: Starting with any positive integer, replace the number by the sum of the squares of its digits, <br>and repeat the process until the number equals 1 (where it will stay), or it loops endlessly in a cycle which does not include 1. <br>Those numbers for which this process ends in 1 are happy numbers.<br>\n",
    "\n",
    "Return True if n is a happy number, and False if not.<br>\n",
    "***\n",
    "\n"
   ]
  },
  {
   "cell_type": "markdown",
   "metadata": {},
   "source": [
    "## Approach 1(recursion)\n",
    "\n",
    "### Steps::\n",
    "\n",
    "1. check if n is less than one if true return False, this is assuming once a number goes below 1 it can come back to being more than one \n",
    "2. check if n is equal to one and if true return True\n",
    "3. Else loop thought the string version of n i.e str(n) and get a newn (newn) that is the summation of int(i)*int(i) \n",
    "    out of the loop call the function isHappy(newn) with new n being the sum of the squares of i from the loop.\n",
    "\n",
    "#### Cons\n",
    "\n",
    "This approach has a bug i.e when n== 1 its not running the appropriate conditions\n"
   ]
  },
  {
   "cell_type": "code",
   "execution_count": null,
   "metadata": {},
   "outputs": [],
   "source": [
    "def isHappy(n):\n",
    "    newn = 0\n",
    "    \"\"\"\n",
    "    :type n: int\n",
    "    :rtype: bool\n",
    "    \"\"\"\n",
    "    if n < 0:\n",
    "        return False\n",
    "    elif n == 1:\n",
    "        return True\n",
    "    else:\n",
    "        for i in (str(n)):\n",
    "            newn += int(i)**2\n",
    "        isHappy(newn)\n",
    "n = 1\n",
    "isHappy(n)\n",
    "\n",
    "    "
   ]
  },
  {
   "cell_type": "markdown",
   "metadata": {},
   "source": [
    "***\n",
    "### Approach 2(iteration)\n",
    "\n",
    "### Steps::\n",
    "\n",
    "1. Enter a while loop, check if n is not equal to 1; if not n = sum of the squares of the its individual digits\n",
    "    if n == 4 return false\n",
    "2. When n == 1 break the whileand return True.<br>\n",
    "[Wiki Source](https://en.wikipedia.org/wiki/Happy_number)"
   ]
  },
  {
   "cell_type": "code",
   "execution_count": 2,
   "metadata": {},
   "outputs": [
    {
     "data": {
      "text/plain": [
       "True"
      ]
     },
     "execution_count": 2,
     "metadata": {},
     "output_type": "execute_result"
    }
   ],
   "source": [
    "def isHappy(n):\n",
    "    while n != 1:\n",
    "        n = sum(int(i)**2 for i in str(n))\n",
    "        if n == 4:\n",
    "            return False\n",
    "    return True\n",
    "n = 13\n",
    "isHappy(n)"
   ]
  },
  {
   "cell_type": "markdown",
   "metadata": {},
   "source": [
    "***\n",
    "\n",
    "### Approach 3(iteration)\n",
    "\n",
    "### Steps::\n",
    "1. Initialize a set() which stores the values of n so far and if a value is repeated it means there is a closed loop or cycle and its going to be endless\n",
    "2. Enter a while loop, \n",
    "3. Check if n is equal to 1 if true return True; \n",
    "4. Check if n is equal to 4 if true return Flase\n",
    "5. Else  n = sum of the squares of the its individual digits\n"
   ]
  },
  {
   "cell_type": "code",
   "execution_count": 20,
   "metadata": {},
   "outputs": [
    {
     "data": {
      "text/plain": [
       "False"
      ]
     },
     "execution_count": 20,
     "metadata": {},
     "output_type": "execute_result"
    }
   ],
   "source": [
    "def isHappy(n):\n",
    "        sums = set()\n",
    "        while n not in sums:            \n",
    "            if n == 1:\n",
    "                return True\n",
    "            if n == 4:\n",
    "                return False\n",
    "            sums.add(n)\n",
    "            n = sum(int(i) ** 2 for i in str(n))            \n",
    "            \n",
    "        return False\n",
    "n = 4\n",
    "isHappy(n)"
   ]
  },
  {
   "cell_type": "code",
   "execution_count": null,
   "metadata": {},
   "outputs": [],
   "source": []
  }
 ],
 "metadata": {
  "kernelspec": {
   "display_name": "Python 3",
   "language": "python",
   "name": "python3"
  },
  "language_info": {
   "codemirror_mode": {
    "name": "ipython",
    "version": 3
   },
   "file_extension": ".py",
   "mimetype": "text/x-python",
   "name": "python",
   "nbconvert_exporter": "python",
   "pygments_lexer": "ipython3",
   "version": "3.8.3"
  }
 },
 "nbformat": 4,
 "nbformat_minor": 4
}
