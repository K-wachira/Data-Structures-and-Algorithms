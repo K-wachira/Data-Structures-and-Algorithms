{
 "cells": [
  {
   "cell_type": "markdown",
   "metadata": {},
   "source": [
    "# SingleNumber\n",
    "\n",
    "Given a non-empty array of integers, every element *appears twice* except for one. Find that single one.<br>\n",
    "[Link to Question](https://leetcode.com/problems/single-number/)<br>\n",
    "Note::<br>\n",
    "Your algorithm should have a linear runtime complexity. Could you implement it without using extra memory?"
   ]
  },
  {
   "cell_type": "markdown",
   "metadata": {},
   "source": [
    "## Approach A(Using hashtable -set)\n",
    "### Steps::\n",
    "\n",
    "1. Initialize a set -SetNums- it will avoid having dublicates -\n",
    "2. Loop through the nums and:\n",
    "   if i is already in SetNums, remove it from the set and go to the next item\n",
    "   if i is not on SetNums add it\n",
    " \n",
    "### Cons\n",
    "This approach will work but its strictly if the number of times a number is repeated is only twice or and even number.\n",
    "\n"
   ]
  },
  {
   "cell_type": "code",
   "execution_count": 5,
   "metadata": {},
   "outputs": [
    {
     "data": {
      "text/plain": [
       "1"
      ]
     },
     "execution_count": 5,
     "metadata": {},
     "output_type": "execute_result"
    }
   ],
   "source": [
    "def singleNumber(nums):\n",
    "    SetNums = set()\n",
    "    for i in nums:\n",
    "        if i in SetNums:\n",
    "            SetNums.remove(i)\n",
    "        else:\n",
    "            SetNums.add(i)\n",
    "    return ((list(SetNums))[0])\n",
    "\n",
    "nums = [2,2,1]\n",
    "singleNumber(nums)\n",
    "    \n"
   ]
  },
  {
   "cell_type": "markdown",
   "metadata": {},
   "source": [
    "## Approach B (Using a dictionary)\n",
    "### Steps::\n",
    "\n",
    "1. Create an empty dictionary (f)\n",
    "2. strore each items in the list (nums) as key and the number of times it appears as value \n",
    "3. Iterrate through the dictionary and if value is 1 return the key of the value\n",
    "\n",
    "### Pros\n",
    "\n",
    "This approach will work even if an item occurs more than twice and regardless of whether the value counter is Even or odd"
   ]
  },
  {
   "cell_type": "code",
   "execution_count": 11,
   "metadata": {},
   "outputs": [
    {
     "data": {
      "text/plain": [
       "1"
      ]
     },
     "execution_count": 11,
     "metadata": {},
     "output_type": "execute_result"
    }
   ],
   "source": [
    "def singleNumber(nums):\n",
    "    f = {}\n",
    "    for i in nums:\n",
    "        f[i] = f.get(i, 0)+1\n",
    "    for k, v in f.items():\n",
    "        if v == 1:\n",
    "            return k\n",
    "        \n",
    "nums = [2,2,1]\n",
    "singleNumber(nums)"
   ]
  }
 ],
 "metadata": {
  "kernelspec": {
   "display_name": "Python 3",
   "language": "python",
   "name": "python3"
  },
  "language_info": {
   "codemirror_mode": {
    "name": "ipython",
    "version": 3
   },
   "file_extension": ".py",
   "mimetype": "text/x-python",
   "name": "python",
   "nbconvert_exporter": "python",
   "pygments_lexer": "ipython3",
   "version": "3.8.3"
  }
 },
 "nbformat": 4,
 "nbformat_minor": 4
}
