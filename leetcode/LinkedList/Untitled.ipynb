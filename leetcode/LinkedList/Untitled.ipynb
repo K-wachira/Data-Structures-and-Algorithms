{
 "cells": [
  {
   "cell_type": "code",
   "execution_count": 14,
   "metadata": {},
   "outputs": [
    {
     "name": "stdout",
     "output_type": "stream",
     "text": [
      "10\n",
      "20\n",
      "30\n"
     ]
    }
   ],
   "source": [
    "class Node():\n",
    "    def __init__(self, val=None, Next=None):\n",
    "        self.val = val\n",
    "        self.Next = Next\n",
    "        \n",
    "    def __str__(self):\n",
    "        return str(self.val)\n",
    "        \n",
    "        \n",
    "node1 = Node()\n",
    "node1.val = 10 \n",
    "\n",
    "\n",
    "node2 = Node()\n",
    "node2.val = 20 \n",
    "\n",
    "\n",
    "\n",
    "\n",
    "node3 = Node()\n",
    "node3.val = 30 \n",
    "\n",
    "\n",
    "\n",
    "\n",
    "node1.Next = node2\n",
    "\n",
    "\n",
    "\n",
    "x = [node1, node2, node3]\n",
    "for i in x:\n",
    "    print (i)\n",
    "\n"
   ]
  },
  {
   "cell_type": "code",
   "execution_count": null,
   "metadata": {},
   "outputs": [],
   "source": []
  }
 ],
 "metadata": {
  "kernelspec": {
   "display_name": "Python 3",
   "language": "python",
   "name": "python3"
  },
  "language_info": {
   "codemirror_mode": {
    "name": "ipython",
    "version": 3
   },
   "file_extension": ".py",
   "mimetype": "text/x-python",
   "name": "python",
   "nbconvert_exporter": "python",
   "pygments_lexer": "ipython3",
   "version": "3.8.5"
  }
 },
 "nbformat": 4,
 "nbformat_minor": 4
}
