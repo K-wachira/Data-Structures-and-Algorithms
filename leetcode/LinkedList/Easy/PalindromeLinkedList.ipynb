{
 "cells": [
  {
   "cell_type": "markdown",
   "metadata": {},
   "source": [
    "# Palindrome Linked List\n",
    "\n",
    "Given a singly linked list, determine if it is a palindrome.\n",
    "***\n",
    "## Approach 1 (Iteration)\n",
    "\n",
    "### Steps ::\n",
    "1. Create a reversed linked list from the given linked LinkedList\n",
    "2. Compare is values of the Linked list are all the same at each iteration\n"
   ]
  },
  {
   "cell_type": "code",
   "execution_count": 3,
   "metadata": {},
   "outputs": [],
   "source": [
    "# Definition for singly-linked list.\n",
    "class ListNode(object):\n",
    "    def __init__(self, val=0, next=None):\n",
    "        self.val = val\n",
    "        self.next = next\n",
    "class Solution(object):\n",
    "    def isPalindrome(self, head):\n",
    "        \"\"\"\n",
    "        :type head: ListNode\n",
    "        :rtype: bool\n",
    "        \"\"\"\n",
    "        nums = []\n",
    "        curr = head\n",
    "        while curr:\n",
    "            nums.append(curr.val)\n",
    "            curr = curr.next\n",
    "        reversedlist= nums[::-1]\n",
    "        list2 = ListNode()\n",
    "        head2 = list2\n",
    "        Same = True\n",
    "        for x in reversedlist:\n",
    "            head2.next = ListNode(x)\n",
    "            head2 = head2.next\n",
    "        list2 = list2.next\n",
    "        while head:\n",
    "            Same = Same and (head.val == list2.val)  ## (True and True = True) while (True and False == False)\n",
    "            head = head.next\n",
    "            list2 = list2.next\n",
    "        return Same\n",
    "            \n",
    "            \n",
    "        "
   ]
  },
  {
   "cell_type": "markdown",
   "metadata": {},
   "source": [
    "## Approach 2 (Iteration)\n",
    "Slightly faster than Approach 2\n",
    "\n",
    "### Steps ::\n",
    "1. Create a list out of the provided values ... and return true if list == list.reversed"
   ]
  },
  {
   "cell_type": "code",
   "execution_count": null,
   "metadata": {},
   "outputs": [],
   "source": [
    "# Definition for singly-linked list.\n",
    "# class ListNode(object):\n",
    "#     def __init__(self, val=0, next=None):\n",
    "#         self.val = val\n",
    "#         self.next = next\n",
    "class Solution(object):\n",
    "    def isPalindrome(self, head):\n",
    "        \"\"\"\n",
    "        :type head: ListNode\n",
    "        :rtype: bool\n",
    "        \"\"\"\n",
    "        nums = []\n",
    "        curr = head\n",
    "        while curr:\n",
    "            nums.append(curr.val)\n",
    "            curr = curr.next\n",
    "        reversedlist= nums[::-1]\n",
    "        \n",
    "        return reversedlist == nums"
   ]
  }
 ],
 "metadata": {
  "kernelspec": {
   "display_name": "Python 3",
   "language": "python",
   "name": "python3"
  },
  "language_info": {
   "codemirror_mode": {
    "name": "ipython",
    "version": 3
   },
   "file_extension": ".py",
   "mimetype": "text/x-python",
   "name": "python",
   "nbconvert_exporter": "python",
   "pygments_lexer": "ipython3",
   "version": "3.8.3"
  }
 },
 "nbformat": 4,
 "nbformat_minor": 4
}
