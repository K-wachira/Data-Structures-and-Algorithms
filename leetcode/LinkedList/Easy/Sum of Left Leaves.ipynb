{
 "cells": [
  {
   "cell_type": "code",
   "execution_count": 28,
   "metadata": {},
   "outputs": [
    {
     "data": {
      "text/plain": [
       "22"
      ]
     },
     "execution_count": 28,
     "metadata": {},
     "output_type": "execute_result"
    }
   ],
   "source": [
    "# Definition for a binary tree node.\n",
    "class TreeNode(object):\n",
    "    def __init__(self, val=0, left=None, right=None):\n",
    "        self.val = val\n",
    "        self.left = left\n",
    "        self.right = right\n",
    "class Solution(object):\n",
    "    def __init__ (self):\n",
    "        \n",
    "        self.root = None\n",
    "        \n",
    "#      Inserts a given value in a Tree\n",
    "    def insertion(self, value): \n",
    "        if self.root == None: # if there is no Tree in the instance called  initializes with root being the value inserted first\n",
    "            self.root = TreeNode(value)\n",
    "        else:            # if a tree already exists call the private insertion method to deal with the logic  // I have split the methods for ease in understanding and reading the code\n",
    "            self._insertion( self.root, value)\n",
    "            \n",
    "    def _insertion(self, curr_node, value): # This is a private method that will handle the recursion and the insertion logic \n",
    "        \n",
    "        if value < curr_node.val:       # if its less than we will be going left side\n",
    "            if curr_node.left == None:  # checks if the left node exists and if it does not create one and insert the value on the new node\n",
    "                curr_node.left = TreeNode(value) \n",
    "            else:                       # if the left node had a value already i.e not null make the left node the parent while recursing \n",
    "                self._insertion(curr_node.left, value)\n",
    "                \n",
    "        elif value > curr_node.val:     # if the value we are inserting is greater than the parent go right\n",
    "            if curr_node.right == None: # if there is no right Node to go to create a Node left of the parent and insert the value as the val\n",
    "                curr_node.right= TreeNode(value)\n",
    "            else:                         # If there is a node on the right side , make it the parent when recursing\n",
    "                self._insertion(curr_node.right, value)\n",
    "        else: \n",
    "            print(\"Value is already on the Tree\") # this is to avoid dublication of values on a tree\n",
    "            \n",
    "            \n",
    "\n",
    "    def dfs(self, root, side):\n",
    "        if not root: return\n",
    "        \n",
    "        if not root.left and not root.right:\n",
    "            if side == -1: self.sum += root.val\n",
    "        \n",
    "        self.dfs(root.left, -1)\n",
    "        self.dfs(root.right, 1)\n",
    "    \n",
    "    def sumOfLeftLeaves(self):\n",
    "        root = self.root\n",
    "        self.sum = 0\n",
    "        self.dfs(root, 0)\n",
    "        return self.sum\n",
    "\n",
    "            \n",
    "            \n",
    "            \n",
    "\n",
    "Tree1 = Solution()\n",
    "Tree1.insertion(3)\n",
    "Tree1.insertion(9)\n",
    "Tree1.insertion(20)\n",
    "Tree1.insertion(15)\n",
    "Tree1.insertion(7)\n",
    "Tree1.sumOfLeftLeaves()          \n",
    "    \n",
    "    "
   ]
  },
  {
   "cell_type": "code",
   "execution_count": null,
   "metadata": {},
   "outputs": [],
   "source": []
  }
 ],
 "metadata": {
  "kernelspec": {
   "display_name": "Python 3",
   "language": "python",
   "name": "python3"
  },
  "language_info": {
   "codemirror_mode": {
    "name": "ipython",
    "version": 3
   },
   "file_extension": ".py",
   "mimetype": "text/x-python",
   "name": "python",
   "nbconvert_exporter": "python",
   "pygments_lexer": "ipython3",
   "version": "3.8.3"
  }
 },
 "nbformat": 4,
 "nbformat_minor": 4
}
