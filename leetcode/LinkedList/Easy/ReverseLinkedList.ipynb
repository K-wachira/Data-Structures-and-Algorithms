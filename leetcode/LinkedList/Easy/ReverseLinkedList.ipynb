{
 "cells": [
  {
   "cell_type": "markdown",
   "metadata": {},
   "source": [
    "# Reverse Linked List\n",
    "\n",
    "Reverse a singly linked list.\n",
    "\n",
    "`Input: 1->2->3->4->5->NULL\n",
    " Output: 5->4->3->2->1->NULL`\n",
    "\n",
    "while head.next is nothing \n",
    "thats the last element and assign it to a variable \n",
    "make that variable the next item of our reversed linked list \n",
    "remove the variable from the last position of original linked list \n"
   ]
  },
  {
   "cell_type": "code",
   "execution_count": null,
   "metadata": {},
   "outputs": [],
   "source": [
    "# Definition for singly-linked list.\n",
    "# class ListNode(object):\n",
    "#     def __init__(self, val=0, next=None):\n",
    "#         self.val = val\n",
    "#         self.next = next\n",
    "class Solution(object):\n",
    "    def reverseList(self, head):\n",
    "        \"\"\"\n",
    "        :type head: ListNode\n",
    "        :rtype: ListNode\n",
    "        \"\"\"\n",
    "        if not head:\n",
    "            return head\n",
    "        \n",
    "        curr = head        \n",
    "        while curr.next:\n",
    "            temp = curr.next\n",
    "            curr.next = temp.next\n",
    "            temp.next = head\n",
    "            head = temp\n",
    "            \n",
    "        return head\n"
   ]
  },
  {
   "cell_type": "code",
   "execution_count": null,
   "metadata": {},
   "outputs": [],
   "source": [
    "class Solution:\n",
    "    def reverseList(self, head: ListNode) -> ListNode:\n",
    "        if not head:\n",
    "            return head\n",
    "        \n",
    "        nums = []\n",
    "        curr = head\n",
    "        while curr: # Strip the values\n",
    "            nums.append(curr.val)\n",
    "            curr = curr.next\n",
    "            \n",
    "        nums[:] = nums[::-1]  # Reverse the list\n",
    "        head = ListNode()    # This  is how we initialize a linkedlist\n",
    "        curr = head \n",
    "        for x in nums:\n",
    "            curr.next = ListNode(x) # This is how we add numbers on the list\n",
    "            curr = curr.next\n",
    "            \n",
    "        return head.next \n"
   ]
  }
 ],
 "metadata": {
  "kernelspec": {
   "display_name": "Python 3",
   "language": "python",
   "name": "python3"
  },
  "language_info": {
   "codemirror_mode": {
    "name": "ipython",
    "version": 3
   },
   "file_extension": ".py",
   "mimetype": "text/x-python",
   "name": "python",
   "nbconvert_exporter": "python",
   "pygments_lexer": "ipython3",
   "version": "3.8.3"
  }
 },
 "nbformat": 4,
 "nbformat_minor": 4
}
