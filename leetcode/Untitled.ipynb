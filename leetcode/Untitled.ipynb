{
 "cells": [
  {
   "cell_type": "code",
   "execution_count": 19,
   "metadata": {},
   "outputs": [
    {
     "name": "stdout",
     "output_type": "stream",
     "text": [
      "a##c #a#c\n",
      "#c #a#c\n",
      "c #a#c\n",
      "c a#c\n",
      "c c\n"
     ]
    },
    {
     "data": {
      "text/plain": [
       "True"
      ]
     },
     "execution_count": 19,
     "metadata": {},
     "output_type": "execute_result"
    }
   ],
   "source": [
    "class Solution:\n",
    "    \n",
    "    def backspaceCompare(self, s: str, t: str) -> bool:\n",
    "        news = ''\n",
    "        newt = ''\n",
    "        print(s, t)\n",
    "        for i, n in enumerate(s):\n",
    "            \n",
    "            if n == \"#\":\n",
    "                if i != 0 : \n",
    "                    #s[i-1] = \"\"\n",
    "                    news = s[:i-1]\n",
    "                    news +=  s[i+1:]\n",
    "                else:\n",
    "                    news = s[i+1:]\n",
    "                return self.backspaceCompare(news, t)\n",
    "                \n",
    "        for i, n in enumerate(t):\n",
    "            if n == \"#\":\n",
    "                if i != 0 : \n",
    "                    newt = t[:i-1] \n",
    "                    newt += t[i+1:]\n",
    "                else:\n",
    "                    newt = t[i+1:]\n",
    "                return self.backspaceCompare(s, newt)\n",
    "            \n",
    "        return s == t\n",
    "    \n",
    "    \n",
    "    \n",
    "    \n",
    "obj = Solution()\n",
    "s = \"a##c\"\n",
    "t = \"#a#c\"\n",
    "obj.backspaceCompare(s, t)"
   ]
  },
  {
   "cell_type": "code",
   "execution_count": null,
   "metadata": {},
   "outputs": [],
   "source": []
  }
 ],
 "metadata": {
  "kernelspec": {
   "display_name": "Python 3",
   "language": "python",
   "name": "python3"
  },
  "language_info": {
   "codemirror_mode": {
    "name": "ipython",
    "version": 3
   },
   "file_extension": ".py",
   "mimetype": "text/x-python",
   "name": "python",
   "nbconvert_exporter": "python",
   "pygments_lexer": "ipython3",
   "version": "3.8.0"
  }
 },
 "nbformat": 4,
 "nbformat_minor": 4
}
