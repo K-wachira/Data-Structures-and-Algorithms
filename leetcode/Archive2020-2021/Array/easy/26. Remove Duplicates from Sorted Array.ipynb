{
 "cells": [
  {
   "cell_type": "markdown",
   "metadata": {},
   "source": [
    "# 26. Remove Duplicates from Sorted Array\n",
    "\n",
    "[question link](https://leetcode.com/problems/remove-duplicates-from-sorted-array/)\n",
    "\n",
    "Given a sorted array nums, remove the duplicates in-place such that each element appear only once and return the new length.\n",
    "Do not allocate extra space for another array, you must do this by modifying the input array in-place with O(1) extra memory.\n",
    "\n",
    "Given nums = [1,1,2],\n",
    "\n",
    "Your function should return length = 2, with the first two elements of nums being 1 and 2 respectively.\n",
    "\n",
    "It doesn't matter what you leave beyond the returned length.\n",
    "\n",
    "\n",
    "\n",
    "Since the array is already sorted, we can keep two pointers iii and jjj, where iii is the slow-runner while jjj is the fast-runner. As long as nums[i]=nums[j]nums[i] = nums[j]nums[i]=nums[j], we increment jjj to skip the duplicate.\n",
    "\n",
    "When we encounter nums[j]≠nums[i]nums[j] \\neq nums[i]nums[j]​=nums[i], the duplicate run has ended so we must copy its value to nums[i+1]nums[i + 1]nums[i+1]. iii is then incremented and we repeat the same process again until jjj reaches the end of array.\n"
   ]
  },
  {
   "cell_type": "code",
   "execution_count": 36,
   "metadata": {},
   "outputs": [
    {
     "name": "stdout",
     "output_type": "stream",
     "text": [
      "1 0\n",
      "[0, 1, 1, 2, 2]\n",
      "2 1\n",
      "3 1\n",
      "[0, 1, 2, 2, 2]\n",
      "4 2\n"
     ]
    }
   ],
   "source": [
    "class Solution (object):\n",
    "    def removeDublicates(self, nums):\n",
    "        if len(nums ) ==0: return 0\n",
    "        \n",
    "        i = 0\n",
    "        for j in range(1,len(nums)):\n",
    "            if nums[j]!= nums[i]:\n",
    "                i +=1\n",
    "                nums[i]= nums[j]\n",
    "                print(nums)\n",
    "        return i +1\n",
    "obj = Solution()\n",
    "nums =  [0,1,1,2,2]\n",
    "z =obj.removeDublicates(nums)\n",
    "    \n"
   ]
  }
 ],
 "metadata": {
  "kernelspec": {
   "display_name": "Python 3",
   "language": "python",
   "name": "python3"
  },
  "language_info": {
   "codemirror_mode": {
    "name": "ipython",
    "version": 3
   },
   "file_extension": ".py",
   "mimetype": "text/x-python",
   "name": "python",
   "nbconvert_exporter": "python",
   "pygments_lexer": "ipython3",
   "version": "3.8.3"
  }
 },
 "nbformat": 4,
 "nbformat_minor": 4
}
