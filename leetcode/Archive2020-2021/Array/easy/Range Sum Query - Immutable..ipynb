{
 "cells": [
  {
   "cell_type": "markdown",
   "metadata": {},
   "source": [
    "# 303. Range Sum Query - Immutable\n",
    "\n",
    "Given an integer array nums, find the sum of the elements between indices i and j (i ≤ j), inclusive.\n",
    "\n",
    "Implement the NumArray class:\n",
    "\n",
    "    NumArray(int[] nums) Initializes the object with the integer array nums.\n",
    "    \n",
    "    int sumRange(int i, int j) Return the sum of the elements of the nums array in the range [i, j] inclusive (i.e., sum(nums[i], nums[i + 1], ... , nums[j]))\n",
    "\n",
    "\n",
    "## Your NumArray object will be instantiated and called as such:\n",
    "## obj = NumArray(nums)\n",
    "## param_1 = obj.sumRange(i,j)"
   ]
  },
  {
   "cell_type": "markdown",
   "metadata": {},
   "source": [
    "# Cashed solution \n",
    "\n",
    "Time complexity = O(n) only once because we have to go through each value on the init method \n",
    "\n",
    "Space complexity = O(n) because of the extra array where we are storing values of sum so far \n"
   ]
  },
  {
   "cell_type": "code",
   "execution_count": 9,
   "metadata": {},
   "outputs": [
    {
     "name": "stdout",
     "output_type": "stream",
     "text": [
      "[0, -2, -2, 1, -4, -2, -3]\n",
      "1 -1 -3\n"
     ]
    }
   ],
   "source": [
    "class NumArray(object):\n",
    "    def __init__(self, nums):\n",
    "        \"\"\"\n",
    "        :type nums: List[int]\n",
    "        \"\"\"\n",
    "        self.nums= nums\n",
    "        self.sum = [0]\n",
    "        \n",
    "        for i in self.nums:\n",
    "            self.sum.append( self.sum[-1] + i)\n",
    "    def sumRange(self, i, j):\n",
    "        \"\"\"\n",
    "        :type i: int\n",
    "        :type j: int\n",
    "        :rtype: int\n",
    "        \"\"\"\n",
    "        retval = 0 \n",
    "        \n",
    "        if i == 0 : return self.sum[j+1]\n",
    "        return self.sum[j+1] - self.sum[i]\n",
    "     \n",
    "obj = NumArray( [-2, 0, 3, -5, 2, -1])\n",
    "\n",
    "print(obj.sumRange(0, 2), end = \" \")\n",
    "print( obj.sumRange(2,5), end = \" \")\n",
    "print( obj.sumRange(0, 5))"
   ]
  },
  {
   "cell_type": "markdown",
   "metadata": {},
   "source": [
    "# Naive solution \n",
    "\n",
    "\n",
    "Time complexity = O(n* number of time instance obj is called ) everytime an instance of class is called\n",
    "\n",
    "Space complexitu is o(1) because we are not using any exta data stucture.\n",
    "\n",
    "\n"
   ]
  },
  {
   "cell_type": "code",
   "execution_count": 13,
   "metadata": {},
   "outputs": [
    {
     "name": "stdout",
     "output_type": "stream",
     "text": [
      "1 -1 -3\n"
     ]
    }
   ],
   "source": [
    "class NumArray(object):\n",
    "    def __init__(self, nums):\n",
    "        self.nums = nums\n",
    "    def sumRange(self, i , j ):\n",
    "        \n",
    "        sums = 0 \n",
    "        \n",
    "        while i <= j:\n",
    "            sums += self.nums[i]\n",
    "            i+=1\n",
    "        return sums\n",
    "    \n",
    "    \n",
    "obj = NumArray( [-2, 0, 3, -5, 2, -1])\n",
    "\n",
    "print(obj.sumRange(0, 2), end = \" \")\n",
    "print( obj.sumRange(2,5), end = \" \")\n",
    "print( obj.sumRange(0, 5))"
   ]
  },
  {
   "cell_type": "code",
   "execution_count": null,
   "metadata": {},
   "outputs": [],
   "source": []
  }
 ],
 "metadata": {
  "kernelspec": {
   "display_name": "Python 3",
   "language": "python",
   "name": "python3"
  },
  "language_info": {
   "codemirror_mode": {
    "name": "ipython",
    "version": 3
   },
   "file_extension": ".py",
   "mimetype": "text/x-python",
   "name": "python",
   "nbconvert_exporter": "python",
   "pygments_lexer": "ipython3",
   "version": "3.8.3"
  }
 },
 "nbformat": 4,
 "nbformat_minor": 4
}
