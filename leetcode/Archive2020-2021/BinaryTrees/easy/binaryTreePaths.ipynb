{
 "cells": [
  {
   "cell_type": "markdown",
   "metadata": {},
   "source": [
    "Given a binary tree, return all root-to-leaf paths.\n",
    "\n",
    "Note: A leaf is a node with no children.\n",
    "\n",
    "Example:\n",
    "\n",
    "Input:\n",
    "\n",
    "  `\n",
    "       1\n",
    "     /   \\\n",
    "    2     3\n",
    "     \\\n",
    "      5`\n",
    "\n",
    "Output: [\"1->2->5\", \"1->3\"]\n",
    "\n",
    "Explanation: All root-to-leaf paths are: 1->2->5, 1->3\n"
   ]
  },
  {
   "cell_type": "code",
   "execution_count": null,
   "metadata": {},
   "outputs": [],
   "source": [
    "# Definition for a binary tree node.\n",
    "class TreeNode:\n",
    "    def __init__(self, val=0, left=None, right=None):\n",
    "        self.val = val\n",
    "        self.left = left\n",
    "        self.right = right\n",
    "class Solution:\n",
    "    def binaryTreePaths(self, root: TreeNode) :\n",
    "        paths= []\n",
    "        path = ''\n",
    "        if root == None:\n",
    "            return \n",
    "        \n",
    "        else:\n",
    "            \n",
    "            self.traversal(root, path, paths)\n",
    "            return paths\n",
    "        \n",
    "        \n",
    "            \n",
    "    def traversal(self, curr_node, path, paths):\n",
    "        \n",
    "        path += str(curr_node.val)\n",
    "        if curr_node.left != None and curr_node.right != None:\n",
    "            paths.append(paths)\n",
    "            return\n",
    "        if curr_node.right != None:\n",
    "            \n",
    "            self.traversal(curr_node.right, path +'->',  paths)\n",
    "        if curr_node.left != None:\n",
    "            self.traversal(curr_node.left, path+ '->', paths)\n",
    "            \n",
    "    \n",
    "    \n",
    "    \n",
    "obj = Solution()\n",
    "root = TreeNode()\n",
    "root.val = 1\n",
    "root.left = 2\n",
    "root.left.right = 5\n",
    "root.right.val = 3\n",
    "obj.binaryTreePaths(root)\n",
    "    \n",
    "        "
   ]
  },
  {
   "cell_type": "code",
   "execution_count": null,
   "metadata": {},
   "outputs": [],
   "source": [
    "print(\"welcome to HOME\".capitalize())"
   ]
  },
  {
   "cell_type": "code",
   "execution_count": null,
   "metadata": {},
   "outputs": [],
   "source": [
    "l = [1,2,3,4,5]\n",
    "\n",
    "l2 =l.copy()\n",
    "l2"
   ]
  },
  {
   "cell_type": "code",
   "execution_count": null,
   "metadata": {},
   "outputs": [],
   "source": [
    "\n",
    "\n",
    "t=  '%(a)s %(b)s '\n",
    "print(t % dict( a = 'welcome', b='to'))"
   ]
  },
  {
   "cell_type": "code",
   "execution_count": null,
   "metadata": {},
   "outputs": [],
   "source": [
    "l = [1,2j,3,4,5]\n",
    "l.sort()"
   ]
  },
  {
   "cell_type": "code",
   "execution_count": null,
   "metadata": {},
   "outputs": [],
   "source": [
    "def f(x, l =[]):  \n",
    "    for i in range(x):\n",
    "        l.append(i*i)\n",
    "    print(l)\n",
    "    \n",
    "f(2)\n",
    "f(3, [3,2,1])\n",
    "f(3)"
   ]
  },
  {
   "cell_type": "code",
   "execution_count": null,
   "metadata": {},
   "outputs": [],
   "source": [
    "import re \n",
    "res = re.findall('kelvin is amizing', 'kelvin', 1)\n",
    "\n",
    "print(res)"
   ]
  },
  {
   "cell_type": "code",
   "execution_count": null,
   "metadata": {},
   "outputs": [],
   "source": [
    "l = [1,2,\"k\",4,5]\n",
    "l\n"
   ]
  },
  {
   "cell_type": "code",
   "execution_count": null,
   "metadata": {},
   "outputs": [],
   "source": [
    "x =[\"ab\", 'cd']\n",
    "\n",
    "print(list(map(len, x)))"
   ]
  },
  {
   "cell_type": "code",
   "execution_count": null,
   "metadata": {},
   "outputs": [],
   "source": [
    "a = 0\n",
    "try:\n",
    "    a = 1\n",
    "except:\n",
    "    a = 4\n",
    "finally:\n",
    "    a= 9 \n",
    "    \n",
    "    \n",
    "print(a)"
   ]
  },
  {
   "cell_type": "code",
   "execution_count": null,
   "metadata": {},
   "outputs": [],
   "source": [
    "z  = set('abcs')\n",
    "\n",
    "z.add(\"san\")\n",
    "\n",
    "z.update(set([\"p\", 'q']))\n",
    "z"
   ]
  },
  {
   "cell_type": "code",
   "execution_count": null,
   "metadata": {},
   "outputs": [],
   "source": [
    "\n",
    "\n",
    "def f():\n",
    "    y = 90\n",
    "    return y\n",
    "f()\n",
    "print(y)\n"
   ]
  },
  {
   "cell_type": "code",
   "execution_count": null,
   "metadata": {},
   "outputs": [],
   "source": [
    "print(2**(3**2), (2**3)**2)"
   ]
  },
  {
   "cell_type": "code",
   "execution_count": 34,
   "metadata": {},
   "outputs": [
    {
     "name": "stdout",
     "output_type": "stream",
     "text": [
      "[0, 2, 3, 4, 5]\n"
     ]
    }
   ],
   "source": [
    "A1 = [1,2,3,4,5]\n",
    "A2 = A1\n",
    "A2[0] = 0\n",
    "print(A1)"
   ]
  },
  {
   "cell_type": "code",
   "execution_count": 41,
   "metadata": {},
   "outputs": [
    {
     "data": {
      "text/plain": [
       "['a', 'b', 'c', 'A', 'B', 'C', 'A', 'B', 'C', 'A', 'B', 'C', 'A', 'B']"
      ]
     },
     "execution_count": 41,
     "metadata": {},
     "output_type": "execute_result"
    }
   ],
   "source": [
    "l = ['a', \"b\" ,\"c\"]\n",
    "count = 0\n",
    "for i in l:\n",
    "    l.append(i.upper())\n",
    "    if count >9: break\n",
    "    count +=1\n",
    "l"
   ]
  },
  {
   "cell_type": "markdown",
   "metadata": {},
   "source": [
    "## Build Tower by the following given argument:\n",
    "## number of floors (integer and always greater than 0)."
   ]
  },
  {
   "cell_type": "code",
   "execution_count": 49,
   "metadata": {},
   "outputs": [
    {
     "name": "stdout",
     "output_type": "stream",
     "text": [
      "21 22 21 22 21 22 21 22 21 22 21 22 21 22 21 22 21 22 21 22 21 22 "
     ]
    },
    {
     "data": {
      "text/plain": [
       "['          *          ',\n",
       " '          **          ',\n",
       " '         ***         ',\n",
       " '         ****         ',\n",
       " '        *****        ',\n",
       " '        ******        ',\n",
       " '       *******       ',\n",
       " '       ********       ',\n",
       " '      *********      ',\n",
       " '      **********      ',\n",
       " '     ***********     ',\n",
       " '     ************     ',\n",
       " '    *************    ',\n",
       " '    **************    ',\n",
       " '   ***************   ',\n",
       " '   ****************   ',\n",
       " '  *****************  ',\n",
       " '  ******************  ',\n",
       " ' ******************* ',\n",
       " ' ******************** ',\n",
       " '*********************',\n",
       " '**********************']"
      ]
     },
     "execution_count": 49,
     "metadata": {},
     "output_type": "execute_result"
    }
   ],
   "source": [
    "import math\n",
    "def tower_builder(n_floors):\n",
    "    # build here\n",
    "   \n",
    "    out_list = []\n",
    "    i, n = 1, n_floors\n",
    "    while i <= n:\n",
    "        left = right = int((n_floors-i)/2)\n",
    "        floor = left*\" \" + \"*\"*i + \" \"* right\n",
    "        floor.replace(\"a\", \" \")\n",
    "        out_list.append(floor)\n",
    "        i+=1\n",
    "    for i in out_list:\n",
    "        print(len(i), end =\" \")\n",
    "    return out_list\n",
    "\n",
    "tower_builder(22)"
   ]
  },
  {
   "cell_type": "code",
   "execution_count": 4,
   "metadata": {},
   "outputs": [
    {
     "data": {
      "text/plain": [
       "2"
      ]
     },
     "execution_count": 4,
     "metadata": {},
     "output_type": "execute_result"
    }
   ],
   "source": [
    "\n",
    "def f(arr):\n",
    "    \n",
    "    sets = set(arr)\n",
    "    results = 0\n",
    "    for i in arr:\n",
    "        if i+1 in sets:\n",
    "            results +=1\n",
    "    return results\n",
    "f([1,2,3])"
   ]
  },
  {
   "cell_type": "code",
   "execution_count": null,
   "metadata": {},
   "outputs": [],
   "source": []
  }
 ],
 "metadata": {
  "kernelspec": {
   "display_name": "Python 3",
   "language": "python",
   "name": "python3"
  },
  "language_info": {
   "codemirror_mode": {
    "name": "ipython",
    "version": 3
   },
   "file_extension": ".py",
   "mimetype": "text/x-python",
   "name": "python",
   "nbconvert_exporter": "python",
   "pygments_lexer": "ipython3",
   "version": "3.8.5"
  }
 },
 "nbformat": 4,
 "nbformat_minor": 4
}
