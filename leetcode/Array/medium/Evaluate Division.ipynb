{
 "cells": [
  {
   "cell_type": "markdown",
   "metadata": {},
   "source": [
    "# Evaluate Division\n",
    "\n",
    "[Question Link](https://leetcode.com/problems/evaluate-division/)\n",
    "\n",
    "\n",
    "Equations are given in the format A / B = k, where A and B are variables represented as strings, and k is a real number (floating point number). Given some queries, return the answers. If the answer does not exist, return -1.0.\n",
    "\n",
    "\n",
    "Example:\n",
    "Given a / b = 2.0, b / c = 3.0.\n",
    "queries are: a / c = ?, b / a = ?, a / e = ?, a / a = ?, x / x = ? .\n",
    "return [6.0, 0.5, -1.0, 1.0, -1.0 ].\n",
    "\n",
    "The input is: vector<pair<string, string>> equations, vector<double>& values, vector<pair<string, string>> queries , where equations.size() == values.size(), and the values are positive. This represents the equations. Return vector<double>.\n",
    "\n",
    "According to the example above:\n",
    "\n",
    "equations = [\n",
    "    [\"a\", \"b\"], \n",
    "    [\"b\", \"c\"] ],\n",
    "    \n",
    "values = [2.0, 3.0],\n",
    "    \n",
    "queries = [ [\"a\", \"c\"], [\"b\", \"a\"], [\"a\", \"e\"], [\"a\", \"a\"], [\"x\", \"x\"] ]. "
   ]
  },
  {
   "cell_type": "code",
   "execution_count": 1,
   "metadata": {},
   "outputs": [
    {
     "ename": "SyntaxError",
     "evalue": "unexpected EOF while parsing (<ipython-input-1-4ebd4dc92ac6>, line 3)",
     "output_type": "error",
     "traceback": [
      "\u001b[0;36m  File \u001b[0;32m\"<ipython-input-1-4ebd4dc92ac6>\"\u001b[0;36m, line \u001b[0;32m3\u001b[0m\n\u001b[0;31m    \u001b[0m\n\u001b[0m    ^\u001b[0m\n\u001b[0;31mSyntaxError\u001b[0m\u001b[0;31m:\u001b[0m unexpected EOF while parsing\n"
     ]
    }
   ],
   "source": [
    "class Solution:\n",
    "    def calcEquation(self, equations, values, queries):\n",
    "        \n",
    "        common =  common(A, B)\n",
    "        \n",
    "        comm =equations[0][common[1]]\n",
    "        \n",
    "        eq1 = a/b = 2.0\n",
    "        eq2 = b/c = 3.0\n",
    "        \n",
    "        \n",
    "   \n",
    "\n",
    "\n",
    "#         find the common var in equations Link\n",
    "\n",
    "    def common(A, B):\n",
    "        \n",
    "        for i in range(len(A)):\n",
    "            if A[i] in B:\n",
    "                return 0, i\n",
    "                    \n",
    "\n",
    "\n",
    "        \n",
    "        \n",
    "        \n",
    "        \n",
    "obj = Solution()\n",
    "obj = calcEquation(equations, values, queries)"
   ]
  },
  {
   "cell_type": "code",
   "execution_count": null,
   "metadata": {},
   "outputs": [],
   "source": []
  }
 ],
 "metadata": {
  "kernelspec": {
   "display_name": "Python 3",
   "language": "python",
   "name": "python3"
  },
  "language_info": {
   "codemirror_mode": {
    "name": "ipython",
    "version": 3
   },
   "file_extension": ".py",
   "mimetype": "text/x-python",
   "name": "python",
   "nbconvert_exporter": "python",
   "pygments_lexer": "ipython3",
   "version": "3.8.5"
  }
 },
 "nbformat": 4,
 "nbformat_minor": 4
}
