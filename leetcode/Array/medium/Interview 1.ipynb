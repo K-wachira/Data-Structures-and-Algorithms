{
 "cells": [
  {
   "cell_type": "markdown",
   "metadata": {},
   "source": [
    " # Interview 1\n",
    " [Question link](https://leetcode.com/interview/1/)\n",
    "    \n",
    "    For each log, the first word in each log is an alphanumeric identifier.  Then, either:\n",
    "\n",
    "    Each word after the identifier will consist only of lowercase letters, or;\n",
    "    Each word after the identifier will consist only of digits.\n",
    "\n",
    "    We will call these two varieties of logs letter-logs and digit-logs.  It is guaranteed that each log has at least one word after its identifier.\n",
    "\n",
    "    Reorder the logs so that all of the letter-logs come before any digit-log.  The letter-logs are ordered lexicographically ignoring identifier, with the identifier used in case of ties.  The digit-logs should be put in their original order.\n",
    "\n",
    "    Return the final order of the logs."
   ]
  },
  {
   "cell_type": "code",
   "execution_count": 71,
   "metadata": {},
   "outputs": [
    {
     "data": {
      "text/plain": [
       "['1 n u', 'r 527', 'j 893', '6 14', '6 82']"
      ]
     },
     "execution_count": 71,
     "metadata": {},
     "output_type": "execute_result"
    }
   ],
   "source": [
    "def reorderLogFiles( logs):\n",
    "    letter_log = []\n",
    "    digit_log =[]\n",
    "    new_list = []\n",
    "    for i in logs:\n",
    "        log = [x for x in i.split(\" \")]\n",
    "        smaller = []\n",
    "        smaller.append(log[0]) \n",
    "        smaller.append(' '.join(log[1:]))\n",
    "        new_list.append(smaller)\n",
    "        smaller = []\n",
    "    for i in new_list:\n",
    "        if i[1].islower():\n",
    "            letter_log.append(i)\n",
    "        else:\n",
    "            digit_log.append(i)\n",
    "    letter_sored = sorted(letter_log, key = lambda x:  ( x[1], x[0] ))\n",
    "    letter_sored.extend(digit_log)\n",
    "    for i, n in enumerate(letter_sored):\n",
    "         letter_sored[i] = (' '.join(n))\n",
    "    return (letter_sored)\n",
    "    \n",
    "\n",
    "\n",
    "    \n",
    "            \n",
    "            \n",
    "            \n",
    "        \n",
    "    \n",
    "    \n",
    "logs = [\"1 n u\", \"r 527\", \"j 893\", \"6 14\", \"6 82\"]\n",
    "\n",
    "reorderLogFiles( logs)"
   ]
  },
  {
   "cell_type": "code",
   "execution_count": 25,
   "metadata": {},
   "outputs": [
    {
     "name": "stdout",
     "output_type": "stream",
     "text": [
      "[['b', 'ab'], ['a', 'cb']]\n"
     ]
    }
   ],
   "source": [
    "[\"1 n u\",\"r 527\",\"j 893\",\"6 14\",\"6 82\"]\n",
    "[\"1 n u\",\"6 82\",\"r 527\",\"j 893\"]\n",
    "\n",
    "\n",
    "lsity = [['a', 'ab'], ['b', 'ab']]\n",
    "\n",
    "print(sorted(lsity , key = lambda x: (x[1], x[])))"
   ]
  },
  {
   "cell_type": "code",
   "execution_count": null,
   "metadata": {},
   "outputs": [],
   "source": []
  }
 ],
 "metadata": {
  "kernelspec": {
   "display_name": "Python 3",
   "language": "python",
   "name": "python3"
  },
  "language_info": {
   "codemirror_mode": {
    "name": "ipython",
    "version": 3
   },
   "file_extension": ".py",
   "mimetype": "text/x-python",
   "name": "python",
   "nbconvert_exporter": "python",
   "pygments_lexer": "ipython3",
   "version": "3.8.3"
  }
 },
 "nbformat": 4,
 "nbformat_minor": 4
}
