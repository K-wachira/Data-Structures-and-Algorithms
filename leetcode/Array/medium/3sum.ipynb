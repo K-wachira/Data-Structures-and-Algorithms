{
 "cells": [
  {
   "cell_type": "markdown",
   "metadata": {},
   "source": [
    "# 15. 3Sum\n",
    "\n",
    "\n",
    "[Question link](https://leetcode.com/problems/3sum/)\n",
    "\n",
    "Given an array nums of n integers, are there elements a, b, c in nums such that a + b + c = 0? Find all unique triplets in the array which gives the sum of zero.\n",
    "\n",
    "Notice that the solution set must not contain duplicate triplets.\n",
    "\n",
    " ```\n",
    "Example 1:\n",
    "\n",
    "Input: nums = [-1,0,1,2,-1,-4]\n",
    "Output: [[-1,-1,2],[-1,0,1]]\n",
    "Example 2:\n",
    "\n",
    "Input: nums = []\n",
    "Output: []\n",
    "Example 3:\n",
    "\n",
    "Input: nums = [0]\n",
    "Output: []\n",
    "\n"
   ]
  },
  {
   "cell_type": "markdown",
   "metadata": {},
   "source": [
    "Solution 1 ( bruteforce )\n",
    "\n",
    "\n",
    "Timecompextity ( n^3) where n is the leng if the list input \n",
    "\n",
    "Space complexity o(n) where n is the len of the return output\n"
   ]
  },
  {
   "cell_type": "code",
   "execution_count": 29,
   "metadata": {},
   "outputs": [
    {
     "data": {
      "text/plain": [
       "[[-1, 0, 1], [-1, 2, -1]]"
      ]
     },
     "execution_count": 29,
     "metadata": {},
     "output_type": "execute_result"
    }
   ],
   "source": [
    "class Solution():\n",
    "    def threesum(self, nums):\n",
    "        results=  []\n",
    "        seen = {}\n",
    "        for i , n in enumerate(nums):\n",
    "            for j , m in enumerate(nums[i+1:]):\n",
    "                for k , o in enumerate(nums[j+i+1:]):\n",
    "                    if n+m + o== 0:\n",
    "                        results.append( [n, m , o])\n",
    "                        \n",
    "                     \n",
    "        \n",
    "        out = []\n",
    "        for n,i in enumerate(results):\n",
    "            if set(i) not in seen.values():\n",
    "                out.append(i)\n",
    "                x= set(i)\n",
    "                seen[n] = x\n",
    "        return out\n",
    "obj = Solution()\n",
    "nums = [-1,0,1,2,-1,-4]\n",
    "obj.threesum(nums)"
   ]
  },
  {
   "cell_type": "markdown",
   "metadata": {},
   "source": [
    "Solution 1 ( improved bruteforce )\n",
    "\n",
    "\n",
    "Timecompextity ( n^2 where n is the leng if the list input \n",
    "\n",
    "Space complexity o(n) where n is the len of the return output\n"
   ]
  },
  {
   "cell_type": "code",
   "execution_count": 58,
   "metadata": {},
   "outputs": [
    {
     "data": {
      "text/plain": [
       "True"
      ]
     },
     "execution_count": 58,
     "metadata": {},
     "output_type": "execute_result"
    }
   ],
   "source": [
    "class Solution():\n",
    "    def threesum(self, nums):\n",
    "        nums.sort()\n",
    "        result = []\n",
    "        length = len(nums)\n",
    "\n",
    "        for i in range(length ):\n",
    "            if nums[i] > 0 : break\n",
    "            if i > 0 and nums[i] == nums[i-1]: continue\n",
    "            j, end  = i+1, length -1\n",
    "            while j < end:\n",
    "                sums = nums[i] + nums[j] + nums[end] \n",
    "                if sums < 0:\n",
    "                    j +=1\n",
    "                elif sums > 0 :\n",
    "                    end-=1\n",
    "                else:\n",
    "                        result.append( [nums[i] , nums[j] , nums[end] ] )\n",
    "                        while j < end and nums[j] == nums[j+1]:\n",
    "                            j+=1\n",
    "                        while j < end and nums[end] == nums[end-1]:\n",
    "                            end -=1\n",
    "                        j +=1\n",
    "                        end -=1\n",
    "\n",
    "                     \n",
    "                    \n",
    "        return result\n",
    "                    \n",
    "        \n",
    "obj = Solution()\n",
    "nums =[-1,0,1,2,-1,-4,-2,-3,3,0,4]\n",
    "obj.threesum(nums) == [[-4,0,4],[-4,1,3],[-3,-1,4],[-3,0,3],[-3,1,2],[-2,-1,3],[-2,0,2],[-1,-1,2],[-1,0,1]]"
   ]
  },
  {
   "cell_type": "code",
   "execution_count": 52,
   "metadata": {},
   "outputs": [
    {
     "name": "stdout",
     "output_type": "stream",
     "text": [
      "[-4, -3, -2, -1, -1, 0, 0, 1, 2, 3, 4]\n"
     ]
    },
    {
     "data": {
      "text/plain": [
       "True"
      ]
     },
     "execution_count": 52,
     "metadata": {},
     "output_type": "execute_result"
    }
   ],
   "source": [
    "class Solution():\n",
    "    def threesum(self, nums):\n",
    "TT        \n",
    "obj = Solution()\n",
    "nums = [-1,0,1,2,-1,-4,-2,-3,3,0,4]\n",
    "\n",
    "obj.threesum(nums) == [[-4,0,4],[-4,1,3],[-3,-1,4],[-3,0,3],[-3,1,2],[-2,-1,3],[-2,0,2],[-1,-1,2],[-1,0,1]]"
   ]
  },
  {
   "cell_type": "code",
   "execution_count": null,
   "metadata": {},
   "outputs": [],
   "source": [
    "class Solution:\n",
    "    def threeSum(self, nums: List[int]) -> List[List[int]]:\n",
    "        nums.sort()\n",
    "        result = []\n",
    "        for i in range(len(nums)-2):\n",
    "            j = i+1\n",
    "            end  = len(nums)-1\n",
    "            while j < end:\n",
    "                sums = nums[i] + nums[j] + nums[end] \n",
    "                val = [nums[i] , nums[j] , nums[end] ] \n",
    "                if sums < 0:\n",
    "                    j +=1\n",
    "                elif sums > 0 :\n",
    "                    \n",
    "                    end-=1\n",
    "                else:\n",
    "                        result.append( [nums[i] , nums[j] , nums[end] ] )\n",
    "                        while j < end and nums[j] == nums[j+1]:\n",
    "                            j+=1\n",
    "                        while j < end and nums[end] == nums[end-1]:\n",
    "                            end -=1\n",
    "                        j +=1\n",
    "                        end -=1\n",
    "                     \n",
    "        return result\n",
    "                    "
   ]
  }
 ],
 "metadata": {
  "kernelspec": {
   "display_name": "Python 3",
   "language": "python",
   "name": "python3"
  },
  "language_info": {
   "codemirror_mode": {
    "name": "ipython",
    "version": 3
   },
   "file_extension": ".py",
   "mimetype": "text/x-python",
   "name": "python",
   "nbconvert_exporter": "python",
   "pygments_lexer": "ipython3",
   "version": "3.8.5"
  }
 },
 "nbformat": 4,
 "nbformat_minor": 4
}
