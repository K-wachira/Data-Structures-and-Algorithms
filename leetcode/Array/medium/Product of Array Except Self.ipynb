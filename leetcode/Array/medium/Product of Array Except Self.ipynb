{
 "cells": [
  {
   "cell_type": "code",
   "execution_count": null,
   "metadata": {},
   "outputs": [],
   "source": [
    "238. Product of Array Except Self\n",
    "\n",
    "Given an array nums of n integers where n > 1,  return an array output such that output[i] is equal to the product of all the elements of nums except nums[i].\n",
    "\n"
   ]
  },
  {
   "cell_type": "code",
   "execution_count": 33,
   "metadata": {},
   "outputs": [
    {
     "data": {
      "text/plain": [
       "[1, 1, 2, 6]"
      ]
     },
     "execution_count": 33,
     "metadata": {},
     "output_type": "execute_result"
    }
   ],
   "source": [
    "from functools import reduce\n",
    "\n",
    "class Solution(object):\n",
    "    def productExceptSelf(self, nums):\n",
    "        \"\"\"\n",
    "        :type nums: List[int]\n",
    "        :rtype: List[int]\n",
    "        \"\"\"\n",
    "        n = len(nums)\n",
    "        products = [1] * n\n",
    "\n",
    "        for i in range(len(products)):\n",
    "            if i > 1:\n",
    "                prodct = reduce(lambda x,y: x*y , nums[:i])\n",
    "                products[i] = products[i]*prodct\n",
    "        return products\n",
    "    \n",
    "        \n",
    "onj = Solution()\n",
    "nums = [1,2,3,4]\n",
    "onj.productExceptSelf(nums)"
   ]
  },
  {
   "cell_type": "code",
   "execution_count": 24,
   "metadata": {},
   "outputs": [
    {
     "data": {
      "text/plain": [
       "[0.0, 0.0, 0, 0.0]"
      ]
     },
     "execution_count": 24,
     "metadata": {},
     "output_type": "execute_result"
    }
   ],
   "source": [
    "[24, 12, 8, 6]\n",
    "class Solution(object):\n",
    "    def productExceptSelf(self, nums):\n",
    "        \"\"\"\n",
    "        :type nums: List[int]\n",
    "        :rtype: List[int]\n",
    "        \"\"\"\n",
    "        numsreturn  = []\n",
    "        multi = reduce(lambda x, y:x*y ,nums)\n",
    "        for  n in nums:\n",
    "            if n ==0:\n",
    "                numsreturn.append(0)\n",
    "            else:\n",
    "                numsreturn.append(multi/n)\n",
    "        return numsreturn\n",
    "    \n",
    "onj = Solution()\n",
    "nums = [1,2,0,4]\n",
    "onj.productExceptSelf(nums)"
   ]
  },
  {
   "cell_type": "code",
   "execution_count": null,
   "metadata": {},
   "outputs": [],
   "source": []
  }
 ],
 "metadata": {
  "kernelspec": {
   "display_name": "Python 3",
   "language": "python",
   "name": "python3"
  },
  "language_info": {
   "codemirror_mode": {
    "name": "ipython",
    "version": 3
   },
   "file_extension": ".py",
   "mimetype": "text/x-python",
   "name": "python",
   "nbconvert_exporter": "python",
   "pygments_lexer": "ipython3",
   "version": "3.8.3"
  }
 },
 "nbformat": 4,
 "nbformat_minor": 4
}
