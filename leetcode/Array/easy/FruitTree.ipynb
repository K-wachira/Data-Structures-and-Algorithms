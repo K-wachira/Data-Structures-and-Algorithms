{
 "cells": [
  {
   "cell_type": "code",
   "execution_count": 12,
   "metadata": {},
   "outputs": [
    {
     "name": "stdout",
     "output_type": "stream",
     "text": [
      "[3] 1\n",
      "[3, 3] 1\n",
      "[3, 3, 3] 1\n",
      "[3, 3, 3, 1] 2\n",
      "[2] 3\n",
      "[1] 3\n",
      "[1, 1] 3\n",
      "[2] 3\n",
      "[3] 3\n",
      "[3, 3] 3\n",
      "[4] 4\n"
     ]
    },
    {
     "data": {
      "text/plain": [
       "4"
      ]
     },
     "execution_count": 12,
     "metadata": {},
     "output_type": "execute_result"
    }
   ],
   "source": [
    "class Solution:\n",
    "    def totalFruit(self, tree):\n",
    "        \n",
    "        window = set()\n",
    "        j = 0\n",
    "        maxi =0 \n",
    "        for i, n  in enumerate(tree):\n",
    "            window.add(n)\n",
    "            if len(window) > 2:\n",
    "                while j <i:\n",
    "                    if tree[j] == tree[i]:\n",
    "                        break\n",
    "                    j+=1\n",
    "                    \n",
    "                    \n",
    "            print(tree[j:i+1], len(window))\n",
    "            maxi = max( maxi, i-j+1)\n",
    "            \n",
    "        return maxi         \n",
    "                \n",
    "\n",
    "            \n",
    "            \n",
    "obj = Solution()\n",
    "emails = [3,3,3,1,2,1,1,2,3,3,4]\n",
    "obj.totalFruit(emails)     "
   ]
  },
  {
   "cell_type": "code",
   "execution_count": 23,
   "metadata": {},
   "outputs": [
    {
     "name": "stdout",
     "output_type": "stream",
     "text": [
      "[0]\n",
      "[0, 1]\n",
      "[1, 2]\n",
      "[1, 2, 2]\n"
     ]
    },
    {
     "data": {
      "text/plain": [
       "3"
      ]
     },
     "execution_count": 23,
     "metadata": {},
     "output_type": "execute_result"
    }
   ],
   "source": [
    "class Solution:\n",
    "    def totalFruit(self, tree):\n",
    "        \n",
    "        i = 0 \n",
    "        j = 1\n",
    "        maxi = 0 \n",
    "        if len(set(tree)) <= 2 : return len(tree)\n",
    "        \n",
    "        while True:\n",
    "            \n",
    "            while len(set(tree[i:j])) > 2:\n",
    "                i +=1\n",
    "                \n",
    "            print(tree[i:j])\n",
    "            maxi = max(j - i, maxi)\n",
    "            j +=1\n",
    "            if j > len(tree): return maxi \n",
    "            \n",
    "            \n",
    "            \n",
    "            \n",
    "            \n",
    "        \n",
    "        \n",
    "        \n",
    "\n",
    "            \n",
    "            \n",
    "obj = Solution()\n",
    "emails = [0,1,2,2]\n",
    "obj.totalFruit(emails)     "
   ]
  },
  {
   "cell_type": "code",
   "execution_count": null,
   "metadata": {},
   "outputs": [],
   "source": []
  }
 ],
 "metadata": {
  "kernelspec": {
   "display_name": "Python 3",
   "language": "python",
   "name": "python3"
  },
  "language_info": {
   "codemirror_mode": {
    "name": "ipython",
    "version": 3
   },
   "file_extension": ".py",
   "mimetype": "text/x-python",
   "name": "python",
   "nbconvert_exporter": "python",
   "pygments_lexer": "ipython3",
   "version": "3.8.5"
  }
 },
 "nbformat": 4,
 "nbformat_minor": 4
}
