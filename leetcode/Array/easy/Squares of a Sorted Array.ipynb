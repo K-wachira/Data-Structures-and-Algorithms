{
 "cells": [
  {
   "cell_type": "markdown",
   "metadata": {},
   "source": [
    "# Squares of a Sorted Array\n",
    "\n",
    "\n",
    "[Question link](https://leetcode.com/explore/learn/card/fun-with-arrays/521/introduction/3240/)\n",
    "\n",
    "Given an array of integers A sorted in non-decreasing order, return an array of the squares of each number, also in sorted non-decreasing order.\n",
    "\n",
    "### Example 1:\n",
    "\n",
    "    Input: [-4,-1,0,3,10]\n",
    "    Output: [0,1,9,16,100]\n",
    "\n",
    "### Example 2:\n",
    "\n",
    "    Input: [-7,-3,2,3,11]\n",
    "    Output: [4,9,9,49,121]\n",
    "    \n",
    "    \n",
    "### Note:\n",
    "\n",
    "    1 <= A.length <= 10000\n",
    "    -10000 <= A[i] <= 10000\n",
    "    A is sorted in non-decreasing order.\n",
    "\n"
   ]
  },
  {
   "cell_type": "code",
   "execution_count": 2,
   "metadata": {},
   "outputs": [
    {
     "data": {
      "text/plain": [
       "[4, 9, 9, 49, 121]"
      ]
     },
     "execution_count": 2,
     "metadata": {},
     "output_type": "execute_result"
    }
   ],
   "source": [
    "class Solution(object):\n",
    "    def sortedSquares(self, A):\n",
    "        \"\"\"\n",
    "        :type A: List[int]\n",
    "        :rtype: List[int]\n",
    "        \"\"\"\n",
    "        for i in range(len(A)):\n",
    "            A[i] = A[i]**2\n",
    "        A = sorted(A)\n",
    "        return A\n",
    "    \n",
    "obj= Solution()\n",
    "A =  [-7,-3,2,3,11]\n",
    "obj.sortedSquares(A)"
   ]
  }
 ],
 "metadata": {
  "kernelspec": {
   "display_name": "Python 3 (ipykernel)",
   "language": "python",
   "name": "python3"
  },
  "language_info": {
   "codemirror_mode": {
    "name": "ipython",
    "version": 3
   },
   "file_extension": ".py",
   "mimetype": "text/x-python",
   "name": "python",
   "nbconvert_exporter": "python",
   "pygments_lexer": "ipython3",
   "version": "3.9.7"
  }
 },
 "nbformat": 4,
 "nbformat_minor": 4
}
