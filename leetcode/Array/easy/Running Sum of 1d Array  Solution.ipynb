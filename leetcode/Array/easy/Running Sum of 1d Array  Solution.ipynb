{
 "cells": [
  {
   "cell_type": "markdown",
   "metadata": {},
   "source": [
    "# Running Sum of 1d Array\n",
    "\n",
    "\n",
    "Given an array nums. We define a running sum of an array as runningSum[i] = sum(nums[0]…nums[i]).\n",
    "\n",
    "Return the running sum of nums.\n",
    "\n",
    "\n",
    "\n",
    "``` \n",
    "\n",
    "Example 1:\n",
    "\n",
    "Input: nums = [1,2,3,4]\n",
    "Output: [1,3,6,10]\n",
    "Explanation: Running sum is obtained as follows: [1, 1+2, 1+2+3, 1+2+3+4].\n",
    "Example 2:\n",
    "\n",
    "Input: nums = [1,1,1,1,1]\n",
    "Output: [1,2,3,4,5]\n",
    "Explanation: Running sum is obtained as follows: [1, 1+1, 1+1+1, 1+1+1+1, 1+1+1+1+1].\n",
    "Example 3:\n",
    "\n",
    "Input: nums = [3,1,2,10,1]\n",
    "Output: [3,4,6,16,17]\n",
    "```\n",
    "\n",
    "\n",
    "\n",
    "# Solution 1 (optimal) \n"
   ]
  },
  {
   "cell_type": "code",
   "execution_count": 1,
   "metadata": {},
   "outputs": [
    {
     "data": {
      "text/plain": [
       "[3, 4, 6, 16, 17]"
      ]
     },
     "execution_count": 1,
     "metadata": {},
     "output_type": "execute_result"
    }
   ],
   "source": [
    "class Solution():\n",
    "    def runningSum(self, nums):\n",
    "        for i in range(1, len(nums)):\n",
    "            nums[i] = nums[i] + nums[i-1]\n",
    "        return nums\n",
    "\n",
    "    \n",
    "    \n",
    "obj = Solution()\n",
    "obj.runningSum([3,1,2,10,1])"
   ]
  },
  {
   "cell_type": "markdown",
   "metadata": {},
   "source": [
    "# Solution 2 ( Sub optimal)\n",
    "\n",
    "```\n",
    "Time O(n+n+n)  i.e getting sum of whole array, looping in the while loop, reversing\n",
    "Space O(n)\n",
    "where n is the len of the given array```\n"
   ]
  },
  {
   "cell_type": "code",
   "execution_count": 3,
   "metadata": {},
   "outputs": [
    {
     "data": {
      "text/plain": [
       "[3, 4, 6, 16, 17]"
      ]
     },
     "execution_count": 3,
     "metadata": {},
     "output_type": "execute_result"
    }
   ],
   "source": [
    "class Solution():\n",
    "    def runningSum(self, nums):\n",
    "        out = []\n",
    "        sums = sum(nums)\n",
    "        i = len(nums)-1\n",
    "        while i >=0:\n",
    "            out.append(sums)\n",
    "            sums = sums- nums[i]\n",
    "            i-=1\n",
    "        return out[::-1]\n",
    "    \n",
    "    \n",
    "obj = Solution()\n",
    "obj.runningSum([3,1,2,10,1])\n"
   ]
  },
  {
   "cell_type": "code",
   "execution_count": null,
   "metadata": {},
   "outputs": [],
   "source": []
  }
 ],
 "metadata": {
  "kernelspec": {
   "display_name": "Python 3",
   "language": "python",
   "name": "python3"
  },
  "language_info": {
   "codemirror_mode": {
    "name": "ipython",
    "version": 3
   },
   "file_extension": ".py",
   "mimetype": "text/x-python",
   "name": "python",
   "nbconvert_exporter": "python",
   "pygments_lexer": "ipython3",
   "version": "3.8.5"
  }
 },
 "nbformat": 4,
 "nbformat_minor": 4
}
