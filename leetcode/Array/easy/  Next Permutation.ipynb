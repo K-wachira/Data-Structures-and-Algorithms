{
 "cells": [
  {
   "cell_type": "markdown",
   "metadata": {},
   "source": [
    "#   Next Permutation\n",
    "\n",
    "Implement next permutation, which rearranges numbers into the lexicographically next greater permutation of numbers.\n",
    "\n",
    "\n",
    "If such an arrangement is not possible, it must rearrange it as the lowest possible order (i.e., sorted in ascending order).\n",
    "\n",
    "\n",
    "The replacement must be in place and use only constant extra memory.\n",
    "\n",
    "Input: nums = [1,2,3]\n",
    "\n",
    "Output: [1,3,2]"
   ]
  },
  {
   "cell_type": "code",
   "execution_count": 4,
   "metadata": {},
   "outputs": [
    {
     "name": "stdout",
     "output_type": "stream",
     "text": [
      "True\n",
      "True\n",
      "True\n",
      "True\n",
      "[3, 1, 2]\n"
     ]
    }
   ],
   "source": [
    "class Solution(object):\n",
    "    def nextPermutation(self, nums):\n",
    "        \"\"\"\n",
    "        :type nums: List[int]\n",
    "        :rtype: None Do not return anything, modify nums in-place instead.\n",
    "        \"\"\"\n",
    "        \n",
    "        j = len(nums)-1\n",
    "        i = j -1 \n",
    "        finish = False \n",
    "        \n",
    "        while i >= 0:\n",
    "            \n",
    "            if nums[i] < nums[j]:\n",
    "                nums[i] , nums[j] = nums[j], nums[i]\n",
    "                finish = True\n",
    "                \n",
    "                break \n",
    "            j -=1\n",
    "            i -=1\n",
    "        if not finish:\n",
    "            nums.sort()\n",
    "        return nums\n",
    "    \n",
    "obj = Solution()\n",
    "print(obj.nextPermutation( [1,2,3]) == [1,3,2] )\n",
    "print(obj.nextPermutation( [3,2,1]) == [1,2,3] )\n",
    "print(obj.nextPermutation( [1,1,5]) == [1,5,1] )\n",
    "print(obj.nextPermutation( [1]) == [1] )\n",
    "print(obj.nextPermutation( [1,3,2]) )\n",
    "        "
   ]
  },
  {
   "cell_type": "code",
   "execution_count": 11,
   "metadata": {},
   "outputs": [
    {
     "name": "stdout",
     "output_type": "stream",
     "text": [
      "[1, 2, 3]\n",
      "True\n",
      "False\n",
      "True\n",
      "[1, 3, 2]\n"
     ]
    }
   ],
   "source": [
    "class Solution(object):\n",
    "    def nextPermutation(self, nums):\n",
    "        \"\"\"\n",
    "        :type nums: List[int]\n",
    "        :rtype: None Do not return anything, modify nums in-place instead.\n",
    "        \"\"\"\n",
    "        swapa = swapb = dif = 0 \n",
    "        finish = False \n",
    "\n",
    "        for i, n in enumerate(nums):\n",
    "            j = i+1\n",
    "            while j < len(nums):\n",
    "                \n",
    "                if nums[i] < nums[j] and nums[j] - nums[i] > dif:\n",
    "                    finish= True\n",
    "                    swapa = i \n",
    "                    swapb = j \n",
    "                    dif =  nums[j] - nums[i] \n",
    "                j+=1\n",
    "        if not finish:\n",
    "            nums.sort()\n",
    "        return nums\n",
    "    \n",
    "                \n",
    "                \n",
    "        \n",
    "obj = Solution()\n",
    "print(obj.nextPermutation( [1,2,3]) )\n",
    "print(obj.nextPermutation( [3,2,1]) == [1,2,3] )\n",
    "print(obj.nextPermutation( [1,1,5]) == [1,5,1] )\n",
    "print(obj.nextPermutation( [1]) == [1] )\n",
    "print(obj.nextPermutation( [1,3,2]) )\n"
   ]
  },
  {
   "cell_type": "code",
   "execution_count": null,
   "metadata": {},
   "outputs": [],
   "source": []
  }
 ],
 "metadata": {
  "kernelspec": {
   "display_name": "Python 3",
   "language": "python",
   "name": "python3"
  },
  "language_info": {
   "codemirror_mode": {
    "name": "ipython",
    "version": 3
   },
   "file_extension": ".py",
   "mimetype": "text/x-python",
   "name": "python",
   "nbconvert_exporter": "python",
   "pygments_lexer": "ipython3",
   "version": "3.8.3"
  }
 },
 "nbformat": 4,
 "nbformat_minor": 4
}
