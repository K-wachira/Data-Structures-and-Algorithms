{
 "cells": [
  {
   "cell_type": "markdown",
   "metadata": {},
   "source": [
    "# 278. First Bad Version\n",
    "\n",
    "[Question link](https://leetcode.com/problems/first-bad-version/)\n",
    "\n",
    "You are a product manager and currently leading a team to develop a new product. Unfortunately, the latest version of your product fails the quality check. Since each version is developed based on the previous version, all the versions after a bad version are also bad.\n",
    "\n",
    "Suppose you have n versions [1, 2, ..., n] and you want to find out the first bad one, which causes all the following ones to be bad.\n",
    "\n",
    "You are given an API bool isBadVersion(version) which will return whether version is bad. Implement a function to find the first bad version. You should minimize the number of calls to the API.\n",
    "\n",
    "***\n",
    "\n",
    "## The Api"
   ]
  },
  {
   "cell_type": "code",
   "execution_count": 25,
   "metadata": {},
   "outputs": [],
   "source": [
    "def isBadVersion(n):\n",
    "    if n >= 10:\n",
    "        return True"
   ]
  },
  {
   "cell_type": "markdown",
   "metadata": {},
   "source": [
    "***\n",
    "## Approach 1 (Binary Search)\n",
    "\n",
    "### Steps ::\n",
    "\n",
    "1. Since the versions are starting from `1` to `n`  assign them to variables `low` and `high` respectfully \n",
    "2. while `low` is less than `i` run ... if `low` is `1` and `high` is `2` when you find the `mid` it will be `2` and if that `mid` returns True return `low` \n",
    "3. If version mid is good it means the bad version is in the upper segments hence no need to search the lower segments and this can be achieved by changing the `low` value with `mid + 1`  <br>\n",
    "    Since it cant be mid as we have already checked it \n",
    "4. If version `mid` is bad it meas the bad versions start in the lowwer segments and there is no need to search the upper segments and this can be achieved by changing the `high` value to be `mid`\n",
    "\n",
    "NB when finding the mid use `mid = low + ((high-low)//2)` formula instead of `mid  = (low+high)//2`  because of overflow <br>\n",
    " More information about this can be found [Here](https://ai.googleblog.com/2006/06/extra-extra-read-all-about-it-nearly.html)\n",
    "    \n"
   ]
  },
  {
   "cell_type": "code",
   "execution_count": 21,
   "metadata": {},
   "outputs": [
    {
     "name": "stdout",
     "output_type": "stream",
     "text": [
      "goo\n",
      "5\n",
      "8\n",
      "9\n"
     ]
    },
    {
     "data": {
      "text/plain": [
       "10"
      ]
     },
     "execution_count": 21,
     "metadata": {},
     "output_type": "execute_result"
    }
   ],
   "source": [
    "# The isBadVersion API is already defined for you.\n",
    "# @param version, an integer\n",
    "# @return a bool\n",
    "# def isBadVersion(version):\n",
    "\n",
    "class Solution(object):\n",
    "    def firstBadVersion(self, n):\n",
    "        \"\"\"\n",
    "        :type n: int\n",
    "        :rtype: int\n",
    "        \"\"\"\n",
    "        high = n\n",
    "        low = 1\n",
    "        while low < high:\n",
    "            mid = low + ((high-low)//2)\n",
    "            if not isBadVersion(mid) :\n",
    "                #check the upper half by changing the low value to be mid +1\n",
    "                low = mid+1\n",
    "                \n",
    "            else:\n",
    "                #check the bottom half  by changing the high to be mid-1\n",
    "                high = mid\n",
    "         \n",
    "        return low\n",
    "    \n",
    "n= 10\n",
    "results = Solution()\n",
    "results.firstBadVersion(n)\n"
   ]
  },
  {
   "cell_type": "markdown",
   "metadata": {},
   "source": [
    "***\n",
    "## Approach 2 (Brute Force)[Time Limit Exceeded]\n",
    "\n",
    "### Steps::\n",
    "\n",
    " 1. Create a for loop of range(`1,n+1`) \n",
    "     - `1` because versions start from one and python is `0` indexed and `n+1` for the same reason\n",
    " 2. check if `n` is bad version.\n",
    " 3. The moment `n` is a bad version i.e `isBadVersion(n)` is true return `n`\n"
   ]
  },
  {
   "cell_type": "code",
   "execution_count": 27,
   "metadata": {},
   "outputs": [
    {
     "data": {
      "text/plain": [
       "10"
      ]
     },
     "execution_count": 27,
     "metadata": {},
     "output_type": "execute_result"
    }
   ],
   "source": [
    "\n",
    "class Solution2(object):\n",
    "    def firstBadVersion(self, n):\n",
    "        \"\"\"\n",
    "        :type n: int\n",
    "        :rtype: int\n",
    "        \"\"\"\n",
    "        for i in range(1,n+1):\n",
    "            if isBadVersion(i): return i\n",
    "n= 10\n",
    "results = Solution2()\n",
    "results.firstBadVersion(n)"
   ]
  },
  {
   "cell_type": "code",
   "execution_count": null,
   "metadata": {},
   "outputs": [],
   "source": []
  }
 ],
 "metadata": {
  "kernelspec": {
   "display_name": "Python 3",
   "language": "python",
   "name": "python3"
  },
  "language_info": {
   "codemirror_mode": {
    "name": "ipython",
    "version": 3
   },
   "file_extension": ".py",
   "mimetype": "text/x-python",
   "name": "python",
   "nbconvert_exporter": "python",
   "pygments_lexer": "ipython3",
   "version": "3.8.3"
  }
 },
 "nbformat": 4,
 "nbformat_minor": 4
}
