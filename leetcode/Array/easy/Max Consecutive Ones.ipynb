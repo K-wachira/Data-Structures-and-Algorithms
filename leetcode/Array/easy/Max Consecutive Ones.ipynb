{
 "cells": [
  {
   "cell_type": "markdown",
   "metadata": {},
   "source": [
    "# Max Consecutive Ones\n",
    "\n",
    "Given a binary array, find the maximum number of consecutive 1s in this array.\n",
    "\n",
    "### Example 1:\n",
    "\n",
    "    Input: [1,1,0,1,1,1]\n",
    "    Output: 3\n",
    "    Explanation: The first two digits or the last three digits are consecutive 1s.\n",
    "        The maximum number of consecutive 1s is 3.\n",
    "        \n",
    "        \n",
    "\n",
    "\n",
    "### Note:\n",
    "\n",
    "    The input array will only contain 0 and 1.\n",
    "    The length of input array is a positive integer and will not exceed 10,000"
   ]
  },
  {
   "cell_type": "code",
   "execution_count": 15,
   "metadata": {},
   "outputs": [
    {
     "data": {
      "text/plain": [
       "4"
      ]
     },
     "execution_count": 15,
     "metadata": {},
     "output_type": "execute_result"
    }
   ],
   "source": [
    "class Solution(object):\n",
    "    def findMaxConsecutiveOnes(self, nums):\n",
    "        \"\"\"\n",
    "        :type nums: List[int]\n",
    "        :rtype: int\n",
    "        \"\"\"\n",
    "        counta = 0\n",
    "        temp = 0\n",
    "        for i in range(len(nums)):\n",
    "            \n",
    "            if nums[i] == 1:\n",
    "                temp +=1\n",
    "                counta = max(temp, counta)\n",
    "            else: temp = 0\n",
    "        return counta\n",
    "        \n",
    "        \n",
    "obj = Solution()\n",
    "nums = [1,0,1,1,0,1,1,1,1]\n",
    "obj.findMaxConsecutiveOnes(nums)"
   ]
  },
  {
   "cell_type": "code",
   "execution_count": null,
   "metadata": {},
   "outputs": [],
   "source": []
  }
 ],
 "metadata": {
  "kernelspec": {
   "display_name": "Python 3",
   "language": "python",
   "name": "python3"
  },
  "language_info": {
   "codemirror_mode": {
    "name": "ipython",
    "version": 3
   },
   "file_extension": ".py",
   "mimetype": "text/x-python",
   "name": "python",
   "nbconvert_exporter": "python",
   "pygments_lexer": "ipython3",
   "version": "3.8.3"
  }
 },
 "nbformat": 4,
 "nbformat_minor": 4
}
