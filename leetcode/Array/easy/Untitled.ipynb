{
 "cells": [
  {
   "cell_type": "code",
   "execution_count": 14,
   "metadata": {},
   "outputs": [
    {
     "name": "stdout",
     "output_type": "stream",
     "text": [
      "[0, -2, -2, 1, -4, -2, -3]\n",
      "1\n",
      "-4\n",
      "-3\n"
     ]
    }
   ],
   "source": [
    "class NumArray(object):\n",
    "\n",
    "    def __init__(self, nums):\n",
    "        \"\"\"\n",
    "        :type nums: List[int]\n",
    "        \"\"\"\n",
    "        self.nums= nums\n",
    "        self.sum = [0]\n",
    "        \n",
    "        for i in self.nums:\n",
    "            self.sum.append( self.sum[-1] + i)\n",
    "        print(self.sum)\n",
    "\n",
    "    def sumRange(self, i, j):\n",
    "        \"\"\"\n",
    "        :type i: int\n",
    "        :type j: int\n",
    "        :rtype: int\n",
    "        \"\"\"\n",
    "        retval = 0 \n",
    "        \n",
    "        if i == 0 : return self.sum[j+1]\n",
    "        return self.sum[j+1] - self.sum[i+1]\n",
    "     \n",
    "obj = NumArray( [-2, 0, 3, -5, 2, -1])\n",
    "\n",
    "print(obj.sumRange(0, 2))\n",
    "print( obj.sumRange(2,5))\n",
    "print( obj.sumRange(0, 5))"
   ]
  },
  {
   "cell_type": "code",
   "execution_count": null,
   "metadata": {},
   "outputs": [],
   "source": [
    "1, -1, -3\n",
    "\n"
   ]
  }
 ],
 "metadata": {
  "kernelspec": {
   "display_name": "Python 3",
   "language": "python",
   "name": "python3"
  },
  "language_info": {
   "codemirror_mode": {
    "name": "ipython",
    "version": 3
   },
   "file_extension": ".py",
   "mimetype": "text/x-python",
   "name": "python",
   "nbconvert_exporter": "python",
   "pygments_lexer": "ipython3",
   "version": "3.8.3"
  }
 },
 "nbformat": 4,
 "nbformat_minor": 4
}
