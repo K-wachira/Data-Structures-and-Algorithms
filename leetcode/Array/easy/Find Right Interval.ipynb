{
 "cells": [
  {
   "cell_type": "markdown",
   "metadata": {},
   "source": [
    "Find Right Interval\n",
    "\n",
    "[Question Link](https://leetcode.com/explore/challenge/card/august-leetcoding-challenge/552/week-4-august-22nd-august-28th/3438/)\n",
    "\n",
    "Given a set of intervals, for each of the interval i, check if there exists an interval j whose start point is bigger than or equal to the end point of the interval i, which can be called that j is on the \"right\" of i.\n",
    "\n",
    "For any interval i, you need to store the minimum interval j's index, which means that the interval j has the minimum start point to build the \"right\" relationship for interval i. If the interval j doesn't exist, store -1 for the interval i. Finally, you need output the stored value of each interval as an array.\n",
    "\n",
    "Note:\n",
    "\n",
    "    You may assume the interval's end point is always bigger than its start point.\n",
    "    You may assume none of these intervals have the same start point.\n"
   ]
  },
  {
   "cell_type": "code",
   "execution_count": 20,
   "metadata": {},
   "outputs": [
    {
     "data": {
      "text/plain": [
       "[1, 0, 0]"
      ]
     },
     "execution_count": 20,
     "metadata": {},
     "output_type": "execute_result"
    }
   ],
   "source": [
    "class Solution(object):\n",
    "    def findRightInterval(self, intervals):\n",
    "        \"\"\"\n",
    "        :type intervals: List[List[int]]\n",
    "        :rtype: List[int]\n",
    "        \"\"\"\n",
    "        returnList = []\n",
    "        for i,n  in enumerate(intervals):\n",
    "            for j, k in enumerate(intervals):\n",
    "                if k[1] >= n[0] and k!=n:\n",
    "                    returnList.append(j)\n",
    "                    break\n",
    "            else:\n",
    "                returnList.append(-1)\n",
    "        return returnList\n",
    "                \n",
    "            \n",
    "\n",
    "   \n",
    "obj = Solution()\n",
    "intervals = [ [3,4], [2,3], [1,2] ]\n",
    "obj.findRightInterval(intervals)"
   ]
  },
  {
   "cell_type": "code",
   "execution_count": null,
   "metadata": {},
   "outputs": [],
   "source": [
    "[-1,0,1]"
   ]
  },
  {
   "cell_type": "code",
   "execution_count": 21,
   "metadata": {},
   "outputs": [
    {
     "data": {
      "text/plain": [
       "[-1, 0, 1]"
      ]
     },
     "execution_count": 21,
     "metadata": {},
     "output_type": "execute_result"
    }
   ],
   "source": [
    "class Solution:\n",
    "    def findRightInterval(self, intervals) :\n",
    "        dic={}\n",
    "        for i in range(len(intervals)):\n",
    "            dic[intervals[i][0]]=i\n",
    "            \n",
    "        m=max(dic.keys())\n",
    "            \n",
    "        output=[-1 for _ in range(len(intervals))]\n",
    "        \n",
    "        for i in range(len(intervals)):\n",
    "            for j in range(intervals[i][1],m+1):\n",
    "                if dic.get(j,-1)!=-1:\n",
    "                    output[i]=dic[j]\n",
    "                    break\n",
    "        return output\n",
    "    \n",
    "   \n",
    "obj = Solution()\n",
    "intervals = [ [3,4], [2,3], [1,2] ]\n",
    "obj.findRightInterval(intervals)"
   ]
  },
  {
   "cell_type": "code",
   "execution_count": null,
   "metadata": {},
   "outputs": [],
   "source": [
    "class Solution(object):\n",
    "    def findRightInterval(self, intervals):\n",
    "        \"\"\"\n",
    "        :type intervals: List[List[int]]\n",
    "        :rtype: List[int]\n",
    "        \"\"\"\n",
    "        first=[]\n",
    "        inmap={}\n",
    "        for i,p in enumerate(intervals):\n",
    "            first.append(p[0])\n",
    "            inmap[p[0]]=i\n",
    "        first.sort()\n",
    "        res=[]\n",
    "        for p in intervals:\n",
    "            pos=bisect_left(first,p[1])\n",
    "            if pos>=len(first):\n",
    "                res.append(-1)\n",
    "            else:\n",
    "                res.append(inmap[first[pos]])\n",
    "        return res\n",
    "        "
   ]
  },
  {
   "cell_type": "code",
   "execution_count": 22,
   "metadata": {},
   "outputs": [
    {
     "name": "stdout",
     "output_type": "stream",
     "text": [
      "{3: 0, 2: 1, 1: 2}\n"
     ]
    },
    {
     "ename": "NameError",
     "evalue": "name 'bisect' is not defined",
     "output_type": "error",
     "traceback": [
      "\u001b[0;31m---------------------------------------------------------------------------\u001b[0m",
      "\u001b[0;31mNameError\u001b[0m                                 Traceback (most recent call last)",
      "\u001b[0;32m<ipython-input-22-b3057e2d8e5f>\u001b[0m in \u001b[0;36m<module>\u001b[0;34m\u001b[0m\n\u001b[1;32m     24\u001b[0m \u001b[0mobj\u001b[0m \u001b[0;34m=\u001b[0m \u001b[0mSolution\u001b[0m\u001b[0;34m(\u001b[0m\u001b[0;34m)\u001b[0m\u001b[0;34m\u001b[0m\u001b[0;34m\u001b[0m\u001b[0m\n\u001b[1;32m     25\u001b[0m \u001b[0mintervals\u001b[0m \u001b[0;34m=\u001b[0m \u001b[0;34m[\u001b[0m \u001b[0;34m[\u001b[0m\u001b[0;36m3\u001b[0m\u001b[0;34m,\u001b[0m\u001b[0;36m4\u001b[0m\u001b[0;34m]\u001b[0m\u001b[0;34m,\u001b[0m \u001b[0;34m[\u001b[0m\u001b[0;36m2\u001b[0m\u001b[0;34m,\u001b[0m\u001b[0;36m3\u001b[0m\u001b[0;34m]\u001b[0m\u001b[0;34m,\u001b[0m \u001b[0;34m[\u001b[0m\u001b[0;36m1\u001b[0m\u001b[0;34m,\u001b[0m\u001b[0;36m2\u001b[0m\u001b[0;34m]\u001b[0m \u001b[0;34m]\u001b[0m\u001b[0;34m\u001b[0m\u001b[0;34m\u001b[0m\u001b[0m\n\u001b[0;32m---> 26\u001b[0;31m \u001b[0mobj\u001b[0m\u001b[0;34m.\u001b[0m\u001b[0mfindRightInterval\u001b[0m\u001b[0;34m(\u001b[0m\u001b[0mintervals\u001b[0m\u001b[0;34m)\u001b[0m\u001b[0;34m\u001b[0m\u001b[0;34m\u001b[0m\u001b[0m\n\u001b[0m",
      "\u001b[0;32m<ipython-input-22-b3057e2d8e5f>\u001b[0m in \u001b[0;36mfindRightInterval\u001b[0;34m(self, intervals)\u001b[0m\n\u001b[1;32m     12\u001b[0m                 \u001b[0mres\u001b[0m\u001b[0;34m.\u001b[0m\u001b[0mappend\u001b[0m\u001b[0;34m(\u001b[0m\u001b[0minterval_dict\u001b[0m\u001b[0;34m[\u001b[0m\u001b[0mend\u001b[0m\u001b[0;34m]\u001b[0m\u001b[0;34m)\u001b[0m\u001b[0;34m\u001b[0m\u001b[0;34m\u001b[0m\u001b[0m\n\u001b[1;32m     13\u001b[0m                 \u001b[0;32mcontinue\u001b[0m \u001b[0;31m# we got the right interval so skip\u001b[0m\u001b[0;34m\u001b[0m\u001b[0;34m\u001b[0m\u001b[0m\n\u001b[0;32m---> 14\u001b[0;31m             \u001b[0midx\u001b[0m \u001b[0;34m=\u001b[0m \u001b[0mbisect\u001b[0m\u001b[0;34m.\u001b[0m\u001b[0mbisect_left\u001b[0m\u001b[0;34m(\u001b[0m\u001b[0msorted_start_list\u001b[0m\u001b[0;34m,\u001b[0m \u001b[0mend\u001b[0m\u001b[0;34m)\u001b[0m \u001b[0;31m# else, find curr end position in sorted strt list\u001b[0m\u001b[0;34m\u001b[0m\u001b[0;34m\u001b[0m\u001b[0m\n\u001b[0m\u001b[1;32m     15\u001b[0m             \u001b[0;31m#print(idx,end,sorted_start_list)\u001b[0m\u001b[0;34m\u001b[0m\u001b[0;34m\u001b[0m\u001b[0;34m\u001b[0m\u001b[0m\n\u001b[1;32m     16\u001b[0m             \u001b[0;32mif\u001b[0m \u001b[0midx\u001b[0m \u001b[0;34m==\u001b[0m \u001b[0mlen\u001b[0m\u001b[0;34m(\u001b[0m\u001b[0mintervals\u001b[0m\u001b[0;34m)\u001b[0m\u001b[0;34m:\u001b[0m\u001b[0;31m# if curr end position is at last in sorted strt then no right interval\u001b[0m\u001b[0;34m\u001b[0m\u001b[0;34m\u001b[0m\u001b[0m\n",
      "\u001b[0;31mNameError\u001b[0m: name 'bisect' is not defined"
     ]
    }
   ],
   "source": [
    "class Solution(object):\n",
    "    def findRightInterval(self, intervals): # nlogn+nlogn       \n",
    "        interval_dict = {} # start, index of interval\n",
    "        for i, (start, _) in enumerate(intervals):\n",
    "            interval_dict[start] = i\n",
    "            \n",
    "        print(interval_dict)\n",
    "        sorted_start_list = sorted([interval[0] for interval in intervals]) # sorted list of strt point         \n",
    "        res = []        \n",
    "        for start, end in intervals:\n",
    "            if end in interval_dict: #if any interval start is same as curr_end, then strt interval indx is right interval for cur interval\n",
    "                res.append(interval_dict[end])\n",
    "                continue # we got the right interval so skip\n",
    "            idx = bisect.bisect_left(sorted_start_list, end) # else, find curr end position in sorted strt list\n",
    "            #print(idx,end,sorted_start_list)\n",
    "            if idx == len(intervals):# if curr end position is at last in sorted strt then no right interval\n",
    "                res.append(-1)\n",
    "            else:\n",
    "                res.append(interval_dict[sorted_start_list[idx]]) # else get the index of start point where positioning the cur end strt list remains sorted, add tht strt index into result\n",
    "        return res\n",
    "    \n",
    "    \n",
    "   \n",
    "obj = Solution()\n",
    "intervals = [ [3,4], [2,3], [1,2] ]\n",
    "obj.findRightInterval(intervals)"
   ]
  },
  {
   "cell_type": "code",
   "execution_count": null,
   "metadata": {},
   "outputs": [],
   "source": []
  }
 ],
 "metadata": {
  "kernelspec": {
   "display_name": "Python 3",
   "language": "python",
   "name": "python3"
  },
  "language_info": {
   "codemirror_mode": {
    "name": "ipython",
    "version": 3
   },
   "file_extension": ".py",
   "mimetype": "text/x-python",
   "name": "python",
   "nbconvert_exporter": "python",
   "pygments_lexer": "ipython3",
   "version": "3.8.3"
  }
 },
 "nbformat": 4,
 "nbformat_minor": 4
}
