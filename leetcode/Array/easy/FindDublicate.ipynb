{
 "cells": [
  {
   "cell_type": "markdown",
   "metadata": {},
   "source": [
    "You are assigned to put some amount of boxes onto one truck. You are given a 2D array boxTypes, \n",
    "\n",
    "where boxTypes[i] = [numberOfBoxesi, numberOfUnitsPerBoxi]:\n",
    "\n",
    "    numberOfBoxesi is the number of boxes of type i.\n",
    "    numberOfUnitsPerBoxi is the number of units in each box of the type i.\n",
    "\n",
    "You are also given an integer truckSize, which is the maximum number of boxes that can be put on the truck. You can choose any boxes to put on the truck as long as the number of boxes does not exceed truckSize.\n",
    "\n",
    "Return the maximum total number of units that can be put on the truck."
   ]
  },
  {
   "cell_type": "code",
   "execution_count": 1,
   "metadata": {},
   "outputs": [
    {
     "name": "stdout",
     "output_type": "stream",
     "text": [
      "[(4, 2), (3, 1), (3, 3)]\n",
      "box 2\n",
      "units 4\n",
      " \n",
      "box 3\n",
      "units 7\n",
      " \n",
      "box 6\n",
      "units 10\n",
      " \n"
     ]
    },
    {
     "data": {
      "text/plain": [
       "10"
      ]
     },
     "execution_count": 1,
     "metadata": {},
     "output_type": "execute_result"
    }
   ],
   "source": [
    "class Solution(object):\n",
    "    def maximumUnits(self, boxTypes, truckSize):\n",
    "        \"\"\"\n",
    "        :type boxTypes: List[List[int]]\n",
    "        :type truckSize: int\n",
    "        :rtype: int\n",
    "        \"\"\"\n",
    "        xnew = []\n",
    "        \n",
    "        for i in boxTypes:\n",
    "            xnew.append( ( i[0]*i[1], i[0] ))\n",
    "        \n",
    "        \n",
    "        xnew = (sorted(xnew, key=lambda x : (-x[0], x[1])))\n",
    "        print(xnew)\n",
    "    \n",
    "        boxsofar = 0 \n",
    "        units = 0 \n",
    "        i = 0 \n",
    "        while boxsofar <= truckSize:\n",
    " \n",
    "            units+= xnew[i][0]\n",
    "            boxsofar += xnew[i][1]\n",
    "            i +=1\n",
    "            print(\"box\", boxsofar)\n",
    "            print(\"units\", units)\n",
    "            print(\" \")\n",
    "        return units\n",
    "    \n",
    "    \n",
    "    \n",
    "obj = Solution()\n",
    "obj.maximumUnits( [[1,3],[2,2],[3,1]],  4)"
   ]
  },
  {
   "cell_type": "code",
   "execution_count": null,
   "metadata": {},
   "outputs": [],
   "source": []
  }
 ],
 "metadata": {
  "kernelspec": {
   "display_name": "Python 3",
   "language": "python",
   "name": "python3"
  },
  "language_info": {
   "codemirror_mode": {
    "name": "ipython",
    "version": 3
   },
   "file_extension": ".py",
   "mimetype": "text/x-python",
   "name": "python",
   "nbconvert_exporter": "python",
   "pygments_lexer": "ipython3",
   "version": "3.8.0"
  }
 },
 "nbformat": 4,
 "nbformat_minor": 4
}
