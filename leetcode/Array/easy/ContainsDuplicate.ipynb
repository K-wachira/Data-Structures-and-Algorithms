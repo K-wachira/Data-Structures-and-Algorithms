{
 "cells": [
  {
   "cell_type": "markdown",
   "metadata": {},
   "source": [
    "# 217. Contains Duplicate\n",
    "[Question Link](https://leetcode.com/problems/contains-duplicate/)\n",
    "\n",
    "Given an array of integers, find if the array contains any duplicates.\n",
    "\n",
    "Your function should return true if any value appears at least twice in the array, and it should return false if every element is distinct.\n",
    "\n",
    "*** \n",
    "## Approach 1 (Hash Table)\n",
    "\n",
    "### Steps::\n",
    "\n",
    "1. Compare length of the given array to that of a set of the same array converted back to a list"
   ]
  },
  {
   "cell_type": "markdown",
   "metadata": {},
   "source": [
    "***"
   ]
  },
  {
   "cell_type": "code",
   "execution_count": 16,
   "metadata": {},
   "outputs": [],
   "source": [
    "nums =[1,2,3,4,4]"
   ]
  },
  {
   "cell_type": "markdown",
   "metadata": {},
   "source": [
    "***"
   ]
  },
  {
   "cell_type": "code",
   "execution_count": 7,
   "metadata": {},
   "outputs": [
    {
     "data": {
      "text/plain": [
       "False"
      ]
     },
     "execution_count": 7,
     "metadata": {},
     "output_type": "execute_result"
    }
   ],
   "source": [
    "class Solution(object):\n",
    "    def containsDuplicate(self, nums):\n",
    "        \"\"\"\n",
    "        :type nums: List[int]\n",
    "        :rtype: bool\n",
    "        \"\"\"\n",
    "        setList = set(nums)\n",
    "        if len(nums) != len(list(setList)) : return True\n",
    "        return False\n",
    "        \n",
    "        \n",
    "results =  Solution()\n",
    "results.containsDuplicate(nums)"
   ]
  },
  {
   "cell_type": "markdown",
   "metadata": {},
   "source": [
    "***\n",
    "## Approach 2 (Dictionary)\n",
    "\n",
    "### Steps ::\n",
    "\n",
    "1. Create a dict and strore the vals on nums as key and value be 1 if a number is repreated add the value by one\n",
    "2. loop though the dict values and if  any val is more then 1 return True else False \n",
    "\n"
   ]
  },
  {
   "cell_type": "code",
   "execution_count": 13,
   "metadata": {},
   "outputs": [
    {
     "data": {
      "text/plain": [
       "False"
      ]
     },
     "execution_count": 13,
     "metadata": {},
     "output_type": "execute_result"
    }
   ],
   "source": [
    "class Solution2(object):\n",
    "    def containsDuplicate(self, nums):\n",
    "        \"\"\"\n",
    "        :type nums: List[int]\n",
    "        :rtype: bool\n",
    "        \"\"\"\n",
    "        f = {}\n",
    "        \n",
    "        for i in nums:\n",
    "            f[i] = f.get(i,0)+1\n",
    "       \n",
    "        for k,v in f.items():\n",
    "            if v > 1 : return True\n",
    "        return False\n",
    "        \n",
    "        \n",
    "results =  Solution2()\n",
    "results.containsDuplicate(nums)"
   ]
  },
  {
   "cell_type": "markdown",
   "metadata": {},
   "source": [
    "*** \n",
    "## Approach 3 (Hash Table with loop)\n",
    "\n",
    "### Steps\n",
    "\n",
    "1. Have a empty list initialy `numsb`\n",
    "2. Loop though the given Array `nums` with `i` and check if `i` in `numsb`\n",
    "    - if `i` in `numsb` return True else append `i` to `numsb`\n",
    "3. Return False"
   ]
  },
  {
   "cell_type": "code",
   "execution_count": 11,
   "metadata": {},
   "outputs": [
    {
     "data": {
      "text/plain": [
       "False"
      ]
     },
     "execution_count": 11,
     "metadata": {},
     "output_type": "execute_result"
    }
   ],
   "source": [
    "class Solution3(object):\n",
    "    def containsDuplicate(self, nums):\n",
    "        \"\"\"\n",
    "        :type nums: List[int]\n",
    "        :rtype: bool\n",
    "        \"\"\"\n",
    "        numsb = []\n",
    "        for i in nums:\n",
    "            if i in numsb:\n",
    "                return True\n",
    "            else: \n",
    "                numsb.append(i)\n",
    "        return False\n",
    "results =  Solution3()\n",
    "results.containsDuplicate(nums)"
   ]
  },
  {
   "cell_type": "markdown",
   "metadata": {},
   "source": [
    "*** \n",
    "## Approach 4(List slicing) [Time Limit Exceeded]\n",
    "\n",
    "### Steps ::\n",
    "1. For every element in nums check if there is another like it on the rest of the list \n",
    "2. Return True if there is else False\n"
   ]
  },
  {
   "cell_type": "code",
   "execution_count": 17,
   "metadata": {},
   "outputs": [
    {
     "data": {
      "text/plain": [
       "True"
      ]
     },
     "execution_count": 17,
     "metadata": {},
     "output_type": "execute_result"
    }
   ],
   "source": [
    "class Solution4(object):\n",
    "    def containsDuplicate(self, nums):\n",
    "        \"\"\"\n",
    "        :type nums: List[int]\n",
    "        :rtype: bool\n",
    "        \"\"\"\n",
    "        for i, n in enumerate(nums):\n",
    "            if i < len(nums):\n",
    "                if n in nums[i+1:]: return True\n",
    "        return False\n",
    "results =  Solution4()\n",
    "results.containsDuplicate(nums)"
   ]
  }
 ],
 "metadata": {
  "kernelspec": {
   "display_name": "Python 3",
   "language": "python",
   "name": "python3"
  },
  "language_info": {
   "codemirror_mode": {
    "name": "ipython",
    "version": 3
   },
   "file_extension": ".py",
   "mimetype": "text/x-python",
   "name": "python",
   "nbconvert_exporter": "python",
   "pygments_lexer": "ipython3",
   "version": "3.8.3"
  }
 },
 "nbformat": 4,
 "nbformat_minor": 4
}
