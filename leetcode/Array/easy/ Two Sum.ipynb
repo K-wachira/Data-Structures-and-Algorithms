{
 "cells": [
  {
   "cell_type": "markdown",
   "metadata": {},
   "source": [
    "#  Two Sum\n",
    "[Question Link](https://leetcode.com/problems/two-sum/)\n",
    "\n",
    "Given an array of integers, return indices of the two numbers such that they add up to a specific target.\n",
    "\n",
    "You may assume that each input would have exactly one solution, and you may not use the same element twice.\n",
    "\n",
    "## Approach 1(Brute Force)\n",
    "\n",
    "    BruteForce   N^2 time complexity\n",
    "\n",
    "### Steps::\n",
    "    For every number in nums calculate the number(x) that needs to be added to it such that they sum up to target \n",
    "    Check the remaining sub-array if the number (x) is in it \n",
    "    If treye return the indices else continue to the next number of the array nums ;\n"
   ]
  },
  {
   "cell_type": "code",
   "execution_count": 50,
   "metadata": {},
   "outputs": [
    {
     "data": {
      "text/plain": [
       "(1, 2)"
      ]
     },
     "execution_count": 50,
     "metadata": {},
     "output_type": "execute_result"
    }
   ],
   "source": [
    "class Solution(object):\n",
    "    def twoSum(self, nums, target):\n",
    "        \"\"\"\n",
    "        :type nums: List[int]\n",
    "        :type target: int\n",
    "        :rtype: List[int]\n",
    "        \"\"\"\n",
    "        for  i, n in enumerate(nums):\n",
    "        \n",
    "            LookingFor = target - n\n",
    "            if LookingFor in nums[i+1:]:\n",
    "                return i, nums.index(LookingFor)    \n",
    "            \n",
    "            \n",
    "Obj = Solution()\n",
    "nums = [3,2,4]\n",
    "taregt = 6\n",
    "\n",
    "Obj.twoSum(nums, target)\n"
   ]
  },
  {
   "cell_type": "markdown",
   "metadata": {},
   "source": [
    "## Approach 2(Using hash)\n",
    "\n",
    "###\n",
    "Steps\n",
    "Assuming the array is sorted\n",
    "Have a dictionary where you store key as the number and value as the index of the number \n",
    "\n",
    "Loop thought the array \n",
    "For every number check if there is a number(Key) in the dictionary that when added together == target\n",
    "If so return value of the number in the array and the index of the number we are currently at on the loop\n",
    "If not append that number as key to the dictionary and the index as value \n",
    "\n"
   ]
  },
  {
   "cell_type": "code",
   "execution_count": 1,
   "metadata": {},
   "outputs": [
    {
     "data": {
      "text/plain": [
       "[0, 1]"
      ]
     },
     "execution_count": 1,
     "metadata": {},
     "output_type": "execute_result"
    }
   ],
   "source": [
    "class  Solution(object):\n",
    "    def twoSum(self, nums, target):\n",
    "        f={}\n",
    "        for i, n in enumerate(nums):\n",
    "            if (target- n) in f:\n",
    "                return [f[target-n], i]\n",
    "            else:\n",
    "                f[n] = i\n",
    "\n",
    " \n",
    "  \n",
    "\n",
    "obj = Solution()\n",
    "nums =[3,3,2,4]\n",
    "target = 6\n",
    "\n",
    "obj.twoSum(nums, target)"
   ]
  },
  {
   "cell_type": "markdown",
   "metadata": {},
   "source": [
    "# Approach 3 ( 2 pointers)\n",
    "\n",
    "\n"
   ]
  },
  {
   "cell_type": "code",
   "execution_count": 57,
   "metadata": {},
   "outputs": [
    {
     "data": {
      "text/plain": [
       "[1, 2]"
      ]
     },
     "execution_count": 57,
     "metadata": {},
     "output_type": "execute_result"
    }
   ],
   "source": [
    "class Solution(object):\n",
    "    def twoSum(self, nums, target):\n",
    "        \"\"\"\n",
    "        :type nums: List[int]\n",
    "        :type target: int\n",
    "        :rtype: List[int]\n",
    "        \"\"\"\n",
    "        sort = sorted(zip(nums, range(len(nums))))\n",
    "        left, right = 0, len(sort) -1\n",
    "        while left < right:\n",
    "            val = sort[left][0] + sort[right][0]\n",
    "            if val == target:\n",
    "                return [sort[left][1], sort[right][1]]\n",
    "            if val < target:\n",
    "                left += 1\n",
    "            else:\n",
    "                right -= 1\n",
    "      \n",
    "        \n",
    "        \n",
    "obj = Solution()\n",
    "nums =[3,2,4]\n",
    "target = 6\n",
    "obj.twoSum(nums, target)"
   ]
  },
  {
   "cell_type": "code",
   "execution_count": 6,
   "metadata": {},
   "outputs": [
    {
     "data": {
      "text/plain": [
       "True"
      ]
     },
     "execution_count": 6,
     "metadata": {},
     "output_type": "execute_result"
    }
   ],
   "source": [
    "class  Solution(object):\n",
    "    def twoSum(self, nums, target):\n",
    "        k = {}\n",
    "        for i,n in enumerate(nums):\n",
    "            if (target - n) in k: \n",
    "                return True\n",
    "            else:\n",
    "                k[i]=n\n",
    "\n",
    "        return False\n",
    "\n",
    " \n",
    "  \n",
    "\n",
    "obj = Solution()\n",
    "nums =[3,3,2,4]\n",
    "target = 6\n",
    "\n",
    "obj.twoSum(nums, target)"
   ]
  },
  {
   "cell_type": "code",
   "execution_count": null,
   "metadata": {},
   "outputs": [],
   "source": []
  }
 ],
 "metadata": {
  "kernelspec": {
   "display_name": "Python 3",
   "language": "python",
   "name": "python3"
  },
  "language_info": {
   "codemirror_mode": {
    "name": "ipython",
    "version": 3
   },
   "file_extension": ".py",
   "mimetype": "text/x-python",
   "name": "python",
   "nbconvert_exporter": "python",
   "pygments_lexer": "ipython3",
   "version": "3.8.3"
  }
 },
 "nbformat": 4,
 "nbformat_minor": 4
}
