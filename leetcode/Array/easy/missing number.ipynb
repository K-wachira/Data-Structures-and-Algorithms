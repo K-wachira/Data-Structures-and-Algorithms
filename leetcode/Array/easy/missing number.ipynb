{
 "cells": [
  {
   "cell_type": "markdown",
   "metadata": {},
   "source": [
    "Missing +ve number thats greater than 0 in array "
   ]
  },
  {
   "cell_type": "markdown",
   "metadata": {},
   "source": [
    "Solution with n time and n space where n is the number of uniq elements in the array A"
   ]
  },
  {
   "cell_type": "code",
   "execution_count": 13,
   "metadata": {},
   "outputs": [
    {
     "data": {
      "text/plain": [
       "2"
      ]
     },
     "execution_count": 13,
     "metadata": {},
     "output_type": "execute_result"
    }
   ],
   "source": [
    "class Solution():\n",
    "    def missingNumber(self, A):\n",
    "        seen = set(A)\n",
    "        for i in range(1, max(len(seen), max(seen)+1)):\n",
    "            if i not in seen: return i \n",
    "        return len(seen)+1\n",
    "        \n",
    "        \n",
    "obj = Solution()\n",
    "A = [1]\n",
    "obj.missingNumber(A)"
   ]
  },
  {
   "cell_type": "code",
   "execution_count": null,
   "metadata": {},
   "outputs": [],
   "source": [
    "class Solution():\n",
    "    def missingNumber(self, A):\n",
    "        seen = set(A)\n",
    "        sums = sum(seen)\n",
    "        expectedsum = \n",
    "        \n",
    "        \n",
    "obj = Solution()\n",
    "A = [1,3,6,4,1,2]\n",
    "obj.missingNumber(A)"
   ]
  }
 ],
 "metadata": {
  "kernelspec": {
   "display_name": "Python 3",
   "language": "python",
   "name": "python3"
  },
  "language_info": {
   "codemirror_mode": {
    "name": "ipython",
    "version": 3
   },
   "file_extension": ".py",
   "mimetype": "text/x-python",
   "name": "python",
   "nbconvert_exporter": "python",
   "pygments_lexer": "ipython3",
   "version": "3.8.3"
  }
 },
 "nbformat": 4,
 "nbformat_minor": 4
}
