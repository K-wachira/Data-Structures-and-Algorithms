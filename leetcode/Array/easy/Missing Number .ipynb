{
 "cells": [
  {
   "cell_type": "markdown",
   "metadata": {},
   "source": [
    "# Missing Number \n",
    "\n",
    "\n",
    "[Question Link](https://leetcode.com/problems/missing-number/)\n",
    "\n",
    "\n",
    "Given an array nums containing n distinct numbers in the range [0, n], return the only number in the range that is missing from the array.\n",
    "\n",
    "Follow up: Could you implement a solution using only O(1) extra space complexity and O(n) runtime complexity?\n",
    "\n",
    "## Solution 1 (Brute Force)\n",
    "\n",
    "### Steps :: \n",
    "\n",
    "1. loop through 0, len(arr) +1  with `i`\n",
    "2. For Every i check if its in the arr \n",
    "3. if its not in, return len(arr) +1 else return `i` \n",
    "\n",
    " \n",
    "### Analysis \n",
    "\n",
    "Time Complexity will be O(n^2)\n",
    "\n",
    "Space complexity will be O(1)\n"
   ]
  },
  {
   "cell_type": "code",
   "execution_count": 10,
   "metadata": {},
   "outputs": [
    {
     "name": "stdout",
     "output_type": "stream",
     "text": [
      "True\n",
      "True\n",
      "True\n",
      "True\n"
     ]
    }
   ],
   "source": [
    "class Solution:\n",
    "    def missingNumber(self, nums ) -> int:\n",
    "        n = len(nums) +1\n",
    "        for i in range(n):\n",
    "            if i not in nums:return i \n",
    "obj = Solution()\n",
    "nums = [3,0,1]\n",
    "print(obj.missingNumber(nums) == 2)\n",
    "print(obj.missingNumber([9,6,4,2,3,5,7,0,1]) == 8)\n",
    "print(obj.missingNumber([0 , 1]) ==2 )\n",
    "print(obj.missingNumber([0 ]) ==1)\n",
    "\n",
    "\n",
    "        "
   ]
  },
  {
   "cell_type": "markdown",
   "metadata": {},
   "source": [
    "# Solution 2 (Brute Force Optimized)\n",
    "\n",
    "### Steps ::\n",
    "\n",
    "1. Create a set of the given Array \n",
    "2. Loop with `i` through range len(arr) +1 \n",
    "3. CHeck if i in set nums , return i if not in nums \n",
    "\n",
    "\n",
    "### Analysis \n",
    "The time complexity will be 0(n+m) where n is the len of array given and m is still the len of the array\n",
    "\n",
    "The space complexity will be O(n)  where n is the len of the initialized set because we are creating a new set \n",
    "\n"
   ]
  },
  {
   "cell_type": "code",
   "execution_count": 11,
   "metadata": {},
   "outputs": [
    {
     "name": "stdout",
     "output_type": "stream",
     "text": [
      "True\n",
      "True\n",
      "True\n",
      "True\n"
     ]
    }
   ],
   "source": [
    "class Solution:\n",
    "    def missingNumber(self, nums ) -> int:\n",
    "        setnums = set(nums)\n",
    "        n = len(nums)+1 \n",
    "        \n",
    "        for i in range(n):\n",
    "            if i not in setnums: return i \n",
    "            \n",
    "        \n",
    "        \n",
    "\n",
    "obj = Solution()\n",
    "nums = [3,0,1]\n",
    "print(obj.missingNumber(nums) == 2 )\n",
    "print(obj.missingNumber([9,6,4,2,3,5,7,0,1]) == 8)\n",
    "print(obj.missingNumber([0 , 1]) ==2 )\n",
    "print(obj.missingNumber([0 ]) ==1)\n",
    "\n",
    "        "
   ]
  },
  {
   "cell_type": "markdown",
   "metadata": {},
   "source": [
    "# Solution 3 ( Optimized  maths approach )\n",
    "\n",
    "### Steps::\n",
    "\n",
    "1. Get the total sum of all the numbers in the range of n \n",
    "2. subract the sum of nums from the total and return the results \n",
    "\n",
    "### Analysis \n",
    "\n",
    "Time complexity will be O(n) where n is the len of the arr \n",
    "Space complexity will be O(1) because we are not initializing any data structures"
   ]
  },
  {
   "cell_type": "code",
   "execution_count": 16,
   "metadata": {},
   "outputs": [
    {
     "name": "stdout",
     "output_type": "stream",
     "text": [
      "True\n",
      "True\n",
      "True\n",
      "True\n"
     ]
    }
   ],
   "source": [
    "class Solution:\n",
    "    def missingNumber(self, nums ) -> int:\n",
    "        n = len(nums)\n",
    "        total = n * (n+1)//2\n",
    "        return total - sum(nums)\n",
    "    \n",
    "    \n",
    "obj = Solution()\n",
    "nums = [3,0,1]\n",
    "print(obj.missingNumber(nums) == 2 )\n",
    "print(obj.missingNumber([9,6,4,2,3,5,7,0,1]) == 8)\n",
    "print(obj.missingNumber([0 , 1]) ==2 )\n",
    "print(obj.missingNumber([1 ]) == 0)"
   ]
  },
  {
   "cell_type": "markdown",
   "metadata": {},
   "source": [
    "# Solution 4 (Bitwise operators XOR )\n",
    "\n",
    "\n",
    "### Steps :: \n",
    "\n",
    "1. Create two variables a = 0 and b = 0\n",
    "2. Run a loop from 1 to n with i as counter.\n",
    "3. For every index update a as a = a ^ i\n",
    "4. Now traverse the array from start to emnd.\n",
    "5. For every index update b as b = b ^ array[i]\n",
    "6. Print the missing number as a ^ b.\n",
    "\n",
    "\n",
    "### Analysis \n",
    "\n",
    "Time complexity will be O(n+n) because we have two independent for loops, \n",
    "\n",
    "Space complexity will be O(1) cause there is not init of any data structure  \n",
    "\n",
    "\n"
   ]
  },
  {
   "cell_type": "code",
   "execution_count": 36,
   "metadata": {},
   "outputs": [
    {
     "ename": "NameError",
     "evalue": "name 'n' is not defined",
     "output_type": "error",
     "traceback": [
      "\u001b[0;31m---------------------------------------------------------------------------\u001b[0m",
      "\u001b[0;31mNameError\u001b[0m                                 Traceback (most recent call last)",
      "\u001b[0;32m<ipython-input-36-1bc9eb0c3e64>\u001b[0m in \u001b[0;36m<module>\u001b[0;34m\u001b[0m\n\u001b[1;32m     10\u001b[0m \u001b[0mobj\u001b[0m \u001b[0;34m=\u001b[0m \u001b[0mSolution\u001b[0m\u001b[0;34m(\u001b[0m\u001b[0;34m)\u001b[0m\u001b[0;34m\u001b[0m\u001b[0;34m\u001b[0m\u001b[0m\n\u001b[1;32m     11\u001b[0m \u001b[0mnums\u001b[0m \u001b[0;34m=\u001b[0m \u001b[0;34m[\u001b[0m\u001b[0;36m3\u001b[0m\u001b[0;34m,\u001b[0m\u001b[0;36m0\u001b[0m\u001b[0;34m,\u001b[0m\u001b[0;36m1\u001b[0m\u001b[0;34m]\u001b[0m\u001b[0;34m\u001b[0m\u001b[0;34m\u001b[0m\u001b[0m\n\u001b[0;32m---> 12\u001b[0;31m \u001b[0mprint\u001b[0m\u001b[0;34m(\u001b[0m\u001b[0mobj\u001b[0m\u001b[0;34m.\u001b[0m\u001b[0mmissingNumber\u001b[0m\u001b[0;34m(\u001b[0m\u001b[0mnums\u001b[0m\u001b[0;34m)\u001b[0m  \u001b[0;34m)\u001b[0m\u001b[0;34m\u001b[0m\u001b[0;34m\u001b[0m\u001b[0m\n\u001b[0m",
      "\u001b[0;32m<ipython-input-36-1bc9eb0c3e64>\u001b[0m in \u001b[0;36mmissingNumber\u001b[0;34m(self, nums)\u001b[0m\n\u001b[1;32m      3\u001b[0m         \u001b[0ma\u001b[0m \u001b[0;34m=\u001b[0m \u001b[0mnums\u001b[0m\u001b[0;34m[\u001b[0m\u001b[0;36m0\u001b[0m\u001b[0;34m]\u001b[0m\u001b[0;34m\u001b[0m\u001b[0;34m\u001b[0m\u001b[0m\n\u001b[1;32m      4\u001b[0m         \u001b[0mb\u001b[0m \u001b[0;34m=\u001b[0m \u001b[0;36m1\u001b[0m\u001b[0;34m\u001b[0m\u001b[0;34m\u001b[0m\u001b[0m\n\u001b[0;32m----> 5\u001b[0;31m         \u001b[0;32mfor\u001b[0m \u001b[0mi\u001b[0m \u001b[0;32min\u001b[0m \u001b[0mrange\u001b[0m\u001b[0;34m(\u001b[0m \u001b[0;36m0\u001b[0m\u001b[0;34m,\u001b[0m   \u001b[0mn\u001b[0m\u001b[0;34m)\u001b[0m\u001b[0;34m:\u001b[0m\u001b[0;34m\u001b[0m\u001b[0;34m\u001b[0m\u001b[0m\n\u001b[0m\u001b[1;32m      6\u001b[0m             \u001b[0mb\u001b[0m \u001b[0;34m^=\u001b[0m \u001b[0mi\u001b[0m \u001b[0;34m^\u001b[0m \u001b[0mnums\u001b[0m\u001b[0;34m[\u001b[0m\u001b[0mi\u001b[0m\u001b[0;34m]\u001b[0m\u001b[0;34m\u001b[0m\u001b[0;34m\u001b[0m\u001b[0m\n\u001b[1;32m      7\u001b[0m         \u001b[0;32mreturn\u001b[0m \u001b[0mb\u001b[0m\u001b[0;34m\u001b[0m\u001b[0;34m\u001b[0m\u001b[0m\n",
      "\u001b[0;31mNameError\u001b[0m: name 'n' is not defined"
     ]
    }
   ],
   "source": [
    "class Solution:\n",
    "    def missingNumber(self, nums ) -> int:\n",
    "        a = nums[0]\n",
    "        b = 1\n",
    "        for i in range( 0,   n):\n",
    "            b ^= i ^ nums[i]\n",
    "        return b\n",
    "\n",
    "    \n",
    "obj = Solution()\n",
    "nums = [3,0,1]\n",
    "print(obj.missingNumber(nums)  )        "
   ]
  },
  {
   "cell_type": "code",
   "execution_count": 33,
   "metadata": {},
   "outputs": [
    {
     "name": "stdout",
     "output_type": "stream",
     "text": [
      "7\n"
     ]
    }
   ],
   "source": [
    "print( 3^4)"
   ]
  },
  {
   "cell_type": "code",
   "execution_count": null,
   "metadata": {},
   "outputs": [],
   "source": []
  }
 ],
 "metadata": {
  "kernelspec": {
   "display_name": "Python 3",
   "language": "python",
   "name": "python3"
  },
  "language_info": {
   "codemirror_mode": {
    "name": "ipython",
    "version": 3
   },
   "file_extension": ".py",
   "mimetype": "text/x-python",
   "name": "python",
   "nbconvert_exporter": "python",
   "pygments_lexer": "ipython3",
   "version": "3.8.3"
  }
 },
 "nbformat": 4,
 "nbformat_minor": 4
}
