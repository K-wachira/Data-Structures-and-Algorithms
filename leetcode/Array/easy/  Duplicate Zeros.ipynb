{
 "cells": [
  {
   "cell_type": "markdown",
   "metadata": {},
   "source": [
    "# Duplicate Zeros\n",
    "\n",
    "\n",
    "\n",
    "Given a fixed length array arr of integers, duplicate each occurrence of zero, shifting the remaining elements to the right.\n",
    "\n",
    "Note that elements beyond the length of the original array are not written.\n",
    "\n",
    "Do the above modifications to the input array in place, do not return anything from your function.\n",
    "\n",
    " \n",
    "\n",
    "Example 1:\n",
    "\n",
    "Input: [1,0,2,3,0,4,5,0]\n",
    "Output: null\n",
    "Explanation: After calling your function, the input array is modified to: [1,0,0,2,3,0,0,4]\n",
    "Example 2:\n",
    "\n",
    "Input: [1,2,3]\n",
    "Output: null\n",
    "Explanation: After calling your function, the input array is modified to: [1,2,3]"
   ]
  },
  {
   "cell_type": "code",
   "execution_count": 7,
   "metadata": {},
   "outputs": [
    {
     "name": "stdout",
     "output_type": "stream",
     "text": [
      "0 0 [0, 4, 1, 0, 0, 8, 0, 0, 3]\n",
      "2 4 [0, 0, 4, 1, 0, 0, 8, 0, 0]\n",
      "3 1 [0, 0, 4, 1, 0, 0, 8, 0, 0]\n",
      "4 0 [0, 0, 4, 1, 0, 0, 8, 0, 0]\n",
      "6 0 [0, 0, 4, 1, 0, 0, 0, 8, 0]\n",
      "8 8 [0, 0, 4, 1, 0, 0, 0, 0, 8]\n"
     ]
    },
    {
     "data": {
      "text/plain": [
       "[0, 0, 4, 1, 0, 0, 0, 0, 8]"
      ]
     },
     "execution_count": 7,
     "metadata": {},
     "output_type": "execute_result"
    }
   ],
   "source": [
    "class Solution:\n",
    "    def duplicateZeros(self, arr) -> None:\n",
    "        \"\"\"\n",
    "        Do not return anything, modify arr in-place instead.\n",
    "        \"\"\"\n",
    "        \n",
    "        \n",
    "        i = 0\n",
    "        n = len(arr)-1\n",
    "        while i <= n:\n",
    "            print(i, arr[i], arr)\n",
    "            if arr[i] == 0:\n",
    "                arr.insert(i+1, 0)\n",
    "                arr.pop()\n",
    "                i+=2 # SKIP THE 0 YOU JUST INSERTED\n",
    "            else:\n",
    "                i+=1 #THERE IS NO ZERO SO JUST ADD ONE \n",
    "        return arr\n",
    "            \n",
    "obj = Solution()\n",
    "obj.duplicateZeros([0,4,1,0,0,8,0,0,3])"
   ]
  },
  {
   "cell_type": "code",
   "execution_count": null,
   "metadata": {},
   "outputs": [],
   "source": []
  }
 ],
 "metadata": {
  "kernelspec": {
   "display_name": "Python 3",
   "language": "python",
   "name": "python3"
  },
  "language_info": {
   "codemirror_mode": {
    "name": "ipython",
    "version": 3
   },
   "file_extension": ".py",
   "mimetype": "text/x-python",
   "name": "python",
   "nbconvert_exporter": "python",
   "pygments_lexer": "ipython3",
   "version": "3.8.5"
  }
 },
 "nbformat": 4,
 "nbformat_minor": 4
}
