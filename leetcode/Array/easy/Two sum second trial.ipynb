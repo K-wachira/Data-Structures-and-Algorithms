{
 "cells": [
  {
   "cell_type": "markdown",
   "id": "58ce2f8d-7250-4b13-8e4f-03259e015738",
   "metadata": {},
   "source": [
    "[Two Sum](https://leetcode.com/problems/two-sum/) problem \n",
    "\n",
    "Given an array of integers nums and an integer target, return indices of the two numbers such that they add up to target.\n",
    "\n",
    "You may assume that each input would have exactly one solution, and you may not use the same element twice.\n",
    "\n",
    "You can return the answer in any order.'\n",
    "\n",
    "Steps: \n",
    "\n",
    "1. Clarifying your question\n",
    "\n",
    "The input is only an array of integers and a target integers. \n",
    "The input will only have more than two elements. \n",
    "I am assured there is a solution, and its only one. \n",
    "Returning the index of the two numbers and not the numbers.\n",
    "\n",
    "\n",
    "2. Describe your algorithm\n",
    "\n",
    "\n",
    "Because we are dealing with getting indexes we will not be considering reshuffling the input array.\n",
    "This means we will have to look for a number that fits perfectly with another in terms of them adding up to the target.\n",
    "\n",
    "\n",
    "to do this there are two ways, loop through the  range of len(input array) maintaining an index i, while at index i loop though range ( i, to len( input array )) maintaining an var j. \n",
    "\n",
    "Check if the number at index i and number at index j add up to target, if not continue,, if true, return i and j in a tupple or array.\n",
    "\n",
    "this will be taking n * n  time and 1 space complexity. \n",
    "\n",
    "\n",
    "\n",
    "Solution 2. \n",
    "\n",
    "Maintain a map of numbers we have come across while looping as keys and the index as value. \n",
    "\n",
    "each time we loop through the array we check a number x ( target - currect number) is a key in the dictionary, \n",
    "if not we append current number and its index in the array to the map we are maintaining. \n",
    "if we find the number x, we return the index of the current number and the value of number x (key) from the dictionary. \n",
    "\n",
    "3. Write your code\n",
    "    - Write professional code\n",
    "    - Check edge case\n",
    "    - Use subfunctions if possible\n",
    "4. Run a test case\n",
    "5. Analyze your code complexity"
   ]
  },
  {
   "cell_type": "code",
   "execution_count": 3,
   "id": "f9ae1abc-c2ad-4edf-9f51-8d28f31861f8",
   "metadata": {},
   "outputs": [
    {
     "data": {
      "text/plain": [
       "(1, 0)"
      ]
     },
     "execution_count": 3,
     "metadata": {},
     "output_type": "execute_result"
    }
   ],
   "source": [
    "\n",
    "\n",
    "def twoSumProblem(array, target):\n",
    "    f = {}\n",
    "    \n",
    "    for index, number in enumerate(array):\n",
    "        x = target - number\n",
    "        if x in f.keys():\n",
    "            return (index, f[x])\n",
    "        else:\n",
    "            f[number] = index\n",
    "    return False\n",
    "nums = [2,7,11,15]\n",
    "target = 9\n",
    "twoSumProblem(nums, target)"
   ]
  },
  {
   "cell_type": "code",
   "execution_count": null,
   "id": "dfb8bd5b-946d-476d-b65c-7414dc8dc878",
   "metadata": {},
   "outputs": [],
   "source": []
  }
 ],
 "metadata": {
  "kernelspec": {
   "display_name": "Python 3 (ipykernel)",
   "language": "python",
   "name": "python3"
  },
  "language_info": {
   "codemirror_mode": {
    "name": "ipython",
    "version": 3
   },
   "file_extension": ".py",
   "mimetype": "text/x-python",
   "name": "python",
   "nbconvert_exporter": "python",
   "pygments_lexer": "ipython3",
   "version": "3.9.7"
  }
 },
 "nbformat": 4,
 "nbformat_minor": 5
}
