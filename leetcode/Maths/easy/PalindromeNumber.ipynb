{
 "cells": [
  {
   "cell_type": "markdown",
   "metadata": {},
   "source": [
    "# Palindrome Number\n",
    "\n",
    "[Question Link](https://leetcode.com/problems/palindrome-number/)\n",
    "\n",
    "***\n",
    "Determine whether an integer is a palindrome. An integer is a palindrome when it reads the same backward as forward."
   ]
  },
  {
   "cell_type": "markdown",
   "metadata": {},
   "source": [
    "## Approach 1 (Convert to string and check)\n",
    "\n",
    "### Steps::\n",
    "1. Convet the int to string and user [::-1] or the .reverse() and compare the initial string to the current string \n",
    "2. Return the findings"
   ]
  },
  {
   "cell_type": "code",
   "execution_count": 4,
   "metadata": {},
   "outputs": [
    {
     "data": {
      "text/plain": [
       "False"
      ]
     },
     "execution_count": 4,
     "metadata": {},
     "output_type": "execute_result"
    }
   ],
   "source": [
    "def isPalindrome(x):\n",
    "    if str(x) == str(x)[::-1]: return True\n",
    "    return False\n",
    "x =-3\n",
    "isPalindrome(x)\n"
   ]
  },
  {
   "cell_type": "markdown",
   "metadata": {},
   "source": [
    "***\n",
    "## Approach 2 (Mathematical Approach)\n",
    "\n",
    "### Steps::\n",
    "1. Store the initial value of x in a variable (oldx)\n",
    "2. Have a new variable of 'Storing the reversed x'\n",
    "3. A while loop that checks if x is a valid whole number\n",
    "\n",
    "NB we are taking advantage of the fact that ints are decimal based i.e ones, tens, hundreds.\n",
    "\n",
    "4. Take the last digit of the int x and assign it to var reminder \n",
    "5. Update newx with the gotten number which is the reminder by adding it to the last position which is currently 0 because of newx*10\n",
    "6. Update x to be less one 'one decimal place'\n",
    "7. When x is less than 0 break the loop and return the comparison of oldx and new x\n",
    "\n"
   ]
  },
  {
   "cell_type": "code",
   "execution_count": 7,
   "metadata": {},
   "outputs": [
    {
     "data": {
      "text/plain": [
       "True"
      ]
     },
     "execution_count": 7,
     "metadata": {},
     "output_type": "execute_result"
    }
   ],
   "source": [
    "def isPalindrome(x):\n",
    "    newx = 0\n",
    "    oldx = x\n",
    "    while x > 0:\n",
    "        reminder = x%10\n",
    "        newx = (newx * 10) + reminder\n",
    "        x = x//10\n",
    "    return newx == oldx\n",
    "x= 33\n",
    "isPalindrome(x)"
   ]
  }
 ],
 "metadata": {
  "kernelspec": {
   "display_name": "Python 3",
   "language": "python",
   "name": "python3"
  },
  "language_info": {
   "codemirror_mode": {
    "name": "ipython",
    "version": 3
   },
   "file_extension": ".py",
   "mimetype": "text/x-python",
   "name": "python",
   "nbconvert_exporter": "python",
   "pygments_lexer": "ipython3",
   "version": "3.8.3"
  }
 },
 "nbformat": 4,
 "nbformat_minor": 4
}
