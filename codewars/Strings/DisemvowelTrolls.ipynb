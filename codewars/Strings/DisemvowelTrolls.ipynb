{
 "cells": [
  {
   "cell_type": "markdown",
   "metadata": {},
   "source": [
    "# Disemvowel Trolls\n",
    "\n",
    "[Question Link](https://www.codewars.com/kata/52fba66badcd10859f00097e/train/python)\n",
    "\n",
    "***\n",
    "\n",
    "## Approach 1 (Brute force)\n",
    "\n",
    "### Steps::\n",
    "\n",
    "1. Have a set of vowels already in a variable `Vowels`. And a new string that wont have the vowels `newString`\n",
    "2. Loop though All the characters `i` on the given string `string` : Make sure to convert i into lower case\n",
    "3. If `i` is in `Vowels` pass i.e don't add it to `newString' else `newString += `i`\n"
   ]
  },
  {
   "cell_type": "code",
   "execution_count": 1,
   "metadata": {},
   "outputs": [
    {
     "data": {
      "text/plain": [
       "'Ths wbst s fr lsrs LL!'"
      ]
     },
     "execution_count": 1,
     "metadata": {},
     "output_type": "execute_result"
    }
   ],
   "source": [
    "def disemvowel(string):\n",
    "    newString = ''\n",
    "    Vowels = ('a','e','i','o','u')\n",
    "    for i in string:\n",
    "        if i.lower() not in Vowels:\n",
    "            newString += i\n",
    "    string = newString\n",
    "    return string\n",
    "\n",
    "string = \"This website is for losers LOL!\"\n",
    "disemvowel(string)"
   ]
  },
  {
   "cell_type": "markdown",
   "metadata": {},
   "source": [
    "***\n",
    "## Approach 2 (Clever way, Pythonic way)\n",
    "\n",
    "### Steps:: \n",
    "\n",
    "**Lemma** Translate funtion of python ([source](https://www.geeksforgeeks.org/python-maketrans-translate-functions/))\n",
    "\n"
   ]
  },
  {
   "cell_type": "code",
   "execution_count": 9,
   "metadata": {},
   "outputs": [
    {
     "data": {
      "text/plain": [
       "'Ths wbst s fr lsrs LL!'"
      ]
     },
     "execution_count": 9,
     "metadata": {},
     "output_type": "execute_result"
    }
   ],
   "source": [
    "def disemvowel(s):\n",
    "    return s.translate(s.maketrans(dict.fromkeys(\"aeiouAEIOU\"))) #for python v2\n",
    "#     return s.translate(None, \"aeiouAEIOU\") # for python v2\n",
    "\n",
    "disemvowel(string)"
   ]
  },
  {
   "cell_type": "markdown",
   "metadata": {},
   "source": [
    "***\n",
    "# Approach 3 (In place)\n",
    "\n",
    "## Steps::\n",
    "1. Loop through the `string` \n",
    "2. If a character `i` in the `string` is in `aeiouAEIOU` replace the charcter with `\"\"`\n",
    "### Pros\n",
    "Uses constant Space complexity "
   ]
  },
  {
   "cell_type": "code",
   "execution_count": 27,
   "metadata": {},
   "outputs": [
    {
     "data": {
      "text/plain": [
       "'Ths wbst s fr lsrs LL!'"
      ]
     },
     "execution_count": 27,
     "metadata": {},
     "output_type": "execute_result"
    }
   ],
   "source": [
    "def disemvowel(string):\n",
    "    for i in string:\n",
    "        if i in 'aeiouAEIOU':\n",
    "            string = string.replace(i,\"\")\n",
    "    return string\n",
    "    \n",
    "\n",
    "disemvowel(string)\n",
    "    "
   ]
  }
 ],
 "metadata": {
  "kernelspec": {
   "display_name": "Python 3",
   "language": "python",
   "name": "python3"
  },
  "language_info": {
   "codemirror_mode": {
    "name": "ipython",
    "version": 3
   },
   "file_extension": ".py",
   "mimetype": "text/x-python",
   "name": "python",
   "nbconvert_exporter": "python",
   "pygments_lexer": "ipython3",
   "version": "3.8.3"
  }
 },
 "nbformat": 4,
 "nbformat_minor": 4
}
