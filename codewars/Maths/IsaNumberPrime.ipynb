{
 "cells": [
  {
   "cell_type": "markdown",
   "metadata": {},
   "source": [
    "#Is a number prime?\n",
    "\n",
    "[Question link](https://www.codewars.com/kata/5262119038c0985a5b00029f/train/python)\n",
    "\n",
    "Define a function that takes an integer argument and returns logical value true or false depending on if the integer is a prime.\n",
    "\n",
    "Per Wikipedia, a prime number (or a prime) is a natural number greater than 1 that has no positive divisors other than 1 and itself.\n",
    "\n",
    "## Requirements\n",
    "\n",
    "- You can assume you will be given an integer input.\n",
    "- You can not assume that the integer will be only positive. You may be given negative numbers as well (or 0).\n",
    "- NOTE on performance: There are no fancy optimizations required, but still the most trivial solutions might time out. Numbers go up to 2^31 (or similar, depends on language version). Looping all the way up to n, or n/2, will be too slow.\n",
    "\n",
    "***\n",
    "## Approach 1 (Primality test)\n",
    "[wiki source](https://en.wikipedia.org/wiki/Primality_test)<br>\n",
    "\n",
    "This is a more optimized way of checking if a number is a prime\n"
   ]
  },
  {
   "cell_type": "code",
   "execution_count": 16,
   "metadata": {},
   "outputs": [
    {
     "data": {
      "text/plain": [
       "True"
      ]
     },
     "execution_count": 16,
     "metadata": {},
     "output_type": "execute_result"
    }
   ],
   "source": [
    "import math\n",
    "def is_prime(num):\n",
    "    if num<=1:\n",
    "        return False\n",
    "    if num <= 3:\n",
    "        return True\n",
    "    \n",
    "    if num%2 == 0 or num%3==0:\n",
    "        return False\n",
    "    i = 5\n",
    "    while i**2 <= num:\n",
    "        if num%i == 0 or num%(i+2) ==0:\n",
    "            return False\n",
    "        i = i+6\n",
    "    return True\n",
    "  \n",
    "num = 11\n",
    "is_prime(num)\n"
   ]
  },
  {
   "cell_type": "markdown",
   "metadata": {},
   "source": [
    "***\n",
    "## Approach 2 (Brute force)\n",
    "\n",
    "This is a slower solution when nums is a big number\n",
    "### Steps::\n",
    "1. Loop though every number from 2 to nums-1 and if there is one that divided nums with no reminder return False else True\n",
    "\n",
    "NB This approach fails some test due to time complexity\n"
   ]
  },
  {
   "cell_type": "code",
   "execution_count": 24,
   "metadata": {},
   "outputs": [
    {
     "data": {
      "text/plain": [
       "False"
      ]
     },
     "execution_count": 24,
     "metadata": {},
     "output_type": "execute_result"
    }
   ],
   "source": [
    "def is_prime(num):\n",
    "    if num <=1:\n",
    "        return False #not prime\n",
    "    if num <= 3:\n",
    "        return True # 2 and 3 are both primes and this is checking for those two corner cases\n",
    "    \n",
    "    for i in range (2, num-1):\n",
    "        if num%i == 0: #if at any point its divisible by i \n",
    "            return False #its not a prime\n",
    "    return True\n",
    "\n",
    "num = 10\n",
    "is_prime(num)"
   ]
  },
  {
   "cell_type": "markdown",
   "metadata": {},
   "source": [
    "# Approach 3 (Trial division)\n",
    "\n",
    "[wiki source](https://en.wikipedia.org/wiki/Prime_number)\n",
    "\n",
    "A simple but slow method of checking the primality of a given number n, called trial division, tests whether n is a multiple of any integer between 2 and sqrt n.\n",
    "\n"
   ]
  },
  {
   "cell_type": "code",
   "execution_count": 34,
   "metadata": {},
   "outputs": [
    {
     "data": {
      "text/plain": [
       "True"
      ]
     },
     "execution_count": 34,
     "metadata": {},
     "output_type": "execute_result"
    }
   ],
   "source": [
    "def is_prime(num):\n",
    "    if num <=1:return False #not prime\n",
    "    if num <= 3:return True # 2 and 3 are both primes and this is checking for those two corner cases\n",
    "    if num %2\n",
    "    xx = int(math.sqrt(num))\n",
    "    \n",
    "    for i in range(2, xx, 2):\n",
    "        if num%i == 0: #if at any point its divisible by i \n",
    "            return False #its not a prime\n",
    "        \n",
    "    return True\n",
    "\n",
    "num = 6\n",
    "is_prime(num)\n",
    "    "
   ]
  },
  {
   "cell_type": "code",
   "execution_count": null,
   "metadata": {},
   "outputs": [],
   "source": []
  }
 ],
 "metadata": {
  "kernelspec": {
   "display_name": "Python 3",
   "language": "python",
   "name": "python3"
  },
  "language_info": {
   "codemirror_mode": {
    "name": "ipython",
    "version": 3
   },
   "file_extension": ".py",
   "mimetype": "text/x-python",
   "name": "python",
   "nbconvert_exporter": "python",
   "pygments_lexer": "ipython3",
   "version": "3.8.3"
  }
 },
 "nbformat": 4,
 "nbformat_minor": 4
}
