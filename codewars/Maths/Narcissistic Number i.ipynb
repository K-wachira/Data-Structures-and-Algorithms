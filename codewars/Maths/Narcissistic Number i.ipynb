{
 "cells": [
  {
   "cell_type": "markdown",
   "metadata": {},
   "source": [
    "# Narcissistic Number \n",
    "\n",
    "[Question Number](https://www.codewars.com/kata/5287e858c6b5a9678200083c/train/python)\n",
    "\n",
    "Does my number look big in this?\n",
    "\n",
    "A Narcissistic Number is a positive number which is the sum of its own digits, each raised to the power of the number of digits in a given base. In this Kata, we will restrict ourselves to decimal (base 10).\n",
    "\n",
    "For example, take 153 (3 digits):\n",
    "\n",
    "        `1^3 + 5^3 + 3^3 = 1 + 125 + 27 = 153`\n",
    "        \n",
    "and 1634 (4 digits):\n",
    "\n",
    "        1^4 + 6^4 + 3^4 + 4^4 = 1 + 1296 + 81 + 256 = 1634\n",
    "        \n",
    "   \n",
    "   \n",
    "The Challenge:\n",
    "    \n",
    "    Your code must return true or false depending upon whether the given number is a Narcissistic number in base 10.\n",
    "\n",
    "    Error checking for text strings or other invalid inputs is not required, only valid positive non-zero integers will be passed into the function. \n",
    "    \n",
    "    \n",
    "*** \n",
    "\n",
    "## Approach 1(iterative approach)\n",
    "\n",
    "### Steps::\n",
    "\n",
    "1. Get the length of the given value (to be used as the  power)\n",
    "2. loop though value (I for each char in value) and add I to its power on the current sumx\n",
    "3. return True if sumx == value else False"
   ]
  },
  {
   "cell_type": "code",
   "execution_count": 5,
   "metadata": {},
   "outputs": [
    {
     "data": {
      "text/plain": [
       "False"
      ]
     },
     "execution_count": 5,
     "metadata": {},
     "output_type": "execute_result"
    }
   ],
   "source": [
    "def narcissistic( value ):\n",
    "    # Code away\n",
    "    #return bool\n",
    "    \n",
    "    pow = len(str(value))\n",
    "    \n",
    "    sumx = 0\n",
    "    \n",
    "    for i in str(value):\n",
    "        sumx += int(i)**pow\n",
    "        \n",
    "    return sumx == value\n",
    "\n",
    "\n",
    "narcissistic(15247423894723087583215724652170583278237585723568746217561976327564275631726473265732657465732657637593218756732671365726357123679123652873659328657951632756325873265273652387562873657326587721985732987528375832748324 )"
   ]
  },
  {
   "cell_type": "markdown",
   "metadata": {},
   "source": [
    "## Approach 2 (one liner)\n",
    "\n"
   ]
  },
  {
   "cell_type": "code",
   "execution_count": 6,
   "metadata": {},
   "outputs": [],
   "source": [
    "def narcissistic(value):\n",
    "    return bool(value==sum([int(a) ** len(str(value)) for a in str(value)]))"
   ]
  },
  {
   "cell_type": "code",
   "execution_count": null,
   "metadata": {},
   "outputs": [],
   "source": []
  }
 ],
 "metadata": {
  "kernelspec": {
   "display_name": "Python 3",
   "language": "python",
   "name": "python3"
  },
  "language_info": {
   "codemirror_mode": {
    "name": "ipython",
    "version": 3
   },
   "file_extension": ".py",
   "mimetype": "text/x-python",
   "name": "python",
   "nbconvert_exporter": "python",
   "pygments_lexer": "ipython3",
   "version": "3.8.3"
  }
 },
 "nbformat": 4,
 "nbformat_minor": 4
}
