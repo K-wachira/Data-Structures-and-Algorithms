{
 "cells": [
  {
   "cell_type": "markdown",
   "metadata": {},
   "source": [
    "# Enough is enough!\n",
    "\n",
    "Alice and Bob were on a holiday. Both of them took many pictures of the places they've been, and now they want to show Charlie their entire collection. However, Charlie doesn't like these sessions, since the motive usually repeats. He isn't fond of seeing the Eiffel tower 40 times. He tells them that he will only sit during the session if they show the same motive at most N times. Luckily, Alice and Bob are able to encode the motive as a number. Can you help them to remove numbers such that their list contains each number only up to N times, without changing the order?\n",
    "\n",
    "Task\n",
    "Given a list lst and a number N, create a new list that contains each number of lst at most N times without reordering. For example if N = 2, and the input is [1,2,3,1,2,1,2,3], you take [1,2,3,1,2], drop the next [1,2] since this would lead to 1 and 2 being in the result 3 times, and then take 3, which leads to [1,2,3,1,2,3].\n",
    "\n",
    "\n",
    "Example\n",
    "  delete_nth ([1,1,1,1],2) # return [1,1]\n",
    "  \n",
    "  delete_nth ([20,37,20,21],1) # return [20,37,21]\n",
    "\n"
   ]
  },
  {
   "cell_type": "markdown",
   "metadata": {},
   "source": [
    "## Solution 1\n",
    "```\n",
    "Time complexity  O(n) where n is the len of the input array\n",
    "Space complexity O(n+m) where n is the len of the out array and m is the size of the dictionary\n",
    "```"
   ]
  },
  {
   "cell_type": "code",
   "execution_count": 38,
   "metadata": {},
   "outputs": [
    {
     "data": {
      "text/plain": [
       "[1, 1, 3, 3, 3, 7, 2, 2, 2]"
      ]
     },
     "execution_count": 38,
     "metadata": {},
     "output_type": "execute_result"
    }
   ],
   "source": [
    "def delete_nth(order,max_e):\n",
    "    # code here\n",
    "    f = {}\n",
    "    out= []\n",
    "    \n",
    "    for i in order:\n",
    "        if i in f:\n",
    "            if f[i] < max_e:\n",
    "                out.append(i)\n",
    "                f[i] = f[i]+1\n",
    "        elif i not in f:\n",
    "            f[i] = 1 \n",
    "            out.append(i)\n",
    "\n",
    "    return out \n",
    "\n",
    "\n",
    "# delete_nth([20,37,20,21], 1) \n",
    "delete_nth([1,1,3,3,3,7,2,2,2,2], 3)\n",
    "            \n",
    "        "
   ]
  },
  {
   "cell_type": "markdown",
   "metadata": {},
   "source": [
    "## Solution 2\n",
    "\n",
    "```\n",
    "Time complexity  O(n) where n is the len of the input array\n",
    "Space complexity O(n+m) where n is the len of the out array and m is the size of the dictionary\n",
    "```"
   ]
  },
  {
   "cell_type": "code",
   "execution_count": 15,
   "metadata": {},
   "outputs": [
    {
     "data": {
      "text/plain": [
       "[1, 1, 3, 3, 7, 2, 2]"
      ]
     },
     "execution_count": 15,
     "metadata": {},
     "output_type": "execute_result"
    }
   ],
   "source": [
    "from collections import defaultdict\n",
    "\n",
    "def delete_nth(order,max_e):\n",
    "    f = defaultdict(int)\n",
    "    out = []\n",
    "    for i in order:\n",
    "        f[i]+=1\n",
    "        if f[i] < max_e:\n",
    "            out.append(i)\n",
    "    return out\n",
    "\n",
    "delete_nth([1,1,3,3,7,2,2,2,2], 3)\n",
    "\n",
    "\n",
    "    "
   ]
  },
  {
   "cell_type": "code",
   "execution_count": 37,
   "metadata": {},
   "outputs": [
    {
     "name": "stdout",
     "output_type": "stream",
     "text": [
      "True\n",
      "True\n",
      "True\n",
      "True\n",
      "True\n",
      "False\n",
      "[1, 1, 3, 3, 3, 7, 2, 2, 2]\n"
     ]
    }
   ],
   "source": [
    "from collections import Counter\n",
    "\n",
    "\n",
    "def g():\n",
    "    array = [1,1,3,3,3,7,2,2,2,2]\n",
    "    max_e = 3\n",
    "    dicti = {}\n",
    "    out = []\n",
    "\n",
    "\n",
    "    for i in array:\n",
    "\n",
    "        if  i in dicti:\n",
    "            print(dicti[i]  < max_e)\n",
    "            if dicti[i]  < max_e:\n",
    "    #             print(dicti)\n",
    "                out.append(i)\n",
    "                dicti[i] = dicti[i]+1\n",
    "            else: \n",
    "                pass\n",
    "        elif i not in dicti:\n",
    "            dicti[i] = 1 \n",
    "            out.append(i)\n",
    "    print(out)\n",
    "\n",
    "g()"
   ]
  },
  {
   "cell_type": "code",
   "execution_count": 35,
   "metadata": {},
   "outputs": [
    {
     "name": "stdout",
     "output_type": "stream",
     "text": [
      "[1, 1, 3, 3, 7, 2, 2]\n"
     ]
    }
   ],
   "source": [
    "array = [1,1,3,3,3,7,2,2,2,2]\n",
    "max_e = 3\n",
    "out = []\n",
    "\n",
    "\n",
    "for i in array:\n",
    "    if out.count(i) < max_e-1: \n",
    "        out.append(i)\n",
    "print(out)\n",
    "\n",
    "\n",
    "\n",
    "\n",
    "\n"
   ]
  },
  {
   "cell_type": "code",
   "execution_count": null,
   "metadata": {},
   "outputs": [],
   "source": []
  }
 ],
 "metadata": {
  "kernelspec": {
   "display_name": "Python 3",
   "language": "python",
   "name": "python3"
  },
  "language_info": {
   "codemirror_mode": {
    "name": "ipython",
    "version": 3
   },
   "file_extension": ".py",
   "mimetype": "text/x-python",
   "name": "python",
   "nbconvert_exporter": "python",
   "pygments_lexer": "ipython3",
   "version": "3.8.5"
  }
 },
 "nbformat": 4,
 "nbformat_minor": 4
}
