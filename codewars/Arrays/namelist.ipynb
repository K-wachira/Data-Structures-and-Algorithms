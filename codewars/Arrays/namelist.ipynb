{
 "cells": [
  {
   "cell_type": "markdown",
   "metadata": {},
   "source": [
    "# Format a string of names like 'Bart, Lisa & Maggie'.\n",
    "\n",
    "[Question Link](https://www.codewars.com/kata/53368a47e38700bd8300030d/python)\n",
    "\n",
    "Given: an array containing hashes of names\n",
    "\n",
    "Return: a string formatted as a list of names separated by commas except for the last two names, which should be separated by an ampersand.\n",
    "\n",
    "Example:\n",
    "\n",
    "    namelist([ {'name': 'Bart'}, {'name': 'Lisa'}, {'name': 'Maggie'} ])\n",
    "    # returns 'Bart, Lisa & Maggie'\n",
    "\n",
    "    namelist([ {'name': 'Bart'}, {'name': 'Lisa'} ])\n",
    "    # returns 'Bart & Lisa'\n",
    "\n",
    "    namelist([ {'name': 'Bart'} ])\n",
    "    # returns 'Bart'\n",
    "\n",
    "    namelist([])\n",
    "    # returns ''\n",
    "    \n",
    "    \n",
    "## Approach 1 (iterative)\n",
    "\n",
    "### Steps::\n",
    "\n",
    "1. loop though every hash and take conc its ',' and its value to a string ans\n",
    "2. When we are on the last element instead of concits ',' do a & and then the value\n",
    "3. return the Ans"
   ]
  },
  {
   "cell_type": "code",
   "execution_count": 20,
   "metadata": {},
   "outputs": [
    {
     "data": {
      "text/plain": [
       "'Bart & Lisa'"
      ]
     },
     "execution_count": 20,
     "metadata": {},
     "output_type": "execute_result"
    }
   ],
   "source": [
    "def namelist(names):\n",
    "    #your code here\n",
    "    ans = ''\n",
    "    for i in range(len(names)):\n",
    "        if i == 0:\n",
    "            for v in names[i].values():\n",
    "                ans += v\n",
    "        elif i == len(names) -1:\n",
    "            for v in names[i].values():\n",
    "                ans +=  ' & '+ v\n",
    "        else:\n",
    "            for v in names[i].values():\n",
    "                ans += ', ' + v\n",
    "    return ans\n",
    "            \n",
    "    \n",
    "\n",
    "    \n",
    "names = [ {'name': 'Bart'}, {'name': 'Lisa'} ]\n",
    "namelist(names)   \n"
   ]
  },
  {
   "cell_type": "markdown",
   "metadata": {},
   "source": [
    "## Approach 2 (Cleaner)"
   ]
  },
  {
   "cell_type": "code",
   "execution_count": 29,
   "metadata": {},
   "outputs": [
    {
     "data": {
      "text/plain": [
       "'Bart & Lisa'"
      ]
     },
     "execution_count": 29,
     "metadata": {},
     "output_type": "execute_result"
    }
   ],
   "source": [
    "def namelist(names):\n",
    "    #your code here\n",
    "    ans = ''\n",
    "    actual_names = []\n",
    "    \n",
    "    for i in range(len(names)):\n",
    "            actual_names.append(names[i]['name'])\n",
    "    for i, n in enumerate(actual_names):\n",
    "        if i == 0:\n",
    "            ans += n\n",
    "        elif i == len(actual_names)-1:\n",
    "            ans += ' & ' + n\n",
    "        else:\n",
    "            ans += ', ' + n\n",
    "            \n",
    "    return ans\n",
    "\n",
    "names = [ {'name': 'Bart'}, {'name': 'Lisa'} ]\n",
    "namelist(names)     "
   ]
  },
  {
   "cell_type": "code",
   "execution_count": 37,
   "metadata": {},
   "outputs": [
    {
     "data": {
      "text/plain": [
       "'Bart, Lisa & Klevin'"
      ]
     },
     "execution_count": 37,
     "metadata": {},
     "output_type": "execute_result"
    }
   ],
   "source": [
    "def namelist(names):\n",
    "    if len(names) > 1:\n",
    "        return '{} & {}'.format(', '.join(name['name'] for name in names[:-1]),names[-1]['name'])\n",
    "    elif names:\n",
    "        return names[0]['name']\n",
    "    else:\n",
    "        return ''\n",
    "names = [ {'name': 'Bart'}, {'name': 'Lisa'},{'name': 'Klevin'} ]\n",
    "namelist(names)"
   ]
  },
  {
   "cell_type": "code",
   "execution_count": 26,
   "metadata": {},
   "outputs": [],
   "source": [
    "def namelist(names):\n",
    "      return \", \".join([name[\"name\"] for name in names])[::-1].replace(\",\", \"& \",1)[::-1]"
   ]
  }
 ],
 "metadata": {
  "kernelspec": {
   "display_name": "Python 3",
   "language": "python",
   "name": "python3"
  },
  "language_info": {
   "codemirror_mode": {
    "name": "ipython",
    "version": 3
   },
   "file_extension": ".py",
   "mimetype": "text/x-python",
   "name": "python",
   "nbconvert_exporter": "python",
   "pygments_lexer": "ipython3",
   "version": "3.8.3"
  }
 },
 "nbformat": 4,
 "nbformat_minor": 4
}
