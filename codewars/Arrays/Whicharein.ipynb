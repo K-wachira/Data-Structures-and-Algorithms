{
 "cells": [
  {
   "cell_type": "markdown",
   "metadata": {},
   "source": [
    "# Which are in?\n",
    "\n",
    "[Question Link](https://www.codewars.com/kata/550554fd08b86f84fe000a58/train/python)\n",
    "\n",
    "Given two arrays of strings a1 and a2 return a sorted array r in lexicographical order of the strings of a1 which are substrings of strings of a2.\n",
    "\n",
    "#Example 1:<br> \n",
    "`a1 = [\"arp\", \"live\", \"strong\"]`\n",
    "\n",
    "`a2 = [\"lively\", \"alive\", \"harp\", \"sharp\", \"armstrong\"]`\n",
    "\n",
    "returns \n",
    "\n",
    "`[\"arp\", \"live\", \"strong\"]`\n",
    "\n",
    "#Example 2: \n",
    "\n",
    "`a1 = [\"tarp\", \"mice\", \"bull\"]`\n",
    "\n",
    "`a2 = [\"lively\", \"alive\", \"harp\", \"sharp\", \"armstrong\"]`\n",
    "\n",
    "`returns []`\n",
    "\n",
    "\n",
    "Notes:\n",
    "\n",
    "    - Arrays are written in \"general\" notation. See \"Your Test Cases\" for examples in your language.\n",
    "\n",
    "    - In Shell bash a1 and a2 are strings. The return is a string where words are separated by commas.\n",
    "\n",
    "    - Beware: r must be without duplicates.\n",
    "    \n",
    "    - Don't mutate the inputs.\n",
    "\n",
    "## Approach 1 (Brute Force)\n",
    "### Steps\n",
    "\n",
    "1. Loop though array1 with `i`\n",
    "2. For every `i` loop through array2 with `z`\n",
    "3. If i in `z` add i to a set \n",
    "4. Convert the set to a list and in a sorted way\n",
    "5. return the sorted\n",
    "\n",
    "    \n"
   ]
  },
  {
   "cell_type": "code",
   "execution_count": 12,
   "metadata": {},
   "outputs": [
    {
     "data": {
      "text/plain": [
       "[]"
      ]
     },
     "execution_count": 12,
     "metadata": {},
     "output_type": "execute_result"
    }
   ],
   "source": [
    "def in_array(array1, array2):\n",
    "    StringsIn = set() \n",
    "    for i in array1:\n",
    "        for z in array2:\n",
    "            if i in z:\n",
    "                StringsIn.add(i)\n",
    "    returnList = list(StringsIn)\n",
    "    returnList.sort()\n",
    "    return returnList\n",
    "\n",
    "a1 = [\"tarp\", \"mice\", \"bull\"]\n",
    "a2 = [\"lively\", \"alive\", \"harp\", \"sharp\", \"armstrong\"]\n",
    "in_array(a1, a2)"
   ]
  },
  {
   "cell_type": "code",
   "execution_count": null,
   "metadata": {},
   "outputs": [],
   "source": []
  }
 ],
 "metadata": {
  "kernelspec": {
   "display_name": "Python 3",
   "language": "python",
   "name": "python3"
  },
  "language_info": {
   "codemirror_mode": {
    "name": "ipython",
    "version": 3
   },
   "file_extension": ".py",
   "mimetype": "text/x-python",
   "name": "python",
   "nbconvert_exporter": "python",
   "pygments_lexer": "ipython3",
   "version": "3.8.3"
  }
 },
 "nbformat": 4,
 "nbformat_minor": 4
}
