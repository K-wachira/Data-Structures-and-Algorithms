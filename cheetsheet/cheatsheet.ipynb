{
 "cells": [
  {
   "cell_type": "code",
   "execution_count": 2,
   "metadata": {},
   "outputs": [
    {
     "name": "stdout",
     "output_type": "stream",
     "text": [
      "{'a': 1, 'b': 2, 'c': 3, 'd': 4, 'e': 5, 'f': 6, 'g': 7, 'h': 8, 'i': 9, 'j': 0}\n",
      "{'a': 1, 'b': 2, 'c': 3, 'd': 4, 'e': 5, 'f': 6, 'g': 7, 'h': 8, 'i': 9, 'j': 0}\n"
     ]
    }
   ],
   "source": [
    "# converting two lists onto a dictionary \n",
    "\n",
    "list1= [\"a\",\"b\",\"c\",\"d\",\"e\",\"f\",\"g\",\"h\",\"i\",\"j\"] #will be used as key\n",
    "list2 =[1,2,3,4,5,6,7,8,9,0]                     #will be used as value\n",
    "list3 =[3,4,5,6,7,8,9,4,2,3]\n",
    "\n",
    "dict1 =dict(zip(list1,list2))\n",
    "\n",
    "dict2 = {list1[i]:list2[i] for i in range(0,len(list2))}\n",
    "\n",
    "print(dict1)\n",
    "print(dict2)"
   ]
  },
  {
   "cell_type": "code",
   "execution_count": 1,
   "metadata": {},
   "outputs": [
    {
     "name": "stdout",
     "output_type": "stream",
     "text": [
      "[4, 6, 8, 10, 12, 14, 16, 12, 11, 3]\n"
     ]
    }
   ],
   "source": [
    "# one liner\n",
    "# create a list and store data in it \n",
    "\n",
    "list2 =[1,2,3,4,5,6,7,8,9,0]                     #will be used as value\n",
    "list3 =[3,4,5,6,7,8,9,4,2,3]\n",
    "\n",
    "# [whatistobesorered loop and range if condition]\n",
    "\n",
    "\n",
    "list4 =[ list2[i]+ list3[i]  for i in range(0,len(list2))    if list2[i]> list3[i] ]\n",
    "\n",
    "print(list4)"
   ]
  },
  {
   "cell_type": "code",
   "execution_count": 19,
   "metadata": {},
   "outputs": [
    {
     "name": "stdout",
     "output_type": "stream",
     "text": [
      "{1: 7, 2: 6, 3: 2, 4: 2, 5: 1}\n"
     ]
    }
   ],
   "source": [
    "# dictionary from a list  key is item  value is how many times it happens \n",
    "\n",
    "list= [1,1,2,3,4,1,2,4,5,2,1,2,1,2,1,3,1,2]\n",
    "count_dict ={}\n",
    "\n",
    "for key in list:\n",
    "    if key in count_dict:\n",
    "        count_dict[key] += 1\n",
    "    else:\n",
    "        count_dict[key] = 1\n",
    "        \n",
    "print(count_dict)"
   ]
  },
  {
   "cell_type": "code",
   "execution_count": 21,
   "metadata": {},
   "outputs": [
    {
     "name": "stdout",
     "output_type": "stream",
     "text": [
      "[[1, 7], [2, 6], [3, 2], [4, 2], [5, 1]]\n"
     ]
    }
   ],
   "source": [
    "# convert a dict into a nested list\n",
    "\n",
    "count_dict = {1: 7, 2: 6, 3: 2, 4: 2, 5: 1}\n",
    "\n",
    "new_list = [[key,count_dict[key]] for key in count_dict ]\n",
    "\n",
    "print(new_list)"
   ]
  },
  {
   "cell_type": "code",
   "execution_count": 25,
   "metadata": {},
   "outputs": [
    {
     "name": "stdout",
     "output_type": "stream",
     "text": [
      "[[1, 7], [2, 6], [3, 2], [4, 2], [5, 1]]\n",
      "[[5, 1], [3, 2], [4, 2], [2, 6], [1, 7]]\n"
     ]
    }
   ],
   "source": [
    "# Sorting a nested list \n",
    "\n",
    "nested_list =[[1, 7], [2, 6], [3, 2], [4, 2], [5, 1]]\n",
    "\n",
    "\n",
    "sortedlist = sorted(nested_list, key = lambda x:  ( x[1], x[0] ))\n",
    "\n",
    "\n",
    "\n",
    "\n",
    "print(nested_list)\n",
    "print(sortedlist)"
   ]
  },
  {
   "cell_type": "code",
   "execution_count": 1,
   "metadata": {},
   "outputs": [],
   "source": [
    "# all possible combination \n",
    "import itertools\n",
    "\n",
    "def countPalindromes(s):\n",
    "    counter  = 0 \n",
    "    slist= []\n",
    "    for i in s:\n",
    "        slist.append(i)\n",
    "    motherlist =[]\n",
    "    for L in range(0, len(slist)+1):\n",
    "        for subset in itertools.combinations(slist, L):\n",
    "            motherlist.append(list(subset))\n",
    "    print(motherlist)"
   ]
  },
  {
   "cell_type": "code",
   "execution_count": 4,
   "metadata": {},
   "outputs": [
    {
     "name": "stdout",
     "output_type": "stream",
     "text": [
      "[]\n"
     ]
    }
   ],
   "source": [
    "# convert input to list\n",
    "\n",
    "crimefile = open('letters.txt', 'r')\n",
    "yourResult = [line.split(',') for line in crimefile.readlines()]\n",
    "ids = []\n",
    "for i in yourResult:\n",
    "    for j in i:\n",
    "        ids.append(j[0:len(j) - 1])\n",
    "        \n",
    "print(ids)\n"
   ]
  },
  {
   "cell_type": "code",
   "execution_count": 4,
   "metadata": {},
   "outputs": [
    {
     "name": "stdout",
     "output_type": "stream",
     "text": [
      "0\n"
     ]
    }
   ],
   "source": [
    "from collections import defaultdict\n",
    "\n",
    "\n",
    "dict= {}\n",
    "dict = defaultdict(int)\n",
    "print(dict[0])"
   ]
  },
  {
   "cell_type": "code",
   "execution_count": null,
   "metadata": {},
   "outputs": [],
   "source": [
    "S = \"abppplee\"\n",
    "\n",
    "\"\"\"Get the index of every number in S and plot it in a dictionary \"\"\"\n",
    "for key in slist:\n",
    "    if key not in letterindex.keys():\n",
    "        letterindex[key] = []\n",
    "        letterindex[key].append(slist.index(key))\n",
    "        slist[slist.index(key)] =0\n",
    "    else:\n",
    "        letterindex[key].append(slist.index(key))\n",
    "        slist[slist.index(key)] =0\n",
    "        \n",
    "        \n",
    "        \n",
    "#     letter_positions = collections.defaultdict(list)\n",
    "#     for index, letter in enumerate(S):\n",
    "#         letter_positions[letter].append(index)\n",
    "        \n",
    "# a -> [0]\n",
    "# b -> [1]\n",
    "# p -> [2, 3, 4]\n",
    "# l -> [5]\n",
    "# e -> [6, 7]"
   ]
  },
  {
   "cell_type": "code",
   "execution_count": 21,
   "metadata": {},
   "outputs": [
    {
     "name": "stdout",
     "output_type": "stream",
     "text": [
      "a 0\n",
      "b 1\n",
      "p 2\n",
      "p 3\n",
      "p 4\n",
      "l 5\n",
      "e 6\n",
      "e 7\n",
      "defaultdict(<class 'list'>, {'a': [0], 'b': [1], 'p': [2, 3, 4], 'l': [5], 'e': [6, 7]})\n"
     ]
    }
   ],
   "source": [
    "from collections import defaultdict\n",
    "\n",
    "S = \"abppplee\"\n",
    "dic =defaultdict(list)\n",
    "for index, letter in enumerate(S):\n",
    "    print(letter, index)\n",
    "    dic[letter].append(index)\n",
    "print(dic)"
   ]
  },
  {
   "cell_type": "code",
   "execution_count": null,
   "metadata": {},
   "outputs": [],
   "source": []
  },
  {
   "cell_type": "code",
   "execution_count": null,
   "metadata": {},
   "outputs": [],
   "source": []
  },
  {
   "cell_type": "code",
   "execution_count": null,
   "metadata": {},
   "outputs": [],
   "source": []
  }
 ],
 "metadata": {
  "kernelspec": {
   "display_name": "Python 3",
   "language": "python",
   "name": "python3"
  },
  "language_info": {
   "codemirror_mode": {
    "name": "ipython",
    "version": 3
   },
   "file_extension": ".py",
   "mimetype": "text/x-python",
   "name": "python",
   "nbconvert_exporter": "python",
   "pygments_lexer": "ipython3",
   "version": "3.8.5"
  }
 },
 "nbformat": 4,
 "nbformat_minor": 4
}
