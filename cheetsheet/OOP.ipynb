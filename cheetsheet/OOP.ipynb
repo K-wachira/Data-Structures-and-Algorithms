{
 "cells": [
  {
   "cell_type": "markdown",
   "metadata": {},
   "source": [
    "# OOP\n",
    "\n",
    "\n",
    "### speial dunderscore methods"
   ]
  },
  {
   "cell_type": "code",
   "execution_count": 13,
   "metadata": {},
   "outputs": [
    {
     "name": "stdout",
     "output_type": "stream",
     "text": [
      "0 is x and 0 is y \n",
      "(-10, -10)\n",
      "(10, 10)\n",
      "5.0 is x and 5.0 is y \n"
     ]
    }
   ],
   "source": [
    "class Point:\n",
    "    def __init__(self, x, y):\n",
    "        self.x = x\n",
    "        self.y = y \n",
    "        \n",
    "    def __add__(self, q):\n",
    "        return ((self.x + q.x ), self.y + q.y)\n",
    "    \n",
    "    def __sub__(self, q):\n",
    "            return ((self.x - q.x ), self.y - q.y)\n",
    "        \n",
    "    def halfway(self, q):\n",
    "        return Point((self.x + q.x )/2, (self.y + q.y)/2)\n",
    "\n",
    "    def __str__(self):\n",
    "        return \"{} is x and {} is y \".format(self.x, self.y)\n",
    "    \n",
    "p1 = Point(0,0)\n",
    "print(p1)\n",
    "p2 = Point(10,10)\n",
    "print(p1-p2)\n",
    "print(p1+p2)\n",
    "half = p1.halfway(p2)\n",
    "print(half)"
   ]
  },
  {
   "cell_type": "markdown",
   "metadata": {},
   "source": [
    "# Class inheritance "
   ]
  },
  {
   "cell_type": "code",
   "execution_count": 17,
   "metadata": {},
   "outputs": [
    {
     "name": "stdout",
     "output_type": "stream",
     "text": [
      "Alice age is 24\n",
      "1\n"
     ]
    }
   ],
   "source": [
    "CURRENT_YEAR  = 2021\n",
    "class Person:\n",
    "    def __init__(self, name, year_born):\n",
    "        self.name = name\n",
    "        self.year_born = year_born\n",
    "        \n",
    "        \n",
    "    def getAge(self):\n",
    "        return CURRENT_YEAR - self.year_born \n",
    "    \n",
    "    def __str__(self):\n",
    "        return \"{} age is {}\".format(self.name, self.getAge())\n",
    "    \n",
    "    \n",
    "    \n",
    "class Student(Person):\n",
    "    def __init__(self, name, year_born):\n",
    "        Person.__init__(self, name, year_born)\n",
    "        self.knowledge = 0\n",
    "        \n",
    "    def study(self):\n",
    "        self.knowledge +=1\n",
    "        return self.knowledge\n",
    "    \n",
    "Alice = Student(\"Alice\", 1997)\n",
    "print(Alice)\n",
    "Alice.study()\n",
    "print(Alice.knowledge)"
   ]
  },
  {
   "cell_type": "markdown",
   "metadata": {},
   "source": [
    "# Override"
   ]
  },
  {
   "cell_type": "code",
   "execution_count": 25,
   "metadata": {},
   "outputs": [
    {
     "name": "stdout",
     "output_type": "stream",
     "text": [
      "2\n",
      "500\n"
     ]
    }
   ],
   "source": [
    "class Book:\n",
    "    def __init__(self, title, author):\n",
    "        self.title = title\n",
    "        self.author = author\n",
    "    \n",
    "    def __str__(self):\n",
    "        return \"'{}' by {}\".format(self.title, self.author)\n",
    "    \n",
    "    \n",
    "class Ebook(Book):\n",
    "    def __init__(self, title, author, size):\n",
    "        Book.__init__(self, title, author)\n",
    "        self.size = size\n",
    "        \n",
    "    \n",
    "class Paperbook(Book):\n",
    "    def __init__(self, title, author, pages):\n",
    "        Book.__init__(self, title, author)\n",
    "        self.pages = pages\n",
    "        \n",
    "        \n",
    "    \n",
    "ebook = Ebook(\"Enders Game\", \"Jupyter\", 2)\n",
    "print(ebook.size)\n",
    "pbook = Paperbook(\"Enders Game\", \"Jupyter\", 500)\n",
    "\n",
    "print(pbook.pages)\n"
   ]
  },
  {
   "cell_type": "code",
   "execution_count": 26,
   "metadata": {},
   "outputs": [
    {
     "name": "stdout",
     "output_type": "stream",
     "text": [
      "[1, 2, 3, 4, 5, 6, 7]\n"
     ]
    }
   ],
   "source": [
    "lists = [1,2,3,4,5,6,7]\n",
    "lait = lists[:]\n",
    "print(lait)"
   ]
  },
  {
   "cell_type": "code",
   "execution_count": 32,
   "metadata": {},
   "outputs": [
    {
     "data": {
      "text/plain": [
       "14.5"
      ]
     },
     "execution_count": 32,
     "metadata": {},
     "output_type": "execute_result"
    }
   ],
   "source": [
    "l = [20, 9]\n",
    "x = sum(l)/len(l)\n",
    "x"
   ]
  },
  {
   "cell_type": "code",
   "execution_count": null,
   "metadata": {},
   "outputs": [],
   "source": []
  }
 ],
 "metadata": {
  "kernelspec": {
   "display_name": "Python 3",
   "language": "python",
   "name": "python3"
  },
  "language_info": {
   "codemirror_mode": {
    "name": "ipython",
    "version": 3
   },
   "file_extension": ".py",
   "mimetype": "text/x-python",
   "name": "python",
   "nbconvert_exporter": "python",
   "pygments_lexer": "ipython3",
   "version": "3.8.3"
  }
 },
 "nbformat": 4,
 "nbformat_minor": 4
}
