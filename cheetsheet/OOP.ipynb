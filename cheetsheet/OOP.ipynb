{
 "cells": [
  {
   "cell_type": "markdown",
   "metadata": {},
   "source": [
    "# OOP\n",
    "\n",
    "\n",
    "### speial dunderscore methods"
   ]
  },
  {
   "cell_type": "code",
   "execution_count": 13,
   "metadata": {},
   "outputs": [
    {
     "name": "stdout",
     "output_type": "stream",
     "text": [
      "0 is x and 0 is y \n",
      "(-10, -10)\n",
      "(10, 10)\n",
      "5.0 is x and 5.0 is y \n"
     ]
    }
   ],
   "source": [
    "class Point:\n",
    "    def __init__(self, x, y):\n",
    "        self.x = x\n",
    "        self.y = y \n",
    "        \n",
    "    def __add__(self, q):\n",
    "        return ((self.x + q.x ), self.y + q.y)\n",
    "    \n",
    "    def __sub__(self, q):\n",
    "            return ((self.x - q.x ), self.y - q.y)\n",
    "        \n",
    "    def halfway(self, q):\n",
    "        return Point((self.x + q.x )/2, (self.y + q.y)/2)\n",
    "\n",
    "    def __str__(self):\n",
    "        return \"{} is x and {} is y \".format(self.x, self.y)\n",
    "    \n",
    "p1 = Point(0,0)\n",
    "print(p1)\n",
    "p2 = Point(10,10)\n",
    "print(p1-p2)\n",
    "print(p1+p2)\n",
    "half = p1.halfway(p2)\n",
    "print(half)"
   ]
  },
  {
   "cell_type": "code",
   "execution_count": null,
   "metadata": {},
   "outputs": [],
   "source": []
  }
 ],
 "metadata": {
  "kernelspec": {
   "display_name": "Python 3",
   "language": "python",
   "name": "python3"
  },
  "language_info": {
   "codemirror_mode": {
    "name": "ipython",
    "version": 3
   },
   "file_extension": ".py",
   "mimetype": "text/x-python",
   "name": "python",
   "nbconvert_exporter": "python",
   "pygments_lexer": "ipython3",
   "version": "3.8.3"
  }
 },
 "nbformat": 4,
 "nbformat_minor": 4
}
