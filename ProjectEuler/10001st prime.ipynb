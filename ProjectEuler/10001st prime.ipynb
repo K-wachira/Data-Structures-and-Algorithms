{
 "cells": [
  {
   "cell_type": "markdown",
   "metadata": {},
   "source": [
    "# 10001st prime\n",
    "\n",
    "[Question Link](https://projecteuler.net/problem=7)\n",
    "\n",
    "\n",
    "By listing the first six prime numbers: 2, 3, 5, 7, 11, and 13, we can see that the 6th prime is 13.\n",
    "\n",
    "What is the 10 001st prime number?\n",
    "\n",
    "\n"
   ]
  },
  {
   "cell_type": "code",
   "execution_count": 44,
   "metadata": {},
   "outputs": [
    {
     "name": "stdout",
     "output_type": "stream",
     "text": [
      "17983\n",
      "104743\n"
     ]
    }
   ],
   "source": [
    "def prime(n):\n",
    "    j = 10001\n",
    "    z = []\n",
    "    for i in range(0, n+n):\n",
    "        if i > 1:\n",
    "            for x in range ( 2 , i//2 + 2):\n",
    "                if i% x == 0:\n",
    "                    break\n",
    "                else:\n",
    "                    if x == i//2 + 1:\n",
    "                        z.append(i)\n",
    "    print(z[j-2]) \n",
    "n= 100000\n",
    "prime(n)"
   ]
  },
  {
   "cell_type": "markdown",
   "metadata": {},
   "source": [
    "# Arpproach 2\n",
    "[source](https://codereview.stackexchange.com/a/102532)\n",
    "\n",
    "Sometimes, when your code is very slow, you just need a new algorithm. SuperBiasedMan's solution makes many good improvements on your code (taking it from 12.4s on my box -- after removing the unnecessary prints -- to just 5.4s). But we can do better. The issue is, we're still checking every odd number in a row and basically learning nothing from all our previous work. The Sieve of Eratosthenes is a very fast algorithm for computing a large number of primes. The idea is simple: we start with all numbers initially as prime candidates, and we iterate through them. If we find a number still marked prime, we mark all of its multiples as not prime. Repeat until done.\n",
    "\n",
    "The only issue is that we need to store things in memory. For 10,000 primes though, that's not so bad. There's a well known estimate for the number of primes: p_n ~ n log(n). It's a very good estimate such that the ratio is pretty close to 1, so we can start with twice as much memory for good measure:"
   ]
  },
  {
   "cell_type": "code",
   "execution_count": 45,
   "metadata": {},
   "outputs": [
    {
     "data": {
      "text/plain": [
       "104743"
      ]
     },
     "execution_count": 45,
     "metadata": {},
     "output_type": "execute_result"
    }
   ],
   "source": [
    "import math\n",
    "def primes_sieve(n):\n",
    "    p_n = int(2 * n * math.log(n))       # over-estimate p_n\n",
    "    sieve = [True] * p_n                 # everything is prime to start\n",
    "    count = 0\n",
    "    for i in range(2, p_n):\n",
    "        if sieve[i]:                       # still prime?\n",
    "            count += 1                     # count it!\n",
    "            if count == n:                 # done!\n",
    "                return i\n",
    "            for j in range(2*i, p_n, i):   # cross off all multiples of i\n",
    "                sieve[j] = False\n",
    "n= 10001\n",
    "primes_sieve(n)"
   ]
  }
 ],
 "metadata": {
  "kernelspec": {
   "display_name": "Python 3",
   "language": "python",
   "name": "python3"
  },
  "language_info": {
   "codemirror_mode": {
    "name": "ipython",
    "version": 3
   },
   "file_extension": ".py",
   "mimetype": "text/x-python",
   "name": "python",
   "nbconvert_exporter": "python",
   "pygments_lexer": "ipython3",
   "version": "3.8.3"
  }
 },
 "nbformat": 4,
 "nbformat_minor": 4
}
