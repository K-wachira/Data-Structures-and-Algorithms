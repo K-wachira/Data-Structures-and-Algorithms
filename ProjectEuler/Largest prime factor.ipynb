{
 "cells": [
  {
   "cell_type": "markdown",
   "metadata": {},
   "source": [
    "# Largest prime factor\n",
    "\n",
    "The prime factors of 13195 are 5, 7, 13 and 29.\n",
    "\n",
    "What is the largest prime factor of the number 600851475143 ?\n"
   ]
  },
  {
   "cell_type": "code",
   "execution_count": 17,
   "metadata": {},
   "outputs": [
    {
     "data": {
      "text/plain": [
       "6857"
      ]
     },
     "execution_count": 17,
     "metadata": {},
     "output_type": "execute_result"
    }
   ],
   "source": [
    "import math\n",
    "def Largestprimefactor(n):\n",
    "    # variable with the lowest one \n",
    "    maxPrime = -1\n",
    "      \n",
    "    # Print the number of 2s that divide n \n",
    "    while n % 2 == 0: \n",
    "        maxPrime = 2\n",
    "        n >>= 1     # equivalent to n /= 2 \n",
    "          \n",
    "    # n must be odd at this point,  \n",
    "    # thus skip the even numbers and  \n",
    "    # iterate only for odd integers \n",
    "    for i in range(3, int(math.sqrt(n)) + 1, 2): \n",
    "        while n % i == 0: \n",
    "            maxPrime = i \n",
    "            n = n / i \n",
    "      \n",
    "    # This condition is to handle the  \n",
    "    # case when n is a prime number  \n",
    "    # greater than 2 \n",
    "    if n > 2: \n",
    "        maxPrime = n \n",
    "      \n",
    "    return int(maxPrime) \n",
    "n = 600851475143\n",
    "Largestprimefactor(n)"
   ]
  }
 ],
 "metadata": {
  "kernelspec": {
   "display_name": "Python 3",
   "language": "python",
   "name": "python3"
  },
  "language_info": {
   "codemirror_mode": {
    "name": "ipython",
    "version": 3
   },
   "file_extension": ".py",
   "mimetype": "text/x-python",
   "name": "python",
   "nbconvert_exporter": "python",
   "pygments_lexer": "ipython3",
   "version": "3.8.3"
  }
 },
 "nbformat": 4,
 "nbformat_minor": 4
}
