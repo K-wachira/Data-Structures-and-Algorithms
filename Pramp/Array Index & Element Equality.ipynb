{
 "cells": [
  {
   "cell_type": "markdown",
   "metadata": {},
   "source": [
    "Given a sorted array `arr` of distinct integers, write a function indexEqualsValueSearch that returns the lowest index `i` for which `arr[i] == i`. \n",
    "\n",
    "Return `-1` if there is no such index. \n",
    "\n",
    "Analyze the time and space complexities of your solution and explain its correctness.\n",
    "\n",
    "Examples\n",
    "```\n",
    "input: arr = [-8,0,2,5]\n",
    "output: 2 # since arr[2] == 2\n",
    "\n",
    "input: arr = [-1,0,3,6]\n",
    "output: -1 # since no index in arr satisfies arr[i] == i.\n",
    "```\n",
    "\n",
    "Constraints:\n",
    "\n",
    "```\n",
    "[time limit] 5000ms\n",
    "\n",
    "[input] array.integer arr\n",
    "\n",
    "1 ≤ arr.length ≤ 100\n",
    "[output] integer\n",
    "```"
   ]
  },
  {
   "cell_type": "code",
   "execution_count": 12,
   "metadata": {},
   "outputs": [],
   "source": [
    "def index_equals_value_search(arr):\n",
    "    # exampleArr =  [-8,0,2,5]\n",
    "    # exampleInd =  [ 0,1,2,3]\n",
    "    #if a number is less than its index, we can only look to the right i.e start =  mid +1 \n",
    "    #if a number is greater than its index, we can only look to the left i.e end = mid - 1 \n",
    "    minSoFar = float('inf')\n",
    "    start, end = 0, len(arr) -1\n",
    "    while start <= end: \n",
    "        mid = start + (end-start)//2\n",
    "        if arr[mid] == mid:\n",
    "            minSoFar = min( minSoFar, mid)\n",
    "            end = mid-1 \n",
    "        elif arr[mid] < mid:\n",
    "            start = mid +1\n",
    "        else:\n",
    "            end = mid - 1 \n",
    "    return -1 if minSoFar == float('inf') else minSoFar"
   ]
  },
  {
   "cell_type": "code",
   "execution_count": 13,
   "metadata": {},
   "outputs": [
    {
     "name": "stdout",
     "output_type": "stream",
     "text": [
      "True\n",
      "True\n",
      "True\n",
      "True\n",
      "True\n",
      "True\n",
      "True\n"
     ]
    }
   ],
   "source": [
    "# str    #Expected\n",
    "test_cases = [\n",
    "    ([-8, 0, 2, 5],  2),\n",
    "    ([-1, 0, 3, 6], -1),\n",
    "    ([0],  0),\n",
    "    ([0, 3],  0),\n",
    "    ([-8, 0, 1, 3, 5],  3),\n",
    "    ([-5, 0, 2, 3, 10, 29],  2),\n",
    "    ([-5, 0, 3, 4, 10, 18, 27],  -1)\n",
    "]\n",
    "for case in test_cases:\n",
    "    print(index_equals_value_search(case[0]) == case[1])\n"
   ]
  }
 ],
 "metadata": {
  "kernelspec": {
   "display_name": "Python 3.10.4 64-bit",
   "language": "python",
   "name": "python3"
  },
  "language_info": {
   "codemirror_mode": {
    "name": "ipython",
    "version": 3
   },
   "file_extension": ".py",
   "mimetype": "text/x-python",
   "name": "python",
   "nbconvert_exporter": "python",
   "pygments_lexer": "ipython3",
   "version": "3.10.4"
  },
  "orig_nbformat": 4,
  "vscode": {
   "interpreter": {
    "hash": "e7370f93d1d0cde622a1f8e1c04877d8463912d04d973331ad4851f04de6915a"
   }
  }
 },
 "nbformat": 4,
 "nbformat_minor": 2
}
