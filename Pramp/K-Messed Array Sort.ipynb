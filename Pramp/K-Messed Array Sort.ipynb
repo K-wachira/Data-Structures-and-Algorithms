{
 "cells": [
  {
   "cell_type": "code",
   "execution_count": 65,
   "id": "47ba59e0-623e-44d0-9d87-e600ef9d4c7a",
   "metadata": {},
   "outputs": [
    {
     "name": "stdout",
     "output_type": "stream",
     "text": [
      "[1, 4, 2, 3, 5, 7, 6, 8, 9, 10]\n"
     ]
    }
   ],
   "source": [
    "import heapq\n",
    "\n",
    "def sort_k_messed_array(arr, k):\n",
    "    heap = []\n",
    "    n = len(arr)\n",
    "    x =0\n",
    "    for i in range(k):\n",
    "        heapq.heappush(heap, arr[i])\n",
    "    \n",
    "    for i in range(k, n):\n",
    "        arr[x] = heapq.heappop(heap)\n",
    "        x+=1\n",
    "        heapq.heappush(heap, arr[i])\n",
    "    for i in range(k):\n",
    "        arr[x] = heapq.heappop(heap)\n",
    "        x+=1\n",
    "    return arr\n",
    "    \n",
    "    \n",
    "\n",
    "\n",
    "\n",
    "arr = [1, 4, 5, 2, 3, 7, 8, 6, 10, 9]\n",
    "k = 2\n",
    "print(sort_k_messed_array(arr, k))"
   ]
  },
  {
   "cell_type": "code",
   "execution_count": null,
   "id": "7feb479d-7cb1-40ac-ae2a-27da945e49b7",
   "metadata": {},
   "outputs": [],
   "source": [
    "function sortKMessedArray(arr, k):\n",
    "    n = arr.length\n",
    "\n",
    "    # create an empty min-heap\n",
    "    h = new MinHeap()\n",
    "\n",
    "    # build the min-heap from the first k+1 elements of arr\n",
    "    h.buildHeap(arr[0,...,k])\n",
    "\n",
    "    for i from k+1 to n-1:\n",
    "        # extract the top element from the min-heap and\n",
    "        # assign it to the next available array index\n",
    "        arr[i-(k+1)] = h.extractMin()\n",
    "\n",
    "        # push the next array element into the min-heap\n",
    "        h.insert(arr[i])\n",
    "\n",
    "    # extract all remaining elements from the min-heap\n",
    "    # and assign them to the next available array index\n",
    "    for i from 0 to k:\n",
    "        arr[n-k-1 + i] = h.extractMin()\n",
    "\n",
    "    return arr\n"
   ]
  }
 ],
 "metadata": {
  "kernelspec": {
   "display_name": "Python 3",
   "language": "python",
   "name": "python3"
  },
  "language_info": {
   "codemirror_mode": {
    "name": "ipython",
    "version": 3
   },
   "file_extension": ".py",
   "mimetype": "text/x-python",
   "name": "python",
   "nbconvert_exporter": "python",
   "pygments_lexer": "ipython3",
   "version": "3.8.0"
  }
 },
 "nbformat": 4,
 "nbformat_minor": 5
}
