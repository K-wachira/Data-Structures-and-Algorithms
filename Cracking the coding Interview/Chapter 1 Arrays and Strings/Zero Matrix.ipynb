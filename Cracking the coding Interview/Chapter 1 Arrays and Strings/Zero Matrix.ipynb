{
 "cells": [
  {
   "cell_type": "markdown",
   "metadata": {},
   "source": [
    "Write an algorithm such that if an emelemnt in a M*N matrix is ), its Entire row and column are set to 0"
   ]
  },
  {
   "cell_type": "code",
   "execution_count": 12,
   "metadata": {},
   "outputs": [],
   "source": [
    "def convert_row(matrix, row):\n",
    "    for i in range(len(matrix[0])):\n",
    "        if matrix[row][i] != 0:\n",
    "            matrix[row][i] = \"v\"\n"
   ]
  },
  {
   "cell_type": "code",
   "execution_count": 13,
   "metadata": {},
   "outputs": [],
   "source": [
    "def convert_col(matrix, col):\n",
    "    for i in range(len(matrix)):\n",
    "        if matrix[i][col] != 0:\n",
    "            matrix[i][col] = \"v\"\n",
    "            \n",
    "    "
   ]
  },
  {
   "cell_type": "code",
   "execution_count": 20,
   "metadata": {},
   "outputs": [],
   "source": [
    "def Zero_Matrix(matrix):\n",
    "    for row in range(len(matrix)):\n",
    "        for col in range(len(matrix[0])):\n",
    "            if matrix[row][col] == 0:\n",
    "                convert_row(matrix, row)\n",
    "    for row in range(len(matrix)):\n",
    "        for col in range(len(matrix[0])):\n",
    "            if matrix[row][col] == \"v\":\n",
    "                matrix[row][col] = 0\n",
    "    for i in matrix:\n",
    "        print(i)\n",
    "    return matrix\n",
    "\n",
    "#Time compelixy will be ~ O(M*N * M*N)\n",
    "#space complexity will be O(1) cause we are doing it inplace"
   ]
  },
  {
   "cell_type": "code",
   "execution_count": 22,
   "metadata": {},
   "outputs": [
    {
     "name": "stdout",
     "output_type": "stream",
     "text": [
      "[0, 0, 0]\n",
      "[0, 0, 6]\n",
      "[0, 0, 9]\n",
      "[[0, 0, 0], [0, 0, 6], [0, 0, 9]]\n"
     ]
    }
   ],
   "source": [
    "matrix=  [[0,0,3],\n",
    "          [4,5,6],\n",
    "          [7,8,9]]\n",
    "print(Zero_Matrix(matrix))"
   ]
  },
  {
   "cell_type": "code",
   "execution_count": null,
   "metadata": {},
   "outputs": [],
   "source": [
    "class Solution:\n",
    "    def mergeTwoLists(self, l1: ListNode, l2: ListNode) -> ListNode:\n",
    "        dummy = curr = ListNode(0)\n",
    "     \n",
    "        if l1 is None:\n",
    "            dummy.next = l2\n",
    "        \n",
    "        if l2 is None:\n",
    "            dummy.next = l1\n",
    "            \n",
    "        while l1 and l2:\n",
    "            if l1.val <= l2.val:   \n",
    "                curr.next = l1\n",
    "                l1 = l1.next\n",
    "            else:\n",
    "                curr.next = l2\n",
    "                l2 = l2.next\n",
    "                \n",
    "            curr = curr.next\n",
    "            curr.next = l1 or l2\n",
    "           \n",
    "        return dummy.next"
   ]
  }
 ],
 "metadata": {
  "kernelspec": {
   "display_name": "Python 3",
   "language": "python",
   "name": "python3"
  },
  "language_info": {
   "codemirror_mode": {
    "name": "ipython",
    "version": 3
   },
   "file_extension": ".py",
   "mimetype": "text/x-python",
   "name": "python",
   "nbconvert_exporter": "python",
   "pygments_lexer": "ipython3",
   "version": "3.8.3"
  }
 },
 "nbformat": 4,
 "nbformat_minor": 4
}
