{
 "cells": [
  {
   "cell_type": "markdown",
   "metadata": {},
   "source": [
    "Implement a method to perform basic string compression using the counts of repeated characters. For example, the string aabcccccaaa would become a2b1c5a3. If the \"compressed\" string would not become smaller than the original string, your method should return the original string. You can assume the string has only uppercase and lowercase letters (a -z)"
   ]
  },
  {
   "cell_type": "code",
   "execution_count": 37,
   "metadata": {},
   "outputs": [],
   "source": [
    "def StringCompression(strg):\n",
    "    if strg == \"\": return \"\"\n",
    "    a = 1 \n",
    "    b = 0 \n",
    "    c  =  0 \n",
    "    new =''\n",
    "    while a < len(strg):\n",
    "        if strg[a] == strg[b]:\n",
    "            c+=1 \n",
    "        else:\n",
    "            c+=1\n",
    "            new += strg[b]\n",
    "            new += str(c)\n",
    "            c = 0 \n",
    "            b = a\n",
    "        a+=1\n",
    "    new += strg[b]\n",
    "    new += str( a-b)\n",
    "    return new\n",
    "        \n",
    "            \n",
    "    \n",
    "    \n",
    "    \n",
    "    \n",
    "    \n",
    "    "
   ]
  },
  {
   "cell_type": "code",
   "execution_count": 39,
   "metadata": {},
   "outputs": [
    {
     "name": "stdout",
     "output_type": "stream",
     "text": [
      "a4b1c2d1a19\n",
      "a1b12\n",
      "True\n"
     ]
    }
   ],
   "source": [
    "\n",
    "print(StringCompression(\"aaaabccdaaaaaaaaaaaaaaaaaaa\"))\n",
    "print(StringCompression(\"abbbbbbbbbbbb\"))\n",
    "\n",
    "print(StringCompression(\"aabcccccaaa\")== \"a2b1c5a3\")"
   ]
  },
  {
   "cell_type": "code",
   "execution_count": 40,
   "metadata": {},
   "outputs": [
    {
     "name": "stdout",
     "output_type": "stream",
     "text": [
      "ab\n"
     ]
    }
   ],
   "source": [
    "l = [\"a\", \"b\"]\n",
    "print(\"\".join(l))"
   ]
  }
 ],
 "metadata": {
  "kernelspec": {
   "display_name": "Python 3",
   "language": "python",
   "name": "python3"
  },
  "language_info": {
   "codemirror_mode": {
    "name": "ipython",
    "version": 3
   },
   "file_extension": ".py",
   "mimetype": "text/x-python",
   "name": "python",
   "nbconvert_exporter": "python",
   "pygments_lexer": "ipython3",
   "version": "3.8.3"
  }
 },
 "nbformat": 4,
 "nbformat_minor": 4
}
