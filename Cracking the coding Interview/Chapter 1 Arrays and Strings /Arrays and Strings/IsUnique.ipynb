{
 "cells": [
  {
   "cell_type": "markdown",
   "metadata": {},
   "source": [
    "## Is Unique:\n",
    "\n",
    "Implement an algorithm to determine if a string has all unique characters. Return True if all are unique and False if otherwise\n",
    "\n",
    "What if you cannot use additional data structures?\n"
   ]
  },
  {
   "cell_type": "markdown",
   "metadata": {},
   "source": [
    "## 1. Use Dictionary \n",
    "\n",
    "### Time complexity O(n)\n",
    "### Space Complexity O(n)\n",
    "\n",
    "1. Store the values in an dictionary\n",
    "2. Loop though the dictionary values and check if there is a value more than 1 \n"
   ]
  },
  {
   "cell_type": "markdown",
   "metadata": {},
   "source": [
    "from collections import Counter\n",
    "class Solution():\n",
    "    def IsUnique(self, string):\n",
    "        dicti = Counter(string)\n",
    "        for i in dicti.values():\n",
    "            if i > 1: return False\n",
    "        return True\n",
    "\n",
    "obj= Solution()\n",
    "string= \"AA\"\n",
    "obj.IsUnique(string)\n"
   ]
  },
  {
   "cell_type": "markdown",
   "metadata": {},
   "source": [
    "## 2. Use Set\n",
    "\n",
    "### Time complexity O(n)\n",
    "### Space Complexity O(n)\n",
    "\n",
    "1. create an empty set\n",
    "2. loop through the string while checking is a value is in the set\n",
    "3. is a value is in the set already return False\n",
    "4. if a value is not in the set return True\n",
    "\n"
   ]
  },
  {
   "cell_type": "code",
   "execution_count": 7,
   "metadata": {},
   "outputs": [
    {
     "data": {
      "text/plain": [
       "True"
      ]
     },
     "execution_count": 7,
     "metadata": {},
     "output_type": "execute_result"
    }
   ],
   "source": [
    "class Solution():\n",
    "    def IsUnique(self, string):\n",
    "        uniqset = set()\n",
    "        for i in string:\n",
    "            if i in uniqset: return False \n",
    "            else:\n",
    "                uniqset.add(i)\n",
    "        return True\n",
    "\n",
    "obj= Solution()\n",
    "string= \"Kelvin\"\n",
    "obj.IsUnique(string)"
   ]
  },
  {
   "cell_type": "markdown",
   "metadata": {},
   "source": [
    "## 3. Use array\n",
    "\n",
    "### Time complexity O(2^n)\n",
    "### Space Complexity O(1)\n",
    "\n",
    "1. loop though the string with i\n",
    "2. for every i, search it in the rest of the array from index of i+1\n",
    "3. if i is found return False"
   ]
  },
  {
   "cell_type": "code",
   "execution_count": 15,
   "metadata": {},
   "outputs": [
    {
     "data": {
      "text/plain": [
       "True"
      ]
     },
     "execution_count": 15,
     "metadata": {},
     "output_type": "execute_result"
    }
   ],
   "source": [
    "class Solution():\n",
    "    def IsUnique(self, string):\n",
    "        for i , v in enumerate(string):\n",
    "            if v in string[i+1:]: return False\n",
    "        return True\n",
    "obj= Solution()\n",
    "string= \"A\"\n",
    "obj.IsUnique(string)"
   ]
  },
  {
   "cell_type": "code",
   "execution_count": 16,
   "metadata": {},
   "outputs": [],
   "source": [
    "## 4. Sort method\n",
    "\n",
    "### Time complexity O(nlogn)\n",
    "### Space Complexity O(n)\n"
   ]
  },
  {
   "cell_type": "code",
   "execution_count": null,
   "metadata": {},
   "outputs": [],
   "source": []
  }
 ],
 "metadata": {
  "kernelspec": {
   "display_name": "Python 3",
   "language": "python",
   "name": "python3"
  },
  "language_info": {
   "codemirror_mode": {
    "name": "ipython",
    "version": 3
   },
   "file_extension": ".py",
   "mimetype": "text/x-python",
   "name": "python",
   "nbconvert_exporter": "python",
   "pygments_lexer": "ipython3",
   "version": "3.8.3"
  }
 },
 "nbformat": 4,
 "nbformat_minor": 4
}
