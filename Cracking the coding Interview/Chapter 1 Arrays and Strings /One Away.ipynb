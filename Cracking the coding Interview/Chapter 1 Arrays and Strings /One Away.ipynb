{
 "cells": [
  {
   "cell_type": "markdown",
   "metadata": {},
   "source": [
    "There are three types of edits that can be performed on strings: insert a character, remove a character, or replace a character. Given two strings, write a function to check if they are one edit (or zero edits) away. "
   ]
  },
  {
   "cell_type": "code",
   "execution_count": 4,
   "metadata": {},
   "outputs": [
    {
     "name": "stdout",
     "output_type": "stream",
     "text": [
      "0\n"
     ]
    }
   ],
   "source": [
    "\n",
    "def One_away(str1, str2):\n",
    "    \n",
    "    if len(str1) > len(str2):\n",
    "        str1, str2= str2, str1\n",
    "    if str1 == \"\": return len(str2)\n",
    "    \n",
    "    if str1[0] == str2[0]:\n",
    "        return One_away(str1[1:], str2[1:])\n",
    "    else:\n",
    "        x =  One_away(str1, str2[1:])\n",
    "        return x\n",
    "    \n",
    "      \n",
    "    \n",
    "print(One_away(\"pale\", \"bake\"))\n",
    "    "
   ]
  },
  {
   "cell_type": "code",
   "execution_count": 8,
   "metadata": {},
   "outputs": [],
   "source": [
    "def deletion_distance(str1, str2):\n",
    "     # the first one to tbe the\n",
    "    if str1 == str2:\n",
    "        return 0\n",
    "    elif not str1 and str2:\n",
    "            return len(str2)\n",
    "    elif str1 and not str2:\n",
    "             return len(str1)\n",
    "\n",
    "\n",
    "    else:    \n",
    "        if str1[0] == str2[0]:\n",
    "            return deletion_distance(str1[1:], str2[1:])\n",
    "        else:  \n",
    "            fa = deletion_distance( str1[1:], str2)\n",
    "            fb = deletion_distance( str1, str2[1:])\n",
    "            return min(fa, fb) +1 \n",
    "    "
   ]
  },
  {
   "cell_type": "code",
   "execution_count": null,
   "metadata": {},
   "outputs": [],
   "source": []
  }
 ],
 "metadata": {
  "kernelspec": {
   "display_name": "Python 3",
   "language": "python",
   "name": "python3"
  },
  "language_info": {
   "codemirror_mode": {
    "name": "ipython",
    "version": 3
   },
   "file_extension": ".py",
   "mimetype": "text/x-python",
   "name": "python",
   "nbconvert_exporter": "python",
   "pygments_lexer": "ipython3",
   "version": "3.8.3"
  }
 },
 "nbformat": 4,
 "nbformat_minor": 4
}
