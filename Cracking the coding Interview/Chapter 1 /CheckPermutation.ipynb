{
 "cells": [
  {
   "cell_type": "markdown",
   "metadata": {},
   "source": [
    "Given Two Strings, write a method to decide if one is a permutation of the other \n"
   ]
  },
  {
   "cell_type": "code",
   "execution_count": 15,
   "metadata": {},
   "outputs": [
    {
     "data": {
      "text/plain": [
       "False"
      ]
     },
     "execution_count": 15,
     "metadata": {},
     "output_type": "execute_result"
    }
   ],
   "source": [
    "def checkPermutation(str1, str2):\n",
    "    set1 = set(str1)\n",
    "    set2 = set(str2)\n",
    "    if len(str1) != len(str2) : return False \n",
    "    if len(set1) != len(set2) : return False \n",
    "    \n",
    "    for i in  set1:\n",
    "        if i not in set2: return False \n",
    "        else: set2.remove(i)\n",
    "    print(set2)\n",
    "    return not set2\n",
    "\n",
    "# Time complexity will be n(O) where n is len of max(str1, str2, key = len) \n",
    "#space complexity is also O(n) where n is the max(set2, set1, len)\n"
   ]
  }
 ],
 "metadata": {
  "kernelspec": {
   "display_name": "Python 3",
   "language": "python",
   "name": "python3"
  },
  "language_info": {
   "codemirror_mode": {
    "name": "ipython",
    "version": 3
   },
   "file_extension": ".py",
   "mimetype": "text/x-python",
   "name": "python",
   "nbconvert_exporter": "python",
   "pygments_lexer": "ipython3",
   "version": "3.8.3"
  }
 },
 "nbformat": 4,
 "nbformat_minor": 4
}
