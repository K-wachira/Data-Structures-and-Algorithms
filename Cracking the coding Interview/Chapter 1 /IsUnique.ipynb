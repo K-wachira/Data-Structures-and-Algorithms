{
 "cells": [
  {
   "cell_type": "markdown",
   "metadata": {},
   "source": [
    "Implement an Algorithm to determine if a string has all unique characters \n",
    "\n",
    "Follow up: What if you can not use additional characters \n",
    "    \n",
    "\n",
    "    \n",
    "input: String , UniqueChars \n",
    "\n",
    "Output : True/False"
   ]
  },
  {
   "cell_type": "code",
   "execution_count": 7,
   "metadata": {},
   "outputs": [],
   "source": [
    "def IsUnique(string, uniquechars):\n",
    "    if uniquechars == \"\" and len(string) > 0 : return False\n",
    "    for i in uniquechars:\n",
    "        if i not in string: return False\n",
    "    return True\n",
    "\n",
    "\n",
    "# This solution does not use additional data structures \n",
    "\n",
    "#Time complexity of this algo is O(N*M) where n is len of string and m is len of uniquechars\n",
    "#space complexity for this algo is O(1)"
   ]
  },
  {
   "cell_type": "code",
   "execution_count": 8,
   "metadata": {},
   "outputs": [
    {
     "name": "stdout",
     "output_type": "stream",
     "text": [
      "True\n",
      "True\n",
      "True\n",
      "True\n",
      "True\n",
      "True\n"
     ]
    }
   ],
   "source": [
    "print(IsUnique(\"kelvin\", \"kvn\") == True)\n",
    "print(IsUnique(\"wachira\", \"\") == False)\n",
    "print(IsUnique(\"abcdefgh\", \"abz\") == False)\n",
    "print(IsUnique(\"john\", \"kn\") ==   False)\n",
    "print(IsUnique(\"\", \"\") == True)\n",
    "print(IsUnique(\"zedaya\", \"homealone\")== False)"
   ]
  },
  {
   "cell_type": "code",
   "execution_count": 14,
   "metadata": {},
   "outputs": [],
   "source": [
    "def IsUnique(string, uniquechars):\n",
    "    setstring = set(string)\n",
    "    if uniquechars == \"\" and len(setstring) > 0: return False\n",
    "    for i in uniquechars:\n",
    "        if i not in setstring:\n",
    "            return False\n",
    "    return True\n",
    "\n",
    "# This solution implements a set which is an additional data structure\n",
    "# Time complexity O(n) where n is len of string\n",
    "#space complexity will be O(n) whenre n is the len the implemented set == set(string)"
   ]
  },
  {
   "cell_type": "code",
   "execution_count": 15,
   "metadata": {},
   "outputs": [
    {
     "name": "stdout",
     "output_type": "stream",
     "text": [
      "True\n",
      "True\n",
      "True\n",
      "True\n",
      "True\n",
      "True\n"
     ]
    }
   ],
   "source": [
    "print(IsUnique(\"kelvin\", \"kvn\") == True)\n",
    "print(IsUnique(\"wachira\", \"\") == False)\n",
    "print(IsUnique(\"abcdefgh\", \"abz\") == False)\n",
    "print(IsUnique(\"john\", \"kn\") ==   False)\n",
    "print(IsUnique(\"\", \"\") == True)\n",
    "print(IsUnique(\"zedaya\", \"homealone\")== False)"
   ]
  }
 ],
 "metadata": {
  "kernelspec": {
   "display_name": "Python 3",
   "language": "python",
   "name": "python3"
  },
  "language_info": {
   "codemirror_mode": {
    "name": "ipython",
    "version": 3
   },
   "file_extension": ".py",
   "mimetype": "text/x-python",
   "name": "python",
   "nbconvert_exporter": "python",
   "pygments_lexer": "ipython3",
   "version": "3.8.3"
  }
 },
 "nbformat": 4,
 "nbformat_minor": 4
}
