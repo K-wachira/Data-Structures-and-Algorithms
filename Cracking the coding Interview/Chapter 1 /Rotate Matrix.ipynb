{
 "cells": [
  {
   "cell_type": "markdown",
   "metadata": {},
   "source": [
    "Given an image represented by an NxN matrix, where each pixel in  the image is 4 bytes, write a method to rotate the image by 90 degrees. (an you do this in place?"
   ]
  },
  {
   "cell_type": "code",
   "execution_count": 14,
   "metadata": {},
   "outputs": [
    {
     "name": "stdout",
     "output_type": "stream",
     "text": [
      "[7, 4, 1]\n",
      "[8, 5, 2]\n",
      "[9, 6, 3]\n",
      "None\n"
     ]
    }
   ],
   "source": [
    "def rotate_matrix(matrix):\n",
    "    # transpose  & reverse the rows \n",
    "    n = len(matrix)\n",
    "    for i in range(n):\n",
    "        for j in range(i, n):\n",
    "            matrix[i][j], matrix[j][i] = matrix[j][i], matrix[i][j]\n",
    "    for i in range(n):\n",
    "        matrix[i] = matrix[i][::-1]\n",
    "    for i in matrix:\n",
    "        print(i)\n",
    "matrix=  [[1,2,3],\n",
    "          [4,5,6],\n",
    "          [7,8,9]]\n",
    "print(rotate_matrix(matrix))"
   ]
  }
 ],
 "metadata": {
  "kernelspec": {
   "display_name": "Python 3",
   "language": "python",
   "name": "python3"
  },
  "language_info": {
   "codemirror_mode": {
    "name": "ipython",
    "version": 3
   },
   "file_extension": ".py",
   "mimetype": "text/x-python",
   "name": "python",
   "nbconvert_exporter": "python",
   "pygments_lexer": "ipython3",
   "version": "3.8.3"
  }
 },
 "nbformat": 4,
 "nbformat_minor": 4
}
