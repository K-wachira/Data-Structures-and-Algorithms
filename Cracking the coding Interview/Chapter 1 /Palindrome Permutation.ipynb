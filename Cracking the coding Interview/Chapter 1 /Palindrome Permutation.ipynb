{
 "cells": [
  {
   "cell_type": "markdown",
   "metadata": {},
   "source": [
    "Given a string, write a function to check if it is a permutation of a palin-drome. A palindrome is a word or phrase that is the same forwards and backwards. A permutation is a rearrangement of letters. The palindrome does not need to be limited to just dictionary words.\n",
    "\n",
    "EXAMPLE \n",
    "\n",
    "Input: Tact Coa Output: True (permutations: \"taco cat\". \"atco cta\". etc.)\n",
    "\n",
    "Output :True"
   ]
  },
  {
   "cell_type": "code",
   "execution_count": 17,
   "metadata": {},
   "outputs": [],
   "source": [
    "from collections import Counter \n",
    "def PalindromePermutation(string):\n",
    "    dicti = Counter(string.lower())\n",
    "    counter = 0\n",
    "    for k, v in dicti.items():\n",
    "        if v % 2 != 0 and k != \" \":\n",
    "            counter+=1\n",
    "    return counter <= 1\n",
    "\n",
    "#time compexity will be O(n) where n is the len of the string\n",
    "#Space complexity will be O(n) where n is the len of the dicti"
   ]
  },
  {
   "cell_type": "code",
   "execution_count": 20,
   "metadata": {},
   "outputs": [
    {
     "name": "stdout",
     "output_type": "stream",
     "text": [
      "True\n",
      "True\n",
      "True\n"
     ]
    }
   ],
   "source": [
    "print(PalindromePermutation('taco cat'))\n",
    "print(PalindromePermutation('Anna'))\n",
    "print(PalindromePermutation('Kayak'))"
   ]
  }
 ],
 "metadata": {
  "kernelspec": {
   "display_name": "Python 3",
   "language": "python",
   "name": "python3"
  },
  "language_info": {
   "codemirror_mode": {
    "name": "ipython",
    "version": 3
   },
   "file_extension": ".py",
   "mimetype": "text/x-python",
   "name": "python",
   "nbconvert_exporter": "python",
   "pygments_lexer": "ipython3",
   "version": "3.8.3"
  }
 },
 "nbformat": 4,
 "nbformat_minor": 4
}
