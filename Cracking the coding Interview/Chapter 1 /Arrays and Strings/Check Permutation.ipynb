{
 "cells": [
  {
   "cell_type": "markdown",
   "metadata": {},
   "source": [
    "# Check Permutation: \n",
    "\n",
    "Given two strings, write a method to decide if one is a permutation of the\n",
    "other.\n",
    "\n",
    "Return True if one string is a permutation of the ohter and False is otherwise\n",
    "\n",
    "\n",
    "\n"
   ]
  },
  {
   "cell_type": "markdown",
   "metadata": {},
   "source": [
    "## 1. Use Set\n",
    "\n",
    "### Time complexity O(n)\n",
    "### Space Complexity O(n)\n",
    "\n",
    "1. check if the lengths of the two strings are equal\n",
    "2. check if the sets of both strings are equal \n",
    "\n",
    "\n",
    "NB this does not pass some test cases like \n",
    "str1 = \"ABB\"\n",
    "str2 = \"AAB\"\n",
    "\n",
    "in this case str1 is not a permutation of str2 but the approach will return True instead of False"
   ]
  },
  {
   "cell_type": "code",
   "execution_count": 14,
   "metadata": {},
   "outputs": [
    {
     "data": {
      "text/plain": [
       "True"
      ]
     },
     "execution_count": 14,
     "metadata": {},
     "output_type": "execute_result"
    }
   ],
   "source": [
    "class solution():\n",
    "    def Check_permutation(self, str1, str2):\n",
    "        str1, str2 = str1.lower(), str2.lower()\n",
    "        return len(str1) == len (str2)  and set(str1) == set(str2)\n",
    "    \n",
    "obj=solution()\n",
    "str1 = \"kelvin\"\n",
    "str2 =  \"Kelvni\"\n",
    "obj.Check_permutation(str1, str2)\n",
    "        "
   ]
  },
  {
   "cell_type": "markdown",
   "metadata": {},
   "source": [
    "## 2. Use Dictionary\n",
    "\n",
    "### Time complexity O(n)\n",
    "### Space Complexity O(n)\n",
    "\n",
    "1. convert the two strings in to lowercase if the problem is not case sensitive\n",
    "2. create two dictionaries out of the given string swith the number of a char occurence being the value\n",
    "3. compare that every key in both dicts is the same"
   ]
  },
  {
   "cell_type": "code",
   "execution_count": 20,
   "metadata": {},
   "outputs": [
    {
     "data": {
      "text/plain": [
       "True"
      ]
     },
     "execution_count": 20,
     "metadata": {},
     "output_type": "execute_result"
    }
   ],
   "source": [
    "from collections import Counter\n",
    "class solution():\n",
    "    def Check_permutation(self, str1, str2):\n",
    "        str1, str2 = str1.lower(), str2.lower()\n",
    "\n",
    "        f1 = Counter(str1)\n",
    "        f2 = Counter(str2)        \n",
    "        for key, value in f1.items():\n",
    "            if f2[key] != value: return False\n",
    "        for key, value in f2.items():\n",
    "            if f1[key] != value: return False\n",
    "        return True\n",
    "\n",
    "obj=solution()\n",
    "str1 = \"kelvin\"\n",
    "str2 =  \"kelvni\"\n",
    "obj.Check_permutation(str1, str2)"
   ]
  },
  {
   "cell_type": "markdown",
   "metadata": {},
   "source": [
    "## 2. Use of arrays'\n",
    "\n",
    "### Time complexity O(nlogn)\n",
    "### Space Complexity O(1)\n",
    "\n",
    "1. sort the two stings\n",
    "2. check if the lengths match continue if so return false if otherwise\n",
    "3. loop from 0 to len of one of the two strings\n",
    "4. compare the chars at both indexes of the strs to check if they are the same .. if not return False \n"
   ]
  },
  {
   "cell_type": "code",
   "execution_count": 30,
   "metadata": {},
   "outputs": [
    {
     "data": {
      "text/plain": [
       "False"
      ]
     },
     "execution_count": 30,
     "metadata": {},
     "output_type": "execute_result"
    }
   ],
   "source": [
    "class solution():\n",
    "    def Check_permutation(self, str1, str2):\n",
    "        if len( str1) != len(str2) : return False\n",
    "        str1 =sorted(str1)\n",
    "        str2 = sorted(str2)\n",
    "        for i in range(len(str1)):\n",
    "            if str1[i] != str2[i]: return False\n",
    "        return True\n",
    "obj=solution()\n",
    "str1 = \"kelvin\"\n",
    "str2 =  \"kelvni\"\n",
    "obj.Check_permutation(str1, str2)   \n",
    "        "
   ]
  },
  {
   "cell_type": "code",
   "execution_count": null,
   "metadata": {},
   "outputs": [],
   "source": []
  }
 ],
 "metadata": {
  "kernelspec": {
   "display_name": "Python 3",
   "language": "python",
   "name": "python3"
  },
  "language_info": {
   "codemirror_mode": {
    "name": "ipython",
    "version": 3
   },
   "file_extension": ".py",
   "mimetype": "text/x-python",
   "name": "python",
   "nbconvert_exporter": "python",
   "pygments_lexer": "ipython3",
   "version": "3.8.3"
  }
 },
 "nbformat": 4,
 "nbformat_minor": 4
}
