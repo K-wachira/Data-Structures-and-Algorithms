{
 "cells": [
  {
   "cell_type": "markdown",
   "metadata": {},
   "source": [
    "# Linked List Cycle"
   ]
  },
  {
   "cell_type": "code",
   "execution_count": 5,
   "metadata": {},
   "outputs": [],
   "source": [
    "class ListNode():\n",
    "    def __init__(self, val , nextNode = None):\n",
    "        self.val = val\n",
    "        self.nextNode = nextNode\n"
   ]
  },
  {
   "cell_type": "code",
   "execution_count": 16,
   "metadata": {},
   "outputs": [
    {
     "data": {
      "text/plain": [
       "False"
      ]
     },
     "execution_count": 16,
     "metadata": {},
     "output_type": "execute_result"
    }
   ],
   "source": [
    "class linkedList():\n",
    "    def __init__(self, head = None):\n",
    "        self.head = head\n",
    "    \n",
    "    def insert(self, val):\n",
    "        node = ListNode(val)\n",
    "        if not self.head:\n",
    "            self.head = node\n",
    "            self.head.nextNode = None\n",
    "            return\n",
    "        \n",
    "        curr_node = self.head\n",
    "        \n",
    "        while True:\n",
    "            if curr_node.nextNode is None:\n",
    "                curr_node.nextNode = node\n",
    "                break\n",
    "            curr_node = curr_node.nextNode\n",
    "        curr_node = node\n",
    "        curr_node.nextNode = None\n",
    "    def printList(self):\n",
    "        curr_node = self.head\n",
    "        \n",
    "        while curr_node:\n",
    "            print( str(curr_node.val) + ' -> ' ,end = \"\")\n",
    "            curr_node = curr_node.nextNode\n",
    "        print(\"None\")\n",
    "    def hasCycle(self):\n",
    "        head = self.head\n",
    "        \"\"\"\n",
    "        :type head: ListNode\n",
    "        :rtype: bool\n",
    "        \"\"\"\n",
    "        seen = set()\n",
    "        while head: \n",
    "            if head in seen: return True\n",
    "            seen.add(head)\n",
    "            head = head.nextNode\n",
    "        return False\n",
    "        \n",
    "nums =[1,2,3,4,5,6,7,8,2]\n",
    "obj = linkedList()\n",
    "for i in nums:\n",
    "    obj.insert(i)\n",
    "\n",
    "obj.hasCycle()\n"
   ]
  },
  {
   "cell_type": "code",
   "execution_count": null,
   "metadata": {},
   "outputs": [],
   "source": []
  }
 ],
 "metadata": {
  "kernelspec": {
   "display_name": "Python 3",
   "language": "python",
   "name": "python3"
  },
  "language_info": {
   "codemirror_mode": {
    "name": "ipython",
    "version": 3
   },
   "file_extension": ".py",
   "mimetype": "text/x-python",
   "name": "python",
   "nbconvert_exporter": "python",
   "pygments_lexer": "ipython3",
   "version": "3.8.3"
  }
 },
 "nbformat": 4,
 "nbformat_minor": 4
}
