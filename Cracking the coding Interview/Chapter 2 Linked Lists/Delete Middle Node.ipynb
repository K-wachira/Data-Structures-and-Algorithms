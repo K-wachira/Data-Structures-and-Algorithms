{
 "cells": [
  {
   "cell_type": "code",
   "execution_count": 6,
   "metadata": {},
   "outputs": [],
   "source": [
    "class listNode():\n",
    "    def __init__(self, val, nextNode = None):\n",
    "        self.val = val\n",
    "        self.nextNode = nextNode\n",
    "        "
   ]
  },
  {
   "cell_type": "code",
   "execution_count": 9,
   "metadata": {},
   "outputs": [
    {
     "name": "stdout",
     "output_type": "stream",
     "text": [
      "1 -> 2 -> 3 -> 4 -> 5 -> 6 -> 7 -> 8 -> \n",
      "1 -> 2 -> 4 -> 5 -> 6 -> 7 -> 8 -> "
     ]
    }
   ],
   "source": [
    "class linkedlist():\n",
    "    def __init__(self, head = None):\n",
    "        self.head = head\n",
    "    \n",
    "    def insert(self, val):\n",
    "        node = listNode(val)\n",
    "        if not self.head:\n",
    "            self.head = node\n",
    "            self.head.nextNode = None\n",
    "            return\n",
    "        curr = self.head\n",
    "        \n",
    "        while curr.nextNode:\n",
    "            curr=  curr.nextNode\n",
    "        curr.nextNode = node\n",
    "        curr = curr.nextNode\n",
    "        curr.nextNode = None\n",
    "        \n",
    "    \n",
    "        \n",
    "    def printlist(self):\n",
    "        curr = self.head\n",
    "        while curr:\n",
    "            print( curr.val, '-> ', end = \"\")\n",
    "            curr = curr.nextNode\n",
    "            \n",
    "\n",
    "    def deleteNode(self, node):\n",
    "        node.val = node.nextNode.val\n",
    "        node.nextNode = node.nextNode.nextNode\n",
    "            \n",
    "    def nodetodelete(self, index):\n",
    "        curr = self.head\n",
    "        \n",
    "        for i in range(1,index+1):\n",
    "            if i == index:\n",
    "                self.deleteNode(curr)\n",
    "            curr = curr.nextNode\n",
    "                \n",
    "            \n",
    "obj = linkedlist()\n",
    "nums = [1,2,3,4,5,6,7,8]\n",
    "for i in nums:\n",
    "    obj.insert(i)\n",
    "obj.printlist()\n",
    "obj.nodetodelete( 3 )\n",
    "print(\"\")\n",
    "obj.printlist()\n",
    "\n",
    "            "
   ]
  },
  {
   "cell_type": "code",
   "execution_count": null,
   "metadata": {},
   "outputs": [],
   "source": []
  }
 ],
 "metadata": {
  "kernelspec": {
   "display_name": "Python 3",
   "language": "python",
   "name": "python3"
  },
  "language_info": {
   "codemirror_mode": {
    "name": "ipython",
    "version": 3
   },
   "file_extension": ".py",
   "mimetype": "text/x-python",
   "name": "python",
   "nbconvert_exporter": "python",
   "pygments_lexer": "ipython3",
   "version": "3.8.3"
  }
 },
 "nbformat": 4,
 "nbformat_minor": 4
}
