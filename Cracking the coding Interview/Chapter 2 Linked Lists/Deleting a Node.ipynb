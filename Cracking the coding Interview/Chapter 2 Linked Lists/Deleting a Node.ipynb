{
 "cells": [
  {
   "cell_type": "code",
   "execution_count": 3,
   "metadata": {},
   "outputs": [],
   "source": [
    "class listNode():\n",
    "    def __init__(self, val, nextNode = None):\n",
    "        self.val = val\n",
    "        self.nextNode = nextNode\n",
    "        "
   ]
  },
  {
   "cell_type": "code",
   "execution_count": 20,
   "metadata": {},
   "outputs": [
    {
     "name": "stdout",
     "output_type": "stream",
     "text": [
      "1 -> 2 -> 3 -> 4 -> 5 -> 6 -> 7 -> 8 -> 9 -> \n",
      "1 -> 2 -> 3 -> 5 -> 6 -> 7 -> 8 -> 9 -> "
     ]
    }
   ],
   "source": [
    "class linkedList():\n",
    "    def __init__(self, head = None ):\n",
    "        self.head = head\n",
    "    def insert(self, value):\n",
    "        node = listNode(value)\n",
    "        \n",
    "        if not self.head:\n",
    "            self.head = node\n",
    "            self.head.nextNode= None\n",
    "            return \n",
    "        curr_node = self.head\n",
    "        while curr_node.nextNode:\n",
    "            curr_node = curr_node.nextNode\n",
    "        curr_node.nextNode = node\n",
    "        curr_node = curr_node.nextNode\n",
    "        curr_node.nextNode = None\n",
    "    \n",
    "    def remove(self, val):\n",
    "        curr_node = self.head\n",
    "        while curr_node.nextNode:\n",
    "            if curr_node.nextNode.val == val:\n",
    "                if curr_node.nextNode.nextNode:\n",
    "                    curr_node.nextNode = curr_node.nextNode.nextNode\n",
    "                else:\n",
    "                    curr_node.nextNode = None\n",
    "                return\n",
    "            curr_node = curr_node.nextNode\n",
    "            \n",
    "    def printList(self):\n",
    "        curr = self.head\n",
    "        while curr:\n",
    "            print(curr.val , \"->\" , end =\" \")\n",
    "            curr = curr.nextNode\n",
    "                    \n",
    "obj = linkedList()\n",
    "\n",
    "nums = [1,2,3,4,5,6,7,8,9]\n",
    "\n",
    "for i in nums:\n",
    "    obj.insert(i)\n",
    "obj.printList()\n",
    "obj.remove(4)\n",
    "print(\"\")\n",
    "obj.printList()"
   ]
  },
  {
   "cell_type": "code",
   "execution_count": null,
   "metadata": {},
   "outputs": [],
   "source": []
  }
 ],
 "metadata": {
  "kernelspec": {
   "display_name": "Python 3",
   "language": "python",
   "name": "python3"
  },
  "language_info": {
   "codemirror_mode": {
    "name": "ipython",
    "version": 3
   },
   "file_extension": ".py",
   "mimetype": "text/x-python",
   "name": "python",
   "nbconvert_exporter": "python",
   "pygments_lexer": "ipython3",
   "version": "3.8.3"
  }
 },
 "nbformat": 4,
 "nbformat_minor": 4
}
