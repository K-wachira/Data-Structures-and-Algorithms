{
 "cells": [
  {
   "cell_type": "code",
   "execution_count": 2,
   "metadata": {},
   "outputs": [],
   "source": [
    "class listNode():\n",
    "    def __init__(self, val, nextnode = None):\n",
    "        self.val = val \n",
    "        self.nextnode = nextnode"
   ]
  },
  {
   "cell_type": "code",
   "execution_count": 3,
   "metadata": {},
   "outputs": [
    {
     "name": "stdout",
     "output_type": "stream",
     "text": [
      "1 ->2 ->3 ->4 ->5 ->"
     ]
    }
   ],
   "source": [
    "class Solution(object):\n",
    "    def __init__(self, head = None):\n",
    "        self.head = head\n",
    "    \n",
    "    def createlist(self):\n",
    "        while self.head:\n",
    "            print(self.head.val, \"->\", end =\"\")\n",
    "            self.head = self.head.nextnode\n",
    "            \n",
    "    def insert(self, value):\n",
    "        if self.head == None:\n",
    "            self.head = listNode(value)\n",
    "            return \n",
    "        currnode = self.head\n",
    "        while True:\n",
    "            if currnode.nextnode is None:\n",
    "                currnode.nextnode = listNode(value)\n",
    "                break\n",
    "            currnode = currnode.nextnode\n",
    "        currnode = listNode(value)\n",
    "        currnode.nextnode = None \n",
    "        return self.head\n",
    "\n",
    "            \n",
    "obj = Solution()\n",
    "nums = [1,2,3,4,5]\n",
    "for i in nums:\n",
    "    obj.insert(i)\n",
    "obj.createlist()"
   ]
  },
  {
   "cell_type": "code",
   "execution_count": 2,
   "metadata": {},
   "outputs": [],
   "source": [
    "class ListNode():\n",
    "    def __init__(self, val , nextNode = None):\n",
    "        self.val = val\n",
    "        self.nextNode = nextNode\n",
    "\n",
    "        "
   ]
  },
  {
   "cell_type": "code",
   "execution_count": 17,
   "metadata": {},
   "outputs": [
    {
     "name": "stdout",
     "output_type": "stream",
     "text": [
      "\n",
      "2 \n",
      "2 3 \n",
      "2 3 4 \n",
      "2 3 4 5 \n",
      "2 3 4 5 6 \n",
      "2 3 4 5 6 7 \n",
      "1 -> 2 -> 3 -> 4 -> 5 -> 6 -> 7 -> 8 -> None\n"
     ]
    }
   ],
   "source": [
    "class linkedList():\n",
    "    def __init__(self, head = None):\n",
    "        self.head = head\n",
    "    \n",
    "    def insert(self, val):\n",
    "        node = ListNode(val)\n",
    "        if not self.head:\n",
    "            self.head = node\n",
    "            self.head.nextNode = None\n",
    "            return\n",
    "        \n",
    "        curr_node = self.head\n",
    "        \n",
    "        while True:\n",
    "            if curr_node.nextNode is None:\n",
    "                curr_node.nextNode = node\n",
    "                break\n",
    "            curr_node = curr_node.nextNode\n",
    "            print(curr_node.val, end = \" \")\n",
    "        print(\"\")\n",
    "        curr_node = node\n",
    "        curr_node.nextNode = None\n",
    "    def printList(self):\n",
    "        curr_node = self.head\n",
    "        \n",
    "        while curr_node:\n",
    "            print( str(curr_node.val) + ' -> ' ,end = \"\")\n",
    "            curr_node = curr_node.nextNode\n",
    "        print(\"None\")\n",
    "        \n",
    "nums =[1,2,3,4,5,6,7,8]\n",
    "obj = linkedList()\n",
    "for i in nums:\n",
    "    obj.insert(i)\n",
    "obj.printList()"
   ]
  },
  {
   "cell_type": "code",
   "execution_count": 21,
   "metadata": {},
   "outputs": [
    {
     "name": "stdout",
     "output_type": "stream",
     "text": [
      "1 -> 2 -> 3 -> 4 -> 5 -> 6 -> 7 -> 8 -> 9 -> None\n"
     ]
    }
   ],
   "source": [
    "class linkedList2():\n",
    "    def __init__(self, head = None):\n",
    "        self.head = head\n",
    "    \n",
    "    def insert(self, val):\n",
    "        node = ListNode(val)\n",
    "        if not self.head:\n",
    "            self.head = node\n",
    "            self.head.nextNode = None\n",
    "            return\n",
    "        \n",
    "        curr_node = self.head\n",
    "          \n",
    "        while curr_node.nextNode:\n",
    "            curr_node = curr_node.nextNode\n",
    "        curr_node.nextNode = node\n",
    "        curr_node = curr_node.nextNode\n",
    "        curr_node.nextNode = None\n",
    "\n",
    "        \n",
    "    def printList(self):\n",
    "        curr_node = self.head\n",
    "        \n",
    "        while curr_node:\n",
    "            print( str(curr_node.val) + ' -> ' ,end = \"\")\n",
    "            curr_node = curr_node.nextNode\n",
    "        print(\"None\")\n",
    "        \n",
    "nums =[1,2,3,4,5,6,7,8,9]\n",
    "obj = linkedList2()\n",
    "for i in nums:\n",
    "    obj.insert(i)\n",
    "obj.printList()"
   ]
  },
  {
   "cell_type": "code",
   "execution_count": null,
   "metadata": {},
   "outputs": [],
   "source": []
  },
  {
   "cell_type": "code",
   "execution_count": null,
   "metadata": {},
   "outputs": [],
   "source": []
  }
 ],
 "metadata": {
  "kernelspec": {
   "display_name": "Python 3",
   "language": "python",
   "name": "python3"
  },
  "language_info": {
   "codemirror_mode": {
    "name": "ipython",
    "version": 3
   },
   "file_extension": ".py",
   "mimetype": "text/x-python",
   "name": "python",
   "nbconvert_exporter": "python",
   "pygments_lexer": "ipython3",
   "version": "3.8.3"
  }
 },
 "nbformat": 4,
 "nbformat_minor": 4
}
