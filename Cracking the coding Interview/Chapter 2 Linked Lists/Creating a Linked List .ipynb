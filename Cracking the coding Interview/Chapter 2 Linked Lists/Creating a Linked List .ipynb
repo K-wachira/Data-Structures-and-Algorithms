{
 "cells": [
  {
   "cell_type": "code",
   "execution_count": 2,
   "metadata": {},
   "outputs": [],
   "source": [
    "class listNode():\n",
    "    def __init__(self, val, nextnode = None):\n",
    "        self.val = val \n",
    "        self.nextnode = nextnode"
   ]
  },
  {
   "cell_type": "code",
   "execution_count": 3,
   "metadata": {},
   "outputs": [
    {
     "name": "stdout",
     "output_type": "stream",
     "text": [
      "1 ->2 ->3 ->4 ->5 ->"
     ]
    }
   ],
   "source": [
    "class Solution(object):\n",
    "    def __init__(self, head = None):\n",
    "        self.head = head\n",
    "    \n",
    "    def createlist(self):\n",
    "        while self.head:\n",
    "            print(self.head.val, \"->\", end =\"\")\n",
    "            self.head = self.head.nextnode\n",
    "            \n",
    "    def insert(self, value):\n",
    "        if self.head == None:\n",
    "            self.head = listNode(value)\n",
    "            return \n",
    "        currnode = self.head\n",
    "        while True:\n",
    "            if currnode.nextnode is None:\n",
    "                currnode.nextnode = listNode(value)\n",
    "                break\n",
    "            currnode = currnode.nextnode\n",
    "        currnode = listNode(value)\n",
    "        currnode.nextnode = None \n",
    "        return self.head\n",
    "\n",
    "            \n",
    "obj = Solution()\n",
    "nums = [1,2,3,4,5]\n",
    "for i in nums:\n",
    "    obj.insert(i)\n",
    "obj.createlist()"
   ]
  },
  {
   "cell_type": "code",
   "execution_count": null,
   "metadata": {},
   "outputs": [],
   "source": []
  }
 ],
 "metadata": {
  "kernelspec": {
   "display_name": "Python 3",
   "language": "python",
   "name": "python3"
  },
  "language_info": {
   "codemirror_mode": {
    "name": "ipython",
    "version": 3
   },
   "file_extension": ".py",
   "mimetype": "text/x-python",
   "name": "python",
   "nbconvert_exporter": "python",
   "pygments_lexer": "ipython3",
   "version": "3.8.3"
  }
 },
 "nbformat": 4,
 "nbformat_minor": 4
}
