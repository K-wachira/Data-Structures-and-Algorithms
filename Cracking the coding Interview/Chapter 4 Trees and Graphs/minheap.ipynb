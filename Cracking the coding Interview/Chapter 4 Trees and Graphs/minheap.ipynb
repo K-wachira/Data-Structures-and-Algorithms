{
 "cells": [
  {
   "cell_type": "code",
   "execution_count": 1,
   "id": "60dfaba0-b3e0-4f13-aeff-dd3878c1dffc",
   "metadata": {},
   "outputs": [],
   "source": [
    "class TreeNode():\n",
    "    def __init__(self, val, right=None, left=None):\n",
    "        self.val = val\n",
    "        self.left = left\n",
    "        self.right = right "
   ]
  },
  {
   "cell_type": "code",
   "execution_count": 3,
   "id": "d310724a-8837-4aa5-89b6-b720e745eaad",
   "metadata": {},
   "outputs": [],
   "source": [
    "class MinHeap():\n",
    "    def __init__(self, root):\n",
    "        self.root = TreeNode(root)\n",
    "    \n",
    "    def isEmpty(self):\n",
    "        if self.root: return False\n",
    "        return True\n",
    "    \n",
    "    \n",
    "    def append(self, value):\n",
    "        pass\n",
    "        \n",
    "        \n",
    "    def _append(self, value, curr_node):\n",
    "        if curr_node.left == None== curr_node.right:\n",
    "            temp_node = TreeNode(value)\n",
    "            curr_node.left = temp_node\n",
    "            \n",
    "        if curr_node.left == None: \n",
    "            temp_node = TreeNode(value)\n",
    "            curr_node.left = temp_node\n",
    "        \n",
    "        if curr_node.right == None: \n",
    "            temp_node = TreeNode(value)\n",
    "            curr_node.right = temp_node\n",
    "            \n",
    "        \n",
    "        \n",
    "    \n",
    "    def printTree(self):\n",
    "        if self.isEmpty(): \n",
    "            print('Tree is empty')\n",
    "            return \n",
    "        self._printTree(self.root)\n",
    "        \n",
    "    def _printTree(self, curr_node):\n",
    "        if curr_node == None:\n",
    "            return \n",
    "        else:\n",
    "            print(curr_node.val)\n",
    "            self._printTree(curr_node.left)\n",
    "            self._printTree(curr_node.right)\n",
    "            "
   ]
  },
  {
   "cell_type": "code",
   "execution_count": 4,
   "id": "7d9ba09f-49a4-4a8d-9846-04110080123a",
   "metadata": {},
   "outputs": [
    {
     "name": "stdout",
     "output_type": "stream",
     "text": [
      "5\n"
     ]
    }
   ],
   "source": [
    "#Tree construct\n",
    "\n",
    "minheap = MinHeap(5)\n",
    "minheap.printTree()"
   ]
  },
  {
   "cell_type": "code",
   "execution_count": null,
   "id": "8e68b48e-e229-4de7-bc22-944d12840792",
   "metadata": {},
   "outputs": [],
   "source": []
  }
 ],
 "metadata": {
  "kernelspec": {
   "display_name": "Python 3",
   "language": "python",
   "name": "python3"
  },
  "language_info": {
   "codemirror_mode": {
    "name": "ipython",
    "version": 3
   },
   "file_extension": ".py",
   "mimetype": "text/x-python",
   "name": "python",
   "nbconvert_exporter": "python",
   "pygments_lexer": "ipython3",
   "version": "3.8.0"
  }
 },
 "nbformat": 4,
 "nbformat_minor": 5
}
