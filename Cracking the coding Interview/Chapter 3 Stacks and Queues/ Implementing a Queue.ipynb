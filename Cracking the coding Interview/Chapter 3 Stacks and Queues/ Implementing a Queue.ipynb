{
 "cells": [
  {
   "cell_type": "markdown",
   "metadata": {},
   "source": [
    "# A queue implements FIFO (first-in first-out) ordering. \n",
    "\n",
    "As  in  a line or queue at a ticket stand, items are removed from the data structure in the same order that they are added. \n",
    "\n",
    "It uses the operations: \n",
    "1. add ( i tern):Add an item to the end of the list. \n",
    "2. remove (): Remove the first item in the list. \n",
    "3. peek ( ) :   Return the top of the queue. \n",
    "4. is Empty(): Return true if and only if the queue is empty\n",
    "\n"
   ]
  },
  {
   "cell_type": "code",
   "execution_count": 7,
   "metadata": {},
   "outputs": [
    {
     "name": "stdout",
     "output_type": "stream",
     "text": [
      "minimum so far is  1\n",
      "minimum so far is  1\n",
      "minimum so far is  1\n",
      "minimum so far is  1\n",
      "minimum so far is  1\n",
      "minimum so far is  1\n",
      "minimum so far is  1\n",
      "minimum so far is  1\n",
      "deque([1, 2, 3, 4, 5, 6, 7, 8])\n",
      "emoving\n",
      "minimum so far is  None\n",
      "deque([2, 3, 4, 5, 6, 7, 8])\n"
     ]
    },
    {
     "data": {
      "text/plain": [
       "False"
      ]
     },
     "execution_count": 7,
     "metadata": {},
     "output_type": "execute_result"
    }
   ],
   "source": [
    "from collections import deque \n",
    "\n",
    "class queue():\n",
    "    def __init__(self):\n",
    "        self.que =deque([])\n",
    "        self.minStack = []\n",
    "        \n",
    "    def add(self, val):\n",
    "        self.que.append(val)\n",
    "        self.maitainMin(val, True)\n",
    "        return self.que\n",
    "    \n",
    "    def remove(self):\n",
    "        x = self.que.popleft()\n",
    "        self.maitainMin(  x, False)\n",
    "\n",
    "        return self.que\n",
    "    \n",
    "    def peek(self):\n",
    "        print(self.que)\n",
    "    \n",
    "    def isEmpty(self):\n",
    "        return not self.que \n",
    "    \n",
    "       \n",
    "    def maitainMin(self, val, add):\n",
    "        if add:\n",
    "            if  not self.minStack:\n",
    "                self.minStack.append(val)\n",
    "            elif self.minStack[-1] > val:\n",
    "                self.minStack.append(val)\n",
    "        else: \n",
    "            if self.minStack[-1] == val:\n",
    "                self.minStack.pop()\n",
    "        print(\"minimum so far is \", self.minStack[-1] if self.minStack else None)\n",
    "        return \n",
    "        \n",
    "    \n",
    "    \n",
    "queue = queue()\n",
    "\n",
    "queue.isEmpty()\n",
    "\n",
    "nums = [1,2,3,4,5,6,7,8]\n",
    "for i in nums:\n",
    "    queue.add(i)\n",
    "    \n",
    "queue.peek()\n",
    "print(\"emoving\")\n",
    "queue.remove()\n",
    "queue.peek()\n",
    "queue.isEmpty()\n",
    "\n",
    "\n",
    "        \n",
    "    "
   ]
  },
  {
   "cell_type": "code",
   "execution_count": null,
   "metadata": {},
   "outputs": [],
   "source": []
  }
 ],
 "metadata": {
  "kernelspec": {
   "display_name": "Python 3",
   "language": "python",
   "name": "python3"
  },
  "language_info": {
   "codemirror_mode": {
    "name": "ipython",
    "version": 3
   },
   "file_extension": ".py",
   "mimetype": "text/x-python",
   "name": "python",
   "nbconvert_exporter": "python",
   "pygments_lexer": "ipython3",
   "version": "3.8.3"
  }
 },
 "nbformat": 4,
 "nbformat_minor": 4
}
