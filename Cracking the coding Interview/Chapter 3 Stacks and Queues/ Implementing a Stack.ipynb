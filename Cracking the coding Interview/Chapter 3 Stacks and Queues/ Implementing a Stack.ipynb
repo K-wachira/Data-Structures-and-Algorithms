{
 "cells": [
  {
   "cell_type": "markdown",
   "metadata": {},
   "source": [
    " # Implementing a Stack\n",
    " \n",
    " It uses the following operations: \n",
    " pop ( ) :   Remove the top item from the stack. \n",
    " push ( i  tern): Add an item to the top of the stack. \n",
    " peek(): Return the top of the stack. \n",
    " is Empty (): Return true if and only if the stack is empty."
   ]
  },
  {
   "cell_type": "code",
   "execution_count": 6,
   "metadata": {},
   "outputs": [
    {
     "name": "stdout",
     "output_type": "stream",
     "text": [
      "True\n",
      "False\n",
      "[1, 2, 3, 4]\n"
     ]
    }
   ],
   "source": [
    "class Stack():\n",
    "    def __init__(self, stack=[]):\n",
    "        self.stack = stack\n",
    "        \n",
    "    def pop(self):\n",
    "        if not self.isEmpty():\n",
    "            self.stack.pop(len(self.stack))\n",
    "            \n",
    "            \n",
    "    def push(self, val):\n",
    "        self.stack.append(val)\n",
    "\n",
    "    def peek(self):\n",
    "        print(self.stack[-1])\n",
    "        return self.stack[-1]\n",
    "    \n",
    "    def isEmpty(self):\n",
    "        print(len(self.stack) == 0 )\n",
    "        return len(self.stack) == 0 \n",
    "\n",
    "    def see(self):\n",
    "        print(self.stack)\n",
    "        \n",
    "        \n",
    "        \n",
    "stck = Stack()\n",
    "stck.isEmpty()\n",
    "nums = [1,2,3,4]\n",
    "for i in nums:\n",
    "    stck.push(i)\n",
    "stck.isEmpty()\n",
    "stck.see()\n",
    "stck.pop()\n",
    "srck.see()\n"
   ]
  },
  {
   "cell_type": "code",
   "execution_count": null,
   "metadata": {},
   "outputs": [],
   "source": []
  }
 ],
 "metadata": {
  "kernelspec": {
   "display_name": "Python 3",
   "language": "python",
   "name": "python3"
  },
  "language_info": {
   "codemirror_mode": {
    "name": "ipython",
    "version": 3
   },
   "file_extension": ".py",
   "mimetype": "text/x-python",
   "name": "python",
   "nbconvert_exporter": "python",
   "pygments_lexer": "ipython3",
   "version": "3.8.3"
  }
 },
 "nbformat": 4,
 "nbformat_minor": 4
}
