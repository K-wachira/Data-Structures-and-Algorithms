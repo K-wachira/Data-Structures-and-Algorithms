{
 "cells": [
  {
   "cell_type": "markdown",
   "metadata": {},
   "source": [
    "Binary search"
   ]
  },
  {
   "cell_type": "code",
   "execution_count": 21,
   "metadata": {},
   "outputs": [
    {
     "name": "stdout",
     "output_type": "stream",
     "text": [
      "0 8\n",
      "5\n",
      "7\n",
      "8\n",
      "9\n"
     ]
    },
    {
     "data": {
      "text/plain": [
       "'Not Found'"
      ]
     },
     "execution_count": 21,
     "metadata": {},
     "output_type": "execute_result"
    }
   ],
   "source": [
    "class Solution():\n",
    "    \n",
    "    def binarySearch(self, arr, n):\n",
    "        low , high = 0, len(arr)-1\n",
    "        print(low, high)\n",
    "        \n",
    "        \n",
    "        while low <= high:\n",
    "            mid = (low+high) //2\n",
    "            print(arr[mid])\n",
    "            \n",
    "            if arr[mid] == n:\n",
    "                return 'Found'\n",
    "            elif arr[mid] > n:\n",
    "                high= mid-1\n",
    "            elif arr[mid] <n :\n",
    "                low = mid+1\n",
    "            \n",
    "        return \"Not Found\"\n",
    "        \n",
    "        \n",
    "        \n",
    "        \n",
    "        \n",
    "obj = Solution()\n",
    "arr= [1,2,3,4,5,6,7,8,9]\n",
    "n = 10\n",
    "obj.binarySearch(arr, n)"
   ]
  },
  {
   "cell_type": "code",
   "execution_count": null,
   "metadata": {},
   "outputs": [],
   "source": []
  },
  {
   "cell_type": "code",
   "execution_count": null,
   "metadata": {},
   "outputs": [],
   "source": []
  }
 ],
 "metadata": {
  "kernelspec": {
   "display_name": "Python 3",
   "language": "python",
   "name": "python3"
  },
  "language_info": {
   "codemirror_mode": {
    "name": "ipython",
    "version": 3
   },
   "file_extension": ".py",
   "mimetype": "text/x-python",
   "name": "python",
   "nbconvert_exporter": "python",
   "pygments_lexer": "ipython3",
   "version": "3.8.5"
  }
 },
 "nbformat": 4,
 "nbformat_minor": 4
}
