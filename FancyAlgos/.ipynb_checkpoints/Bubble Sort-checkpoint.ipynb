{
 "cells": [
  {
   "cell_type": "markdown",
   "metadata": {},
   "source": [
    "# Bubble Sort\n",
    "\n",
    "Bubble Sort is the simplest sorting algorithm that works by repeatedly swapping the adjacent elements if they are in wrong order.\n",
    "\n",
    "\n",
    " - Worst and Average Case Time Complexity: O(n*n). Worst case occurs when array is reverse sorted.\n",
    "\n",
    " - Best Case Time Complexity: O(n). Best case occurs when array is already sorted.\n",
    "\n",
    " - Auxiliary Space: O(1)\n",
    "\n",
    " - Boundary Cases: Bubble sort takes minimum time (Order of n) when elements are already sorted.\n",
    "\n",
    " - Sorting In Place: Yes\n",
    "\n",
    " - Stable: Yes   \n",
    " \n",
    "     **NB** A sorting algorithm is said to be stable if two objects with equal keys appear in the same order in sorted output as they appear in the input array to be sorted.\n",
    "     \n",
    "***  \n",
    "### Steps ::\n",
    "\n",
    "1. Initialize a list with bool variables of checking whether there has been a swap which means the array needs to be checked if swapped,with its initial state being False\n",
    "2. Create a while loop that runs if sorted var has a False var in it. \n",
    "3. A nested for loop in the while loop that gets the index and the number in the given list\n",
    "4. check if a number at index x is greater than a number at index x+1,\n",
    "    if True\n",
    "        - swap the numbers at index x and index x+1 with each other \n",
    "        - Append False to the sorted list\n",
    "    else:\n",
    "        append True to the sorted list\n",
    "5. check if there has been any swaps on the array by checking if there is a False var apart from the first one which was set to default \n",
    "    -If there were any it means we need to go back and check if there is a swap that needs to be taken care of \n",
    "    -If there was no swap carried out return nums\n",
    "\n",
    "    \n",
    "    "
   ]
  },
  {
   "cell_type": "code",
   "execution_count": 27,
   "metadata": {},
   "outputs": [],
   "source": [
    "nums = [8,5 ,1 ,4 ,2 ,8,0]"
   ]
  },
  {
   "cell_type": "code",
   "execution_count": 28,
   "metadata": {},
   "outputs": [
    {
     "data": {
      "text/plain": [
       "[0, 1, 2, 4, 5, 8, 8]"
      ]
     },
     "execution_count": 28,
     "metadata": {},
     "output_type": "execute_result"
    }
   ],
   "source": [
    "def bubbleSort(nums):\n",
    "    sorted = [False]\n",
    "    \n",
    "    while not all(sorted):\n",
    "        for i, n in enumerate(nums):\n",
    "            if i > 0:\n",
    "                if nums[i-1] > n:\n",
    "                    #swap\n",
    "                    nums[i-1] , nums[i]= n, nums[i-1]\n",
    "                    sorted.append(False)\n",
    "                else:\n",
    "                    sorted.append(True)\n",
    "        if all(sorted[1:]):\n",
    "            return nums\n",
    "        elif not all(sorted[1:]):\n",
    "            sorted = [False]\n",
    "                    \n",
    "               \n",
    "        \n",
    "\n",
    "    return(nums)\n",
    "bubbleSort(nums)\n"
   ]
  },
  {
   "cell_type": "code",
   "execution_count": null,
   "metadata": {},
   "outputs": [],
   "source": []
  }
 ],
 "metadata": {
  "kernelspec": {
   "display_name": "Python 3",
   "language": "python",
   "name": "python3"
  },
  "language_info": {
   "codemirror_mode": {
    "name": "ipython",
    "version": 3
   },
   "file_extension": ".py",
   "mimetype": "text/x-python",
   "name": "python",
   "nbconvert_exporter": "python",
   "pygments_lexer": "ipython3",
   "version": "3.8.3"
  }
 },
 "nbformat": 4,
 "nbformat_minor": 4
}
