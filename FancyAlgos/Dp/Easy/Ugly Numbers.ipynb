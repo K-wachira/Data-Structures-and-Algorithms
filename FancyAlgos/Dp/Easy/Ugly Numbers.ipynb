{
 "cells": [
  {
   "cell_type": "markdown",
   "metadata": {},
   "source": [
    "# Ugly Numbers\n",
    "\n",
    "[Question Link](https://www.geeksforgeeks.org/ugly-numbers/)\n",
    "\n",
    "Ugly numbers are numbers whose only prime factors are 2, 3 or 5. The sequence 1, 2, 3, 4, 5, 6, 8, 9, 10, 12, 15, … shows the first 11 ugly numbers. By convention, 1 is included.\n",
    "\n",
    "Given a number n, the task is to find n’th Ugly number.\n",
    "\n",
    "### Examples:\n",
    "\n",
    "    Input  : n = 7\n",
    "    Output : 8\n",
    "\n",
    "    Input  : n = 10\n",
    "    Output : 12\n",
    "\n",
    "    Input  : n = 15\n",
    "    Output : 24\n",
    "\n",
    "    Input  : n = 150\n",
    "    Output : 5832\n",
    "    \n",
    " ***  \n",
    "### Approach 1 (Use Dynamic Programming)\n",
    "\n",
    "Here is a time efficient solution with O(n) extra space. The ugly-number sequence is 1, 2, 3, 4, 5, 6, 8, 9, 10, 12, 15, …\n",
    "     because every number can only be divided by 2, 3, 5, one way to look at the sequence is to split the sequence to three groups as below:\n",
    "     \n",
    "     (1) 1×2, 2×2, 3×2, 4×2, 5×2, …\n",
    "     \n",
    "     (2) 1×3, 2×3, 3×3, 4×3, 5×3, …\n",
    "     \n",
    "     (3) 1×5, 2×5, 3×5, 4×5, 5×5, …\n",
    "\n",
    "     We can find that every subsequence is the ugly-sequence itself (1, 2, 3, 4, 5, …) multiply 2, 3, 5. Then we use similar merge method as merge sort, to get every ugly number from the three subsequence. Every step we   choose the smallest one, and move one step after\n"
   ]
  },
  {
   "cell_type": "code",
   "execution_count": 21,
   "metadata": {},
   "outputs": [
    {
     "name": "stdout",
     "output_type": "stream",
     "text": [
      "[1, 2, 3, 4, 5, 6, 8, 9, 10, 12, 15, 16, 18, 20, 24, 25, 27, 30, 32, 36, 40, 45, 48, 50, 54, 60, 64, 72, 75, 80, 81, 90, 96, 100, 108, 120, 125, 128, 135, 144, 150, 160, 162, 180, 192, 200, 216, 225, 240, 243, 250, 256, 270, 288, 300, 320, 324, 360, 375, 384, 400, 405, 432, 450, 480, 486, 500, 512, 540, 576, 600, 625, 640, 648, 675, 720, 729, 750, 768, 800, 810, 864, 900, 960, 972, 1000, 1024, 1080, 1125, 1152, 1200, 1215, 1250, 1280, 1296, 1350, 1440, 1458, 1500, 1536, 1600, 1620, 1728, 1800, 1875, 1920, 1944, 2000, 2025, 2048, 2160, 2187, 2250, 2304, 2400, 2430, 2500, 2560, 2592, 2700, 2880, 2916, 3000, 3072, 3125, 3200, 3240, 3375, 3456, 3600, 3645, 3750, 3840, 3888, 4000, 4050, 4096, 4320, 4374, 4500, 4608, 4800, 4860, 5000, 5120, 5184, 5400, 5625, 5760, 5832]\n"
     ]
    },
    {
     "data": {
      "text/plain": [
       "5832"
      ]
     },
     "execution_count": 21,
     "metadata": {},
     "output_type": "execute_result"
    }
   ],
   "source": [
    "# Function to get the nth ugly number \n",
    "def getNthUglyNo(n): \n",
    "  \n",
    "    ugly = [0] * n # To store ugly numbers \n",
    "  \n",
    "    ugly[0] = 1\n",
    "  \n",
    "    i2 = i3 =i5 = 0\n",
    "  \n",
    "    next_multiple_of_2 = 2\n",
    "    next_multiple_of_3 = 3\n",
    "    next_multiple_of_5 = 5\n",
    "  \n",
    "    for l in range(1, n): \n",
    "  \n",
    "        ugly[l] = min(next_multiple_of_2, next_multiple_of_3, next_multiple_of_5) \n",
    "  \n",
    "        if ugly[l] == next_multiple_of_2: \n",
    "            i2 += 1\n",
    "            next_multiple_of_2 = ugly[i2] * 2\n",
    "  \n",
    "        if ugly[l] == next_multiple_of_3: \n",
    "            i3 += 1\n",
    "            next_multiple_of_3 = ugly[i3] * 3\n",
    "  \n",
    "        if ugly[l] == next_multiple_of_5:  \n",
    "            i5 += 1\n",
    "            next_multiple_of_5 = ugly[i5] * 5\n",
    "            \n",
    "    print(ugly)\n",
    "  \n",
    "    return ugly[n-1] \n",
    "    \n",
    "n = 150\n",
    "getNthUglyNo(n)"
   ]
  },
  {
   "cell_type": "code",
   "execution_count": 34,
   "metadata": {},
   "outputs": [
    {
     "name": "stdout",
     "output_type": "stream",
     "text": [
      "[1, 2, 0, 0, 0, 0, 0, 0, 0, 0, 0, 0, 0, 0, 0]\n",
      "[1, 2, 3, 0, 0, 0, 0, 0, 0, 0, 0, 0, 0, 0, 0]\n",
      "[1, 2, 3, 4, 0, 0, 0, 0, 0, 0, 0, 0, 0, 0, 0]\n",
      "[1, 2, 3, 4, 5, 0, 0, 0, 0, 0, 0, 0, 0, 0, 0]\n",
      "[1, 2, 3, 4, 5, 6, 0, 0, 0, 0, 0, 0, 0, 0, 0]\n",
      "[1, 2, 3, 4, 5, 6, 8, 0, 0, 0, 0, 0, 0, 0, 0]\n",
      "[1, 2, 3, 4, 5, 6, 8, 9, 0, 0, 0, 0, 0, 0, 0]\n",
      "[1, 2, 3, 4, 5, 6, 8, 9, 10, 0, 0, 0, 0, 0, 0]\n",
      "[1, 2, 3, 4, 5, 6, 8, 9, 10, 12, 0, 0, 0, 0, 0]\n",
      "[1, 2, 3, 4, 5, 6, 8, 9, 10, 12, 15, 0, 0, 0, 0]\n",
      "[1, 2, 3, 4, 5, 6, 8, 9, 10, 12, 15, 16, 0, 0, 0]\n",
      "[1, 2, 3, 4, 5, 6, 8, 9, 10, 12, 15, 16, 18, 0, 0]\n",
      "[1, 2, 3, 4, 5, 6, 8, 9, 10, 12, 15, 16, 18, 20, 0]\n",
      "[1, 2, 3, 4, 5, 6, 8, 9, 10, 12, 15, 16, 18, 20, 24]\n",
      "[1, 2, 3, 4, 5, 6, 8, 9, 10, 12, 15, 16, 18, 20, 24]\n"
     ]
    }
   ],
   "source": [
    "def  f (n) :\n",
    "    ugly = [0] *n\n",
    "    \n",
    "    ugly[0] = 1\n",
    "    \n",
    "    \n",
    "    i2=i3=i5 =0\n",
    "    \n",
    "    next_ugly_2 = 2\n",
    "    next_ugly_3 =3\n",
    "    next_ugly_5 = 5\n",
    "    \n",
    "    for j in range(1,n):\n",
    "        ugly[j] = min(next_ugly_2, next_ugly_3, next_ugly_5)\n",
    "        print(ugly)\n",
    "        \n",
    "        if ugly[j] == next_ugly_2:\n",
    "            i2 +=1\n",
    "            next_ugly_2 = ugly[i2] * 2\n",
    "            \n",
    "        if ugly[j] == next_ugly_3:\n",
    "            i3 +=1\n",
    "            next_ugly_3 = ugly[i3] * 3\n",
    "        if ugly[j] == next_ugly_5:\n",
    "            i5 +=1\n",
    "            next_ugly_5 = ugly[i5] *5\n",
    "            \n",
    "    print(ugly)\n",
    "\n",
    "n =15\n",
    "f(n)"
   ]
  },
  {
   "cell_type": "code",
   "execution_count": null,
   "metadata": {},
   "outputs": [],
   "source": []
  }
 ],
 "metadata": {
  "kernelspec": {
   "display_name": "Python 3",
   "language": "python",
   "name": "python3"
  },
  "language_info": {
   "codemirror_mode": {
    "name": "ipython",
    "version": 3
   },
   "file_extension": ".py",
   "mimetype": "text/x-python",
   "name": "python",
   "nbconvert_exporter": "python",
   "pygments_lexer": "ipython3",
   "version": "3.8.3"
  }
 },
 "nbformat": 4,
 "nbformat_minor": 4
}
