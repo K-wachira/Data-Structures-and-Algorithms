{
 "cells": [
  {
   "cell_type": "markdown",
   "metadata": {},
   "source": [
    "# QuickSort\n",
    "\n",
    "\n",
    "Like Merge Sort, QuickSort is a Divide and Conquer algorithm. It picks an element as pivot and partitions the given array around the picked pivot. There are many different versions of quickSort that pick pivot in different ways. \n",
    "\n",
    "\n",
    "\n",
    "    Always pick first element as pivot.\n",
    "    Always pick last element as pivot (implemented below)\n",
    "    Pick a random element as pivot.\n",
    "    Pick median as pivot.\n",
    "    \n",
    "   \n",
    "The key process in quickSort is partition(). Target of partitions is, given an array and an element x of array as pivot, put x at its correct position in sorted array and put all smaller elements (smaller than x) before x, and put all greater elements (greater than x) after x. All this should be done in linear time.\n",
    "\n"
   ]
  },
  {
   "cell_type": "code",
   "execution_count": 77,
   "metadata": {},
   "outputs": [
    {
     "data": {
      "text/plain": [
       "[1, 2, 3, 4, 5, 9223372036854775807]"
      ]
     },
     "execution_count": 77,
     "metadata": {},
     "output_type": "execute_result"
    }
   ],
   "source": [
    "import sys\n",
    "def partition(low, high, arr):\n",
    "    pivot = arr[low]\n",
    "    i = low\n",
    "    j = high\n",
    "    while i < j:   \n",
    "        while arr[i] <= pivot:\n",
    "            i+=1\n",
    "        \n",
    "        while arr[j] > pivot:\n",
    "            j -=1        \n",
    "        if i < j:\n",
    "            arr[i], arr[j] = arr[j], arr[i]\n",
    "        \n",
    "    arr[low] , arr[j] = arr[j], arr[low] \n",
    "    return j\n",
    "\n",
    "def quicksort (arr, low, high):\n",
    "    if low< high:\n",
    "        j = partition(low, high, arr)\n",
    "        quicksort(arr ,low, j)\n",
    "        quicksort(arr, j+1, high)\n",
    "        \n",
    "    return arr\n",
    "arr = [1,2,3,4,5 ,sys.maxsize]\n",
    "low = 0\n",
    "high = len(arr)-1\n",
    "quicksort (arr, low, high)"
   ]
  },
  {
   "cell_type": "code",
   "execution_count": 76,
   "metadata": {},
   "outputs": [
    {
     "data": {
      "text/plain": [
       "[2, 3, 5, 6, 8, 9, 10, 12, 15, 16, 9223372036854775807]"
      ]
     },
     "execution_count": 76,
     "metadata": {},
     "output_type": "execute_result"
    }
   ],
   "source": [
    "array = [10, 16,8,12,2,15,6,3,9,5 ,sys.maxsize]\n",
    "low  = 0\n",
    "high = len(array) -1\n",
    "def partition1(low, high , arr):\n",
    "    pivot = arr[low]\n",
    "    i = low\n",
    "    j = high\n",
    "    while i <  j:        \n",
    "        while arr[i] <= pivot:\n",
    "            i +=1 \n",
    "        while arr[j] > pivot:\n",
    "            j-=1       \n",
    "        if i < j :\n",
    "            \n",
    "            arr[i] , arr[j] = arr[j], arr[i]\n",
    "            \n",
    "    arr[low], arr[j] = arr[j], arr[low]\n",
    "    return j \n",
    "def quicksort1(arr, low, high):\n",
    "    \n",
    "    if low< high:\n",
    "        pi = partition1(low, high, arr)        \n",
    "        quicksort1(arr, low, pi)\n",
    "        quicksort1(arr, pi+1, high)        \n",
    "    return arr    \n",
    "quicksort1(array ,low, high )\n"
   ]
  },
  {
   "cell_type": "code",
   "execution_count": 88,
   "metadata": {},
   "outputs": [
    {
     "data": {
      "text/plain": [
       "[1, 4, 5, 7, 8, 8, 9]"
      ]
     },
     "execution_count": 88,
     "metadata": {},
     "output_type": "execute_result"
    }
   ],
   "source": [
    "def partition(arr, low, high):\n",
    "    i= low-1\n",
    "    pivot = arr[high]\n",
    "    \n",
    "    for j in range(low, high):\n",
    "        if arr[j] <= pivot:\n",
    "            i +=1  \n",
    "            arr[i], arr[j] = arr[j], arr[i]\n",
    "    arr[i+1], arr[high] = arr[high], arr[i+1]\n",
    "    return i+1\n",
    "\n",
    "def quicksort(arr, low, high):\n",
    "    if  len (arr) ==1: return arr\n",
    "    \n",
    "    if low < high:\n",
    "        \n",
    "        pi = partition(arr, low , high)\n",
    "        quicksort(arr, low, pi-1)\n",
    "        quicksort(arr, pi+1, high)\n",
    "        \n",
    "    return arr\n",
    "\n",
    "            \n",
    "    \n",
    " \n",
    "# Driver code to test above\n",
    "arr = [4, 7, 8,8, 9, 1, 5]\n",
    "quicksort(arr, 0, len(arr)-1)            \n",
    "    \n",
    "            \n",
    "            \n",
    "            \n",
    "\n",
    " \n",
    "\n",
    "# quickSort(arr, 0, n-1)"
   ]
  },
  {
   "cell_type": "code",
   "execution_count": null,
   "metadata": {},
   "outputs": [],
   "source": []
  }
 ],
 "metadata": {
  "kernelspec": {
   "display_name": "Python 3",
   "language": "python",
   "name": "python3"
  },
  "language_info": {
   "codemirror_mode": {
    "name": "ipython",
    "version": 3
   },
   "file_extension": ".py",
   "mimetype": "text/x-python",
   "name": "python",
   "nbconvert_exporter": "python",
   "pygments_lexer": "ipython3",
   "version": "3.8.5"
  }
 },
 "nbformat": 4,
 "nbformat_minor": 4
}
