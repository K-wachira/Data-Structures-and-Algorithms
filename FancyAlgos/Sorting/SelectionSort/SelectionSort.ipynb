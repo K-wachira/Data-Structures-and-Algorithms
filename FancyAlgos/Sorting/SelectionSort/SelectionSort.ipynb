{
 "cells": [
  {
   "cell_type": "markdown",
   "metadata": {},
   "source": [
    "# Selection Sort\n",
    "\n",
    "The selection sort algorithm sorts an array by repeatedly finding the minimum element (considering ascending order) from unsorted part and putting it at the beginning. The algorithm maintains two subarrays in a given array.\n",
    "\n",
    "1. The subarray which is already sorted.\n",
    "2. Remaining subarray which is unsorted.\n",
    "\n",
    "In every iteration of selection sort, the minimum element (considering ascending order) from the unsorted subarray is picked and moved to the sorted subarray. \n",
    "\n",
    "Stability : The default implementation is not stable. However it can be made stable. Please see stable selection sort for details.\n",
    "\n",
    "\n",
    "## Approach 1(Iterative)\n",
    "\n",
    "### Steps ::\n",
    "\n",
    "1. Init with an empty array `nums2` in which we will store the sorted elements \n",
    "2. A while loop with the condition when len(nums) is more than 1\n",
    "3. Take the minimum number on the nums and append it to nums2 and delete it from nums\n"
   ]
  },
  {
   "cell_type": "code",
   "execution_count": 46,
   "metadata": {},
   "outputs": [],
   "source": [
    "nums = [78,11, 22, 25, 64]"
   ]
  },
  {
   "cell_type": "code",
   "execution_count": 40,
   "metadata": {},
   "outputs": [
    {
     "data": {
      "text/plain": [
       "[11, 11, 11, 11, 11, 11, 22, 25, 64, 78]"
      ]
     },
     "execution_count": 40,
     "metadata": {},
     "output_type": "execute_result"
    }
   ],
   "source": [
    "def selectionSort(nums):\n",
    "    nums2 = []\n",
    "    while len(nums) > 0:\n",
    "        mini = min(nums)\n",
    "        nums2.append(mini)\n",
    "        nums.remove(mini)\n",
    "    return nums2\n",
    "selectionSort(nums)"
   ]
  },
  {
   "cell_type": "markdown",
   "metadata": {},
   "source": [
    "## Approach 2 (Iterative -Inplace)\n",
    "\n",
    "### Steps::\n",
    "1. Iterate though nums\n",
    "2. For every number on the array swap it with the minimum value in the rest of the array from the number.\n",
    "\n"
   ]
  },
  {
   "cell_type": "code",
   "execution_count": 47,
   "metadata": {},
   "outputs": [
    {
     "name": "stdout",
     "output_type": "stream",
     "text": [
      "11\n",
      "22\n",
      "25\n",
      "64\n",
      "78\n",
      "[11, 22, 25, 64, 78]\n"
     ]
    }
   ],
   "source": [
    "def selectionSort2(nums):\n",
    "    for i in range(len(nums)):\n",
    "        mini = min(nums[i:])\n",
    "        indexofmini = nums.index(mini)\n",
    "        #swap\n",
    "        nums[indexofmini],nums[i] = nums[i], nums[indexofmini]\n",
    "        \n",
    "\n",
    "\n",
    "       \n",
    "    print(nums)\n",
    "selectionSort2(nums)"
   ]
  },
  {
   "cell_type": "code",
   "execution_count": null,
   "metadata": {},
   "outputs": [],
   "source": []
  }
 ],
 "metadata": {
  "kernelspec": {
   "display_name": "Python 3",
   "language": "python",
   "name": "python3"
  },
  "language_info": {
   "codemirror_mode": {
    "name": "ipython",
    "version": 3
   },
   "file_extension": ".py",
   "mimetype": "text/x-python",
   "name": "python",
   "nbconvert_exporter": "python",
   "pygments_lexer": "ipython3",
   "version": "3.8.3"
  }
 },
 "nbformat": 4,
 "nbformat_minor": 4
}
