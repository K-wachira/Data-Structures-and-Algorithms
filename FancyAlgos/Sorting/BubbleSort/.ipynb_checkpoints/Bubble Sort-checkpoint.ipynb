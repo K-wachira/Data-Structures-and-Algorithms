{
 "cells": [
  {
   "cell_type": "markdown",
   "metadata": {},
   "source": [
    "# Bubble Sort\n",
    "\n",
    "Bubble Sort is the simplest sorting algorithm that works by repeatedly swapping the adjacent elements if they are in wrong order.\n",
    "\n",
    "\n",
    " - Worst and Average Case Time Complexity: O(n*n). Worst case occurs when array is reverse sorted.\n",
    "\n",
    " - Best Case Time Complexity: O(n). Best case occurs when array is already sorted.\n",
    "\n",
    " - Auxiliary Space: O(1)\n",
    "\n",
    " - Boundary Cases: Bubble sort takes minimum time (Order of n) when elements are already sorted.\n",
    "\n",
    " - Sorting In Place: Yes\n",
    "\n",
    " - Stable: Yes"
   ]
  }
 ],
 "metadata": {
  "kernelspec": {
   "display_name": "Python 3",
   "language": "python",
   "name": "python3"
  },
  "language_info": {
   "codemirror_mode": {
    "name": "ipython",
    "version": 3
   },
   "file_extension": ".py",
   "mimetype": "text/x-python",
   "name": "python",
   "nbconvert_exporter": "python",
   "pygments_lexer": "ipython3",
   "version": "3.8.3"
  }
 },
 "nbformat": 4,
 "nbformat_minor": 4
}
