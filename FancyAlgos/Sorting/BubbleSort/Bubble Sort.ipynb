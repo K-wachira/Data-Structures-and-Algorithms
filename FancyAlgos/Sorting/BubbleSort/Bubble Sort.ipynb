{
 "cells": [
  {
   "cell_type": "markdown",
   "metadata": {},
   "source": [
    "# Bubble Sort\n",
    "\n",
    "Bubble Sort is the simplest sorting algorithm that works by repeatedly swapping the adjacent elements if they are in wrong order.\n",
    "\n",
    "\n",
    " - Worst and Average Case Time Complexity: O(n*n). Worst case occurs when array is reverse sorted.\n",
    "\n",
    " - Best Case Time Complexity: O(n). Best case occurs when array is already sorted.\n",
    "\n",
    " - Auxiliary Space: O(1)\n",
    "\n",
    " - Boundary Cases: Bubble sort takes minimum time (Order of n) when elements are already sorted.\n",
    "\n",
    " - Sorting In Place: Yes\n",
    "\n",
    " - Stable: Yes   \n",
    " \n",
    "     **NB** A sorting algorithm is said to be stable if two objects with equal keys appear in the same order in sorted output as they appear in the input array to be sorted.\n",
    "     \n",
    "***  \n",
    "## Approach 1(Iterative)\n",
    "\n",
    "### Steps ::\n",
    "\n",
    "1. Initialize with a bool var `Swapped = True` for checking if there has been a swap which means the array needs to be checked.\n",
    "2. Create a `while loop` that runs if `swapped` is `True`. \n",
    "3. Have a bool checking when to break from the while loop - if there has not been swaps which means the Array is fully sorted\n",
    "4. A nested for loop in the while loop that gets the `index-i` and the `number-n` in the given list\n",
    "5. check if a number at `index x` is greater than a number at `index x+1`,\n",
    "    if True\n",
    "        - swap the numbers at `index x` and `index x+1` with each other \n",
    "        - swapped = True\n",
    "        - breaking = False i.e because there has been a swap \n",
    "  \n",
    "6. Check if breaking is True which means there has been no swaps and hence return nums\n",
    "    \n",
    "    "
   ]
  },
  {
   "cell_type": "code",
   "execution_count": 1,
   "metadata": {},
   "outputs": [],
   "source": [
    "nums = [8,5 ,1 ,11,4 ,2 ,8,0]"
   ]
  },
  {
   "cell_type": "code",
   "execution_count": 59,
   "metadata": {},
   "outputs": [
    {
     "data": {
      "text/plain": [
       "[0, 1, 2, 4, 5, 8, 8, 11]"
      ]
     },
     "execution_count": 59,
     "metadata": {},
     "output_type": "execute_result"
    }
   ],
   "source": [
    "def bubbleSort(nums):\n",
    "    swapped = True\n",
    "    \n",
    "    while swapped:\n",
    "        breaking = True\n",
    "        for i, n in enumerate(nums):\n",
    "            if i > 0:\n",
    "                if nums[i-1] > n:\n",
    "                    #swap\n",
    "                    nums[i-1] , nums[i]= n, nums[i-1]\n",
    "                    swapped = True\n",
    "                    breaking = False\n",
    "        if breaking:\n",
    "            return nums\n",
    "\n",
    "bubbleSort(nums)\n"
   ]
  },
  {
   "cell_type": "markdown",
   "metadata": {},
   "source": [
    "## Approach 2 (Recursive)\n",
    "\n",
    "Base case is when breaking == True\n",
    "### Steps::\n",
    "1. Have the function take two arguments, the given Array and a bool of whether the array is sorted which initially it will always be false\n",
    "\n",
    "2. Base case : if the Breaking is true i.e when we transversed the array there was no swap\n",
    "3. Have a bool of checkin if there has been any swapping and set it to False initially\n",
    "3. loop through the Array and check if there are two numbers that need swapped . If there are any swap them and set swapped to True\n",
    "4. If swapped call the function bubbleSort2 and pass breaking as False\n",
    "   If not swapped call the Function bubbleSort and pass breaking as True\n",
    "\n",
    "\n"
   ]
  },
  {
   "cell_type": "code",
   "execution_count": 2,
   "metadata": {},
   "outputs": [
    {
     "name": "stdout",
     "output_type": "stream",
     "text": [
      "False\n",
      "False\n",
      "False\n",
      "False\n",
      "False\n",
      "False\n",
      "False\n",
      "False\n",
      "True\n"
     ]
    }
   ],
   "source": [
    "def bubbleSort2(nums,  breaking):\n",
    "    swapped = False\n",
    "    print(breaking)\n",
    "    if breaking:\n",
    "\n",
    "        return nums\n",
    "    else:\n",
    "        for i in range(len(nums)-1):\n",
    "            if nums[i] > nums[i+1]:\n",
    "               nums[i+1], nums[i] =nums[i], nums[i+1]\n",
    "               swapped = True\n",
    "        if swapped :\n",
    "            bubbleSort2(nums, breaking)\n",
    "        else:\n",
    "            bubbleSort2(nums,True)\n",
    "    \n",
    "    \n",
    "breaking = False\n",
    "bubbleSort2(nums,  breaking)\n",
    "\n",
    "    \n",
    "    "
   ]
  }
 ],
 "metadata": {
  "kernelspec": {
   "display_name": "Python 3",
   "language": "python",
   "name": "python3"
  },
  "language_info": {
   "codemirror_mode": {
    "name": "ipython",
    "version": 3
   },
   "file_extension": ".py",
   "mimetype": "text/x-python",
   "name": "python",
   "nbconvert_exporter": "python",
   "pygments_lexer": "ipython3",
   "version": "3.8.3"
  }
 },
 "nbformat": 4,
 "nbformat_minor": 4
}
