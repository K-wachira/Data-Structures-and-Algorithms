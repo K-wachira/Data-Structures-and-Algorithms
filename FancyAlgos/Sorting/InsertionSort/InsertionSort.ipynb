{
 "cells": [
  {
   "cell_type": "markdown",
   "metadata": {},
   "source": [
    "# Insertion Sort\n",
    "\n",
    "Insertion sort is a simple sorting algorithm that works similar to the way you sort playing cards in your hands. The array is virtually split into a sorted and an unsorted part. Values from the unsorted part are picked and placed at the correct position in the sorted part.\n",
    "\n",
    "Time Complexity: O(n*2)\n",
    "\n",
    "Auxiliary Space: O(1)\n",
    "\n",
    "Boundary Cases: Insertion sort takes maximum time to sort if elements are sorted in reverse order. And it takes minimum time (Order of n) when elements are already sorted.\n",
    "\n",
    "Algorithmic Paradigm: Incremental Approach\n",
    "\n",
    "Sorting In Place: Yes\n",
    "\n",
    "Stable: Yes\n"
   ]
  },
  {
   "cell_type": "code",
   "execution_count": 23,
   "metadata": {},
   "outputs": [],
   "source": [
    "nums = [ 12, 11, 13, 5, 6]"
   ]
  },
  {
   "cell_type": "markdown",
   "metadata": {},
   "source": [
    "#  Incremental Approach \n"
   ]
  },
  {
   "cell_type": "code",
   "execution_count": 7,
   "metadata": {},
   "outputs": [
    {
     "name": "stdout",
     "output_type": "stream",
     "text": [
      "[11, 12, 13, 5, 6]\n",
      "[11, 12, 13, 5, 6]\n",
      "[5, 11, 12, 13, 6]\n",
      "[5, 6, 11, 12, 13]\n"
     ]
    }
   ],
   "source": [
    "def insertion_Sort(arr):\n",
    "       for i in range(1, len(arr)): \n",
    "  \n",
    "            key = arr[i] \n",
    "\n",
    "            # Move elements of arr[0..i-1], that are \n",
    "            # greater than key, to one position ahead \n",
    "            # of their current position \n",
    "            j = i-1\n",
    "            while j >= 0 and key < arr[j] : \n",
    "                    arr[j + 1] = arr[j] \n",
    "                    j -= 1\n",
    "            arr[j + 1] = key \n",
    "            print(nums)\n",
    "\n",
    "            \n",
    "            \n",
    "insertion_Sort(nums)           \n"
   ]
  },
  {
   "cell_type": "code",
   "execution_count": 2,
   "metadata": {},
   "outputs": [
    {
     "data": {
      "text/plain": [
       "[9, 1, 2, 3]"
      ]
     },
     "execution_count": 2,
     "metadata": {},
     "output_type": "execute_result"
    }
   ],
   "source": [
    "x = [1,2,3]\n",
    "\n",
    "x.insert(0, 9)\n",
    "x"
   ]
  },
  {
   "cell_type": "code",
   "execution_count": 45,
   "metadata": {},
   "outputs": [
    {
     "name": "stdout",
     "output_type": "stream",
     "text": [
      "[11, 12, 13, 13, 6]\n",
      "[11, 12, 12, 13, 6]\n",
      "[11, 11, 12, 13, 6]\n",
      "[5, 11, 12, 13, 13]\n",
      "[5, 11, 12, 12, 13]\n",
      "[5, 11, 11, 12, 13]\n",
      "5 6 11 12 13\n",
      " 5 6 11 12 13"
     ]
    }
   ],
   "source": [
    "def my_solution(nums):\n",
    "    for i in range(1, len(nums)):\n",
    "        key = nums[i]\n",
    "        \n",
    "        \n",
    "        j = i-1\n",
    "        while  j >= 0 and key < nums[j] :\n",
    "            nums[j+1] = nums[j]\n",
    "            print(nums)\n",
    "            j -=1\n",
    "        nums[j+1] = key\n",
    "        \n",
    "    return nums\n",
    "        \n",
    "nums = [ 11, 12, 13, 5, 6] \n",
    "    \n",
    "my_solution(nums)\n",
    "\n",
    "print(* nums)\n",
    "for i in range(len(nums)): \n",
    "    print (\"% d\" % nums[i] , end =\"\") "
   ]
  },
  {
   "cell_type": "code",
   "execution_count": 13,
   "metadata": {},
   "outputs": [
    {
     "name": "stdout",
     "output_type": "stream",
     "text": [
      "[12, 11, 13, 5, 6]\n"
     ]
    }
   ],
   "source": [
    "print(nums)"
   ]
  },
  {
   "cell_type": "code",
   "execution_count": null,
   "metadata": {},
   "outputs": [],
   "source": []
  }
 ],
 "metadata": {
  "kernelspec": {
   "display_name": "Python 3",
   "language": "python",
   "name": "python3"
  },
  "language_info": {
   "codemirror_mode": {
    "name": "ipython",
    "version": 3
   },
   "file_extension": ".py",
   "mimetype": "text/x-python",
   "name": "python",
   "nbconvert_exporter": "python",
   "pygments_lexer": "ipython3",
   "version": "3.8.3"
  }
 },
 "nbformat": 4,
 "nbformat_minor": 4
}
