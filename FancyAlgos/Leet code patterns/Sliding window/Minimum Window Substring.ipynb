{
 "cells": [
  {
   "cell_type": "markdown",
   "metadata": {},
   "source": [
    "# Minimum Window Substring\n",
    "\n",
    "[Question link](https://leetcode.com/problems/minimum-window-substring/description/)\n",
    "\n",
    "Given a string S and a string T, find the minimum window in S which will contain all the characters in T in complexity O(n).\n",
    "\n",
    "Example:\n",
    "\n",
    "    Input: S = \"ADOBECODEBANC\", T = \"ABC\"\n",
    "    \n",
    "    Output: \"BANC\"\n"
   ]
  },
  {
   "cell_type": "code",
   "execution_count": 62,
   "metadata": {},
   "outputs": [
    {
     "data": {
      "text/plain": [
       "set"
      ]
     },
     "execution_count": 62,
     "metadata": {},
     "output_type": "execute_result"
    }
   ],
   "source": [
    "import string\n",
    "import random \n",
    "x=string.ascii_uppercase\n",
    "z = (random.randrange(100,10000))\n",
    "str = ''\n",
    "for i in range(z):\n",
    "    str = str+ x[random.randrange(1,26)]"
   ]
  },
  {
   "cell_type": "code",
   "execution_count": 65,
   "metadata": {},
   "outputs": [
    {
     "data": {
      "text/plain": [
       "'aa'"
      ]
     },
     "execution_count": 65,
     "metadata": {},
     "output_type": "execute_result"
    }
   ],
   "source": [
    "from collections import Counter\n",
    "import sys\n",
    "class Solution(object):\n",
    "    def minWindow(self, s, t):\n",
    "        \"\"\"\n",
    "        :type s: str\n",
    "        :type t: str\n",
    "        :rtype: str\n",
    "        \"\"\"\n",
    "        \n",
    "        unique = Counter(t)\n",
    "        temp = unique\n",
    "        max_len = sys.maxsize\n",
    "        indices = (0,0,max_len)\n",
    "    \n",
    "        \n",
    "        for i in range(len(s)):\n",
    "             if s[i] in unique:\n",
    "                    z = i\n",
    "                    while sum(unique.values()) > 0 and z < len(s):\n",
    "                        if s[z] in unique:\n",
    "                            unique[s[z]] -=1\n",
    "                        z+=1\n",
    "                    if sum(unique.values()) == 0 and indices[2] > z-i:\n",
    "                        indices =(i, z, z-i) \n",
    "                    unique = Counter(t)\n",
    "        minSubstring = s[indices[0]: indices[1]]\n",
    "        return minSubstring\n",
    "                    \n",
    "                            \n",
    "                \n",
    "        \n",
    "obj = Solution()\n",
    "s = \"ADOBECODEBANC\"\n",
    "t= \"ABC\"\n",
    "obj.minWindow(s,t)\n"
   ]
  },
  {
   "cell_type": "code",
   "execution_count": 118,
   "metadata": {},
   "outputs": [
    {
     "name": "stdout",
     "output_type": "stream",
     "text": [
      "Counter({'A': 1, 'B': 1, 'C': 1})\n",
      "Counter({'A': 1, 'B': 1, 'C': 1})\n",
      "Counter({'A': 1, 'B': 1, 'C': 1})\n",
      "Counter({'A': 1, 'B': 1, 'C': 1})\n",
      "Counter({'A': 1, 'B': 1, 'C': 1})\n",
      "Counter({'A': 1, 'B': 1, 'C': 1})\n",
      "Counter({'A': 1, 'B': 1, 'C': 1})\n",
      "Counter({'A': 1, 'B': 1, 'C': 1})\n",
      "Counter({'A': 1, 'B': 1, 'C': 1})\n",
      "Counter({'A': 1, 'B': 1, 'C': 1})\n",
      "Counter({'A': 1, 'B': 1, 'C': 1})\n",
      "Counter({'A': 1, 'B': 1, 'C': 1})\n",
      "Counter({'A': 1, 'B': 1, 'C': 1})\n",
      "['ADOBEC', 'BECODEB', 'BECODEB', 'BECODEB', 'CODEBA', 'CODEBA', 'BANC', 'BANC', 'BANC', 'BANC', 'C', '', '']\n"
     ]
    }
   ],
   "source": [
    "from collections import Counter\n",
    "import sys\n",
    "class Solution(object):\n",
    "    def minWindow(self, s, t):\n",
    "        \"\"\"\n",
    "        :type s: str\n",
    "        :type t: str\n",
    "        :rtype: str\n",
    "        \"\"\"\n",
    "        substrings = []\n",
    "        unique = Counter(t)\n",
    "        for i in range(len(s)):\n",
    "            x = self.mini_fnctio(s[i:], Counter(t))\n",
    "            substrings.append(x)\n",
    "        print(substrings)\n",
    "\n",
    "\n",
    "    def mini_fnctio(self,s, unique):\n",
    "        print(unique)\n",
    "\n",
    "\n",
    "        beg, end = 0,0\n",
    "\n",
    "        leng = len(s)\n",
    "\n",
    "        for i in range(leng):\n",
    "            if s[i] in unique:\n",
    "                    z = i\n",
    "                    while sum(unique.values()) > 0 and z < leng:\n",
    "                        if s[z] in unique:\n",
    "                                unique[s[z]] -=1\n",
    "                        if sum(unique.values()) == 0:\n",
    "                            end = z\n",
    "                            return(s[i:z+1])\n",
    "                        z+=1\n",
    "        return \"\"\n",
    "\n",
    "\n",
    "\n",
    "\n",
    "                        \n",
    "                  \n",
    "              \n",
    "                \n",
    "obj = Solution()\n",
    "s = \"ADOBECODEBANC\"\n",
    "t= \"ABC\"\n",
    "obj.minWindow(s,t)        "
   ]
  },
  {
   "cell_type": "code",
   "execution_count": 38,
   "metadata": {},
   "outputs": [
    {
     "name": "stdout",
     "output_type": "stream",
     "text": [
      "ADOBECO\n",
      "Counter({'A': 0, 'B': 0, 'C': 0})\n",
      "DOBECODEBA\n",
      "OBECODEB\n",
      "BECODE\n",
      "Counter({'A': 0, 'B': 0, 'C': 0})\n"
     ]
    },
    {
     "data": {
      "text/plain": [
       "'BECODE'"
      ]
     },
     "execution_count": 38,
     "metadata": {},
     "output_type": "execute_result"
    }
   ],
   "source": [
    "from collections import Counter\n",
    "import sys\n",
    "class Solution(object):\n",
    "    def minWindow(self, s, t):\n",
    "        \"\"\"\n",
    "        :type s: str\n",
    "        :type t: str\n",
    "        :rtype: str\n",
    "        \"\"\"\n",
    "        begin, end = 0, 0 \n",
    "        table = Counter(t)\n",
    "        counter = len(table)   # unique characters\n",
    "        leng = sys.maxsize\n",
    "        \n",
    "        ans= ''\n",
    "        \n",
    "        while end < len(s):\n",
    "            endchar = s[end]  \n",
    "            # if the current char is found in the table decrement its count by 1\n",
    "            \n",
    "            if endchar in table and table[endchar] > 0:\n",
    "                table[endchar] -=1\n",
    "                if table[endchar] == 0:\n",
    "                    counter -=1\n",
    "            end +=1\n",
    "            \n",
    "            # if counter == 0 means means we found an answer, now trim that window by sliding begin to right\n",
    "            \n",
    "            while counter == 0:\n",
    "            #    Store new answer if smaller than the previouly best\n",
    "                if end - begin < leng:\n",
    "                    ans = s[begin: end-begin+1]\n",
    "                    print(ans)\n",
    "\n",
    "              #  Begin char could be in table or not, \n",
    "              #  If not then good for us, it was a wasteful char and we shortened the previously found substring.\n",
    "                \n",
    "              #  If found in table increment count in table, as we are leaving it out of window and moving ahead, \n",
    "              #  So it would no longer be a part of the substring marked by begin-end window\n",
    "              #  Table only has count of chars required to make the present substring a valid candidate\n",
    "              #  If the count goes above zero means that the current window is missing one char to be an answer candidate\n",
    "                \n",
    "                startchar = s[begin] \n",
    "                if startchar in table:\n",
    "                    print(table)\n",
    "                    table[startchar] +=1\n",
    "                    if table[startchar] > 0:\n",
    "                        counter +=1\n",
    "                begin +=1\n",
    "        return ans\n",
    "            \n",
    "      \n",
    "        \n",
    "obj = Solution()\n",
    "s = \"ADOBECODEBANC\"\n",
    "t= \"ABC\"\n",
    "obj.minWindow(s,t)    "
   ]
  },
  {
   "cell_type": "code",
   "execution_count": null,
   "metadata": {
    "tags": [
     "Unfinnished"
    ]
   },
   "outputs": [],
   "source": []
  },
  {
   "cell_type": "code",
   "execution_count": null,
   "metadata": {},
   "outputs": [],
   "source": []
  }
 ],
 "metadata": {
  "kernelspec": {
   "display_name": "Python 3",
   "language": "python",
   "name": "python3"
  },
  "language_info": {
   "codemirror_mode": {
    "name": "ipython",
    "version": 3
   },
   "file_extension": ".py",
   "mimetype": "text/x-python",
   "name": "python",
   "nbconvert_exporter": "python",
   "pygments_lexer": "ipython3",
   "version": "3.8.3"
  }
 },
 "nbformat": 4,
 "nbformat_minor": 4
}
