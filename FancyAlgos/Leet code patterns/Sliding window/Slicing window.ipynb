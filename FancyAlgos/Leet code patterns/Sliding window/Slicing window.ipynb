{
 "cells": [
  {
   "cell_type": "markdown",
   "metadata": {},
   "source": [
    "# Slicing window\n",
    "\n",
    "\n",
    "[Reading material](https://medium.com/leetcode-patterns/leetcode-pattern-2-sliding-windows-for-strings-e19af105316b)\n",
    "***\n",
    "## Question::\n",
    "\n",
    "    Given an array of integers of size ‘n’.\n",
    "    Our aim is to calculate the maximum sum possible for ‘k’ consecutive elements in the array.\n",
    "\n",
    "    Input  : arr[] = {100, 200, 300, 400}\n",
    "             k = 2\n",
    "    Output : 700\n",
    "    \n",
    "### Steps::\n",
    "\n",
    "1. First get the initial `sum` of the `array[0;k]` and set it as the inital `sum`.\n",
    "2. loop though the array such that for every index `i in array` , add element at `index[k+1]` and subract element at `index[i]` in and from the `sum`.\n",
    "3. under each loop assign the sum to the max of initial sum and the `currect sum`\n",
    "4. when done with the loop return the `sum`\n",
    "\n",
    "***\n",
    "### Approach (sliding window)\n"
   ]
  },
  {
   "cell_type": "code",
   "execution_count": 4,
   "metadata": {},
   "outputs": [
    {
     "data": {
      "text/plain": [
       "700"
      ]
     },
     "execution_count": 4,
     "metadata": {},
     "output_type": "execute_result"
    }
   ],
   "source": [
    "def solution(nums,k):\n",
    "    max_sum = sum(nums[:k])\n",
    "    i = 0\n",
    "    while k < len(nums):\n",
    "        current_sum = (max_sum -nums[i]) + nums[k]\n",
    "        max_sum =max(current_sum, max_sum)\n",
    "        k+=1\n",
    "        i+=1\n",
    "        \n",
    "    return max_sum\n",
    " \n",
    "nums = [100, 200, 300, 400]\n",
    "k = 2\n",
    "solution(nums, k)\n",
    "        \n",
    "        \n",
    "        \n",
    "# BODMAS\n",
    "        "
   ]
  },
  {
   "cell_type": "markdown",
   "metadata": {},
   "source": [
    "# Sliding window 2"
   ]
  },
  {
   "cell_type": "code",
   "execution_count": 7,
   "metadata": {},
   "outputs": [
    {
     "data": {
      "text/plain": [
       "700"
      ]
     },
     "execution_count": 7,
     "metadata": {},
     "output_type": "execute_result"
    }
   ],
   "source": [
    "def solution2(nums, k):\n",
    "    curr_max = 0\n",
    "    for i in range(len(nums)):\n",
    "        if i < (len(nums) -k+1):\n",
    "            curr_max = max(curr_max, sum(nums[i:i+k]))\n",
    "    return curr_max\n",
    "\n",
    "solution2(nums, k)"
   ]
  }
 ],
 "metadata": {
  "kernelspec": {
   "display_name": "Python 3",
   "language": "python",
   "name": "python3"
  },
  "language_info": {
   "codemirror_mode": {
    "name": "ipython",
    "version": 3
   },
   "file_extension": ".py",
   "mimetype": "text/x-python",
   "name": "python",
   "nbconvert_exporter": "python",
   "pygments_lexer": "ipython3",
   "version": "3.8.3"
  }
 },
 "nbformat": 4,
 "nbformat_minor": 4
}
