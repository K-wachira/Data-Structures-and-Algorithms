{
 "cells": [
  {
   "cell_type": "markdown",
   "metadata": {},
   "source": [
    "# lone_sum \n",
    "\n",
    "[Question link](https://codingbat.com/prob/p143951)\n",
    "\n",
    "\n",
    "Given 3 int values, a b c, return their sum. However, if one of the values is the same as another of the values, it does not count towards the sum.\n",
    "\n",
    "\n",
    "    lone_sum(1, 2, 3) → 6\n",
    "    lone_sum(3, 2, 3) → 2\n",
    "    lone_sum(3, 3, 3) → 0\n",
    "    \n",
    "    "
   ]
  },
  {
   "cell_type": "code",
   "execution_count": 4,
   "metadata": {},
   "outputs": [
    {
     "data": {
      "text/plain": [
       "0"
      ]
     },
     "execution_count": 4,
     "metadata": {},
     "output_type": "execute_result"
    }
   ],
   "source": [
    "from collections import Counter\n",
    "def lone_sum(a, b, c):\n",
    "    x = [a,b,c]\n",
    "    s = Counter(x)\n",
    "    sumx = 0\n",
    "    for k, v in s.items():\n",
    "        if v == 1:\n",
    "            sumx +=k\n",
    "    return sumx\n",
    "      \n",
    "    \n",
    "a, b, c = 3,3,3\n",
    "lone_sum(a,b,c)\n",
    "    \n",
    "\n"
   ]
  },
  {
   "cell_type": "code",
   "execution_count": 11,
   "metadata": {},
   "outputs": [
    {
     "data": {
      "text/plain": [
       "2"
      ]
     },
     "execution_count": 11,
     "metadata": {},
     "output_type": "execute_result"
    }
   ],
   "source": [
    "def lone_sum(a, b, c):\n",
    "    x = [a,b,c]\n",
    "    f = {}\n",
    "    sumx = 0\n",
    "    for i in x:\n",
    "        if i in f:\n",
    "            f[i]+=1\n",
    "        else:\n",
    "            f[i] = 1\n",
    "    \n",
    "    for k, v in f.items():\n",
    "        if v == 1:\n",
    "            sumx +=k\n",
    "    return sumx\n",
    "a,b,c = 3,2,3\n",
    "lone_sum(a, b, c)"
   ]
  },
  {
   "cell_type": "code",
   "execution_count": 13,
   "metadata": {},
   "outputs": [
    {
     "data": {
      "text/plain": [
       "2"
      ]
     },
     "execution_count": 13,
     "metadata": {},
     "output_type": "execute_result"
    }
   ],
   "source": [
    "def lone_sum(a, b, c):\n",
    "  sum = 0\n",
    "  if a != b and a != c: sum += a\n",
    "  if b != a and b != c: sum += b\n",
    "  if c != a and c != b: sum += c\n",
    "  \n",
    "  return sum\n",
    "\n",
    "\n",
    "\n",
    "a,b,c = 3,2,3\n",
    "lone_sum(a, b, c)"
   ]
  },
  {
   "cell_type": "code",
   "execution_count": null,
   "metadata": {},
   "outputs": [],
   "source": []
  }
 ],
 "metadata": {
  "kernelspec": {
   "display_name": "Python 3",
   "language": "python",
   "name": "python3"
  },
  "language_info": {
   "codemirror_mode": {
    "name": "ipython",
    "version": 3
   },
   "file_extension": ".py",
   "mimetype": "text/x-python",
   "name": "python",
   "nbconvert_exporter": "python",
   "pygments_lexer": "ipython3",
   "version": "3.8.3"
  }
 },
 "nbformat": 4,
 "nbformat_minor": 4
}
