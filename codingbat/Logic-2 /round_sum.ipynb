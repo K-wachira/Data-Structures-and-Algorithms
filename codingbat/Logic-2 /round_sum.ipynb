{
 "cells": [
  {
   "cell_type": "markdown",
   "metadata": {},
   "source": [
    "# round_sum\n",
    "\n",
    "[Question Link](https://codingbat.com/prob/p179960)\n",
    "\n",
    "For this problem, we'll round an int value up to the next multiple of 10 if its rightmost digit is 5 or more, so 15 rounds up to 20. Alternately, round down to the previous multiple of 10 if its rightmost digit is less than 5, so 12 rounds down to 10. Given 3 ints, a b c, return the sum of their rounded values. To avoid code repetition, write a separate helper \"def round10(num):\" and call it 3 times. Write the helper entirely below and at the same indent level as round_sum().\n",
    "\n",
    "    round_sum(16, 17, 18) → 60\n",
    "    round_sum(12, 13, 14) → 30\n",
    "    round_sum(6, 4, 4) → 10"
   ]
  },
  {
   "cell_type": "code",
   "execution_count": 24,
   "metadata": {},
   "outputs": [
    {
     "name": "stdout",
     "output_type": "stream",
     "text": [
      "10\n",
      "10\n",
      "19\n",
      "1\n"
     ]
    },
    {
     "data": {
      "text/plain": [
       "40"
      ]
     },
     "execution_count": 24,
     "metadata": {},
     "output_type": "execute_result"
    }
   ],
   "source": [
    "def round_sum(a, b, c):\n",
    "#     print(round10(a))\n",
    "#     print(round10(b))\n",
    "#     print(round10(c))\n",
    "\n",
    "    return round10(a) + round10(b) + round10(c)\n",
    "    \n",
    "    \n",
    "    \n",
    "def round10(n):\n",
    "    print(n)\n",
    "    x = n %10\n",
    "    \n",
    "    if x >= 5:\n",
    "        print(n//10)\n",
    "        return (n-x)+10\n",
    "    return (n//10 )*10\n",
    "    \n",
    "a,b,c = 10,10,19\n",
    "round_sum(a, b, c)"
   ]
  },
  {
   "cell_type": "code",
   "execution_count": 18,
   "metadata": {},
   "outputs": [
    {
     "name": "stdout",
     "output_type": "stream",
     "text": [
      "1\n"
     ]
    }
   ],
   "source": [
    "def round_sum(a, b, c):\n",
    "      return round10(a) + round10(b) + round10(c)\n",
    "  \n",
    "def round10(num):\n",
    "      mod = num % 10\n",
    "      num -= mod\n",
    "      if mod >= 5: num += 10\n",
    "      return num"
   ]
  },
  {
   "cell_type": "code",
   "execution_count": null,
   "metadata": {},
   "outputs": [],
   "source": []
  }
 ],
 "metadata": {
  "kernelspec": {
   "display_name": "Python 3",
   "language": "python",
   "name": "python3"
  },
  "language_info": {
   "codemirror_mode": {
    "name": "ipython",
    "version": 3
   },
   "file_extension": ".py",
   "mimetype": "text/x-python",
   "name": "python",
   "nbconvert_exporter": "python",
   "pygments_lexer": "ipython3",
   "version": "3.8.3"
  }
 },
 "nbformat": 4,
 "nbformat_minor": 4
}
