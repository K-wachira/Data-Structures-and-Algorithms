{
 "cells": [
  {
   "cell_type": "markdown",
   "metadata": {},
   "source": [
    "\n",
    "Given three ints, a b c, return True if one of b or c is \"close\" (differing from a by at most 1), while the other is \"far\", differing from both other values by 2 or more. Note: abs(num) computes the absolute value of a number.\n",
    "\n",
    "```\n",
    "close_far(1, 2, 10) → True\n",
    "close_far(1, 2, 3) → False\n",
    "close_far(4, 1, 3) → True\n",
    "```"
   ]
  },
  {
   "cell_type": "code",
   "execution_count": null,
   "metadata": {},
   "outputs": [],
   "source": [
    "def close_far(a, b, c):\n",
    "    if abs(a-b) <= 1 and abs(a-c) >=2 and abs(c-b) >=2:\n",
    "        return True\n",
    "    elif abs(a-c) <= 1 and abs(a-b) >= 2 and abs( c-b) >=2:\n",
    "        return True\n",
    "    else:\n",
    "        return False"
   ]
  }
 ],
 "metadata": {
  "language_info": {
   "name": "python"
  },
  "orig_nbformat": 4
 },
 "nbformat": 4,
 "nbformat_minor": 2
}
