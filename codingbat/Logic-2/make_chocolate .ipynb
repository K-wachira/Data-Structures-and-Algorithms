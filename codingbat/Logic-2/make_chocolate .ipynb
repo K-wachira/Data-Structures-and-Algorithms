{
 "cells": [
  {
   "cell_type": "markdown",
   "metadata": {},
   "source": [
    "# Make_chocolate \n",
    "\n",
    "[Question link](https://codingbat.com/prob/p190859)\n",
    "\n",
    "We want make a package of goal kilos of chocolate. We have small bars (1 kilo each) and big bars (5 kilos each). Return the number of small bars to use, assuming we always use big bars before small bars. Return -1 if it can't be done.\n",
    "\n",
    "\n",
    "    make_chocolate(4, 1, 9) → 4\n",
    "    make_chocolate(4, 1, 10) → -1\n",
    "    make_chocolate(4, 1, 7) → 2"
   ]
  },
  {
   "cell_type": "code",
   "execution_count": 12,
   "metadata": {},
   "outputs": [
    {
     "name": "stdout",
     "output_type": "stream",
     "text": [
      "10\n",
      "2\n"
     ]
    },
    {
     "data": {
      "text/plain": [
       "4"
      ]
     },
     "execution_count": 12,
     "metadata": {},
     "output_type": "execute_result"
    }
   ],
   "source": [
    "def make_chocolate(small, big, goal):\n",
    "    \n",
    "        max_big = big*5\n",
    "        print(max_big)\n",
    "        \n",
    "        if max_big == goal: \n",
    "            return 0\n",
    "        elif max_big > goal:\n",
    "            print(goal%5)\n",
    "            if goal%5<= small:\n",
    "                goal%5 \n",
    "            else:\n",
    "                return -1\n",
    "        elif max_big < goal:\n",
    "            if (goal - max_big) <= small:\n",
    "                return goal-max_big\n",
    "            else:\n",
    "                return -1\n",
    "\n",
    "    \n",
    "small, big, goal = 6, 2, 7\n",
    "make_chocolate(small, big, goal)\n",
    "    \n",
    "    \n",
    "    \n"
   ]
  },
  {
   "cell_type": "code",
   "execution_count": null,
   "metadata": {},
   "outputs": [],
   "source": []
  }
 ],
 "metadata": {
  "kernelspec": {
   "display_name": "Python 3",
   "language": "python",
   "name": "python3"
  },
  "language_info": {
   "codemirror_mode": {
    "name": "ipython",
    "version": 3
   },
   "file_extension": ".py",
   "mimetype": "text/x-python",
   "name": "python",
   "nbconvert_exporter": "python",
   "pygments_lexer": "ipython3",
   "version": "3.8.3"
  }
 },
 "nbformat": 4,
 "nbformat_minor": 4
}
