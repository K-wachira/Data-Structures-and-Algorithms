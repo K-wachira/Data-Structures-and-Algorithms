{
 "cells": [
  {
   "cell_type": "markdown",
   "metadata": {},
   "source": [
    "Given 3 int values, a b c, return their sum. However, if one of the values is 13 then it does not count towards the sum and values to its right do not count. So for example, if b is 13, then both b and c do not count.\n",
    "\n",
    "```\n",
    "lucky_sum(1, 2, 3) → 6\n",
    "lucky_sum(1, 2, 13) → 3\n",
    "lucky_sum(1, 13, 3) → 1\n",
    "```"
   ]
  },
  {
   "cell_type": "code",
   "execution_count": null,
   "metadata": {},
   "outputs": [],
   "source": [
    "def lucky_sum(a, b, c):\n",
    "    x= [a, b, c]\n",
    "    sumx =0 \n",
    "    for i in x:\n",
    "        if i == 13:\n",
    "            break\n",
    "        sumx+=i\n",
    "    return sumx"
   ]
  },
  {
   "cell_type": "code",
   "execution_count": null,
   "metadata": {},
   "outputs": [],
   "source": []
  }
 ],
 "metadata": {
  "language_info": {
   "name": "python"
  },
  "orig_nbformat": 4
 },
 "nbformat": 4,
 "nbformat_minor": 2
}
