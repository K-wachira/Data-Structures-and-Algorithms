{
 "cells": [
  {
   "cell_type": "markdown",
   "metadata": {},
   "source": [
    "We want make a package of goal kilos of chocolate. We have small bars (1 kilo each) and big bars (5 kilos each). Return the number of small bars to use, assuming we always use big bars before small bars. Return -1 if it can't be done.\n",
    "\n",
    "```\n",
    "make_chocolate(4, 1, 9) → 4\n",
    "make_chocolate(4, 1, 10) → -1\n",
    "make_chocolate(4, 1, 7) → 2\n",
    "```"
   ]
  },
  {
   "cell_type": "code",
   "execution_count": null,
   "metadata": {},
   "outputs": [],
   "source": [
    "def make_chocolate(small, big, goal):\n",
    "    max_big = big*5\n",
    "    if max_big == goal: \n",
    "        return 0\n",
    "    elif max_big > goal:\n",
    "        if goal%5<= small:\n",
    "            return goal%5 \n",
    "        else:\n",
    "            return -1\n",
    "    elif max_big < goal:\n",
    "        if (goal - max_big) <= small:\n",
    "            return goal-max_big\n",
    "        else:\n",
    "            return -1\n",
    "            "
   ]
  }
 ],
 "metadata": {
  "language_info": {
   "name": "python"
  },
  "orig_nbformat": 4
 },
 "nbformat": 4,
 "nbformat_minor": 2
}
