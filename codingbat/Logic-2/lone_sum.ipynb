{
 "cells": [
  {
   "cell_type": "markdown",
   "metadata": {},
   "source": [
    "Given 3 int values, a b c, return their sum. However, if one of the values is the same as another of the values, it does not count towards the sum.\n",
    "\n",
    "\n",
    "```\n",
    "lone_sum(1, 2, 3) → 6\n",
    "lone_sum(3, 2, 3) → 2\n",
    "lone_sum(3, 3, 3) → 0\n",
    "```"
   ]
  },
  {
   "cell_type": "code",
   "execution_count": 26,
   "metadata": {},
   "outputs": [],
   "source": [
    "def lone_sum(a, b, c):\n",
    "    x = [a,b,c]\n",
    "    f = {}\n",
    "    sumx = 0\n",
    "    for i in x:\n",
    "        if i in f:\n",
    "            f[i]=f[i]+1\n",
    "        else:\n",
    "            f[i] = 1\n",
    "    \n",
    "    for k, v in f.items():\n",
    "        if v == 1:\n",
    "            sumx +=k\n",
    "    return sumxKJJJHH"
   ]
  },
  {
   "cell_type": "code",
   "execution_count": 27,
   "metadata": {},
   "outputs": [
    {
     "name": "stdout",
     "output_type": "stream",
     "text": [
      "[1, 2, 3]\n",
      "False\n",
      "[2, 3]\n",
      "False\n",
      "[3]\n",
      "False\n",
      "[1, 2, 3]\n",
      "False\n",
      "[1, 2, 3]\n",
      "False\n",
      "[1, 2, 3]\n",
      "False\n",
      "[1, 2, 3]\n",
      "False\n"
     ]
    }
   ],
   "source": [
    "# str    #Expected\n",
    "test_cases = [(3,  1, 2, 6),\n",
    "              (3,  3, 2, 2),\n",
    "              (3,  3, 3, 0),\n",
    "              (3,  1, 8, 12),\n",
    "              (3,  1, 9, 13),\n",
    "              (3,  2, 9, 14),\n",
    "              (3,  2, 10, 15)]\n",
    "for case in test_cases:\n",
    "    print(lone_sum(case[0], case[1], case[2]) )\n",
    "    print(lone_sum(case[0], case[1], case[2]) == case[3])\n"
   ]
  },
  {
   "cell_type": "code",
   "execution_count": null,
   "metadata": {},
   "outputs": [],
   "source": []
  }
 ],
 "metadata": {
  "kernelspec": {
   "display_name": "Python 3.10.4 64-bit",
   "language": "python",
   "name": "python3"
  },
  "language_info": {
   "codemirror_mode": {
    "name": "ipython",
    "version": 3
   },
   "file_extension": ".py",
   "mimetype": "text/x-python",
   "name": "python",
   "nbconvert_exporter": "python",
   "pygments_lexer": "ipython3",
   "version": "3.10.4"
  },
  "orig_nbformat": 4,
  "vscode": {
   "interpreter": {
    "hash": "e7370f93d1d0cde622a1f8e1c04877d8463912d04d973331ad4851f04de6915a"
   }
  }
 },
 "nbformat": 4,
 "nbformat_minor": 2
}
