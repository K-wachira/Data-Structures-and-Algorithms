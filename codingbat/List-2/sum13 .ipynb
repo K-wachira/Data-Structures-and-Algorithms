{
 "cells": [
  {
   "cell_type": "markdown",
   "metadata": {},
   "source": [
    "# sum13 \n",
    "\n",
    "[Question Link](https://codingbat.com/prob/p167025)\n",
    "\n",
    "Return the sum of the numbers in the array, returning 0 for an empty array. Except the number 13 is very unlucky, so it does not count and numbers that come immediately after a 13 also do not count.\n",
    "\n",
    "    sum13([1, 2, 2, 1]) → 6\n",
    "    sum13([1, 1]) → 2\n",
    "    sum13([1, 2, 2, 1, 13]) → 6"
   ]
  },
  {
   "cell_type": "code",
   "execution_count": 2,
   "metadata": {},
   "outputs": [
    {
     "data": {
      "text/plain": [
       "3"
      ]
     },
     "execution_count": 2,
     "metadata": {},
     "output_type": "execute_result"
    }
   ],
   "source": [
    "def sum13(nums):\n",
    "      sumx = 0\n",
    "      i=0\n",
    "      while i < len(nums):\n",
    "\n",
    "          if nums[i] == 13:\n",
    "            i+=2\n",
    "\n",
    "\n",
    "          else:\n",
    "           sumx+=nums[i]\n",
    "           i+=1\n",
    "      return sumx\n",
    "nums = [13, 1, 2, 13, 2, 1, 13]\n",
    "sum13(nums)"
   ]
  },
  {
   "cell_type": "code",
   "execution_count": null,
   "metadata": {},
   "outputs": [],
   "source": []
  }
 ],
 "metadata": {
  "kernelspec": {
   "display_name": "Python 3",
   "language": "python",
   "name": "python3"
  },
  "language_info": {
   "codemirror_mode": {
    "name": "ipython",
    "version": 3
   },
   "file_extension": ".py",
   "mimetype": "text/x-python",
   "name": "python",
   "nbconvert_exporter": "python",
   "pygments_lexer": "ipython3",
   "version": "3.8.3"
  }
 },
 "nbformat": 4,
 "nbformat_minor": 4
}
