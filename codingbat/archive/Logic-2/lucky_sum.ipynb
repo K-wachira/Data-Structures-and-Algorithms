{
 "cells": [
  {
   "cell_type": "markdown",
   "metadata": {},
   "source": [
    "# lucky_sum\n",
    "\n",
    "[Question Link](https://codingbat.com/prob/p107863)\n",
    "\n",
    "\n",
    "Given 3 int values, a b c, return their sum. However, if one of the values is 13 then it does not count towards the sum and values to its right do not count. So for example, if b is 13, then both b and c do not count.\n",
    "\n",
    "    lucky_sum(1, 2, 3) → 6\n",
    "    lucky_sum(1, 2, 13) → 3\n",
    "    lucky_sum(1, 13, 3) → 1\n",
    "    \n"
   ]
  },
  {
   "cell_type": "code",
   "execution_count": 4,
   "metadata": {},
   "outputs": [
    {
     "data": {
      "text/plain": [
       "1"
      ]
     },
     "execution_count": 4,
     "metadata": {},
     "output_type": "execute_result"
    }
   ],
   "source": [
    "def lucky_sum(a, b, c):\n",
    "    x= [a, b, c]\n",
    "    sumx =0 \n",
    "    for i in x:\n",
    "        if i == 13:\n",
    "            break\n",
    "        sumx+=i\n",
    "    return sumx\n",
    "\n",
    "a,b,c = 1,13,13\n",
    "lucky_sum(a, b, c)"
   ]
  },
  {
   "cell_type": "code",
   "execution_count": null,
   "metadata": {},
   "outputs": [],
   "source": []
  }
 ],
 "metadata": {
  "kernelspec": {
   "display_name": "Python 3",
   "language": "python",
   "name": "python3"
  },
  "language_info": {
   "codemirror_mode": {
    "name": "ipython",
    "version": 3
   },
   "file_extension": ".py",
   "mimetype": "text/x-python",
   "name": "python",
   "nbconvert_exporter": "python",
   "pygments_lexer": "ipython3",
   "version": "3.8.3"
  }
 },
 "nbformat": 4,
 "nbformat_minor": 4
}
