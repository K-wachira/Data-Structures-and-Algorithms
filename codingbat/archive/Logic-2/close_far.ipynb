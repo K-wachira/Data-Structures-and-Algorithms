{
 "cells": [
  {
   "cell_type": "markdown",
   "metadata": {},
   "source": [
    "# Close_far \n",
    "\n",
    "[Question link](https://codingbat.com/prob/p160533)\n",
    "\n",
    "Given three ints, a b c, return True if one of b or c is \"close\" (differing from a by at most 1), while the other is \"far\", differing from both other values by 2 or more. Note: abs(num) computes the absolute value of a number.\n",
    "\n",
    "    close_far(1, 2, 10) → True\n",
    "    close_far(1, 2, 3) → False\n",
    "    close_far(4, 1, 3) → True\n",
    "\n"
   ]
  },
  {
   "cell_type": "code",
   "execution_count": 7,
   "metadata": {},
   "outputs": [
    {
     "data": {
      "text/plain": [
       "False"
      ]
     },
     "execution_count": 7,
     "metadata": {},
     "output_type": "execute_result"
    }
   ],
   "source": [
    "def close_far(a, b, c):\n",
    "\n",
    "    if abs(a-b) <= 1 and abs(a-c) >=2 and abs(c-b) >=2:\n",
    "        return True\n",
    "    elif abs(a-c) <= 1 and abs(a-b) >= 2 and abs( c-b) >=2:\n",
    "        return True\n",
    "    else:\n",
    "        return False\n",
    "    \n",
    "a,b,c = 1,2,3\n",
    "close_far(a,b,c)"
   ]
  },
  {
   "cell_type": "code",
   "execution_count": 3,
   "metadata": {},
   "outputs": [
    {
     "name": "stdout",
     "output_type": "stream",
     "text": [
      "2\n"
     ]
    }
   ],
   "source": [
    "print(abs(4-6))"
   ]
  },
  {
   "cell_type": "code",
   "execution_count": null,
   "metadata": {},
   "outputs": [],
   "source": []
  }
 ],
 "metadata": {
  "kernelspec": {
   "display_name": "Python 3",
   "language": "python",
   "name": "python3"
  },
  "language_info": {
   "codemirror_mode": {
    "name": "ipython",
    "version": 3
   },
   "file_extension": ".py",
   "mimetype": "text/x-python",
   "name": "python",
   "nbconvert_exporter": "python",
   "pygments_lexer": "ipython3",
   "version": "3.8.3"
  }
 },
 "nbformat": 4,
 "nbformat_minor": 4
}
