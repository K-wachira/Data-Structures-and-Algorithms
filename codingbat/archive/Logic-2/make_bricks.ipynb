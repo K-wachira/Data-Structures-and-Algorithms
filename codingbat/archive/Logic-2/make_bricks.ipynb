{
 "cells": [
  {
   "cell_type": "markdown",
   "metadata": {},
   "source": [
    "# make_bricks\n",
    "\n",
    "We want to make a row of bricks that is goal inches long. We have a number of small bricks (1 inch each) and big bricks (5 inches each). \n",
    "Return True if it is possible to make the goal by choosing from the given bricks. \n",
    "This is a little harder than it looks and can be done without any loops. See also: [Introduction to MakeBricks](https://codingbat.com/doc/practice/makebricks-introduction.html)\n",
    "\n",
    "    make_bricks(3, 1, 8) → True\n",
    "    make_bricks(3, 1, 9) → False\n",
    "    make_bricks(3, 2, 10) → True"
   ]
  },
  {
   "cell_type": "code",
   "execution_count": 18,
   "metadata": {},
   "outputs": [
    {
     "name": "stdout",
     "output_type": "stream",
     "text": [
      "100\n"
     ]
    },
    {
     "data": {
      "text/plain": [
       "True"
      ]
     },
     "execution_count": 18,
     "metadata": {},
     "output_type": "execute_result"
    }
   ],
   "source": [
    "def make_bricks(small, big, goal):\n",
    "    bigmax = big* 5  # get the biggest number one can get from the big bricks\n",
    "    print(bigmax)\n",
    "    if bigmax > goal: # if bigmax is bigger than goal means we need fewwer bigg bricks -> calculate the number of small bricks needed by\n",
    "                    # getting the remainder when you divide goal  by 5 and see if the small bricks are available\n",
    "        return (goal % 5) <= small\n",
    "    elif bigmax == goal:   # if the bigmax == goal return true cause the goal can be reached  by just using the big bricks\n",
    "        return True\n",
    "    elif bigmax < goal:  # if bigmax is less than then it means we need small bricks that are more than or equal to the difference  of the goal and bigmax\n",
    "        return (goal - bigmax) <= small\n",
    "    \n",
    "    \n",
    "  \n",
    "    \n",
    "  \n",
    "    return False\n",
    "\n",
    "make_bricks(10,20,16)\n"
   ]
  },
  {
   "cell_type": "code",
   "execution_count": null,
   "metadata": {},
   "outputs": [],
   "source": []
  }
 ],
 "metadata": {
  "kernelspec": {
   "display_name": "Python 3",
   "language": "python",
   "name": "python3"
  },
  "language_info": {
   "codemirror_mode": {
    "name": "ipython",
    "version": 3
   },
   "file_extension": ".py",
   "mimetype": "text/x-python",
   "name": "python",
   "nbconvert_exporter": "python",
   "pygments_lexer": "ipython3",
   "version": "3.8.3"
  }
 },
 "nbformat": 4,
 "nbformat_minor": 4
}
