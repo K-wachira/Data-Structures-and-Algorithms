{
 "cells": [
  {
   "cell_type": "markdown",
   "metadata": {},
   "source": [
    "\n",
    "Given a string, return a new string where the first and last chars have been exchanged.\n",
    "\n",
    "\n",
    "```\n",
    "front_back('code') → 'eodc'\n",
    "front_back('a') → 'a'\n",
    "front_back('ab') → 'ba'\n",
    "```"
   ]
  },
  {
   "cell_type": "code",
   "execution_count": 19,
   "metadata": {},
   "outputs": [],
   "source": [
    "def front_back(str):\n",
    "  if str ==\"\" :return \"\"\n",
    "  str = [i for i in str]\n",
    "  str[0], str[len(str)-1] = str[len(str)-1],   str[0]\n",
    "  return \"\".join(str)"
   ]
  },
  {
   "cell_type": "code",
   "execution_count": 20,
   "metadata": {},
   "outputs": [
    {
     "name": "stdout",
     "output_type": "stream",
     "text": [
      "True\n",
      "True\n",
      "True\n",
      "True\n",
      "True\n",
      "True\n"
     ]
    }
   ],
   "source": [
    "               #n     #Expected\n",
    "test_cases = [\n",
    "            (\"\", \"\"),\n",
    "            ('code', 'eodc'),\n",
    "            ('a', 'a'),\n",
    "            ('ab', 'ba'),\n",
    "            ('eons', 'sone'),\n",
    "            ('kelvin', 'nelvik'),\n",
    "  ]\n",
    "for case in test_cases:\n",
    "    print(front_back(case[0]) == case[1])"
   ]
  },
  {
   "cell_type": "code",
   "execution_count": null,
   "metadata": {},
   "outputs": [],
   "source": []
  }
 ],
 "metadata": {
  "kernelspec": {
   "display_name": "Python 3.10.4 64-bit",
   "language": "python",
   "name": "python3"
  },
  "language_info": {
   "codemirror_mode": {
    "name": "ipython",
    "version": 3
   },
   "file_extension": ".py",
   "mimetype": "text/x-python",
   "name": "python",
   "nbconvert_exporter": "python",
   "pygments_lexer": "ipython3",
   "version": "3.10.4"
  },
  "orig_nbformat": 4,
  "vscode": {
   "interpreter": {
    "hash": "e7370f93d1d0cde622a1f8e1c04877d8463912d04d973331ad4851f04de6915a"
   }
  }
 },
 "nbformat": 4,
 "nbformat_minor": 2
}
