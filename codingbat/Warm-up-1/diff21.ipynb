{
 "cells": [
  {
   "cell_type": "markdown",
   "metadata": {},
   "source": [
    "\n",
    "Given an int n, return the absolute difference between n and 21, except return double the absolute difference if n is over 21.\n",
    "\n",
    "\n",
    "```\n",
    "diff21(19) → 2\n",
    "diff21(10) → 11\n",
    "diff21(21) → 0\n",
    "```"
   ]
  },
  {
   "cell_type": "code",
   "execution_count": 2,
   "metadata": {},
   "outputs": [],
   "source": [
    "def diff21(n):\n",
    "    return abs(n-21)*2 if n > 21 else abs(n-21)\n"
   ]
  },
  {
   "cell_type": "code",
   "execution_count": 6,
   "metadata": {},
   "outputs": [
    {
     "name": "stdout",
     "output_type": "stream",
     "text": [
      "True\n",
      "True\n",
      "True\n",
      "True\n",
      "True\n",
      "True\n",
      "True\n"
     ]
    }
   ],
   "source": [
    "             #n     #Expected\n",
    "test_cases = [(19,     2),\n",
    "               (20,    1),\n",
    "               (30,     18),\n",
    "               (00,     21),\n",
    "               (10,    11),\n",
    "               (21,    0),\n",
    "               (50,    59)]\n",
    "for case in test_cases:\n",
    "    print(diff21(case[0]) == case[1])"
   ]
  },
  {
   "cell_type": "code",
   "execution_count": null,
   "metadata": {},
   "outputs": [],
   "source": []
  }
 ],
 "metadata": {
  "kernelspec": {
   "display_name": "Python 3.10.4 64-bit",
   "language": "python",
   "name": "python3"
  },
  "language_info": {
   "codemirror_mode": {
    "name": "ipython",
    "version": 3
   },
   "file_extension": ".py",
   "mimetype": "text/x-python",
   "name": "python",
   "nbconvert_exporter": "python",
   "pygments_lexer": "ipython3",
   "version": "3.10.4"
  },
  "orig_nbformat": 4,
  "vscode": {
   "interpreter": {
    "hash": "e7370f93d1d0cde622a1f8e1c04877d8463912d04d973331ad4851f04de6915a"
   }
  }
 },
 "nbformat": 4,
 "nbformat_minor": 2
}
