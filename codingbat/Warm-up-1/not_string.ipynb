{
 "cells": [
  {
   "cell_type": "markdown",
   "metadata": {},
   "source": [
    "Given a string, return a new string where \"not \" has been added to the front. However, if the string already begins with \"not\", return the string unchanged.\n",
    "\n",
    "\n",
    "```    \n",
    "    not_string('candy') → 'not candy'\n",
    "    not_string('x') → 'not x'\n",
    "    not_string('not bad') → 'not bad'\n",
    "```"
   ]
  },
  {
   "cell_type": "code",
   "execution_count": 20,
   "metadata": {},
   "outputs": [],
   "source": [
    "def not_string(str):\n",
    "    return str.strip() if len(str) >2 and str.strip()[:3] == \"not\" else \"not \"+str"
   ]
  },
  {
   "cell_type": "code",
   "execution_count": 23,
   "metadata": {},
   "outputs": [
    {
     "name": "stdout",
     "output_type": "stream",
     "text": [
      "True\n",
      "True\n",
      "True\n",
      "True\n",
      "True\n",
      "True\n"
     ]
    }
   ],
   "source": [
    "# n     #Expected\n",
    "test_cases = [(\"candy\",     'not candy'),\n",
    "              ('x',    'not x'),\n",
    "              ('not bad',      'not bad'),\n",
    "              ('   not bad',      'not bad'),\n",
    "              ('not',      'not'),\n",
    "              (\"no\", \"not no\"), ]\n",
    "for case in test_cases:\n",
    "    print(not_string(case[0]) == case[1])\n"
   ]
  }
 ],
 "metadata": {
  "kernelspec": {
   "display_name": "Python 3.10.4 64-bit",
   "language": "python",
   "name": "python3"
  },
  "language_info": {
   "codemirror_mode": {
    "name": "ipython",
    "version": 3
   },
   "file_extension": ".py",
   "mimetype": "text/x-python",
   "name": "python",
   "nbconvert_exporter": "python",
   "pygments_lexer": "ipython3",
   "version": "3.10.4"
  },
  "orig_nbformat": 4,
  "vscode": {
   "interpreter": {
    "hash": "e7370f93d1d0cde622a1f8e1c04877d8463912d04d973331ad4851f04de6915a"
   }
  }
 },
 "nbformat": 4,
 "nbformat_minor": 2
}
