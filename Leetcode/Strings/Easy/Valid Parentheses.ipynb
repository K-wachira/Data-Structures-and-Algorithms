{
 "cells": [
  {
   "cell_type": "markdown",
   "metadata": {},
   "source": [
    "Given a string s containing just the characters `'('`, `')'`, `'{'`, `'}'`, `'['` and `']'`, determine if the input string is valid.\n",
    "\n",
    "An input string is valid if:\n",
    "\n",
    "* Open brackets must be closed by the same type of brackets.\n",
    "* Open brackets must be closed in the correct order.\n",
    " \n",
    "\n",
    "Example 1:\n",
    "\n",
    "```\n",
    "Input: s = \"()\"\n",
    "Output: true\n",
    "```\n",
    "\n",
    "Example 2:\n",
    "\n",
    "```\n",
    "Input: s = \"()[]{}\"\n",
    "Output: true\n",
    "```\n",
    "\n",
    "Example 3:\n",
    "\n",
    "```\n",
    "Input: s = \"(]\"\n",
    "Output: false\n",
    "```\n",
    " \n",
    "\n",
    "Constraints:\n",
    "```\n",
    "1 <= s.length <= 104\n",
    "s consists of parentheses only '()[]{}'.\n",
    "\n",
    "```"
   ]
  },
  {
   "cell_type": "code",
   "execution_count": 8,
   "metadata": {},
   "outputs": [],
   "source": [
    "class Solution:\n",
    "    def isValid(self, s):\n",
    "        stack= []\n",
    "        opening= {\"(\", \"{\", \"[\"}\n",
    "\n",
    "        for i in s:\n",
    "            if i in opening:\n",
    "                stack.append(i)\n",
    "            else:\n",
    "                if not stack: return False\n",
    "                curr=stack.pop()\n",
    "                if curr == \"(\" and i != \")\": return False\n",
    "                elif curr== \"{\" and i != \"}\": return False\n",
    "                elif curr == \"[\" and  i != \"]\":  return False\n",
    "        return stack == []\n"
   ]
  },
  {
   "cell_type": "code",
   "execution_count": 9,
   "metadata": {},
   "outputs": [
    {
     "name": "stdout",
     "output_type": "stream",
     "text": [
      "True\n",
      "True\n",
      "True\n",
      "True\n",
      "True\n",
      "True\n"
     ]
    }
   ],
   "source": [
    "test_cases = [\n",
    "    ( \"()\", True), \n",
    "    (\"()[]{}\", True), \n",
    "    (\"(]\", False), \n",
    "    (\"([)]\", False), \n",
    "    (\")]\", False), \n",
    "    (\"((({{{[[[\", False)\n",
    "]\n",
    "obj = Solution()\n",
    "for case in test_cases:\n",
    "    print( obj.isValid( case[0]) == case[1])"
   ]
  },
  {
   "cell_type": "code",
   "execution_count": null,
   "metadata": {},
   "outputs": [],
   "source": []
  },
  {
   "cell_type": "code",
   "execution_count": null,
   "metadata": {},
   "outputs": [],
   "source": []
  }
 ],
 "metadata": {
  "kernelspec": {
   "display_name": "Python 3.10.5 64-bit",
   "language": "python",
   "name": "python3"
  },
  "language_info": {
   "codemirror_mode": {
    "name": "ipython",
    "version": 3
   },
   "file_extension": ".py",
   "mimetype": "text/x-python",
   "name": "python",
   "nbconvert_exporter": "python",
   "pygments_lexer": "ipython3",
   "version": "3.10.5"
  },
  "orig_nbformat": 4,
  "vscode": {
   "interpreter": {
    "hash": "e7370f93d1d0cde622a1f8e1c04877d8463912d04d973331ad4851f04de6915a"
   }
  }
 },
 "nbformat": 4,
 "nbformat_minor": 2
}
