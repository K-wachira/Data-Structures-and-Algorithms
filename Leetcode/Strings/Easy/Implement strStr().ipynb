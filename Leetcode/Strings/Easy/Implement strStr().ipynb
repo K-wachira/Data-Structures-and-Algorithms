{
 "cells": [
  {
   "cell_type": "markdown",
   "metadata": {},
   "source": [
    "Implement `strStr()`.\n",
    "\n",
    "Given two strings `needle` and `haystack`, return the index of the first occurrence of `needle` in `haystack`, or `-1` if `needle` is not part of haystack.\n",
    "\n",
    "**Clarification**:\n",
    "\n",
    "* What should we return when needle is an empty string? This is a great question to ask during an interview.\n",
    "\n",
    "* For the purpose of this problem, we will return 0 when needle is an empty string. This is consistent to C's strstr() and Java's indexOf().\n",
    "\n",
    " \n",
    "\n",
    "Example 1:\n",
    "```\n",
    "Input: haystack = \"hello\", needle = \"ll\"\n",
    "Output: 2\n",
    "```\n",
    "\n",
    "Example 2:\n",
    "```\n",
    "Input: haystack = \"aaaaa\", needle = \"bba\"\n",
    "Output: -1\n",
    " ```\n",
    "\n",
    "Constraints:\n",
    "``\n",
    "1 <= haystack.length, needle.length <= 104\n",
    "haystack and needle consist of only lowercase English characters.\n",
    "\n",
    "``"
   ]
  },
  {
   "cell_type": "code",
   "execution_count": 33,
   "metadata": {},
   "outputs": [],
   "source": [
    "class Solution:\n",
    "    def strStr(self, haystack, needle):\n",
    "        \"\"\"\n",
    "        :type haystack: str\n",
    "        :type needle: str\n",
    "        :rtype: int\n",
    "        \"\"\"\n",
    "        if len(haystack) < len(needle): # early termination\n",
    "            return -1\n",
    "        if not needle:\n",
    "            return 0\n",
    "        \n",
    "        i = j = 0\n",
    "        while j < len(needle) and i < len(haystack): \n",
    "            if haystack[i] != needle[j]:\n",
    "                i = i - j + 1\n",
    "                j = 0\n",
    "                continue \n",
    "            i += 1\n",
    "            j += 1\n",
    "        return i - j if j == len(needle) else -1"
   ]
  },
  {
   "cell_type": "code",
   "execution_count": 34,
   "metadata": {},
   "outputs": [
    {
     "name": "stdout",
     "output_type": "stream",
     "text": [
      "True\n",
      "True\n",
      "True\n",
      "True\n",
      "True\n",
      "True\n"
     ]
    }
   ],
   "source": [
    "test_cases = [\n",
    "    (\"hello\", 'll', 2),\n",
    "    (\"aaaaa\", 'bba', -1),\n",
    "    (\"aaabbbbcccccccc\", 'c', 7),\n",
    "    (\"aaabbbbcccccccc\", 'cc', 7),\n",
    "\n",
    "    (\"aaa\", 'aab', -1),\n",
    "    (\"mississippi\", \"issip\", 4)\n",
    "\n",
    "]\n",
    "obj = Solution()\n",
    "for case in test_cases:\n",
    "    print(\n",
    "        obj.strStr(case[0], case[1]) == case[2])\n"
   ]
  },
  {
   "cell_type": "code",
   "execution_count": null,
   "metadata": {},
   "outputs": [],
   "source": []
  }
 ],
 "metadata": {
  "kernelspec": {
   "display_name": "Python 3.10.5 64-bit",
   "language": "python",
   "name": "python3"
  },
  "language_info": {
   "codemirror_mode": {
    "name": "ipython",
    "version": 3
   },
   "file_extension": ".py",
   "mimetype": "text/x-python",
   "name": "python",
   "nbconvert_exporter": "python",
   "pygments_lexer": "ipython3",
   "version": "3.10.5"
  },
  "orig_nbformat": 4,
  "vscode": {
   "interpreter": {
    "hash": "e7370f93d1d0cde622a1f8e1c04877d8463912d04d973331ad4851f04de6915a"
   }
  }
 },
 "nbformat": 4,
 "nbformat_minor": 2
}
