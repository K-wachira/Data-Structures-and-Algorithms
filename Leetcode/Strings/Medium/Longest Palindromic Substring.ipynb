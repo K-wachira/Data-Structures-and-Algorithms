{
 "cells": [
  {
   "cell_type": "markdown",
   "metadata": {},
   "source": [
    "Given a string `s`, return the longest palindromic substring in `s`.\n",
    "\n",
    " \n",
    "\n",
    "Example 1:\n",
    "```\n",
    "Input: s = \"babad\"\n",
    "Output: \"bab\"\n",
    "Explanation: \"aba\" is also a valid answer.\n",
    "```\n",
    "\n",
    "\n",
    "Example 2:\n",
    "```\n",
    "Input: s = \"cbbd\"\n",
    "Output: \"bb\"\n",
    " ```\n",
    "\n",
    "Constraints:\n",
    "```\n",
    "1 <= s.length <= 1000\n",
    "s consist of only digits and English letters.\n",
    "```"
   ]
  },
  {
   "cell_type": "code",
   "execution_count": 19,
   "metadata": {},
   "outputs": [],
   "source": [
    "class Solution:\n",
    "    def longestPalindrome(self, s):\n",
    "        self.s = s\n",
    "        self.n = len(self.s)\n",
    "        max_len, start, end =  0, 0, 0\n",
    "        for i in range(self.n):\n",
    "            x = self.span(i, i +1)\n",
    "            y = self.span(i, i )\n",
    "            max_len = max(x, y)\n",
    "            if max_len > end - start:\n",
    "                start = i - (max_len - 1) // 2\n",
    "                end = i + max_len // 2\n",
    "        return s[start: end+1]\n",
    "    \n",
    "    def span(self, l, r ):\n",
    "        \n",
    "        \n",
    "        while l >= 0 and r < self.n and self.s[l] == self.s[r]:\n",
    "            l -= 1 \n",
    "            r += 1\n",
    "        return  r-l -1            "
   ]
  },
  {
   "cell_type": "code",
   "execution_count": 21,
   "metadata": {},
   "outputs": [
    {
     "name": "stdout",
     "output_type": "stream",
     "text": [
      "True\n",
      "True\n"
     ]
    }
   ],
   "source": [
    "test_cases = [\n",
    "    (\"babad\", \"aba\"),\n",
    "    (\"cbbd\", \"bb\")\n",
    "]\n",
    "obj = Solution()\n",
    "for case in test_cases:\n",
    "    print(obj.longestPalindrome(case[0]) == case[1])\n"
   ]
  },
  {
   "cell_type": "code",
   "execution_count": null,
   "metadata": {},
   "outputs": [],
   "source": []
  }
 ],
 "metadata": {
  "kernelspec": {
   "display_name": "Python 3.10.5 64-bit",
   "language": "python",
   "name": "python3"
  },
  "language_info": {
   "codemirror_mode": {
    "name": "ipython",
    "version": 3
   },
   "file_extension": ".py",
   "mimetype": "text/x-python",
   "name": "python",
   "nbconvert_exporter": "python",
   "pygments_lexer": "ipython3",
   "version": "3.10.5"
  },
  "orig_nbformat": 4,
  "vscode": {
   "interpreter": {
    "hash": "e7370f93d1d0cde622a1f8e1c04877d8463912d04d973331ad4851f04de6915a"
   }
  }
 },
 "nbformat": 4,
 "nbformat_minor": 2
}
