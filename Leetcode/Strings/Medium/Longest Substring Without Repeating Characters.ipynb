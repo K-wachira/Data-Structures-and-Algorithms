{
 "cells": [
  {
   "cell_type": "markdown",
   "metadata": {},
   "source": [
    "Given a string s, find the length of the longest substring without repeating characters.\n",
    "\n",
    " \n",
    "\n",
    "Example 1:\n",
    "```\n",
    "Input: s = \"abcabcbb\"\n",
    "Output: 3\n",
    "Explanation: The answer is \"abc\", with the length of 3.\n",
    "```\n",
    "\n",
    "Example 2:\n",
    "```\n",
    "Input: s = \"bbbbb\"\n",
    "Output: 1\n",
    "Explanation: The answer is \"b\", with the length of 1.\n",
    "```\n",
    "\n",
    "Example 3:\n",
    "```\n",
    "Input: s = \"pwwkew\"\n",
    "Output: 3\n",
    "Explanation: The answer is \"wke\", with the length of 3.\n",
    "Notice that the answer must be a substring, \"pwke\" is a subsequence and not a substring.\n",
    "```\n",
    " \n",
    "\n",
    "Constraints:\n",
    "```\n",
    "0 <= s.length <= 5 * 104\n",
    "s consists of English letters, digits, symbols and spaces.\n",
    "```"
   ]
  },
  {
   "cell_type": "code",
   "execution_count": 23,
   "metadata": {},
   "outputs": [],
   "source": [
    "class Solution:\n",
    "    def lengthOfLongestSubstring(self, s):\n",
    "        start, end, n = 0 , 0, len(s)\n",
    "        seen = set()\n",
    "        max_so_Far = 0 \n",
    "\n",
    "        while end<n:\n",
    "            curr = s[end]\n",
    "            while curr in seen:\n",
    "                seen.remove( s[start])\n",
    "                start += 1\n",
    "            seen.add(curr)\n",
    "            max_so_Far = max((end+1) - start, max_so_Far)\n",
    "            end +=1\n",
    "        return max_so_Far\n"
   ]
  },
  {
   "cell_type": "code",
   "execution_count": 39,
   "metadata": {},
   "outputs": [],
   "source": [
    "class Solution:\n",
    "    def lengthOfLongestSubstring(self, s):\n",
    "        n = len(s)\n",
    "        ans = 0\n",
    "        # mp stores the current index of a character\n",
    "        mp = {}\n",
    "\n",
    "        i = 0\n",
    "        # try to extend the range [i, j]\n",
    "        for j in range(n):\n",
    "            if s[j] in mp:\n",
    "                i = max(mp[s[j]], i)\n",
    "            ans = max(ans, j - i + 1)\n",
    "            mp[s[j]] = j + 1\n",
    "            print(mp)\n",
    "        return ans"
   ]
  },
  {
   "cell_type": "code",
   "execution_count": 40,
   "metadata": {},
   "outputs": [
    {
     "name": "stdout",
     "output_type": "stream",
     "text": [
      "{'a': 1}\n",
      "{'a': 1, 'b': 2}\n",
      "{'a': 1, 'b': 2, 'c': 3}\n",
      "{'a': 4, 'b': 2, 'c': 3}\n",
      "{'a': 4, 'b': 5, 'c': 3}\n",
      "{'a': 4, 'b': 5, 'c': 6}\n",
      "{'a': 4, 'b': 7, 'c': 6}\n",
      "{'a': 4, 'b': 8, 'c': 6}\n",
      "True\n",
      "{'b': 1}\n",
      "{'b': 2}\n",
      "{'b': 3}\n",
      "{'b': 4}\n",
      "{'b': 5}\n",
      "True\n",
      "{'p': 1}\n",
      "{'p': 1, 'w': 2}\n",
      "{'p': 1, 'w': 3}\n",
      "{'p': 1, 'w': 3, 'k': 4}\n",
      "{'p': 1, 'w': 3, 'k': 4, 'e': 5}\n",
      "{'p': 1, 'w': 6, 'k': 4, 'e': 5}\n",
      "True\n",
      "{' ': 1}\n",
      "{' ': 2}\n",
      "True\n",
      "{'a': 1}\n",
      "{'a': 1, 'b': 2}\n",
      "{'a': 1, 'b': 3}\n",
      "{'a': 4, 'b': 3}\n",
      "True\n"
     ]
    }
   ],
   "source": [
    "test_cases = [\n",
    "    (\"abcabcbb\", 3),\n",
    "    (\"bbbbb\", 1),\n",
    "    (\"pwwkew\", 3),\n",
    "    (\"  \", 1),\n",
    "    (\"abba\", 2)]\n",
    "\n",
    "obj = Solution()\n",
    "for case in test_cases:\n",
    "    print(obj.lengthOfLongestSubstring(case[0]) == case[1])\n"
   ]
  },
  {
   "cell_type": "code",
   "execution_count": null,
   "metadata": {},
   "outputs": [],
   "source": []
  }
 ],
 "metadata": {
  "kernelspec": {
   "display_name": "Python 3.10.5 64-bit",
   "language": "python",
   "name": "python3"
  },
  "language_info": {
   "codemirror_mode": {
    "name": "ipython",
    "version": 3
   },
   "file_extension": ".py",
   "mimetype": "text/x-python",
   "name": "python",
   "nbconvert_exporter": "python",
   "pygments_lexer": "ipython3",
   "version": "3.10.5"
  },
  "orig_nbformat": 4,
  "vscode": {
   "interpreter": {
    "hash": "e7370f93d1d0cde622a1f8e1c04877d8463912d04d973331ad4851f04de6915a"
   }
  }
 },
 "nbformat": 4,
 "nbformat_minor": 2
}
