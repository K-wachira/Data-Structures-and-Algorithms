{
 "cells": [
  {
   "cell_type": "markdown",
   "metadata": {},
   "source": [
    "You are a product manager and currently leading a team to develop a new product. Unfortunately, the latest version of your product fails the quality check. Since each version is developed based on the previous version, all the versions after a bad version are also bad.\n",
    "\n",
    "Suppose you have n versions `[1, 2, ..., n]` and you want to find out the first bad one, which causes all the following ones to be bad.\n",
    "\n",
    "You are given an API bool `isBadVersion(version)` which returns whether version is bad. Implement a function to find the first bad version. You should minimize the number of calls to the API."
   ]
  },
  {
   "cell_type": "markdown",
   "metadata": {},
   "source": [
    "# Iterative Solution"
   ]
  },
  {
   "cell_type": "code",
   "execution_count": null,
   "metadata": {},
   "outputs": [],
   "source": [
    "class Solution:\n",
    "    def firstBadVersion(self, n):\n",
    "        left, right = 1, n\n",
    "        while left <= right:\n",
    "            mid = left + (right-left)//2\n",
    "            prev = isBadVersion(mid - 1)\n",
    "            curr = isBadVersion(mid)\n",
    "            if not prev and curr:\n",
    "                return curr\n",
    "            elif not prev and not prev:\n",
    "                right = mid - 1\n",
    "            else:\n",
    "                left = mid + 1\n",
    "        return"
   ]
  },
  {
   "cell_type": "markdown",
   "metadata": {},
   "source": [
    "### Recursive Solution"
   ]
  },
  {
   "cell_type": "code",
   "execution_count": null,
   "metadata": {},
   "outputs": [],
   "source": [
    "class Solution:\n",
    "    def firstBadVersion(self, n):\n",
    "        def helper(left, right):\n",
    "            if right < left:\n",
    "                return\n",
    "            mid = left + (right - left)//2\n",
    "            prev = isBadVersion(mid - 1)\n",
    "            curr = isBadVersion(mid)\n",
    "\n",
    "            if not prev and curr:\n",
    "                return mid\n",
    "            elif prev and curr:\n",
    "                return helper(left, mid - 1)\n",
    "            else:\n",
    "                return helper(mid + 1, right)\n",
    "        return helper(1, n)"
   ]
  }
 ],
 "metadata": {
  "kernelspec": {
   "display_name": "Python 3.9.12 ('base')",
   "language": "python",
   "name": "python3"
  },
  "language_info": {
   "name": "python",
   "version": "3.9.12"
  },
  "orig_nbformat": 4,
  "vscode": {
   "interpreter": {
    "hash": "2146f7101d871e612949efb3e04f02e45f1caf79f7dc973bb65773b010f27383"
   }
  }
 },
 "nbformat": 4,
 "nbformat_minor": 2
}
