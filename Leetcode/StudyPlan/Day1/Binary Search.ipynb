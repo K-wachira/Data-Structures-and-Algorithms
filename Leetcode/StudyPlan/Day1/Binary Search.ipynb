{
 "cells": [
  {
   "cell_type": "markdown",
   "metadata": {},
   "source": [
    "Given an array of integers `nums` which is sorted in ascending order, and an integer target, write a function to search target in `nums`. If target exists, then return its `index`. Otherwise, `return -1`.\n",
    "\n",
    "You must write an algorithm with `O(log n) `runtime complexity."
   ]
  },
  {
   "cell_type": "markdown",
   "metadata": {},
   "source": [
    "## Iterative solution"
   ]
  },
  {
   "cell_type": "code",
   "execution_count": 3,
   "metadata": {},
   "outputs": [],
   "source": [
    "class Solution:\n",
    "    def search(self, nums, target):\n",
    "        left, right = 0 , len(nums)-1\n",
    "        while left <= right: \n",
    "            mid = left + (right-left)//2\n",
    "            if nums[mid] == target: \n",
    "                return mid \n",
    "            elif nums[mid] > target:\n",
    "                right = mid -1 \n",
    "            else:\n",
    "                left = mid +1 \n",
    "        return -1   \n",
    "        "
   ]
  },
  {
   "cell_type": "markdown",
   "metadata": {},
   "source": [
    "# Recursively"
   ]
  },
  {
   "cell_type": "code",
   "execution_count": 5,
   "metadata": {},
   "outputs": [],
   "source": [
    "class Solution2:\n",
    "    def search(self, nums, target):\n",
    "        def helper(left, right):\n",
    "            if right < left :\n",
    "                return -1  \n",
    "            mid = left + (right - left)//2\n",
    "            if nums[mid] == target: \n",
    "                return mid \n",
    "            elif nums[mid] > target: \n",
    "                return helper( left, mid-1)\n",
    "            else:\n",
    "                return helper( mid+1, right)\n",
    "        return helper( 0, len(nums)-1)"
   ]
  },
  {
   "cell_type": "code",
   "execution_count": 6,
   "metadata": {},
   "outputs": [
    {
     "name": "stdout",
     "output_type": "stream",
     "text": [
      "Iterative Case #0 is  True\n",
      "Recursive Case #0 is  True\n",
      "Iterative Case #1 is  True\n",
      "Recursive Case #1 is  True\n",
      "Iterative Case #2 is  True\n",
      "Recursive Case #2 is  True\n"
     ]
    }
   ],
   "source": [
    "test_cases = [\n",
    "    ([-1,0,3,5,9,12], 9, 4),\n",
    "    ([-1,0,3,5,9,12], 2, -1),\n",
    "    ([-1,0,3,5,9,12], 12, 5)\n",
    "]\n",
    "\n",
    "obj = Solution()\n",
    "obj2 = Solution2()\n",
    "for index, case in enumerate(test_cases):\n",
    "    print(f'Iterative Case #{index} is ', obj.search( case[0], case[1]) == case[2])\n",
    "    print(f'Recursive Case #{index} is ', obj2.search( case[0], case[1]) == case[2])\n",
    "\n",
    "    "
   ]
  },
  {
   "cell_type": "markdown",
   "metadata": {},
   "source": []
  }
 ],
 "metadata": {
  "kernelspec": {
   "display_name": "Python 3.9.12 ('base')",
   "language": "python",
   "name": "python3"
  },
  "language_info": {
   "codemirror_mode": {
    "name": "ipython",
    "version": 3
   },
   "file_extension": ".py",
   "mimetype": "text/x-python",
   "name": "python",
   "nbconvert_exporter": "python",
   "pygments_lexer": "ipython3",
   "version": "3.9.12"
  },
  "orig_nbformat": 4,
  "vscode": {
   "interpreter": {
    "hash": "2146f7101d871e612949efb3e04f02e45f1caf79f7dc973bb65773b010f27383"
   }
  }
 },
 "nbformat": 4,
 "nbformat_minor": 2
}
