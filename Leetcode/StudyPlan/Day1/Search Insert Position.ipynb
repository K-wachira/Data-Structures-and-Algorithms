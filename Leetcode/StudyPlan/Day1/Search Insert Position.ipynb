{
 "cells": [
  {
   "cell_type": "markdown",
   "metadata": {},
   "source": [
    "Given a sorted array of distinct integers and a target value, return the index if the target is found. If not, return the index where it would be if it were inserted in order.\n",
    "\n",
    "You must write an algorithm with `O(log n) `runtime complexity."
   ]
  },
  {
   "cell_type": "markdown",
   "metadata": {},
   "source": [
    "# Iterative Solution"
   ]
  },
  {
   "cell_type": "code",
   "execution_count": 21,
   "metadata": {},
   "outputs": [],
   "source": [
    "class Solution: \n",
    "    def searchInsert(self, nums, target):\n",
    "            start, end = 0, len(nums) -1 \n",
    "            while start <= end:\n",
    "                mid = start + (end - start) // 2\n",
    "                if nums[mid] == target:\n",
    "                    return mid\n",
    "                elif nums[mid] > target:\n",
    "                    end = mid -1 \n",
    "                elif nums[mid] < target:\n",
    "                    start = mid +1 \n",
    "            return mid+1 if nums[mid] < target else mid"
   ]
  },
  {
   "cell_type": "code",
   "execution_count": 23,
   "metadata": {},
   "outputs": [
    {
     "name": "stdout",
     "output_type": "stream",
     "text": [
      "Iterative Case $0 is  True\n",
      "Iterative Case $1 is  True\n",
      "Iterative Case $2 is  True\n",
      "Iterative Case $3 is  True\n"
     ]
    }
   ],
   "source": [
    "test_cases = [\n",
    "    ([1,3,5,6], 5, 2),\n",
    "    ([1,3,5,6], 2, 1),\n",
    "    ([1,3,5,6], 7, 4),\n",
    "    ([1,3,5,6], 0, 0),\n",
    "]\n",
    "obj = Solution()\n",
    "for index, case in enumerate(test_cases):\n",
    "    print(f'Iterative Case ${index} is ', obj.searchInsert(case[0], case[1]) == case[2])"
   ]
  },
  {
   "cell_type": "code",
   "execution_count": null,
   "metadata": {},
   "outputs": [],
   "source": []
  }
 ],
 "metadata": {
  "kernelspec": {
   "display_name": "Python 3.9.12 ('base')",
   "language": "python",
   "name": "python3"
  },
  "language_info": {
   "codemirror_mode": {
    "name": "ipython",
    "version": 3
   },
   "file_extension": ".py",
   "mimetype": "text/x-python",
   "name": "python",
   "nbconvert_exporter": "python",
   "pygments_lexer": "ipython3",
   "version": "3.9.12"
  },
  "orig_nbformat": 4,
  "vscode": {
   "interpreter": {
    "hash": "2146f7101d871e612949efb3e04f02e45f1caf79f7dc973bb65773b010f27383"
   }
  }
 },
 "nbformat": 4,
 "nbformat_minor": 2
}
