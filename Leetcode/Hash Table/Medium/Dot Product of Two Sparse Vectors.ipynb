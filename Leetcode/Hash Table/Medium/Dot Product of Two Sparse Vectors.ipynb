{
 "cells": [
  {
   "cell_type": "markdown",
   "metadata": {},
   "source": [
    "Given two sparse vectors, compute their dot product.\n",
    "\n",
    "Implement class `SparseVector`:\n",
    "\n",
    "`SparseVector(nums)` Initializes the object with the vector `nums`\n",
    "`dotProduct(vec)` Compute the dot product between the instance of SparseVector and `vec`\n",
    "\n",
    "A *sparse vector* is a vector that has mostly zero values, you should store the sparse vector efficiently and compute the dot product between two SparseVector.\n",
    "\n",
    "Follow up: What if only one of the vectors is sparse?\n",
    "\n",
    " \n",
    "\n",
    "Example 1:\n",
    "```\n",
    "Input: nums1 = [1,0,0,2,3], nums2 = [0,3,0,4,0]\n",
    "Output: 8\n",
    "Explanation: v1 = SparseVector(nums1) , v2 = SparseVector(nums2)\n",
    "v1.dotProduct(v2) = 1*0 + 0*3 + 0*0 + 2*4 + 3*0 = 8\n",
    "```\n",
    "Example 2:\n",
    "```\n",
    "Input: nums1 = [0,1,0,0,0], nums2 = [0,0,0,0,2]\n",
    "Output: 0\n",
    "Explanation: v1 = SparseVector(nums1) , v2 = SparseVector(nums2)\n",
    "v1.dotProduct(v2) = 0*0 + 1*0 + 0*0 + 0*0 + 0*2 = 0\n",
    "\n",
    "```\n",
    "Example 3:\n",
    "```\n",
    "Input: nums1 = [0,1,0,0,2,0,0], nums2 = [1,0,0,0,3,0,4]\n",
    "Output: 6\n",
    " \n",
    "```\n",
    "Constraints:\n",
    "```\n",
    "n == nums1.length == nums2.length\n",
    "1 <= n <= 10^5\n",
    "0 <= nums1[i], nums2[i] <= 100\n",
    "\n",
    "```"
   ]
  },
  {
   "cell_type": "code",
   "execution_count": null,
   "metadata": {},
   "outputs": [],
   "source": [
    "class SparseVector:\n",
    "    def __init__(self, nums: List[int]):\n",
    "        self.nonzeros = {}\n",
    "        for i, n in enumerate(nums):\n",
    "            if n != 0:\n",
    "                self.nonzeros[i] = n              \n",
    "\n",
    "    def dotProduct(self, vec: 'SparseVector') -> int:\n",
    "        result = 0\n",
    "        # iterate through each non-zero element in this sparse vector\n",
    "        # update the dot product if the corresponding index has a non-zero value in the other vector\n",
    "        for i, n in self.nonzeros.items():\n",
    "            if i in vec.nonzeros:\n",
    "                result += n * vec.nonzeros[i]\n",
    "        return result"
   ]
  }
 ],
 "metadata": {
  "language_info": {
   "name": "python"
  },
  "orig_nbformat": 4
 },
 "nbformat": 4,
 "nbformat_minor": 2
}
