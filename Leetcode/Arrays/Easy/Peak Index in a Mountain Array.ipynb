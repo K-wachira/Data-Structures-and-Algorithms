{
 "cells": [
  {
   "cell_type": "markdown",
   "metadata": {},
   "source": [
    "Let's call an array arr a mountain if the following properties hold:\n",
    "\n",
    "`arr.length >= 3`\n",
    "There exists some i with 0 < i < arr.length - 1 such that:\n",
    "```\n",
    "arr[0] < arr[1] < ... arr[i-1] < arr[i]\n",
    "arr[i] > arr[i+1] > ... > arr[arr.length - 1]\n",
    "```\n",
    "Given an integer array arr that is guaranteed to be a mountain, return any i such that arr[0] < arr[1] < ... arr[i - 1] < arr[i] > arr[i + 1] > ... > arr[arr.length - 1].\n",
    "\n",
    " \n",
    "\n",
    "Example 1:\n",
    "```\n",
    "Input: arr = [0,1,0]\n",
    "Output: 1\n",
    "```\n",
    "\n",
    "Example 2:\n",
    "```\n",
    "Input: arr = [0,2,1,0]\n",
    "Output: 1\n",
    "```\n",
    "Example 3:\n",
    "\n",
    "```\n",
    "Input: arr = [0,10,5,2]\n",
    "Output: 1\n",
    "```\n",
    " \n",
    "\n",
    "Constraints:\n",
    "```\n",
    "3 <= arr.length <= 104\n",
    "0 <= arr[i] <= 106\n",
    "arr is guaranteed to be a mountain array.\n",
    "```\n",
    " \n",
    "\n",
    "Follow up: Finding the O(n) is straightforward, could you find an O(log(n)) solution?"
   ]
  },
  {
   "cell_type": "code",
   "execution_count": 12,
   "metadata": {},
   "outputs": [],
   "source": [
    "class Solution:\n",
    "    def peakIndexInMountainArray(self, arr):\n",
    "        start, end = 0, len(arr)\n",
    "        while start <= end:\n",
    "            mid = start + (end - start) // 2\n",
    "            print(arr[mid-1], arr[mid], arr[mid+1], arr[mid-1] < arr[mid] > arr[mid+1])\n",
    "            if arr[mid-1] < arr[mid] > arr[mid+1]:\n",
    "                return mid\n",
    "            elif arr[mid-1] < arr[mid] < arr[mid+1]:\n",
    "                start = mid \n",
    "            else:\n",
    "                end = mid \n"
   ]
  },
  {
   "cell_type": "code",
   "execution_count": 13,
   "metadata": {},
   "outputs": [
    {
     "name": "stdout",
     "output_type": "stream",
     "text": [
      "0 1 0 True\n",
      "0 1 0 True\n",
      "True 1\n",
      "2 1 0 False\n",
      "0 2 1 True\n",
      "2 1 0 False\n",
      "0 2 1 True\n",
      "True 1\n",
      "4 5 6 False\n",
      "6 7 1 True\n",
      "4 5 6 False\n",
      "6 7 1 True\n",
      "True 6\n",
      "10 5 2 False\n",
      "0 10 5 True\n",
      "10 5 2 False\n",
      "0 10 5 True\n",
      "True 1\n"
     ]
    }
   ],
   "source": [
    "# str    #Expected\n",
    "test_cases = [( [0,1,0],  1),\n",
    "              ([0,2,1,0], 1),\n",
    "              ([0,2,3,4,5,6,7,1,0], 6),\n",
    "              ([0,10,5,2],  1)]\n",
    "for case in test_cases:\n",
    "    obj = Solution()\n",
    "    print(obj.peakIndexInMountainArray(case[0]) == case[1], obj.peakIndexInMountainArray(case[0]) )\n"
   ]
  },
  {
   "cell_type": "code",
   "execution_count": null,
   "metadata": {},
   "outputs": [],
   "source": []
  },
  {
   "cell_type": "code",
   "execution_count": null,
   "metadata": {},
   "outputs": [],
   "source": []
  }
 ],
 "metadata": {
  "kernelspec": {
   "display_name": "Python 3.10.4 64-bit",
   "language": "python",
   "name": "python3"
  },
  "language_info": {
   "codemirror_mode": {
    "name": "ipython",
    "version": 3
   },
   "file_extension": ".py",
   "mimetype": "text/x-python",
   "name": "python",
   "nbconvert_exporter": "python",
   "pygments_lexer": "ipython3",
   "version": "3.10.4"
  },
  "orig_nbformat": 4,
  "vscode": {
   "interpreter": {
    "hash": "e7370f93d1d0cde622a1f8e1c04877d8463912d04d973331ad4851f04de6915a"
   }
  }
 },
 "nbformat": 4,
 "nbformat_minor": 2
}
