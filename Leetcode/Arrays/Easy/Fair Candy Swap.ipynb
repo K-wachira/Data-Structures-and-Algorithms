{
 "cells": [
  {
   "cell_type": "markdown",
   "metadata": {},
   "source": [
    "Alice and Bob have a different total number of candies. You are given two integer arrays aliceSizes and bobSizes where aliceSizes[i] is the number of candies of the ith box of candy that Alice has and bobSizes[j] is the number of candies of the jth box of candy that Bob has.\n",
    "\n",
    "Since they are friends, they would like to exchange one candy box each so that after the exchange, they both have the same total amount of candy. The total amount of candy a person has is the sum of the number of candies in each box they have.\n",
    "\n",
    "Return an integer array answer where answer[0] is the number of candies in the box that Alice must exchange, and answer[1] is the number of candies in the box that Bob must exchange. If there are multiple answers, you may return any one of them. It is guaranteed that at least one answer exists.\n",
    "\n",
    " \n",
    "\n",
    "Example 1:\n",
    "```\n",
    "Input: aliceSizes = [1,1], bobSizes = [2,2]\n",
    "Output: [1,2]\n",
    "```\n",
    "Example 2:\n",
    "\n",
    "```\n",
    "Input: aliceSizes = [1,2], bobSizes = [2,3]\n",
    "Output: [1,2]\n",
    "\n",
    "```\n",
    "\n",
    "\n",
    "Example 3:\n",
    "```\n",
    "Input: aliceSizes = [2], bobSizes = [1,3]\n",
    "Output: [2,3]\n",
    " ```\n",
    "\n",
    "Constraints:\n",
    "```\n",
    "1 <= aliceSizes.length, bobSizes.length <= 104\n",
    "1 <= aliceSizes[i], bobSizes[j] <= 105\n",
    "Alice and Bob have a different total number of candies.\n",
    "There will be at least one valid answer for the given input.\n",
    "\n",
    "```"
   ]
  },
  {
   "cell_type": "code",
   "execution_count": null,
   "metadata": {},
   "outputs": [],
   "source": [
    "class Solution(object):\n",
    "    def fairCandySwap(self, A, B):\n",
    "        Sa, Sb = sum(A), sum(B)\n",
    "        setB = set(B)\n",
    "        for x in A:\n",
    "            if x + (Sb - Sa) / 2 in setB:\n",
    "                return [x, x + (Sb - Sa) / 2]"
   ]
  }
 ],
 "metadata": {
  "language_info": {
   "name": "python"
  },
  "orig_nbformat": 4
 },
 "nbformat": 4,
 "nbformat_minor": 2
}
