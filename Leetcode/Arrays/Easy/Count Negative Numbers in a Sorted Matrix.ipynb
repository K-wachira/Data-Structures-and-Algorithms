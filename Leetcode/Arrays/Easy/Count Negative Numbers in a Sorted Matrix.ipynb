{
 "cells": [
  {
   "cell_type": "markdown",
   "metadata": {},
   "source": [
    "Given a `m x n` matrix grid which is `sorted` in `non-increasing` order both row-wise and column-wise, return the number of negative numbers in grid.\n",
    "\n",
    " \n",
    "\n",
    "Example 1:\n",
    "\n",
    "```\n",
    "Input: grid = [\n",
    "    [4,3,2,-1],\n",
    "    [3,2,1,-1],\n",
    "    [1,1,-1,-2],\n",
    "    [-1,-1,-2,-3]]\n",
    "Output: 8\n",
    "Explanation: There are 8 negatives number in the matrix.\n",
    "```\n",
    "\n",
    "Example 2:\n",
    "\n",
    "```\n",
    "Input: grid = [[3,2],[1,0]]\n",
    "Output: 0\n",
    " ```\n",
    "\n",
    "Constraints:\n",
    "```\n",
    "m == grid.length\n",
    "n == grid[i].length\n",
    "1 <= m, n <= 100\n",
    "-100 <= grid[i][j] <= 100\n",
    " ```\n",
    "\n",
    "Follow up: Could you find an `O(n + m)` solution?"
   ]
  },
  {
   "cell_type": "code",
   "execution_count": 19,
   "metadata": {},
   "outputs": [],
   "source": [
    "class Solution:\n",
    "    def countNegatives(self, grid):\n",
    "        returnValue  = 0\n",
    "        for row in grid:\n",
    "            returnValue += self._countNegatives(row)\n",
    "        return returnValue\n",
    "    def _countNegatives(self, row):\n",
    "        start,end = 0 , len(row)-1\n",
    "        while start <= end: \n",
    "            mid = start + (end - start) // 2\n",
    "            # if curr is negative and prev is 0 or positive\n",
    "            if (row[mid] < 0 and mid == start )or (row[mid] < 0 and row[mid-1] >= 0): \n",
    "                return len(row) - mid\n",
    "            # if row curr is negative and also prev is negative \n",
    "            elif (row[mid] < 0 and row[mid-1] < 0) or (row[mid] < 0): \n",
    "                end = mid -1\n",
    "            elif row[mid] >= 0:\n",
    "                start = mid + 1\n",
    "        return 0"
   ]
  },
  {
   "cell_type": "code",
   "execution_count": 22,
   "metadata": {},
   "outputs": [],
   "source": [
    "class Solution2:\n",
    "    def countNegatives(self, grid):\n",
    "        m, n = len(grid), len(grid[0])\n",
    "        r, c, cnt = m - 1, 0, 0\n",
    "        while r >= 0 and c < n:\n",
    "            if grid[r][c] < 0:\n",
    "                cnt += n - c\n",
    "                r -= 1\n",
    "            else:\n",
    "                c += 1\n",
    "        return cnt\n"
   ]
  },
  {
   "cell_type": "code",
   "execution_count": 25,
   "metadata": {},
   "outputs": [
    {
     "name": "stdout",
     "output_type": "stream",
     "text": [
      "True 8\n",
      "True 8\n",
      "True 0\n",
      "True 0\n"
     ]
    }
   ],
   "source": [
    "# str    #Expected\n",
    "test_cases = [\n",
    "    ([[4, 3, 2, -1], [3, 2, 1, -1], [1, 1, -1, -2], [-1, -1, -2, -3]], 8),\n",
    "    ([[3, 2], [1, 0]], 0)]\n",
    "for case in test_cases:\n",
    "    obj = Solution()\n",
    "    print(obj.countNegatives(case[0]) == case[1], obj.countNegatives(case[0]))\n",
    "    obj2 = Solution2()\n",
    "    print(obj2.countNegatives(case[0]) ==\n",
    "          case[1], obj2.countNegatives(case[0]))\n"
   ]
  }
 ],
 "metadata": {
  "kernelspec": {
   "display_name": "Python 3.10.4 64-bit",
   "language": "python",
   "name": "python3"
  },
  "language_info": {
   "codemirror_mode": {
    "name": "ipython",
    "version": 3
   },
   "file_extension": ".py",
   "mimetype": "text/x-python",
   "name": "python",
   "nbconvert_exporter": "python",
   "pygments_lexer": "ipython3",
   "version": "3.10.4"
  },
  "orig_nbformat": 4,
  "vscode": {
   "interpreter": {
    "hash": "e7370f93d1d0cde622a1f8e1c04877d8463912d04d973331ad4851f04de6915a"
   }
  }
 },
 "nbformat": 4,
 "nbformat_minor": 2
}
