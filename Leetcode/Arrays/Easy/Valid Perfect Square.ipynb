{
 "cells": [
  {
   "cell_type": "markdown",
   "metadata": {},
   "source": [
    "Given a positive integer num, write a function which returns True if num is a perfect square else False.\n",
    "\n",
    "Follow up: Do not use any built-in library function such as sqrt.\n",
    "\n",
    " \n",
    "\n",
    "Example 1:\n",
    "\n",
    "```\n",
    "Input: num = 16\n",
    "Output: true\n",
    "```\n",
    "Example 2:\n",
    "```\n",
    "Input: num = 14\n",
    "Output: false\n",
    " ```\n",
    "\n",
    "Constraints:\n",
    "\n",
    "1 <= num <= 2^31 - 1"
   ]
  },
  {
   "cell_type": "code",
   "execution_count": 7,
   "metadata": {},
   "outputs": [],
   "source": [
    "class Solution:\n",
    "    def isPerfectSquare(self, num):\n",
    "        start, end = 0, num//2 \n",
    "        if num== 1: return True\n",
    "        while start <= end:\n",
    "            mid = start + (end - start)//2\n",
    "            if mid * mid == num: \n",
    "                return True \n",
    "            elif mid * mid > num: \n",
    "                end = mid -1 \n",
    "            else :\n",
    "                start = mid + 1 \n",
    "        return False"
   ]
  },
  {
   "cell_type": "code",
   "execution_count": 8,
   "metadata": {},
   "outputs": [
    {
     "name": "stdout",
     "output_type": "stream",
     "text": [
      "True\n",
      "True\n",
      "True\n",
      "True\n",
      "True\n",
      "True\n"
     ]
    }
   ],
   "source": [
    "# str    #Expected\n",
    "test_cases = [(16, True),\n",
    "              (14, False),\n",
    "              (64, True),\n",
    "              (3, False),\n",
    "              (4, True),\n",
    "              (1, True)\n",
    "              ]\n",
    "for case in test_cases:\n",
    "    obj = Solution()\n",
    "    print(obj.isPerfectSquare(case[0]) == case[1])\n"
   ]
  },
  {
   "cell_type": "code",
   "execution_count": null,
   "metadata": {},
   "outputs": [],
   "source": []
  }
 ],
 "metadata": {
  "kernelspec": {
   "display_name": "Python 3.10.4 64-bit",
   "language": "python",
   "name": "python3"
  },
  "language_info": {
   "codemirror_mode": {
    "name": "ipython",
    "version": 3
   },
   "file_extension": ".py",
   "mimetype": "text/x-python",
   "name": "python",
   "nbconvert_exporter": "python",
   "pygments_lexer": "ipython3",
   "version": "3.10.5"
  },
  "orig_nbformat": 4,
  "vscode": {
   "interpreter": {
    "hash": "e7370f93d1d0cde622a1f8e1c04877d8463912d04d973331ad4851f04de6915a"
   }
  }
 },
 "nbformat": 4,
 "nbformat_minor": 2
}
