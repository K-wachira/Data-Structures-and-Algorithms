{
 "cells": [
  {
   "cell_type": "markdown",
   "metadata": {},
   "source": [
    "You are given a large integer represented as an integer array digits, where each digits[i] is the ith digit of the integer. The digits are ordered from most significant to least significant in left-to-right order. The large integer does not contain any leading 0's.\n",
    "\n",
    "Increment the large integer by one and return the resulting array of digits.\n",
    "\n",
    " \n",
    "\n",
    "Example 1:\n",
    "```\n",
    "    Input: digits = [1,2,3]\n",
    "    Output: [1,2,4]\n",
    "    Explanation: The array represents the integer 123.\n",
    "    Incrementing by one gives 123 + 1 = 124.\n",
    "    Thus, the result should be [1,2,4].\n",
    "```\n",
    "\n",
    "Example 2:\n",
    "```\n",
    "Input: digits = [4,3,2,1]\n",
    "Output: [4,3,2,2]\n",
    "Explanation: The array represents the integer 4321.\n",
    "Incrementing by one gives 4321 + 1 = 4322.\n",
    "Thus, the result should be [4,3,2,2].\n",
    "```\n",
    "\n",
    "\n",
    "Example 3:\n",
    "```\n",
    "Input: digits = [9]\n",
    "Output: [1,0]\n",
    "Explanation: The array represents the integer 9.\n",
    "Incrementing by one gives 9 + 1 = 10.\n",
    "Thus, the result should be [1,0].\n",
    " ```\n",
    "\n",
    "Constraints:\n",
    "```\n",
    "1 <= digits.length <= 100\n",
    "0 <= digits[i] <= 9\n",
    "digits does not contain any leading 0's.\n",
    "```"
   ]
  },
  {
   "cell_type": "code",
   "execution_count": null,
   "metadata": {},
   "outputs": [],
   "source": [
    "class Solution:\n",
    "    def plusOne(self, digits: List[int]) -> List[int]:\n",
    "        end = len(digits)-1 \n",
    "        carry = 1\n",
    "        \n",
    "        while end >= 0: \n",
    "            curr = digits[end] + carry\n",
    "            if curr >=10: \n",
    "                digits[end] = curr % 10 \n",
    "                carry = 1 \n",
    "            else: \n",
    "                digits[end]= curr\n",
    "                carry = 0 \n",
    "            end -=1 \n",
    "            if not carry: break \n",
    "        if carry: \n",
    "            digits.insert(0, 1)\n",
    "        return digits"
   ]
  },
  {
   "cell_type": "code",
   "execution_count": null,
   "metadata": {},
   "outputs": [],
   "source": [
    "class Solution:\n",
    "    def plusOne(self, digits: List[int]) -> List[int]:\n",
    "        num = int(''.join(str(i) for i in digits))\n",
    "        num +=1 \n",
    "        out = []\n",
    "        for i in str(num):\n",
    "            out.append(int(i))\n",
    "        return out\n",
    "        "
   ]
  }
 ],
 "metadata": {
  "language_info": {
   "name": "python"
  },
  "orig_nbformat": 4
 },
 "nbformat": 4,
 "nbformat_minor": 2
}
