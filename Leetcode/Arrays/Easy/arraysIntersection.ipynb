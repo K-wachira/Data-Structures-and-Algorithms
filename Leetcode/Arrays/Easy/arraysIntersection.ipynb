{
 "cells": [
  {
   "cell_type": "markdown",
   "metadata": {},
   "source": [
    "Given three integer arrays arr1, arr2 and arr3 sorted in strictly increasing order, return a sorted array of only the integers that appeared in all three arrays.\n",
    "\n",
    " \n",
    "\n",
    "Example 1:\n",
    "\n",
    "```\n",
    "Input: arr1 = [1,2,3,4,5], \n",
    "arr2 = [1,2,5,7,9], \n",
    "arr3 = [1,3,4,5,8]\n",
    "Output: [1,5]\n",
    "Explanation: Only 1 and 5 appeared in the three arrays.\n",
    "```\n",
    "\n",
    "Example 2:\n",
    "\n",
    "```\n",
    "Input: arr1 = [197,418,523,876,1356], \n",
    "arr2 = [501,880,1593,1710,1870], \n",
    "arr3 = [521,682,1337,1395,1764]\n",
    "Output: []\n",
    "```\n",
    " \n",
    "\n",
    "Constraints:\n",
    "\n",
    "```\n",
    "1 <= arr1.length, arr2.length, arr3.length <= 1000\n",
    "1 <= arr1[i], arr2[i], arr3[i] <= 2000\n",
    "```"
   ]
  },
  {
   "cell_type": "code",
   "execution_count": 4,
   "metadata": {},
   "outputs": [],
   "source": [
    "class Solution:\n",
    "    def arraysIntersection(self, arr1, arr2, arr3):\n",
    "        results = []\n",
    "        for target in arr1:\n",
    "            if self._binarySearch(arr2, target) and self._binarySearch(arr3, target):\n",
    "                results.append(target)\n",
    "        return results\n",
    "    def _binarySearch(self, arr, target):\n",
    "        start, end = 0, len(arr)-1 \n",
    "        while start <= end:\n",
    "            mid = start + (end-start) // 2 \n",
    "            if arr[mid] == target: return True \n",
    "            elif arr[mid] > target: \n",
    "                end = mid - 1\n",
    "            else: \n",
    "                start = mid + 1\n",
    "        return False"
   ]
  },
  {
   "cell_type": "code",
   "execution_count": 5,
   "metadata": {},
   "outputs": [
    {
     "name": "stdout",
     "output_type": "stream",
     "text": [
      "True\n",
      "True\n"
     ]
    }
   ],
   "source": [
    "test_cases = [\n",
    "    ([1, 2, 3, 4, 5], [1, 2, 5, 7, 9], [1, 3, 4, 5, 8], [1, 5]),\n",
    "    ([197, 418, 523, 876, 1356], [501, 880, 1593, 1710, 1870], [521, 682, 1337, 1395, 1764], []), ]\n",
    "for case in test_cases:\n",
    "    obj = Solution()\n",
    "    print(obj.arraysIntersection(case[0], case[1], case[2]) == case[3])\n"
   ]
  }
 ],
 "metadata": {
  "kernelspec": {
   "display_name": "Python 3.9.12 ('base')",
   "language": "python",
   "name": "python3"
  },
  "language_info": {
   "codemirror_mode": {
    "name": "ipython",
    "version": 3
   },
   "file_extension": ".py",
   "mimetype": "text/x-python",
   "name": "python",
   "nbconvert_exporter": "python",
   "pygments_lexer": "ipython3",
   "version": "3.9.12"
  },
  "orig_nbformat": 4,
  "vscode": {
   "interpreter": {
    "hash": "2146f7101d871e612949efb3e04f02e45f1caf79f7dc973bb65773b010f27383"
   }
  }
 },
 "nbformat": 4,
 "nbformat_minor": 2
}
