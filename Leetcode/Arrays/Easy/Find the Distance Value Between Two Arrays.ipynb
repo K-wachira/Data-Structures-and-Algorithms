{
 "cells": [
  {
   "cell_type": "markdown",
   "metadata": {},
   "source": [
    "Given two integer arrays arr1 and arr2, and the integer d, return the distance value between the two arrays.\n",
    "\n",
    "The distance value is defined as the number of elements arr1[i] such that there is not any element arr2[j] where |arr1[i]-arr2[j]| <= d.\n",
    "\n",
    " \n",
    "\n",
    "Example 1:\n",
    "\n",
    "```\n",
    "Input: arr1 = [4,5,8], arr2 = [10,9,1,8], d = 2\n",
    "Output: 2\n",
    "Explanation: \n",
    "For arr1[0]=4 we have: \n",
    "|4-10|=6 > d=2 \n",
    "|4-9|=5 > d=2 \n",
    "|4-1|=3 > d=2 \n",
    "|4-8|=4 > d=2 \n",
    "For arr1[1]=5 we have: \n",
    "|5-10|=5 > d=2 \n",
    "|5-9|=4 > d=2 \n",
    "|5-1|=4 > d=2 \n",
    "|5-8|=3 > d=2\n",
    "For arr1[2]=8 we have:\n",
    "|8-10|=2 <= d=2\n",
    "|8-9|=1 <= d=2\n",
    "|8-1|=7 > d=2\n",
    "|8-8|=0 <= d=2\n",
    "```\n",
    "\n",
    "\n",
    "\n",
    "Example 2:\n",
    "```\n",
    "Input: arr1 = [1,4,2,3], arr2 = [-4,-3,6,10,20,30], d = 3\n",
    "Output: 2\n",
    "```\n",
    "\n",
    "Example 3:\n",
    "```\n",
    "Input: arr1 = [2,1,100,3], arr2 = [-5,-2,10,-3,7], d = 6\n",
    "Output: 1\n",
    "```\n",
    " \n",
    "\n",
    "Constraints:\n",
    "```\n",
    "1 <= arr1.length, arr2.length <= 500\n",
    "-1000 <= arr1[i], arr2[j] <= 1000\n",
    "0 <= d <= 100\n",
    "```"
   ]
  },
  {
   "cell_type": "code",
   "execution_count": 20,
   "metadata": {},
   "outputs": [],
   "source": [
    "class Solution:\n",
    "    def findTheDistanceValue(self, arr1, arr2, d):\n",
    "        arr2.sort()\n",
    "        \n",
    "        def is_valid(val):\n",
    "            l, r = 0, len(arr2)\n",
    "            while l < r:\n",
    "                mid = (l + r) // 2\n",
    "                if abs(arr2[mid] - val) <= d:\n",
    "                    return False\n",
    "                elif arr2[mid] > val:\n",
    "                    r = mid\n",
    "                else:\n",
    "                    l = mid + 1\n",
    "            return True\n",
    "        return sum(is_valid(x) for x in arr1)"
   ]
  },
  {
   "cell_type": "code",
   "execution_count": 21,
   "metadata": {},
   "outputs": [
    {
     "name": "stdout",
     "output_type": "stream",
     "text": [
      "2\n",
      "True\n",
      "1\n",
      "True\n",
      "2\n",
      "True\n"
     ]
    }
   ],
   "source": [
    "# str    #Expected\n",
    "test_cases = [([1, 4, 2, 3],   [-4, -3, 6, 10, 20, 30],   3,  2),\n",
    "              ([2, 1, 100, 3], [-5, -2, 10, -3, 7], 6, 1),\n",
    "              ([4, 5, 8], [10, 9, 1, 8], 2, 2)]\n",
    "for case in test_cases:\n",
    "    obj = Solution()\n",
    "    print(obj.findTheDistanceValue(case[0], case[1], case[2]) == case[3])\n"
   ]
  }
 ],
 "metadata": {
  "kernelspec": {
   "display_name": "Python 3.10.4 64-bit",
   "language": "python",
   "name": "python3"
  },
  "language_info": {
   "codemirror_mode": {
    "name": "ipython",
    "version": 3
   },
   "file_extension": ".py",
   "mimetype": "text/x-python",
   "name": "python",
   "nbconvert_exporter": "python",
   "pygments_lexer": "ipython3",
   "version": "3.10.4"
  },
  "orig_nbformat": 4,
  "vscode": {
   "interpreter": {
    "hash": "e7370f93d1d0cde622a1f8e1c04877d8463912d04d973331ad4851f04de6915a"
   }
  }
 },
 "nbformat": 4,
 "nbformat_minor": 2
}
