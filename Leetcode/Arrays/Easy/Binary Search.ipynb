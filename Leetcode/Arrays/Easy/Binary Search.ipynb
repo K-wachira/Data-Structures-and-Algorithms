{
 "cells": [
  {
   "cell_type": "markdown",
   "metadata": {},
   "source": [
    "Given an array of integers `nums` which is sorted in ascending order, and an integer `target`, write a function to search target in `nums`. If `target` exists, then return its index. Otherwise, return `-1`.\n",
    "\n",
    "You must write an algorithm with `O(log n)` runtime complexity.\n",
    "\n",
    " \n",
    "\n",
    "Example 1:\n",
    "```\n",
    "Input: nums = [-1,0,3,5,9,12], target = 9\n",
    "Output: 4\n",
    "Explanation: 9 exists in nums and its index is 4\n",
    "```\n",
    "\n",
    "Example 2:\n",
    "```\n",
    "Input: nums = [-1,0,3,5,9,12], target = 2\n",
    "Output: -1\n",
    "Explanation: 2 does not exist in nums so return -1\n",
    " ```\n",
    "\n",
    "Constraints:\n",
    "```\n",
    "1 <= nums.length <= 104\n",
    "-104 < nums[i], target < 104\n",
    "All the integers in nums are unique.\n",
    "nums is sorted in ascending order.\n",
    "```"
   ]
  },
  {
   "cell_type": "code",
   "execution_count": 1,
   "metadata": {},
   "outputs": [],
   "source": [
    "class Solution:\n",
    "    def search(self, nums, target):\n",
    "        start, end = 0 , len(nums)-1 \n",
    "\n",
    "        while start <= end: \n",
    "            mid = start + (end - start)//2\n",
    "            if nums[mid] == target:\n",
    "                return mid \n",
    "            elif nums[mid] > target:\n",
    "                end = mid -1 \n",
    "            else: \n",
    "                start = mid +1 \n",
    "        return -1 \n",
    "        "
   ]
  },
  {
   "cell_type": "code",
   "execution_count": 13,
   "metadata": {},
   "outputs": [],
   "source": [
    "class Solution:\n",
    "    def search(self, nums, target):\n",
    "\n",
    "        def helper(l, r):\n",
    "            print(nums)\n",
    "            if l> r:\n",
    "                return -1\n",
    "            start, end = l, r\n",
    "            mid = start + (end - start) // 2\n",
    "            if nums[mid] == target:\n",
    "                return mid\n",
    "            elif nums[mid] > target:\n",
    "                return helper(l, mid-1)\n",
    "            else:\n",
    "                return helper(mid+1, r)\n",
    "        return helper(0, len(nums)-1)"
   ]
  },
  {
   "cell_type": "code",
   "execution_count": 14,
   "metadata": {},
   "outputs": [
    {
     "name": "stdout",
     "output_type": "stream",
     "text": [
      "[-1, 0, 3, 5, 9, 12]\n",
      "[-1, 0, 3, 5, 9, 12]\n",
      "True\n",
      "[-1, 0, 3, 5, 9, 12]\n",
      "[-1, 0, 3, 5, 9, 12]\n",
      "[-1, 0, 3, 5, 9, 12]\n",
      "[-1, 0, 3, 5, 9, 12]\n",
      "True\n",
      "[5, 6, 7, 8, 9]\n",
      "[5, 6, 7, 8, 9]\n",
      "[5, 6, 7, 8, 9]\n",
      "True\n"
     ]
    }
   ],
   "source": [
    "test_cases = [([-1,0,3,5,9,12], 9, 4),\n",
    "              ([-1,0,3,5,9,12], 2, -1),\n",
    "              ([5, 6, 7, 8, 9], 9, 4)\n",
    "              ]\n",
    "for case in test_cases:\n",
    "    obj = Solution()\n",
    "\n",
    "    print(obj.search(case[0], case[1]) == case[2])\n"
   ]
  },
  {
   "cell_type": "code",
   "execution_count": null,
   "metadata": {},
   "outputs": [],
   "source": []
  }
 ],
 "metadata": {
  "kernelspec": {
   "display_name": "Python 3.10.4 64-bit",
   "language": "python",
   "name": "python3"
  },
  "language_info": {
   "codemirror_mode": {
    "name": "ipython",
    "version": 3
   },
   "file_extension": ".py",
   "mimetype": "text/x-python",
   "name": "python",
   "nbconvert_exporter": "python",
   "pygments_lexer": "ipython3",
   "version": "3.10.4"
  },
  "orig_nbformat": 4,
  "vscode": {
   "interpreter": {
    "hash": "e7370f93d1d0cde622a1f8e1c04877d8463912d04d973331ad4851f04de6915a"
   }
  }
 },
 "nbformat": 4,
 "nbformat_minor": 2
}
