{
 "cells": [
  {
   "cell_type": "markdown",
   "metadata": {},
   "source": [
    "You are given a 0-indexed integer array nums and a target element target.\n",
    "\n",
    "A target index is an index i such that nums[i] == target.\n",
    "\n",
    "Return a list of the target indices of nums after sorting nums in non-decreasing order. If there are no target indices, return an empty list. The returned list must be sorted in increasing order.\n",
    "\n",
    " \n",
    "\n",
    "Example 1:\n",
    "\n",
    "```\n",
    "Input: nums = [1,2,5,2,3], target = 2\n",
    "Output: [1,2]\n",
    "Explanation: After sorting, nums is [1,2,2,3,5].\n",
    "The indices where nums[i] == 2 are 1 and 2.\n",
    "```\n",
    "\n",
    "Example 2:\n",
    "```\n",
    "Input: nums = [1,2,5,2,3], target = 3\n",
    "Output: [3]\n",
    "Explanation: After sorting, nums is [1,2,2,3,5].\n",
    "The index where nums[i] == 3 is 3.\n",
    "```\n",
    "\n",
    "Example 3:\n",
    "```\n",
    "Input: nums = [1,2,5,2,3], target = 5\n",
    "Output: [4]\n",
    "Explanation: After sorting, nums is [1,2,2,3,5].\n",
    "The index where nums[i] == 5 is 4.\n",
    "```\n",
    "\n",
    "Constraints:\n",
    "\n",
    "```\n",
    "1 <= nums.length <= 100\n",
    "1 <= nums[i], target <= 100\n",
    "```"
   ]
  },
  {
   "cell_type": "code",
   "execution_count": 9,
   "metadata": {},
   "outputs": [],
   "source": [
    "class Solution:\n",
    "    def targetIndices(self, nums, target):\n",
    "        nums.sort()\n",
    "        first = self._targetIndices(nums, target, True)\n",
    "        if first == -1: return[]\n",
    "        last = self._targetIndices(nums, target, False)\n",
    "        return [i for i in range(first, last+1)]\n",
    "\n",
    "    def _targetIndices(self, nums, target, isFirst):\n",
    "        start, end = 0, len(nums) -1 \n",
    "        while  start <= end:\n",
    "            mid = start + (end - start)//2\n",
    "            if nums[mid] == target:\n",
    "                if isFirst: \n",
    "                    if nums[mid] != nums[mid-1] or mid == start:\n",
    "                        return mid\n",
    "                    else: \n",
    "                        end = mid -1 \n",
    "                else:\n",
    "                    if  mid == end or nums[mid] != nums[mid+1]:\n",
    "                        return mid\n",
    "                    else:\n",
    "                        start = mid+1\n",
    "            elif nums[mid] < target: \n",
    "                start = mid + 1\n",
    "            else: \n",
    "                end = mid - 1 \n",
    "        return -1 \n",
    "                \n",
    "        "
   ]
  },
  {
   "cell_type": "code",
   "execution_count": 10,
   "metadata": {},
   "outputs": [
    {
     "name": "stdout",
     "output_type": "stream",
     "text": [
      "True\n",
      "True\n",
      "True\n"
     ]
    }
   ],
   "source": [
    "# str    #Expected\n",
    "test_cases = [\n",
    "    ([1, 2, 5, 2, 3], 2, [1, 2]),\n",
    "    ([1, 2, 5, 2, 3], 3, [3]),\n",
    "    ([1, 2, 5, 2, 3], 5, [4])]\n",
    "for case in test_cases:\n",
    "    obj = Solution()\n",
    "    print(obj.targetIndices(case[0], case[1]) == case[2])\n"
   ]
  },
  {
   "cell_type": "code",
   "execution_count": null,
   "metadata": {},
   "outputs": [],
   "source": []
  }
 ],
 "metadata": {
  "kernelspec": {
   "display_name": "Python 3.10.4 64-bit",
   "language": "python",
   "name": "python3"
  },
  "language_info": {
   "codemirror_mode": {
    "name": "ipython",
    "version": 3
   },
   "file_extension": ".py",
   "mimetype": "text/x-python",
   "name": "python",
   "nbconvert_exporter": "python",
   "pygments_lexer": "ipython3",
   "version": "3.10.4"
  },
  "orig_nbformat": 4,
  "vscode": {
   "interpreter": {
    "hash": "e7370f93d1d0cde622a1f8e1c04877d8463912d04d973331ad4851f04de6915a"
   }
  }
 },
 "nbformat": 4,
 "nbformat_minor": 2
}
