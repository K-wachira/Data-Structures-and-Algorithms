{
 "cells": [
  {
   "cell_type": "markdown",
   "metadata": {},
   "source": [
    "Given a characters array letters that is sorted in non-decreasing order and a character target, return the smallest character in the array that is larger than target.\n",
    "\n",
    "Note that the letters wrap around.\n",
    "\n",
    "For example, if target == 'z' and letters == ['a', 'b'], the answer is 'a'.\n",
    " \n",
    "\n",
    "Example 1:\n",
    "\n",
    "```Input: letters = [\"c\",\"f\",\"j\"], target = \"a\"\n",
    "Output: \"c\"\n",
    "```\n",
    "Example 2:\n",
    "\n",
    "```\n",
    "Input: letters = [\"c\",\"f\",\"j\"], target = \"c\"\n",
    "Output: \"f\"\n",
    "```\n",
    "\n",
    "Example 3:\n",
    "```\n",
    "Input: letters = [\"c\",\"f\",\"j\"], target = \"d\"\n",
    "Output: \"f\"\n",
    "```\n",
    " \n",
    "\n",
    "Constraints:\n",
    "```\n",
    "2 <= letters.length <= 104\n",
    "letters[i] is a lowercase English letter.\n",
    "letters is sorted in non-decreasing order.\n",
    "letters contains at least two different characters.\n",
    "target is a lowercase English letter.\n",
    "```"
   ]
  },
  {
   "cell_type": "code",
   "execution_count": null,
   "metadata": {},
   "outputs": [],
   "source": [
    "class Solution():\n",
    "    def nextGreatestLetter(letters, target):\n",
    "        if target >= letters[-1] or target < letters[0]:\n",
    "            return letters[0]\n",
    "        \n",
    "        l, r = 0, len(letters) - 1\n",
    "        while l <= r:\n",
    "            pivot = (l+r)//2\n",
    "            if target >= letters[pivot]:\n",
    "                l = pivot + 1\n",
    "            elif target < letters[pivot]:\n",
    "                r = pivot - 1\n",
    "\n",
    "        if letters[r] <= target:\n",
    "            return letters[r+1]\n",
    "        \n",
    "        else:\n",
    "            return letters[r]"
   ]
  }
 ],
 "metadata": {
  "language_info": {
   "name": "python"
  },
  "orig_nbformat": 4
 },
 "nbformat": 4,
 "nbformat_minor": 2
}
