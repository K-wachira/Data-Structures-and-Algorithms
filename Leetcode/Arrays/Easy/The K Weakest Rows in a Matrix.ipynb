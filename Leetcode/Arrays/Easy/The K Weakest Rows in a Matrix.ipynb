{
 "cells": [
  {
   "cell_type": "markdown",
   "metadata": {},
   "source": [
    "You are given an `m x n` binary matrix mat of 1's (representing soldiers) and 0's (representing civilians). The soldiers are positioned in front of the civilians. That is, all the `1's` will appear to the left of all the 0's in each row.\n",
    "\n",
    "A row `i` is weaker than a row `j` if one of the following is true:\n",
    "\n",
    "The number of soldiers in row `i` is less than the number of soldiers in row `j`.\n",
    "\n",
    "Both rows have the same number of soldiers and `i < j`.\n",
    "\n",
    "Return the indices of the `k` weakest rows in the matrix ordered from weakest to strongest.\n",
    "\n",
    " \n",
    "\n",
    "Example 1:\n",
    "```\n",
    "Input: mat = \n",
    "[[1,1,0,0,0],\n",
    " [1,1,1,1,0],\n",
    " [1,0,0,0,0],\n",
    " [1,1,0,0,0],\n",
    " [1,1,1,1,1]], \n",
    "k = 3\n",
    "Output: [2,0,3]\n",
    "Explanation: \n",
    "The number of soldiers in each row is: \n",
    "- Row 0: 2 \n",
    "- Row 1: 4 \n",
    "- Row 2: 1 \n",
    "- Row 3: 2 \n",
    "- Row 4: 5 \n",
    "The rows ordered from weakest to strongest are [2,0,3,1,4].\n",
    "\n",
    "```\n",
    "Example 2:\n",
    "```\n",
    "Input: mat = \n",
    "[[1,0,0,0],\n",
    " [1,1,1,1],\n",
    " [1,0,0,0],\n",
    " [1,0,0,0]], \n",
    "k = 2\n",
    "Output: [0,2]\n",
    "Explanation: \n",
    "The number of soldiers in each row is: \n",
    "- Row 0: 1 \n",
    "- Row 1: 4 \n",
    "- Row 2: 1 \n",
    "- Row 3: 1 \n",
    "The rows ordered from weakest to strongest are [0,2,3,1].\n",
    " ```\n",
    "\n",
    "Constraints:\n",
    "```\n",
    "m == mat.length\n",
    "n == mat[i].length\n",
    "2 <= n, m <= 100\n",
    "1 <= k <= m\n",
    "matrix[i][j] is either 0 or 1.\n",
    "```"
   ]
  },
  {
   "cell_type": "code",
   "execution_count": 7,
   "metadata": {},
   "outputs": [],
   "source": [
    "class Solution:\n",
    "    def kWeakestRows(self, mat, k):\n",
    "        out = []\n",
    "        for rowIndex in range(len(mat)):\n",
    "            out.append((self._countOnes(mat[rowIndex]), rowIndex))\n",
    "        out = sorted(out, key=lambda x:  (x[0], x[1]))\n",
    "        return [i[1] for i in out[:k]]\n",
    "\n",
    "    def _countOnes(self, arr):\n",
    "        for i in range(len(arr)):\n",
    "            if arr[i] != 1:\n",
    "                return i\n",
    "        return i"
   ]
  },
  {
   "cell_type": "code",
   "execution_count": 8,
   "metadata": {},
   "outputs": [
    {
     "name": "stdout",
     "output_type": "stream",
     "text": [
      "True [2, 0, 3]\n",
      "True [0, 2]\n"
     ]
    }
   ],
   "source": [
    "# str    #Expected\n",
    "test_cases = [\n",
    "    ([[1, 1, 0, 0, 0], [1, 1, 1, 1, 0], [1, 0, 0, 0, 0],\n",
    "     [1, 1, 0, 0, 0], [1, 1, 1, 1, 1]], 3, [2, 0, 3]),\n",
    "    ([[1,0,0,0], [1,1,1,1], [1,0,0,0], [1,0,0,0]], 2,  [0,2])]\n",
    "for case in test_cases:\n",
    "    obj = Solution()\n",
    "    print(obj.kWeakestRows(case[0], case[1]) == case[2], obj.kWeakestRows(case[0], case[1]))\n"
   ]
  },
  {
   "cell_type": "code",
   "execution_count": null,
   "metadata": {},
   "outputs": [],
   "source": [
    "[[1,1,1,1,1],[1,0,0,0,0],[1,1,0,0,0],[1,1,1,1,0],[1,1,1,1,1]]\n",
    "3"
   ]
  }
 ],
 "metadata": {
  "kernelspec": {
   "display_name": "Python 3.10.4 64-bit",
   "language": "python",
   "name": "python3"
  },
  "language_info": {
   "codemirror_mode": {
    "name": "ipython",
    "version": 3
   },
   "file_extension": ".py",
   "mimetype": "text/x-python",
   "name": "python",
   "nbconvert_exporter": "python",
   "pygments_lexer": "ipython3",
   "version": "3.10.4"
  },
  "orig_nbformat": 4,
  "vscode": {
   "interpreter": {
    "hash": "e7370f93d1d0cde622a1f8e1c04877d8463912d04d973331ad4851f04de6915a"
   }
  }
 },
 "nbformat": 4,
 "nbformat_minor": 2
}
