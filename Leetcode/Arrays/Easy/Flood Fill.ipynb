{
 "cells": [
  {
   "cell_type": "markdown",
   "metadata": {},
   "source": [
    "An image is represented by an m x n integer grid image where image[i][j] represents the pixel value of the image.\n",
    "\n",
    "You are also given three integers sr, sc, and color. You should perform a flood fill on the image starting from the pixel image[sr][sc].\n",
    "\n",
    "To perform a flood fill, consider the starting pixel, plus any pixels connected 4-directionally to the starting pixel of the same color as the starting pixel, plus any pixels connected 4-directionally to those pixels (also with the same color), and so on. Replace the color of all of the aforementioned pixels with color.\n",
    "\n",
    "Return the modified image after performing the flood fill.\n",
    "\n",
    "\n",
    "Example 1:\n",
    "\n",
    "![image](https://assets.leetcode.com/uploads/2021/06/01/flood1-grid.jpg)\n",
    "\n",
    "```\n",
    "Input: image =[[1,1,1],\n",
    "                [1,1,0],\n",
    "                [1,0,1]]\n",
    "                , \n",
    "                sr = 1, \n",
    "                sc = 1, \n",
    "                color = 2\n",
    "Output: \n",
    "        [[2,2,2],\n",
    "        [2,2,0],\n",
    "        [2,0,1]]\n",
    "\n",
    "\n",
    "```\n",
    "\n",
    "\n",
    "Explanation: From the center of the image with position (sr, sc) = (1, 1) (i.e., the red pixel), all pixels connected by a path of the same color as the starting pixel (i.e., the blue pixels) are colored with the new color.\n",
    "Note the bottom corner is not colored 2, because it is not 4-directionally connected to the starting pixel.\n",
    "Example 2:\n",
    "\n",
    "Input: image = [[0,0,0],[0,0,0]], sr = 0, sc = 0, color = 0\n",
    "Output: [[0,0,0],[0,0,0]]\n",
    "Explanation: The starting pixel is already colored 0, so no changes are made to the image.\n",
    " \n",
    "\n",
    "Constraints:\n",
    "\n",
    "m == image.length\n",
    "n == image[i].length\n",
    "1 <= m, n <= 50\n",
    "0 <= image[i][j], color < 216\n",
    "0 <= sr < m\n",
    "0 <= sc < n"
   ]
  },
  {
   "cell_type": "markdown",
   "metadata": {},
   "source": [
    "1. Clarifying your question\n",
    "2. Describe your algorithm\n",
    "3. Write your code\n",
    "    - Write professional code\n",
    "    - Check edge case\n",
    "    - Use sub functions if possible\n",
    "4. Run a test case\n",
    "5. Analyze your code complexity"
   ]
  },
  {
   "cell_type": "markdown",
   "metadata": {},
   "source": [
    "image is m*n grid.\n",
    "\n",
    "image[r][c] represents the pixel color at that location\n",
    "\n",
    "given three ints sr, sc and color\n",
    "\n",
    "perfom a flood fill from pixel (sr,sc) and fill all the other pixels with the given color \n",
    "\n",
    "One can only move up. down, left, right \n",
    "\n",
    "change only colors of pixels that are the same as the starting pixels. \n",
    "\n",
    "return the modified "
   ]
  },
  {
   "cell_type": "code",
   "execution_count": 19,
   "metadata": {},
   "outputs": [],
   "source": [
    "from collections import deque\n",
    "class Solution():\n",
    "    def floodFill(self, image, sr, sc, color):\n",
    "        if image[sr][sc] == color:\n",
    "            return image\n",
    "        return self.breathFirstSearch( color, image, (sr, sc))\n",
    "\n",
    "    def breathFirstSearch(self, new_color, grid, start):\n",
    "        queue = deque([ start])\n",
    "        R = len(grid)-1\n",
    "        C= len(grid[0])-1\n",
    "        old_color =  grid[start[0]][start[1]]\n",
    "        visited_pixels = set()\n",
    "        while queue:\n",
    "            r, c = queue.popleft() \n",
    "            grid[r][c] = new_color\n",
    "            directions = [(r-1,c),(r+1,c) ,(r,c-1) ,(r,c+1) ]\n",
    "            for rr, cc in directions:\n",
    "                if 0<= rr <= R and 0<= cc <= C and grid[rr][cc] == old_color:\n",
    "                    queue.append((rr, cc))\n",
    "                    visited_pixels.add((rr, cc))\n",
    "        return grid\n"
   ]
  },
  {
   "cell_type": "code",
   "execution_count": 20,
   "metadata": {},
   "outputs": [
    {
     "name": "stdout",
     "output_type": "stream",
     "text": [
      "True\n",
      "True\n"
     ]
    }
   ],
   "source": [
    "test_cases = [\n",
    "    (\n",
    "        [[1, 1, 1],\n",
    "         [1, 1, 0],\n",
    "         [1, 0, 1]],\n",
    "        1,\n",
    "        1,\n",
    "        2,\n",
    "        [[2, 2, 2],\n",
    "         [2, 2, 0],\n",
    "         [2, 0, 1]]\n",
    "    ), (\n",
    "        [[0, 0, 0], [0, 0, 0]],\n",
    "        0,\n",
    "        0,\n",
    "        0, [[0, 0, 0], [0, 0, 0]]\n",
    "    )\n",
    "]\n",
    "obj = Solution()\n",
    "\n",
    "for case in test_cases:\n",
    "    print(obj.floodFill(case[0], case[1], case[2], case[3]) == case[4])\n"
   ]
  },
  {
   "cell_type": "code",
   "execution_count": null,
   "metadata": {},
   "outputs": [],
   "source": []
  }
 ],
 "metadata": {
  "kernelspec": {
   "display_name": "Python 3.10.7 64-bit",
   "language": "python",
   "name": "python3"
  },
  "language_info": {
   "codemirror_mode": {
    "name": "ipython",
    "version": 3
   },
   "file_extension": ".py",
   "mimetype": "text/x-python",
   "name": "python",
   "nbconvert_exporter": "python",
   "pygments_lexer": "ipython3",
   "version": "3.10.8"
  },
  "orig_nbformat": 4,
  "vscode": {
   "interpreter": {
    "hash": "e7370f93d1d0cde622a1f8e1c04877d8463912d04d973331ad4851f04de6915a"
   }
  }
 },
 "nbformat": 4,
 "nbformat_minor": 2
}
