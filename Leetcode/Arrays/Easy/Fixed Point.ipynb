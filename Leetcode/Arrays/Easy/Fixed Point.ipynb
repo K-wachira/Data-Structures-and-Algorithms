{
 "cells": [
  {
   "cell_type": "markdown",
   "metadata": {},
   "source": [
    "Given an array of distinct integers ``arr``, where arr is sorted in ascending order, return the smallest index i that satisfies arr[i] == i. If there is no such index, return -1.\n",
    "\n",
    " \n",
    "\n",
    "Example 1:\n",
    "```\n",
    "Input: arr = [-10,-5,0,3,7]\n",
    "Output: 3\n",
    "Explanation: For the given array, arr[0] = -10, arr[1] = -5, arr[2] = 0, arr[3] = 3, thus the output is 3.\n",
    "```\n",
    "\n",
    "Example 2:\n",
    "```\n",
    "Input: arr = [0,2,5,8,17]\n",
    "Output: 0\n",
    "Explanation: arr[0] = 0, thus the output is 0.\n",
    "```\n",
    "\n",
    "Example 3:\n",
    "```\n",
    "Input: arr = [-10,-5,3,4,7,9]\n",
    "Output: -1\n",
    "Explanation: There is no such i that arr[i] == i, thus the output is -1.\n",
    " ```\n",
    "\n",
    "Constraints:\n",
    "```\n",
    "1 <= arr.length < 104\n",
    "-109 <= arr[i] <= 109\n",
    "```\n",
    " \n",
    "\n",
    "Follow up: The O(n) solution is very straightforward. Can we do better?"
   ]
  },
  {
   "cell_type": "code",
   "execution_count": 5,
   "metadata": {},
   "outputs": [],
   "source": [
    "class Solution:\n",
    "    def fixedPoint(self, arr):\n",
    "\n",
    "        start, end = 0, len(arr)-1\n",
    "        minSoFar = end+2\n",
    "        while start <= end: \n",
    "            mid = start + (end-start)//2\n",
    "            if arr[mid] == mid: \n",
    "                minSoFar = min(mid, minSoFar)\n",
    "                end = mid - 1\n",
    "            elif arr[mid] < mid:\n",
    "                start = mid+1\n",
    "            else: \n",
    "                end = mid -1 \n",
    "        return -1 if minSoFar == len(arr)+1 else minSoFar"
   ]
  },
  {
   "cell_type": "code",
   "execution_count": 6,
   "metadata": {},
   "outputs": [
    {
     "name": "stdout",
     "output_type": "stream",
     "text": [
      "True\n",
      "True\n",
      "True\n"
     ]
    }
   ],
   "source": [
    "# str    #Expected\n",
    "test_cases = [([-10, -5, 0, 3, 7], 3),\n",
    "              ([0, 2, 5, 8, 17], 0),\n",
    "              ([-10, -5, 3, 4, 7, 9], -1)]\n",
    "for case in test_cases:\n",
    "    obj = Solution()\n",
    "    print(obj.fixedPoint(case[0]) == case[1])\n"
   ]
  },
  {
   "cell_type": "code",
   "execution_count": null,
   "metadata": {},
   "outputs": [],
   "source": []
  }
 ],
 "metadata": {
  "kernelspec": {
   "display_name": "Python 3.10.4 64-bit",
   "language": "python",
   "name": "python3"
  },
  "language_info": {
   "codemirror_mode": {
    "name": "ipython",
    "version": 3
   },
   "file_extension": ".py",
   "mimetype": "text/x-python",
   "name": "python",
   "nbconvert_exporter": "python",
   "pygments_lexer": "ipython3",
   "version": "3.10.4"
  },
  "orig_nbformat": 4,
  "vscode": {
   "interpreter": {
    "hash": "e7370f93d1d0cde622a1f8e1c04877d8463912d04d973331ad4851f04de6915a"
   }
  }
 },
 "nbformat": 4,
 "nbformat_minor": 2
}
