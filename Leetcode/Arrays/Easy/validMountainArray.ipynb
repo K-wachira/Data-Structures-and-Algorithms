{
 "cells": [
  {
   "cell_type": "markdown",
   "metadata": {},
   "source": [
    "Given an array of integers arr, return true if and only if it is a valid mountain array.\n",
    "\n",
    "Recall that arr is a mountain array if and only if:\n",
    "\n",
    "```\n",
    "arr.length >= 3\n",
    "There exists some i with 0 < i < arr.length - 1 such that:\n",
    "arr[0] < arr[1] < ... < arr[i - 1] < arr[i]\n",
    "arr[i] > arr[i + 1] > ... > arr[arr.length - 1]\n",
    "```\n",
    "\n",
    "![image](https://assets.leetcode.com/uploads/2019/10/20/hint_valid_mountain_array.png)\n",
    "\n",
    "\n",
    "Example 1:\n",
    "\n",
    "```\n",
    "Input: arr = [2,1]\n",
    "Output: false\n",
    "```\n",
    "\n",
    "Example 2:\n",
    "```\n",
    "Input: arr = [3,5,5]\n",
    "Output: false\n",
    "```\n",
    "\n",
    "Example 3:\n",
    "```\n",
    "Input: arr = [0,3,2,1]\n",
    "Output: true\n",
    "``` \n",
    "\n",
    "Constraints:\n",
    "\n",
    "```\n",
    "1 <= arr.length <= 104\n",
    "0 <= arr[i] <= 104\n",
    "```"
   ]
  },
  {
   "cell_type": "code",
   "execution_count": 33,
   "metadata": {},
   "outputs": [
    {
     "data": {
      "text/plain": [
       "True"
      ]
     },
     "execution_count": 33,
     "metadata": {},
     "output_type": "execute_result"
    }
   ],
   "source": [
    "def validMountainArray(arr):\n",
    "    if len(arr) < 3 or arr[0] > arr[1]: return False\n",
    "\n",
    "    for i in range(1, len(arr)):\n",
    "        if not arr[i] < arr[i-1]:\n",
    "            break\n",
    "    if i == len(arr) -1 or  i == 0 or arr[i] == arr[i-1]: return False\n",
    "\n",
    "    for j in range(i+1, len(arr)):\n",
    "        if arr[j] >= arr[j-1]:\n",
    "            return False\n",
    "    return True\n",
    "validMountainArray([3, 1, 2, 10, 1]) == False"
   ]
  },
  {
   "cell_type": "code",
   "execution_count": 34,
   "metadata": {},
   "outputs": [
    {
     "name": "stdout",
     "output_type": "stream",
     "text": [
      "True\n",
      "True\n",
      "True\n",
      "True\n",
      "True\n",
      "True\n",
      "True\n",
      "True\n"
     ]
    }
   ],
   "source": [
    "# str    #Expected\n",
    "test_cases = [([1, 2, 3, 4], False),\n",
    "              ([1, 1, 1, 1, 1],False),\n",
    "              ([3, 1, 2, 10, 1], False),\n",
    "              ([1,3,2 ], True),\n",
    "              ([3,5,5], False),\n",
    "              ([0,3,2,1], True),\n",
    "              ([2,1], False),\n",
    "              ([0,1,2,1,2], False)\n",
    "              ]\n",
    "for case in test_cases:\n",
    "    print(validMountainArray(case[0]) == case[1])\n"
   ]
  },
  {
   "cell_type": "code",
   "execution_count": null,
   "metadata": {},
   "outputs": [],
   "source": []
  }
 ],
 "metadata": {
  "kernelspec": {
   "display_name": "Python 3.10.4 64-bit",
   "language": "python",
   "name": "python3"
  },
  "language_info": {
   "codemirror_mode": {
    "name": "ipython",
    "version": 3
   },
   "file_extension": ".py",
   "mimetype": "text/x-python",
   "name": "python",
   "nbconvert_exporter": "python",
   "pygments_lexer": "ipython3",
   "version": "3.10.4"
  },
  "orig_nbformat": 4,
  "vscode": {
   "interpreter": {
    "hash": "e7370f93d1d0cde622a1f8e1c04877d8463912d04d973331ad4851f04de6915a"
   }
  }
 },
 "nbformat": 4,
 "nbformat_minor": 2
}
