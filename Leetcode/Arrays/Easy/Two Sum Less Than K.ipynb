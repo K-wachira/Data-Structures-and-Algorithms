{
 "cells": [
  {
   "cell_type": "markdown",
   "metadata": {},
   "source": [
    "Given an array nums of integers and integer k, return the maximum sum such that there exists i < j with nums[i] + nums[j] = sum and sum < k. If no i, j exist satisfying this equation, return -1.\n",
    "\n",
    " \n",
    "\n",
    "Example 1:\n",
    "```\n",
    "Input: nums = [34,23,1,24,75,33,54,8], k = 60\n",
    "Output: 58\n",
    "Explanation: We can use 34 and 24 to sum 58 which is less than 60.\n",
    "```\n",
    "\n",
    "Example 2:\n",
    "```\n",
    "Input: nums = [10,20,30], k = 15\n",
    "Output: -1\n",
    "Explanation: In this case it is not possible to get a pair sum less that 15.\n",
    " ```\n",
    "\n",
    "Constraints:\n",
    "```\n",
    "1 <= nums.length <= 100\n",
    "1 <= nums[i] <= 1000\n",
    "1 <= k <= 2000\n",
    "```"
   ]
  },
  {
   "cell_type": "code",
   "execution_count": 62,
   "metadata": {},
   "outputs": [],
   "source": [
    "class Solution:\n",
    "    def twoSumLessThanK(self, nums, k):\n",
    "        maxNum = 0 \n",
    "        nums.sort()\n",
    "        for index in range(len(nums)):\n",
    "            if nums[index] >=k: continue\n",
    "            target = k - nums[index]\n",
    "            res = self._binarysearch(nums[index:], target)\n",
    "            if res != target:\n",
    "                maxNum = max(maxNum, res+nums[index])\n",
    "        return maxNum\n",
    "\n",
    "    def _binarysearch(self, arr, target):\n",
    "        start, end = 0, len(arr)-1 \n",
    "        maxSoFar = 0 \n",
    "        while start <= end: \n",
    "            mid = start + ( end - start)//2\n",
    "\n",
    "            if arr[mid] < target:\n",
    "                maxSoFar = max( arr[mid], maxSoFar)\n",
    "                start = mid+1 \n",
    "            else: \n",
    "                end  = mid - 1\n",
    "        return maxSoFar"
   ]
  },
  {
   "cell_type": "code",
   "execution_count": 63,
   "metadata": {},
   "outputs": [
    {
     "name": "stdout",
     "output_type": "stream",
     "text": [
      "True\n",
      "False\n",
      "False\n"
     ]
    }
   ],
   "source": [
    "# str    #Expected\n",
    "test_cases = [\n",
    "    ([34,23,1,24,75,33,54,8],60, 58),\n",
    "    ([10,20,30],15, -1),\n",
    "    ([358,898,450,732,672,672,256,542,320,573,423,543,591,280,399,923,920,254,135,952,115,536,143,896,411,722,815,635,353,486,127,146,974,495,229,21,733,918,314,670,671,537,533,716,140,599,758,777,185,549]\n",
    ",1800, 1794)\n",
    "    ]\n",
    "for case in test_cases:\n",
    "    obj = Solution()\n",
    "    print(obj.twoSumLessThanK(case[0], case[1]) ==case[2])"
   ]
  },
  {
   "cell_type": "code",
   "execution_count": 39,
   "metadata": {},
   "outputs": [
    {
     "data": {
      "text/plain": [
       "1796"
      ]
     },
     "execution_count": 39,
     "metadata": {},
     "output_type": "execute_result"
    }
   ],
   "source": [
    "898 + 898"
   ]
  },
  {
   "cell_type": "code",
   "execution_count": null,
   "metadata": {},
   "outputs": [],
   "source": []
  }
 ],
 "metadata": {
  "kernelspec": {
   "display_name": "Python 3.10.4 64-bit",
   "language": "python",
   "name": "python3"
  },
  "language_info": {
   "codemirror_mode": {
    "name": "ipython",
    "version": 3
   },
   "file_extension": ".py",
   "mimetype": "text/x-python",
   "name": "python",
   "nbconvert_exporter": "python",
   "pygments_lexer": "ipython3",
   "version": "3.10.4"
  },
  "orig_nbformat": 4,
  "vscode": {
   "interpreter": {
    "hash": "e7370f93d1d0cde622a1f8e1c04877d8463912d04d973331ad4851f04de6915a"
   }
  }
 },
 "nbformat": 4,
 "nbformat_minor": 2
}
