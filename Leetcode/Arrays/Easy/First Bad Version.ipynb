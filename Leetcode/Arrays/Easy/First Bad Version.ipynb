{
 "cells": [
  {
   "cell_type": "markdown",
   "metadata": {},
   "source": [
    "You are a product manager and currently leading a team to develop a new product. Unfortunately, the latest version of your product fails the quality check. Since each version is developed based on the previous version, all the versions after a bad version are also bad.\n",
    "\n",
    "Suppose you have `n` versions `[1, 2, ..., n]` and you want to find out the first bad one, which causes all the following ones to be bad.\n",
    "\n",
    "You are given an API `bool` `isBadVersion(version) `which returns whether version is bad. Implement a function to find the first bad version. You should minimize the number of calls to the API.\n",
    "\n",
    " \n",
    "\n",
    "Example 1:\n",
    "```\n",
    "Input: n = 5, bad = 4\n",
    "Output: 4\n",
    "Explanation:\n",
    "call isBadVersion(3) -> false\n",
    "call isBadVersion(5) -> true\n",
    "call isBadVersion(4) -> true\n",
    "Then 4 is the first bad version.\n",
    "```\n",
    "\n",
    "\n",
    "Example 2:\n",
    "```\n",
    "Input: n = 1, bad = 1\n",
    "Output: 1\n",
    " ```\n",
    "\n",
    "Constraints:\n",
    "\n",
    "``1 <= bad <= n <= 231 - 1``"
   ]
  },
  {
   "cell_type": "code",
   "execution_count": null,
   "metadata": {},
   "outputs": [],
   "source": [
    "# The isBadVersion API is already defined for you.\n",
    "# def isBadVersion(version: int) -> bool:\n",
    "\n",
    "class Solution:\n",
    "    def firstBadVersion(self, n: int) -> int:\n",
    "        l, h = 1, n \n",
    "        \n",
    "        while l <= h:\n",
    "            \n",
    "            curr = (l + h)//2\n",
    "            \n",
    "            if isBadVersion(curr) and not isBadVersion(curr-1):\n",
    "                return curr\n",
    "            elif isBadVersion(curr) and isBadVersion(curr-1):\n",
    "                h = curr-1 \n",
    "            elif not isBadVersion(curr)and not isBadVersion(curr-1):\n",
    "                l = curr+1 "
   ]
  }
 ],
 "metadata": {
  "language_info": {
   "name": "python"
  },
  "orig_nbformat": 4
 },
 "nbformat": 4,
 "nbformat_minor": 2
}
