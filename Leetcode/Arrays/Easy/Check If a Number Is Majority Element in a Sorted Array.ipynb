{
 "cells": [
  {
   "cell_type": "markdown",
   "metadata": {},
   "source": [
    "Given an integer array `nums` sorted in non-decreasing order and an integer target, `return` true if target is a majority element, or `false` otherwise.\n",
    "\n",
    "A majority element in an array `nums` is an element that appears more than `nums`.`length / 2 `times in the array.\n",
    "\n",
    " \n",
    "\n",
    "Example 1:\n",
    "```\n",
    "Input: nums = [2,4,5,5,5,5,5,6,6], target = 5\n",
    "Output: true\n",
    "Explanation: The value 5 appears 5 times and the length of the array is 9.\n",
    "Thus, 5 is a majority element because 5 > 9/2 is true.\n",
    "\n",
    "```\n",
    "\n",
    "\n",
    "Example 2:\n",
    "```\n",
    "Input: nums = [10,100,101,101], target = 101\n",
    "Output: false\n",
    "Explanation: The value 101 appears 2 times and the length of the array is 4.\n",
    "Thus, 101 is not a majority element because 2 > 4/2 is false.\n",
    " ```\n",
    "\n",
    "Constraints:\n",
    "```\n",
    "1 <= nums.length <= 1000\n",
    "1 <= nums[i], target <= 109\n",
    "nums is sorted in non-decreasing order.\n",
    "```"
   ]
  },
  {
   "cell_type": "code",
   "execution_count": 20,
   "metadata": {},
   "outputs": [],
   "source": [
    "import collections\n",
    "class Solution:\n",
    "    def isMajorityElement(self, nums, target):\n",
    "        Counterdict =collections.Counter(nums)\n",
    "        return Counterdict[target] > len(nums) /2"
   ]
  },
  {
   "cell_type": "code",
   "execution_count": 9,
   "metadata": {},
   "outputs": [],
   "source": [
    "class Solution:\n",
    "    def isMajorityElement(self, nums, target) :\n",
    "        if target != nums[(len(nums)-1)//2]: return False\n",
    "        \n",
    "        def bisect_left(a, x, lo, hi):\n",
    "            while lo < hi:\n",
    "                mid = (lo + hi)//2\n",
    "                if a[mid] >= x: hi = mid\n",
    "                else: lo = mid+1 \n",
    "            return lo\n",
    "        \n",
    "        lo = bisect_left(nums, target, 0, len(nums)//2)\n",
    "        return nums[lo + len(nums)//2] == target"
   ]
  },
  {
   "cell_type": "code",
   "execution_count": 21,
   "metadata": {},
   "outputs": [
    {
     "name": "stdout",
     "output_type": "stream",
     "text": [
      "True\n",
      "True\n"
     ]
    }
   ],
   "source": [
    "# str    #Expected\n",
    "test_cases = [([2, 4, 5, 5, 5, 5, 5, 6, 6], 5, True),\n",
    "              ([10, 100, 101, 101], 101, False),\n",
    "\n",
    "              ]\n",
    "for case in test_cases:\n",
    "    obj = Solution()\n",
    "    \n",
    "    print(obj.isMajorityElement(case[0], case[1]) == case[2])\n"
   ]
  }
 ],
 "metadata": {
  "kernelspec": {
   "display_name": "Python 3.10.4 64-bit",
   "language": "python",
   "name": "python3"
  },
  "language_info": {
   "codemirror_mode": {
    "name": "ipython",
    "version": 3
   },
   "file_extension": ".py",
   "mimetype": "text/x-python",
   "name": "python",
   "nbconvert_exporter": "python",
   "pygments_lexer": "ipython3",
   "version": "3.10.4"
  },
  "orig_nbformat": 4,
  "vscode": {
   "interpreter": {
    "hash": "e7370f93d1d0cde622a1f8e1c04877d8463912d04d973331ad4851f04de6915a"
   }
  }
 },
 "nbformat": 4,
 "nbformat_minor": 2
}
