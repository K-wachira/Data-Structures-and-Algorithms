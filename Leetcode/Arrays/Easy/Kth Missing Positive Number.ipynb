{
 "cells": [
  {
   "cell_type": "markdown",
   "metadata": {},
   "source": [
    "Given an array `arr` of positive integers sorted in a strictly increasing order, and an integer `k`.\n",
    "\n",
    "Return the `kth` positive integer that is missing from this array.\n",
    "\n",
    " \n",
    "\n",
    "Example 1:\n",
    "\n",
    "```\n",
    "Input: arr = [2,3,4,7,11], k = 5\n",
    "Output: 9\n",
    "Explanation: The missing positive integers are [1,5,6,8,9,10,12,13,...]. The 5th missing positive integer is 9.\n",
    "\n",
    "```\n",
    "Example 2:\n",
    "```\n",
    "Input: arr = [1,2,3,4], k = 2\n",
    "Output: 6\n",
    "Explanation: The missing positive integers are [5,6,7,...]. The 2nd missing positive integer is 6.\n",
    " ```\n",
    "```\n",
    "Constraints:\n",
    "\n",
    "1 <= arr.length <= 1000\n",
    "1 <= arr[i] <= 1000\n",
    "1 <= k <= 1000\n",
    "arr[i] < arr[j] for 1 <= i < j <= arr.length\n",
    " \n",
    "```\n",
    "Follow up:\n",
    "\n",
    "Could you solve this problem in less than `O(n)` complexity?"
   ]
  },
  {
   "cell_type": "code",
   "execution_count": 28,
   "metadata": {},
   "outputs": [],
   "source": [
    "class Solution:\n",
    "    def findKthPositive(self, arr, k):\n",
    "        set_arr = set(arr)\n",
    "        for i in range(1, max(arr[-1], len(arr)*+1), k*2):\n",
    "            if i not in set_arr:\n",
    "                k-=1\n",
    "            if not k: \n",
    "                break\n",
    "        print(i)\n",
    "        return i"
   ]
  },
  {
   "cell_type": "code",
   "execution_count": 29,
   "metadata": {},
   "outputs": [
    {
     "name": "stdout",
     "output_type": "stream",
     "text": [
      "1\n",
      "False\n",
      "1\n",
      "False\n",
      "1\n",
      "False\n"
     ]
    }
   ],
   "source": [
    "# str    #Expected\n",
    "test_cases = [([2, 3, 4, 7, 11], 5, 9),\n",
    "              ([1, 2, 3, 4], 2, 6),\n",
    "              ([5, 6, 7, 8, 9], 9, 14)\n",
    "              ]\n",
    "for case in test_cases:\n",
    "    obj = Solution()\n",
    "\n",
    "    print(obj.findKthPositive(case[0], case[1]) == case[2])\n"
   ]
  },
  {
   "cell_type": "code",
   "execution_count": null,
   "metadata": {},
   "outputs": [],
   "source": []
  }
 ],
 "metadata": {
  "kernelspec": {
   "display_name": "Python 3.10.4 64-bit",
   "language": "python",
   "name": "python3"
  },
  "language_info": {
   "codemirror_mode": {
    "name": "ipython",
    "version": 3
   },
   "file_extension": ".py",
   "mimetype": "text/x-python",
   "name": "python",
   "nbconvert_exporter": "python",
   "pygments_lexer": "ipython3",
   "version": "3.10.5"
  },
  "orig_nbformat": 4,
  "vscode": {
   "interpreter": {
    "hash": "e7370f93d1d0cde622a1f8e1c04877d8463912d04d973331ad4851f04de6915a"
   }
  }
 },
 "nbformat": 4,
 "nbformat_minor": 2
}
