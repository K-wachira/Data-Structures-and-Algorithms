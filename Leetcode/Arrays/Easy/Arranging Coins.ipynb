{
 "cells": [
  {
   "cell_type": "markdown",
   "metadata": {},
   "source": [
    "You have `n` coins and you want to build a staircase with these coins. The staircase consists of `k` rows where the `ith` row has exactly `i` coins. The last row of the staircase may be incomplete.\n",
    "\n",
    "Given the integer `n`, return the number of complete rows of the staircase you will build.\n",
    "\n",
    " \n",
    "\n",
    "Example 1:\n",
    "\n",
    "```\n",
    "Input: n = 5\n",
    "Output: 2\n",
    "Explanation: Because the 3rd row is incomplete, we return 2.\n",
    "\n",
    "```\n",
    "Example 2:\n",
    "\n",
    "```\n",
    "Input: n = 8\n",
    "Output: 3\n",
    "Explanation: Because the 4th row is incomplete, we return 3.\n",
    " \n",
    "```\n",
    "Constraints:\n",
    "\n",
    "```1 <= n <= 231 - 1```"
   ]
  },
  {
   "cell_type": "code",
   "execution_count": 1,
   "metadata": {},
   "outputs": [],
   "source": [
    "class Solution:\n",
    "    def arrangeCoins(self, n):\n",
    "        left, right = 0, n\n",
    "        while left <= right:\n",
    "            k = (right + left) // 2\n",
    "            curr = k * (k + 1) // 2\n",
    "            if curr == n:\n",
    "                return k\n",
    "            if n < curr:\n",
    "                right = k - 1\n",
    "            else:\n",
    "                left = k + 1\n",
    "        return right"
   ]
  },
  {
   "cell_type": "code",
   "execution_count": 3,
   "metadata": {},
   "outputs": [
    {
     "name": "stdout",
     "output_type": "stream",
     "text": [
      "True\n",
      "True\n"
     ]
    }
   ],
   "source": [
    "test_cases = [(5, 2),\n",
    "              (8, 3)]\n",
    "for case in test_cases:\n",
    "    obj = Solution()\n",
    "    print(obj.arrangeCoins(case[0]) == case[1])\n"
   ]
  },
  {
   "cell_type": "code",
   "execution_count": null,
   "metadata": {},
   "outputs": [],
   "source": []
  }
 ],
 "metadata": {
  "kernelspec": {
   "display_name": "Python 3.10.4 64-bit",
   "language": "python",
   "name": "python3"
  },
  "language_info": {
   "codemirror_mode": {
    "name": "ipython",
    "version": 3
   },
   "file_extension": ".py",
   "mimetype": "text/x-python",
   "name": "python",
   "nbconvert_exporter": "python",
   "pygments_lexer": "ipython3",
   "version": "3.10.4"
  },
  "orig_nbformat": 4,
  "vscode": {
   "interpreter": {
    "hash": "e7370f93d1d0cde622a1f8e1c04877d8463912d04d973331ad4851f04de6915a"
   }
  }
 },
 "nbformat": 4,
 "nbformat_minor": 2
}
