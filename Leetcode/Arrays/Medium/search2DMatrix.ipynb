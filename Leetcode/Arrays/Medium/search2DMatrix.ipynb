{
 "cells": [
  {
   "cell_type": "markdown",
   "metadata": {},
   "source": [
    "Write an efficient algorithm that searches for a value target in an m x n integer matrix matrix. This matrix has the following properties:\n",
    "\n",
    "Integers in each row are sorted from left to right.\n",
    "The first integer of each row is greater than the last integer of the previous row.\n",
    " \n",
    "\n",
    "Example 1:\n",
    "\n",
    "![](https://assets.leetcode.com/uploads/2020/10/05/mat.jpg)\n",
    "\n",
    "```\n",
    "Input: matrix = [[1,3,5,7],[10,11,16,20],[23,30,34,60]], target = 3\n",
    "Output: true\n",
    "```\n",
    "\n",
    "Example 2:\n",
    "\n",
    "![](https://assets.leetcode.com/uploads/2020/10/05/mat2.jpg)\n",
    "\n",
    "```\n",
    "Input: matrix = [[1,3,5,7],[10,11,16,20],[23,30,34,60]], target = 13\n",
    "Output: false\n",
    "```\n",
    "\n",
    "Constraints:\n",
    "\n",
    "```\n",
    "m == matrix.length\n",
    "n == matrix[i].length\n",
    "1 <= m, n <= 100\n",
    "-104 <= matrix[i][j], target <= 104\n",
    "```"
   ]
  },
  {
   "cell_type": "code",
   "execution_count": 47,
   "metadata": {},
   "outputs": [],
   "source": [
    "class Solution:\n",
    "    def searchMatrix(self, matrix, target):\n",
    "        #pointers to Start and end of array \n",
    "        start, end = 0, len(matrix) -1\n",
    "        while start <= end: # loop while end is greater than start. \n",
    "            # Calculate mid of the array\n",
    "            mid = start + (end-start) //2\n",
    "            # If we are in the middle and target is in the middle row\n",
    "            if matrix[mid][0] <= target <= matrix[mid][-1] :\n",
    "                # break to a helper fuction that does normal binary search\n",
    "                if self._searchMatrix( matrix, mid, target): \n",
    "                    return True\n",
    "                # if the value is not in the middle array return False/break\n",
    "                else:\n",
    "                    break\n",
    "            # if target is less than value at mid row index 0\n",
    "            elif target < matrix[mid][0]: \n",
    "                # search first half/left part of the matrix \n",
    "                end = mid-1\n",
    "            # if target is greater than value at the end of mid row\n",
    "            else:\n",
    "                # search for mid row in the right/second half of the matrix\n",
    "                start = mid + 1\n",
    "        return False\n",
    "    # normal binary search Algorithm\n",
    "    def _searchMatrix(self, matrix, mid_row, target):\n",
    "        l, r = 0, len(matrix[0]) - 1\n",
    "        while l <= r:\n",
    "            mid = (l + r) // 2\n",
    "            if matrix[mid_row][mid] == target:\n",
    "                return True\n",
    "            elif matrix[mid_row][mid] < target:\n",
    "                l = mid + 1\n",
    "            else:\n",
    "                r = mid - 1\n",
    "        return False"
   ]
  },
  {
   "cell_type": "code",
   "execution_count": 49,
   "metadata": {},
   "outputs": [],
   "source": [
    "class Solution2:\n",
    "    def searchMatrix(self, matrix, target):\n",
    "        # Rows\n",
    "        m = len(matrix)\n",
    "        # if there are no rows its an automatic 0 \n",
    "        if m == 0: return False\n",
    "        # Columns\n",
    "        n = len(matrix[0])\n",
    "        \n",
    "        # This solution is approached from a view of the matrix could be unfolded(theoretically) to a one dimentional array of ints\n",
    "        # Pointers left and right of the 'One Dimensional Array'\n",
    "        left, right = 0, m * n - 1 \n",
    "        while left <= right:\n",
    "                pivot_idx = (left + right) // 2\n",
    "                # Row can be calculated by - Row= index//n where n is the number of columns\n",
    "                # Col can be calculated by - Col = index%n              ''\n",
    "\n",
    "                # get item in the middle of the 'One Dimensional Array' and make it our mid item.\n",
    "                pivot_element = matrix[pivot_idx // n][pivot_idx % n]\n",
    "                if target == pivot_element:\n",
    "                    return True\n",
    "                else:\n",
    "                    if target < pivot_element:\n",
    "                        right = pivot_idx - 1\n",
    "                    else:\n",
    "                        left = pivot_idx + 1\n",
    "        return False"
   ]
  },
  {
   "cell_type": "code",
   "execution_count": 51,
   "metadata": {},
   "outputs": [
    {
     "name": "stdout",
     "output_type": "stream",
     "text": [
      "True\n",
      "True\n",
      "True\n",
      "True\n",
      "True\n",
      "True\n",
      "True\n",
      "True\n",
      "True\n",
      "True\n",
      "True\n",
      "True\n",
      "True\n",
      "True\n"
     ]
    }
   ],
   "source": [
    "# str    #Expected\n",
    "test_cases = [\n",
    "    ([[1, 3, 5, 7], [10, 11, 16, 20], [23, 30, 34, 60]],  3, True),\n",
    "    ([[1, 3, 5, 7], [10, 11, 16, 20], [23, 30, 34, 60]],  16, True),\n",
    "    ([[1, 3, 5, 7], [10, 11, 16, 20], [23, 30, 34, 60]],  23, True),\n",
    "    ([[1, 3, 5, 7], [10, 11, 16, 20], [23, 30, 34, 60]],  13, False),\n",
    "    ([[1, 3, 5, 7], [10, 11, 16, 20], [23, 30, 34, 60]],  30, True),\n",
    "    ([[1, 3, 5, 7], [10, 11, 16, 20], [23, 30, 34, 60]],  60, True),\n",
    "    ([[1, 3, 5, 7], [10, 11, 16, 20], [23, 30, 34, 60]],  3, True),\n",
    "\n",
    "]\n",
    "for case in test_cases:\n",
    "    obj = Solution()\n",
    "    print(obj.searchMatrix(case[0], case[1]) == case[2])\n",
    "    obj2 = Solution2()\n",
    "    print(obj2.searchMatrix(case[0], case[1]) == case[2])\n"
   ]
  },
  {
   "cell_type": "code",
   "execution_count": null,
   "metadata": {},
   "outputs": [],
   "source": []
  }
 ],
 "metadata": {
  "kernelspec": {
   "display_name": "Python 3.10.4 64-bit",
   "language": "python",
   "name": "python3"
  },
  "language_info": {
   "codemirror_mode": {
    "name": "ipython",
    "version": 3
   },
   "file_extension": ".py",
   "mimetype": "text/x-python",
   "name": "python",
   "nbconvert_exporter": "python",
   "pygments_lexer": "ipython3",
   "version": "3.10.4"
  },
  "orig_nbformat": 4,
  "vscode": {
   "interpreter": {
    "hash": "e7370f93d1d0cde622a1f8e1c04877d8463912d04d973331ad4851f04de6915a"
   }
  }
 },
 "nbformat": 4,
 "nbformat_minor": 2
}
