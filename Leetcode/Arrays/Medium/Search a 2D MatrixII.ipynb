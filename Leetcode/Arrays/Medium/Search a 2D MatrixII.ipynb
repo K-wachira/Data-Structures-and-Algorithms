{
 "cells": [
  {
   "cell_type": "markdown",
   "metadata": {},
   "source": [
    "Write an efficient algorithm that searches for a value target in an m x n integer matrix matrix. This matrix has the following properties:\n",
    "\n",
    "Integers in each row are sorted in ascending from left to right.\n",
    "Integers in each column are sorted in ascending from top to bottom.\n",
    " \n",
    "\n",
    "Example 1:\n",
    "\n",
    "![](https://assets.leetcode.com/uploads/2020/11/24/searchgrid2.jpg)\n",
    "```\n",
    "Input: matrix = [[1,4,7,11,15],[2,5,8,12,19],[3,6,9,16,22],[10,13,14,17,24],[18,21,23,26,30]], target = 5\n",
    "Output: true\n",
    "```\n",
    "\n",
    "Example 2:\n",
    "\n",
    "![](https://assets.leetcode.com/uploads/2020/11/24/searchgrid.jpg)\n",
    "\n",
    "Input: matrix = [[1,4,7,11,15],[2,5,8,12,19],[3,6,9,16,22],[10,13,14,17,24],[18,21,23,26,30]], target = 20\n",
    "Output: false\n",
    "\n",
    "Constraints:\n",
    "\n",
    "```\n",
    "m == matrix.length\n",
    "n == matrix[i].length\n",
    "1 <= n, m <= 300\n",
    "-109 <= matrix[i][j] <= 109\n",
    "All the integers in each row are sorted in ascending order.\n",
    "All the integers in each column are sorted in ascending order.\n",
    "-109 <= target <= 109\n",
    "```\n"
   ]
  },
  {
   "cell_type": "code",
   "execution_count": null,
   "metadata": {},
   "outputs": [],
   "source": [
    "class Solution:\n",
    "    def searchMatrix(self, matrix: List[List[int]], target: int) -> bool:\n",
    "        # an empty matrix obviously does not contain `target` (make this check\n",
    "        # because we want to cache `width` for efficiency's sake)\n",
    "        if len(matrix) == 0 or len(matrix[0]) == 0:\n",
    "            return False\n",
    "\n",
    "        # cache these, as they won't change.\n",
    "        height = len(matrix)\n",
    "        width = len(matrix[0])\n",
    "\n",
    "        # start our \"pointer\" in the bottom-left\n",
    "        row = height - 1\n",
    "        col = 0\n",
    "\n",
    "        while col < width and row >= 0:\n",
    "            if matrix[row][col] > target:\n",
    "                row -= 1\n",
    "            elif matrix[row][col] < target:\n",
    "                col += 1\n",
    "            else: # found it\n",
    "                return True\n",
    "        \n",
    "        return False"
   ]
  },
  {
   "cell_type": "code",
   "execution_count": null,
   "metadata": {},
   "outputs": [],
   "source": [
    "# str    #Expected\n",
    "test_cases = [\n",
    "    ([[4, 3, 2, -1], [3, 2, 1, -1], [1, 1, -1, -2], [-1, -1, -2, -3]], 8),\n",
    "    ([[3, 2], [1, 0]], 0)]\n",
    "for case in test_cases:\n",
    "    obj = Solution()\n",
    "    print(obj.countNegatives(case[0]) == case[1])\n"
   ]
  }
 ],
 "metadata": {
  "language_info": {
   "name": "python"
  },
  "orig_nbformat": 4
 },
 "nbformat": 4,
 "nbformat_minor": 2
}
