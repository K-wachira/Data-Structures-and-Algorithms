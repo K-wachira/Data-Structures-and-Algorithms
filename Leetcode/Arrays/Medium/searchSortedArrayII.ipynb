{
 "cells": [
  {
   "cell_type": "markdown",
   "metadata": {},
   "source": [
    "There is an integer array `nums` sorted in non-decreasing order (not necessarily with distinct values).\n",
    "\n",
    "Before being passed to your function, `nums` is rotated at an unknown pivot index `k (0 <= k < nums.length)` such that the resulting array is `[nums[k], nums[k+1], ..., nums[n-1], nums[0], nums[1], ..., nums[k-1]]` (0-indexed). For example, `[0,1,2,4,4,4,5,6,6,7]` might be rotated at pivot index 5 and become `[4,5,6,6,7,0,1,2,4,4]`.\n",
    "\n",
    "Given the array `nums` after the rotation and an integer target, return `true` if `target` is in `nums`, or `false` if it is not in `nums`.\n",
    "\n",
    "You must decrease the overall operation steps as much as possible."
   ]
  },
  {
   "cell_type": "code",
   "execution_count": null,
   "metadata": {},
   "outputs": [],
   "source": []
  }
 ],
 "metadata": {
  "language_info": {
   "name": "python"
  },
  "orig_nbformat": 4
 },
 "nbformat": 4,
 "nbformat_minor": 2
}
