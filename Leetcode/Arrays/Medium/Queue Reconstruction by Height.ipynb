{
 "cells": [
  {
   "cell_type": "markdown",
   "metadata": {},
   "source": [
    "You are given an array of people, people, which are the attributes of some people in a queue (not necessarily in order). Each people[i] = [hi, ki] represents the ith person of height hi with exactly ki other people in front who have a height greater than or equal to hi.\n",
    "\n",
    "Reconstruct and return the queue that is represented by the input array people. The returned queue should be formatted as an array queue, where queue[j] = [hj, kj] is the attributes of the jth person in the queue (queue[0] is the person at the front of the queue).\n",
    "\n",
    " \n",
    "\n",
    "Example 1:\n",
    "\n",
    "Input: people = [[7,0],[4,4],[7,1],[5,0],[6,1],[5,2]]\n",
    "Output: [[5,0],[7,0],[5,2],[6,1],[4,4],[7,1]]\n",
    "Explanation:\n",
    "Person 0 has height 5 with no other people taller or the same height in front.\n",
    "Person 1 has height 7 with no other people taller or the same height in front.\n",
    "Person 2 has height 5 with two persons taller or the same height in front, which is person 0 and 1.\n",
    "Person 3 has height 6 with one person taller or the same height in front, which is person 1.\n",
    "Person 4 has height 4 with four people taller or the same height in front, which are people 0, 1, 2, and 3.\n",
    "Person 5 has height 7 with one person taller or the same height in front, which is person 1.\n",
    "Hence [[5,0],[7,0],[5,2],[6,1],[4,4],[7,1]] is the reconstructed queue.\n",
    "Example 2:\n",
    "\n",
    "Input: people = [[6,0],[5,0],[4,0],[3,2],[2,2],[1,4]]\n",
    "Output: [[4,0],[5,0],[2,2],[3,2],[1,4],[6,0]]\n",
    " \n",
    "\n",
    "Constraints:\n",
    "\n",
    "1 <= people.length <= 2000\n",
    "0 <= hi <= 106\n",
    "0 <= ki < people.length\n",
    "It is guaranteed that the queue can be reconstructed."
   ]
  },
  {
   "cell_type": "code",
   "execution_count": null,
   "metadata": {},
   "outputs": [],
   "source": [
    "class Solution:\n",
    "    def reconstructQueue(self, people: List[List[int]]) -> List[List[int]]:\n",
    "        people.sort(key = lambda x: (-x[0], x[1]))\n",
    "        output = []\n",
    "        for p in people:\n",
    "            output.insert(p[1], p)\n",
    "        return output"
   ]
  }
 ],
 "metadata": {
  "language_info": {
   "name": "python"
  },
  "orig_nbformat": 4
 },
 "nbformat": 4,
 "nbformat_minor": 2
}
