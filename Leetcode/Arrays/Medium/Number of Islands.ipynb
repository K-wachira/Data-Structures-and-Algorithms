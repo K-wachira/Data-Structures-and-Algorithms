{
 "cells": [
  {
   "cell_type": "markdown",
   "metadata": {},
   "source": [
    "Given an m x n 2D binary grid grid which represents a map of '1's (land) and '0's (water), return the number of islands.\n",
    "\n",
    "An island is surrounded by water and is formed by connecting adjacent lands horizontally or vertically. You may assume all four edges of the grid are all surrounded by water.\n",
    "\n",
    " \n",
    "\n",
    "Example 1:\n",
    "\n",
    "Input: grid = '''[\n",
    "  [\"1\",\"1\",\"1\",\"1\",\"0\"],\n",
    "  [\"1\",\"1\",\"0\",\"1\",\"0\"],\n",
    "  [\"1\",\"1\",\"0\",\"0\",\"0\"],\n",
    "  [\"0\",\"0\",\"0\",\"0\",\"0\"]\n",
    "]'''\n",
    "Output: 1\n",
    "Example 2:\n",
    "\n",
    "Input: grid = [\n",
    "  [\"1\",\"1\",\"0\",\"0\",\"0\"],\n",
    "  [\"1\",\"1\",\"0\",\"0\",\"0\"],\n",
    "  [\"0\",\"0\",\"1\",\"0\",\"0\"],\n",
    "  [\"0\",\"0\",\"0\",\"1\",\"1\"]\n",
    "]\n",
    "Output: 3\n",
    " \n",
    "\n",
    "Constraints:\n",
    "\n",
    "m == grid.length\n",
    "n == grid[i].length\n",
    "1 <= m, n <= 300\n",
    "grid[i][j] is '0' or '1'."
   ]
  },
  {
   "cell_type": "code",
   "execution_count": 23,
   "metadata": {},
   "outputs": [],
   "source": [
    "from typing import List\n",
    "\n",
    "\n",
    "class Solution:\n",
    "    def numIslands(self, grid: List[List[str]]) -> int:\n",
    "        print(grid)\n",
    "        self.breathFirstSearch(grid, start=(1,2))\n",
    "        return \n",
    "    def breathFirstSearch(self, grid, start):\n",
    "        R = len(grid)-1\n",
    "        C = len(grid[0])-1\n",
    "\n",
    "        # Breath first search uses the first in first out rule.\n",
    "        queue = [start]\n",
    "        visited =set()\n",
    "\n",
    "        while queue:\n",
    "            r, c = queue.pop()\n",
    "            print(grid[r][c])\n",
    "            directions= [ (r+1,c ), (r-1,c ),(r,c+1 ),(r,c-1 )]\n",
    "            for rr, cc in directions:\n",
    "                if 0<= rr < R and 0<= cc < C and (rr, cc) not in visited:\n",
    "                    queue.append( (rr, cc))\n",
    "                    visited.add( (rr, cc))\n",
    "        return"
   ]
  },
  {
   "cell_type": "code",
   "execution_count": 24,
   "metadata": {},
   "outputs": [
    {
     "name": "stdout",
     "output_type": "stream",
     "text": [
      "[['1', '1', 'nn', '1', '0'], ['1', 'n*4', 's', 'nnn', '0'], ['1', '1', 'n', '0', '0'], ['0', '0', '0', '0', '0']]\n",
      "s\n",
      "n*4\n",
      "1\n",
      "1\n",
      "1\n",
      "s\n",
      "1\n",
      "1\n",
      "nnn\n",
      "1\n",
      "0\n",
      "nn\n",
      "n\n",
      "[['1', '1', '0', '0', '0'], ['1', '1', '0', '0', '0'], ['0', '0', '1', '0', '0'], ['0', '0', '0', '1', '1']]\n",
      "0\n",
      "1\n",
      "1\n",
      "1\n",
      "0\n",
      "0\n",
      "1\n",
      "0\n",
      "0\n",
      "0\n",
      "0\n",
      "0\n",
      "1\n"
     ]
    }
   ],
   "source": [
    "test_cases = [([\n",
    "    [\"1\", \"1\", \"nn\", \"1\", \"0\"],\n",
    "    [\"1\", \"n*4\", \"s\", \"nnn\", \"0\"],\n",
    "    [\"1\", \"1\", \"n\", \"0\", \"0\"],\n",
    "    [\"0\", \"0\", \"0\", \"0\", \"0\"]\n",
    "], 1),\n",
    "    ([\n",
    "        [\"1\", \"1\", \"0\", \"0\", \"0\"],\n",
    "        [\"1\", \"1\", \"0\", \"0\", \"0\"],\n",
    "        [\"0\", \"0\", \"1\", \"0\", \"0\"],\n",
    "        [\"0\", \"0\", \"0\", \"1\", \"1\"]\n",
    "    ], 2)]\n",
    "\n",
    "obj = Solution()\n",
    "for test_case in test_cases:\n",
    "    ans = obj.numIslands(test_case[0])\n"
   ]
  },
  {
   "cell_type": "code",
   "execution_count": null,
   "metadata": {},
   "outputs": [],
   "source": []
  }
 ],
 "metadata": {
  "kernelspec": {
   "display_name": "Python 3.10.7 64-bit",
   "language": "python",
   "name": "python3"
  },
  "language_info": {
   "codemirror_mode": {
    "name": "ipython",
    "version": 3
   },
   "file_extension": ".py",
   "mimetype": "text/x-python",
   "name": "python",
   "nbconvert_exporter": "python",
   "pygments_lexer": "ipython3",
   "version": "3.10.7"
  },
  "orig_nbformat": 4,
  "vscode": {
   "interpreter": {
    "hash": "e7370f93d1d0cde622a1f8e1c04877d8463912d04d973331ad4851f04de6915a"
   }
  }
 },
 "nbformat": 4,
 "nbformat_minor": 2
}
