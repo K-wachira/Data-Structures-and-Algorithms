{
 "cells": [
  {
   "cell_type": "markdown",
   "metadata": {},
   "source": [
    "Given a string containing digits from 2-9 inclusive, return all possible letter combinations that the number could represent. Return the answer in any order.\n",
    "\n",
    "A mapping of digit to letters (just like on the telephone buttons) is given below. Note that 1 does not map to any letters.\n",
    "\n",
    "\n",
    "![image](https://upload.wikimedia.org/wikipedia/commons/thumb/7/73/Telephone-keypad2.svg/200px-Telephone-keypad2.svg.png)\n",
    " \n",
    "\n",
    "Example 1:\n",
    "\n",
    "Input: digits = \"23\"\n",
    "Output: [\"ad\",\"ae\",\"af\",\"bd\",\"be\",\"bf\",\"cd\",\"ce\",\"cf\"]\n",
    "Example 2:\n",
    "\n",
    "Input: digits = \"\"\n",
    "Output: []\n",
    "Example 3:\n",
    "\n",
    "Input: digits = \"2\"\n",
    "Output: [\"a\",\"b\",\"c\"]"
   ]
  },
  {
   "cell_type": "code",
   "execution_count": 2,
   "metadata": {},
   "outputs": [],
   "source": [
    "def letterCombinations(digits):\n",
    "    f = {\"2\": 'abc', '3': 'def', '4': 'ghi', '5': 'jkl',\n",
    "         '6': 'mno', '7': 'pqrs', '8': 'tuv', '9': 'wxyz'}\n",
    "    results = []\n",
    "\n",
    "    def backtrack(cur, str):\n",
    "        if len(str) == len(digits):\n",
    "            results.append(str)\n",
    "            return\n",
    "        for c in f[digits[cur]]:\n",
    "            backtrack(cur+1, str+c)\n",
    "    if digits:\n",
    "        backtrack(0, \"\")\n",
    "    return results\n"
   ]
  },
  {
   "cell_type": "code",
   "execution_count": 5,
   "metadata": {},
   "outputs": [
    {
     "name": "stdout",
     "output_type": "stream",
     "text": [
      "True\n",
      "True\n",
      "True\n",
      "True\n"
     ]
    }
   ],
   "source": [
    "# str    #Expected\n",
    "test_cases = [(\"23\",  [\"ad\", \"ae\", \"af\", \"bd\", \"be\", \"bf\", \"cd\", \"ce\", \"cf\"]),\n",
    "              (\"\", []),\n",
    "              (\"2\", [\"a\", \"b\", \"c\"]),\n",
    "              (\"6789\", [\"mptw\", \"mptx\", \"mpty\", \"mptz\", \"mpuw\", \"mpux\", \"mpuy\", \"mpuz\", \"mpvw\", \"mpvx\", \"mpvy\", \"mpvz\", \"mqtw\", \"mqtx\", \"mqty\", \"mqtz\", \"mquw\", \"mqux\", \"mquy\", \"mquz\", \"mqvw\", \"mqvx\", \"mqvy\", \"mqvz\", \"mrtw\", \"mrtx\", \"mrty\", \"mrtz\", \"mruw\", \"mrux\", \"mruy\", \"mruz\", \"mrvw\", \"mrvx\", \"mrvy\", \"mrvz\", \"mstw\", \"mstx\", \"msty\", \"mstz\", \"msuw\", \"msux\", \"msuy\", \"msuz\", \"msvw\", \"msvx\", \"msvy\", \"msvz\", \"nptw\", \"nptx\", \"npty\", \"nptz\", \"npuw\", \"npux\", \"npuy\", \"npuz\", \"npvw\", \"npvx\", \"npvy\", \"npvz\", \"nqtw\", \"nqtx\", \"nqty\", \"nqtz\", \"nquw\", \"nqux\", \"nquy\", \"nquz\", \"nqvw\", \"nqvx\", \"nqvy\",\n",
    "               \"nqvz\", \"nrtw\", \"nrtx\", \"nrty\", \"nrtz\", \"nruw\", \"nrux\", \"nruy\", \"nruz\", \"nrvw\", \"nrvx\", \"nrvy\", \"nrvz\", \"nstw\", \"nstx\", \"nsty\", \"nstz\", \"nsuw\", \"nsux\", \"nsuy\", \"nsuz\", \"nsvw\", \"nsvx\", \"nsvy\", \"nsvz\", \"optw\", \"optx\", \"opty\", \"optz\", \"opuw\", \"opux\", \"opuy\", \"opuz\", \"opvw\", \"opvx\", \"opvy\", \"opvz\", \"oqtw\", \"oqtx\", \"oqty\", \"oqtz\", \"oquw\", \"oqux\", \"oquy\", \"oquz\", \"oqvw\", \"oqvx\", \"oqvy\", \"oqvz\", \"ortw\", \"ortx\", \"orty\", \"ortz\", \"oruw\", \"orux\", \"oruy\", \"oruz\", \"orvw\", \"orvx\", \"orvy\", \"orvz\", \"ostw\", \"ostx\", \"osty\", \"ostz\", \"osuw\", \"osux\", \"osuy\", \"osuz\", \"osvw\", \"osvx\", \"osvy\", \"osvz\"])\n",
    "              ]\n",
    "for case in test_cases:\n",
    "    print(letterCombinations(case[0]) == case[1])\n"
   ]
  },
  {
   "cell_type": "code",
   "execution_count": 7,
   "metadata": {},
   "outputs": [
    {
     "data": {
      "text/plain": [
       "240"
      ]
     },
     "execution_count": 7,
     "metadata": {},
     "output_type": "execute_result"
    }
   ],
   "source": [
    "days = 8*30\n",
    "days"
   ]
  },
  {
   "cell_type": "code",
   "execution_count": 8,
   "metadata": {},
   "outputs": [],
   "source": [
    "questions = 1000"
   ]
  },
  {
   "cell_type": "code",
   "execution_count": 9,
   "metadata": {},
   "outputs": [
    {
     "data": {
      "text/plain": [
       "4.166666666666667"
      ]
     },
     "execution_count": 9,
     "metadata": {},
     "output_type": "execute_result"
    }
   ],
   "source": [
    "rate = questions/days\n",
    "rate"
   ]
  },
  {
   "cell_type": "code",
   "execution_count": null,
   "metadata": {},
   "outputs": [],
   "source": []
  }
 ],
 "metadata": {
  "kernelspec": {
   "display_name": "Python 3.10.4 64-bit",
   "language": "python",
   "name": "python3"
  },
  "language_info": {
   "codemirror_mode": {
    "name": "ipython",
    "version": 3
   },
   "file_extension": ".py",
   "mimetype": "text/x-python",
   "name": "python",
   "nbconvert_exporter": "python",
   "pygments_lexer": "ipython3",
   "version": "3.10.4"
  },
  "orig_nbformat": 4,
  "vscode": {
   "interpreter": {
    "hash": "e7370f93d1d0cde622a1f8e1c04877d8463912d04d973331ad4851f04de6915a"
   }
  }
 },
 "nbformat": 4,
 "nbformat_minor": 2
}
