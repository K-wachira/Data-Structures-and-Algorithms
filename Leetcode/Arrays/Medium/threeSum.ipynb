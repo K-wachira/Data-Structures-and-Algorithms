{
 "cells": [
  {
   "cell_type": "markdown",
   "metadata": {},
   "source": [
    "Given an integer array nums, return all the triplets [nums[i], nums[j], nums[k]] such that i != j, i != k, and j != k, and nums[i] + nums[j] + nums[k] == 0.\n",
    "\n",
    "Notice that the solution set must not contain duplicate triplets.\n",
    "\n",
    "Example 1:\n",
    "```\n",
    "Input: nums = [-1,0,1,2,-1,-4]\n",
    "Output: [[-1,-1,2],[-1,0,1]]\n",
    "```\n",
    "\n",
    "Example 2:\n",
    "```\n",
    "Input: nums = []\n",
    "Output: []\n",
    "```\n",
    "\n",
    "Example 3:\n",
    "```\n",
    "Input: nums = [0]\n",
    "Output: []\n",
    "```\n",
    " \n",
    "\n",
    "Constraints:\n",
    "\n",
    "```\n",
    "0 <= nums.length <= 3000\n",
    "-105 <= nums[i] <= 105\n",
    "```"
   ]
  },
  {
   "cell_type": "code",
   "execution_count": 34,
   "metadata": {},
   "outputs": [
    {
     "name": "stdout",
     "output_type": "stream",
     "text": [
      "-4\n"
     ]
    }
   ],
   "source": [
    "nums = [-1,0,1,2,-1,-4]\n",
    "print(nums[len(nums)-1])"
   ]
  },
  {
   "cell_type": "code",
   "execution_count": null,
   "metadata": {},
   "outputs": [],
   "source": []
  },
  {
   "cell_type": "code",
   "execution_count": 35,
   "metadata": {},
   "outputs": [
    {
     "name": "stdout",
     "output_type": "stream",
     "text": [
      "0 1 1\n",
      "1\n",
      "0 1 2\n",
      "2\n",
      "0 1 3\n",
      "3\n",
      "0 1 4\n",
      "4\n",
      "0 1 5\n",
      "5\n",
      "0 1 6\n"
     ]
    },
    {
     "ename": "IndexError",
     "evalue": "list index out of range",
     "output_type": "error",
     "traceback": [
      "\u001b[0;31m---------------------------------------------------------------------------\u001b[0m",
      "\u001b[0;31mIndexError\u001b[0m                                Traceback (most recent call last)",
      "\u001b[1;32m/home/init/Documents/work/Personal/Data-Structures-and-Algorithms/Leetcode/Arrays/Medium/threeSum.ipynb Cell 2'\u001b[0m in \u001b[0;36m<cell line: 22>\u001b[0;34m()\u001b[0m\n\u001b[1;32m     <a href='vscode-notebook-cell:/home/init/Documents/work/Personal/Data-Structures-and-Algorithms/Leetcode/Arrays/Medium/threeSum.ipynb#ch0000000?line=18'>19</a>\u001b[0m             r \u001b[39m+\u001b[39m\u001b[39m=\u001b[39m\u001b[39m1\u001b[39m\n\u001b[1;32m     <a href='vscode-notebook-cell:/home/init/Documents/work/Personal/Data-Structures-and-Algorithms/Leetcode/Arrays/Medium/threeSum.ipynb#ch0000000?line=19'>20</a>\u001b[0m     \u001b[39mreturn\u001b[39;00m out\n\u001b[0;32m---> <a href='vscode-notebook-cell:/home/init/Documents/work/Personal/Data-Structures-and-Algorithms/Leetcode/Arrays/Medium/threeSum.ipynb#ch0000000?line=21'>22</a>\u001b[0m threeSum([\u001b[39m-\u001b[39;49m\u001b[39m1\u001b[39;49m,\u001b[39m0\u001b[39;49m,\u001b[39m1\u001b[39;49m,\u001b[39m2\u001b[39;49m,\u001b[39m-\u001b[39;49m\u001b[39m1\u001b[39;49m,\u001b[39m-\u001b[39;49m\u001b[39m4\u001b[39;49m] )\n",
      "\u001b[1;32m/home/init/Documents/work/Personal/Data-Structures-and-Algorithms/Leetcode/Arrays/Medium/threeSum.ipynb Cell 2'\u001b[0m in \u001b[0;36mthreeSum\u001b[0;34m(nums)\u001b[0m\n\u001b[1;32m      <a href='vscode-notebook-cell:/home/init/Documents/work/Personal/Data-Structures-and-Algorithms/Leetcode/Arrays/Medium/threeSum.ipynb#ch0000000?line=1'>2</a>\u001b[0m results \u001b[39m=\u001b[39m []\n\u001b[1;32m      <a href='vscode-notebook-cell:/home/init/Documents/work/Personal/Data-Structures-and-Algorithms/Leetcode/Arrays/Medium/threeSum.ipynb#ch0000000?line=2'>3</a>\u001b[0m \u001b[39mfor\u001b[39;00m i \u001b[39min\u001b[39;00m \u001b[39mrange\u001b[39m(\u001b[39m1\u001b[39m, \u001b[39mlen\u001b[39m(nums) ):\n\u001b[0;32m----> <a href='vscode-notebook-cell:/home/init/Documents/work/Personal/Data-Structures-and-Algorithms/Leetcode/Arrays/Medium/threeSum.ipynb#ch0000000?line=3'>4</a>\u001b[0m     res \u001b[39m=\u001b[39m _threeSum(i\u001b[39m-\u001b[39;49m\u001b[39m1\u001b[39;49m, i, i, nums)\n\u001b[1;32m      <a href='vscode-notebook-cell:/home/init/Documents/work/Personal/Data-Structures-and-Algorithms/Leetcode/Arrays/Medium/threeSum.ipynb#ch0000000?line=4'>5</a>\u001b[0m     \u001b[39mif\u001b[39;00m \u001b[39mlen\u001b[39m(res) \u001b[39m>\u001b[39m\u001b[39m0\u001b[39m :\n\u001b[1;32m      <a href='vscode-notebook-cell:/home/init/Documents/work/Personal/Data-Structures-and-Algorithms/Leetcode/Arrays/Medium/threeSum.ipynb#ch0000000?line=5'>6</a>\u001b[0m         results\u001b[39m.\u001b[39mextend( res)\n",
      "\u001b[1;32m/home/init/Documents/work/Personal/Data-Structures-and-Algorithms/Leetcode/Arrays/Medium/threeSum.ipynb Cell 2'\u001b[0m in \u001b[0;36m_threeSum\u001b[0;34m(l, m, r, nums)\u001b[0m\n\u001b[1;32m     <a href='vscode-notebook-cell:/home/init/Documents/work/Personal/Data-Structures-and-Algorithms/Leetcode/Arrays/Medium/threeSum.ipynb#ch0000000?line=10'>11</a>\u001b[0m \u001b[39mwhile\u001b[39;00m l \u001b[39m>\u001b[39m\u001b[39m=\u001b[39m \u001b[39m0\u001b[39m \u001b[39mor\u001b[39;00m r \u001b[39m<\u001b[39m \u001b[39mlen\u001b[39m(nums)\u001b[39m-\u001b[39m\u001b[39m2\u001b[39m: \n\u001b[1;32m     <a href='vscode-notebook-cell:/home/init/Documents/work/Personal/Data-Structures-and-Algorithms/Leetcode/Arrays/Medium/threeSum.ipynb#ch0000000?line=11'>12</a>\u001b[0m     \u001b[39mprint\u001b[39m(l, m, r)\n\u001b[0;32m---> <a href='vscode-notebook-cell:/home/init/Documents/work/Personal/Data-Structures-and-Algorithms/Leetcode/Arrays/Medium/threeSum.ipynb#ch0000000?line=12'>13</a>\u001b[0m     \u001b[39mif\u001b[39;00m nums[l] \u001b[39m!=\u001b[39m nums[m] \u001b[39m!=\u001b[39m (nums[r] \u001b[39mand\u001b[39;00m nums[l] \u001b[39m+\u001b[39m nums[m] \u001b[39m+\u001b[39m nums[r]) \u001b[39m==\u001b[39m \u001b[39m0\u001b[39m:\n\u001b[1;32m     <a href='vscode-notebook-cell:/home/init/Documents/work/Personal/Data-Structures-and-Algorithms/Leetcode/Arrays/Medium/threeSum.ipynb#ch0000000?line=13'>14</a>\u001b[0m         out\u001b[39m.\u001b[39mappend([ nums[l], nums[m], nums[r]] )\n\u001b[1;32m     <a href='vscode-notebook-cell:/home/init/Documents/work/Personal/Data-Structures-and-Algorithms/Leetcode/Arrays/Medium/threeSum.ipynb#ch0000000?line=14'>15</a>\u001b[0m     \u001b[39mif\u001b[39;00m l \u001b[39m>\u001b[39m\u001b[39m0\u001b[39m:\n",
      "\u001b[0;31mIndexError\u001b[0m: list index out of range"
     ]
    }
   ],
   "source": [
    "def threeSum(nums):\n",
    "    results = []\n",
    "    for i in range(1, len(nums) ):\n",
    "        res = _threeSum(i-1, i, i, nums)\n",
    "        if len(res) >0 :\n",
    "            results.extend( res)\n",
    "    return results\n",
    "\n",
    "def _threeSum(l, m, r, nums):\n",
    "    out = []\n",
    "    while l >= 0 or r < len(nums)-2: \n",
    "        print(r)\n",
    "        print(l, m, r)\n",
    "        if nums[l] != nums[m] != (nums[r] and nums[l] + nums[m] + nums[r]) == 0:\n",
    "            out.append([ nums[l], nums[m], nums[r]] )\n",
    "        if l >0:\n",
    "            l-=1\n",
    "        if r < len(nums):\n",
    "            r +=1\n",
    "    return out\n",
    "\n",
    "threeSum([-1,0,1,2,-1,-4] )"
   ]
  }
 ],
 "metadata": {
  "kernelspec": {
   "display_name": "Python 3.10.4 64-bit",
   "language": "python",
   "name": "python3"
  },
  "language_info": {
   "codemirror_mode": {
    "name": "ipython",
    "version": 3
   },
   "file_extension": ".py",
   "mimetype": "text/x-python",
   "name": "python",
   "nbconvert_exporter": "python",
   "pygments_lexer": "ipython3",
   "version": "3.10.4"
  },
  "orig_nbformat": 4,
  "vscode": {
   "interpreter": {
    "hash": "e7370f93d1d0cde622a1f8e1c04877d8463912d04d973331ad4851f04de6915a"
   }
  }
 },
 "nbformat": 4,
 "nbformat_minor": 2
}
