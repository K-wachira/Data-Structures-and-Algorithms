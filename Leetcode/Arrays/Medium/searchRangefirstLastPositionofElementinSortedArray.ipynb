{
 "cells": [
  {
   "cell_type": "markdown",
   "metadata": {},
   "source": [
    "Given an array of integers nums sorted in non-decreasing order, find the starting and ending position of a given target value.\n",
    "\n",
    "If target is not found in the array, return `[-1, -1].`\n",
    "\n",
    "You must write an algorithm with `O(log n)` runtime complexity.\n",
    "\n",
    "Example 1:\n",
    "\n",
    "```\n",
    "Input: nums = [5,7,7,8,8,10], target = 8\n",
    "Output: [3,4]\n",
    "```\n",
    "\n",
    "\n",
    "Example 2:\n",
    "\n",
    "```\n",
    "Input: nums = [5,7,7,8,8,10], target = 6\n",
    "Output: [-1,-1]\n",
    "```\n",
    "\n",
    "Example 3:\n",
    "\n",
    "```Input: nums = [], target = 0\n",
    "Output: [-1,-1]\n",
    "```\n",
    " \n",
    "\n",
    "Constraints:\n",
    "```\n",
    "0 <= nums.length <= 105\n",
    "-109 <= nums[i] <= 109\n",
    "nums is a non-decreasing array.\n",
    "-109 <= target <= 109\n",
    "```\n"
   ]
  },
  {
   "cell_type": "code",
   "execution_count": 2,
   "metadata": {},
   "outputs": [],
   "source": [
    "class Solution:\n",
    "    def searchRange(self, nums, target):\n",
    "\n",
    "        lower_bound = self.findBound(nums, target, True)\n",
    "        if (lower_bound == -1):\n",
    "            return [-1, -1]\n",
    "        upper_bound = self.findBound(nums, target, False)\n",
    "        return [lower_bound, upper_bound]\n",
    "\n",
    "    def findBound(self, nums, target, isFirst):\n",
    "        N = len(nums) \n",
    "        begin, end = 0, N - 1 \n",
    "        while begin <= end:\n",
    "            mid = int((begin + end) / 2) # find mif\n",
    "            # if number at mid is same as target\n",
    "            if nums[mid] == target:\n",
    "                if isFirst:\n",
    "                    # This means we found our lower bound.\n",
    "                    if mid == begin or nums[mid - 1] < target:\n",
    "                        return mid\n",
    "                    # Search on the left side for the bound.\n",
    "                    end = mid - 1\n",
    "                else:\n",
    "                    # This means we found our upper bound.\n",
    "                    if mid == end or nums[mid + 1] > target:\n",
    "                        return mid\n",
    "                    # Search on the right side for the bound.\n",
    "                    begin = mid + 1\n",
    "            elif nums[mid] > target:\n",
    "                end = mid - 1\n",
    "            else:\n",
    "                begin = mid + 1\n",
    "        return -1"
   ]
  },
  {
   "cell_type": "code",
   "execution_count": 5,
   "metadata": {},
   "outputs": [
    {
     "name": "stdout",
     "output_type": "stream",
     "text": [
      "True\n",
      "True\n",
      "True\n",
      "True\n"
     ]
    }
   ],
   "source": [
    "# str    #Expected\n",
    "test_cases = [\n",
    "    ([5,7,7,8,8,10],  8, [3,4]),\n",
    "    ([5,7,7,8,8,10], 6, [-1, -1]),\n",
    "    ([1, 2,  2,  2, 3], 2, [1,3]),\n",
    "    ([], 0, [-1, -1])]\n",
    "for case in test_cases:\n",
    "    obj = Solution()\n",
    "    print(obj.searchRange(case[0], case[1])== case[2])"
   ]
  },
  {
   "cell_type": "code",
   "execution_count": null,
   "metadata": {},
   "outputs": [],
   "source": []
  }
 ],
 "metadata": {
  "kernelspec": {
   "display_name": "Python 3.10.4 64-bit",
   "language": "python",
   "name": "python3"
  },
  "language_info": {
   "codemirror_mode": {
    "name": "ipython",
    "version": 3
   },
   "file_extension": ".py",
   "mimetype": "text/x-python",
   "name": "python",
   "nbconvert_exporter": "python",
   "pygments_lexer": "ipython3",
   "version": "3.10.4"
  },
  "orig_nbformat": 4,
  "vscode": {
   "interpreter": {
    "hash": "e7370f93d1d0cde622a1f8e1c04877d8463912d04d973331ad4851f04de6915a"
   }
  }
 },
 "nbformat": 4,
 "nbformat_minor": 2
}
