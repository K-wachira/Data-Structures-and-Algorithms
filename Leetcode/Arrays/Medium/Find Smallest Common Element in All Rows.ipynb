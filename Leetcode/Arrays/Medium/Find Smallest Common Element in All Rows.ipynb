{
 "cells": [
  {
   "cell_type": "markdown",
   "metadata": {},
   "source": [
    "Given an `m x n` matrix `mat` where every row is sorted in strictly increasing order, return the `smallest common element` in all rows.\n",
    "\n",
    "If there is no common element, return -1.\n",
    "\n",
    " \n",
    "\n",
    "Example 1:\n",
    "\n",
    "```\n",
    "Input: mat = [[1,2,3,4,5],[2,4,5,8,10],[3,5,7,9,11],[1,3,5,7,9]]\n",
    "Output: 5\n",
    "```\n",
    "\n",
    "Example 2:\n",
    "```\n",
    "Input: mat = [[1,2,3],[2,3,4],[2,3,5]]\n",
    "Output: 2\n",
    "```\n",
    "\n",
    "Constraints:\n",
    "\n",
    "```\n",
    "m == mat.length\n",
    "n == mat[i].length\n",
    "1 <= m, n <= 500\n",
    "1 <= mat[i][j] <= 104\n",
    "mat[i] is sorted in strictly increasing order.\n",
    "```"
   ]
  },
  {
   "cell_type": "code",
   "execution_count": 3,
   "metadata": {},
   "outputs": [],
   "source": [
    "class Solution:\n",
    "    def smallestCommonElement(self, mat):\n",
    "        minx = float('inf')\n",
    "\n",
    "        for item in mat[0]:\n",
    "            all = True\n",
    "            for row in mat[1:]:\n",
    "                all = all and self._binarysearch(row, item)\n",
    "            if all and item < minx:\n",
    "                minx= item\n",
    "        return minx if minx != float('inf') else -1 \n",
    "    def _binarysearch(self, row, item): \n",
    "        start, end = 0 , len(row)-1 \n",
    "        while start <= end:\n",
    "            mid = start + (end - start)//2\n",
    "            if row[mid] == item: \n",
    "                return True \n",
    "            elif row[mid] > item: \n",
    "                end = mid -1 \n",
    "            else:\n",
    "                start = mid+1\n",
    "        return False"
   ]
  },
  {
   "cell_type": "code",
   "execution_count": 4,
   "metadata": {},
   "outputs": [
    {
     "name": "stdout",
     "output_type": "stream",
     "text": [
      "True\n",
      "True\n",
      "True\n",
      "True\n"
     ]
    }
   ],
   "source": [
    "# str    #Expected\n",
    "test_cases = [\n",
    "    ([[1, 2, 3, 4, 5], [2, 4, 5, 8, 10], [3, 5, 7, 9, 11], [1, 3, 5, 7, 9]], 5),\n",
    "    ([[1, 2, 3], [2, 3, 4], [2, 3, 5]], 2),\n",
    "    ([[1, 2, 3]], 1),\n",
    "    ([[1]], 1)]\n",
    "for case in test_cases:\n",
    "    obj = Solution()\n",
    "    print(obj.smallestCommonElement(case[0]) == case[1])\n"
   ]
  },
  {
   "cell_type": "code",
   "execution_count": null,
   "metadata": {},
   "outputs": [],
   "source": []
  }
 ],
 "metadata": {
  "kernelspec": {
   "display_name": "Python 3.10.4 64-bit",
   "language": "python",
   "name": "python3"
  },
  "language_info": {
   "codemirror_mode": {
    "name": "ipython",
    "version": 3
   },
   "file_extension": ".py",
   "mimetype": "text/x-python",
   "name": "python",
   "nbconvert_exporter": "python",
   "pygments_lexer": "ipython3",
   "version": "3.10.5"
  },
  "orig_nbformat": 4,
  "vscode": {
   "interpreter": {
    "hash": "e7370f93d1d0cde622a1f8e1c04877d8463912d04d973331ad4851f04de6915a"
   }
  }
 },
 "nbformat": 4,
 "nbformat_minor": 2
}
