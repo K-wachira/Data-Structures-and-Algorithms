{
 "cells": [
  {
   "cell_type": "markdown",
   "metadata": {},
   "source": [
    "Given an integer array nums of size n, return the minimum number of moves required to make all array elements equal.\n",
    "\n",
    "In one move, you can increment or decrement an element of the array by 1.\n",
    "\n",
    "Test cases are designed so that the answer will fit in a 32-bit integer.\n",
    "\n",
    " \n",
    "\n",
    "Example 1:\n",
    "```\n",
    "Input: nums = [1,2,3]\n",
    "Output: 2\n",
    "Explanation:\n",
    "Only two moves are needed (remember each move increments or decrements one element):\n",
    "[1,2,3]  =>  [2,2,3]  =>  [2,2,2]\n",
    "\n",
    "```\n",
    "Example 2:\n",
    "```\n",
    "Input: nums = [1,10,2,9]\n",
    "Output: 16\n",
    "```\n",
    " \n",
    "\n",
    "Constraints:\n",
    "```\n",
    "n == nums.length\n",
    "1 <= nums.length <= 105\n",
    "-109 <= nums[i] <= 109\n",
    "```"
   ]
  },
  {
   "cell_type": "code",
   "execution_count": null,
   "metadata": {},
   "outputs": [],
   "source": [
    "class Solution:\n",
    "    def minMoves2(self, nums: List[int]) -> int:\n",
    "        lo = min(nums)\n",
    "        hi = max(nums)\n",
    "\n",
    "        def cost(value: int) -> int:\n",
    "            return sum(abs(x-value) for x in nums)\n",
    "\n",
    "        while lo < hi:\n",
    "            mid = (lo+hi)//2\n",
    "            if cost(mid) > cost(mid+1):\n",
    "                lo = mid + 1\n",
    "            else:\n",
    "                hi = mid\n",
    "        return cost(lo)"
   ]
  }
 ],
 "metadata": {
  "language_info": {
   "name": "python"
  },
  "orig_nbformat": 4
 },
 "nbformat": 4,
 "nbformat_minor": 2
}
