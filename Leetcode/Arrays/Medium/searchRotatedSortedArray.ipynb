{
 "cells": [
  {
   "cell_type": "markdown",
   "metadata": {},
   "source": [
    "There is an integer array nums sorted in ascending order (with distinct values).\n",
    "\n",
    "Prior to being passed to your function, nums is possibly rotated at an unknown pivot index` k (1 <= k < nums.length)` such that the resulting array is `[nums[k], nums[k+1], ..., nums[n-1]`, `nums[0], nums[1], ..., nums[k-1]] `(0-indexed). For example,` [0,1,2,4,5,6,7]` might be rotated at pivot index 3 and become `[4,5,6,7,0,1,2]`.\n",
    "\n",
    "Given the array nums after the possible rotation and an integer target, return the index of target if it is in nums, or -1 if it is not in nums.\n",
    "\n",
    "You must write an algorithm with O(log n) runtime complexity.\n",
    "\n",
    " \n",
    "\n",
    "Example 1:\n",
    "```\n",
    "Input: nums = [4,5,6,7,0,1,2], target = 0\n",
    "Output: 4\n",
    "```\n",
    "\n",
    "Example 2:\n",
    "\n",
    "```\n",
    "Input: nums = [4,5,6,7,0,1,2], target = 3\n",
    "Output: -1\n",
    "```\n",
    "Example 3:\n",
    "```\n",
    "Input: nums = [1], target = 0\n",
    "Output: -1\n",
    "```\n",
    "\n",
    "\n",
    "Constraints:\n",
    "\n",
    "```\n",
    "1 <= nums.length <= 5000\n",
    "-104 <= nums[i] <= 104\n",
    "All values of nums are unique.\n",
    "nums is an ascending array that is possibly rotated.\n",
    "-104 <= target <= 104\n",
    "```"
   ]
  },
  {
   "cell_type": "code",
   "execution_count": 1,
   "metadata": {},
   "outputs": [],
   "source": [
    "def search(nums, target):\n",
    "        start, end = 0, len(nums) - 1\n",
    "        while start <= end:\n",
    "            mid = start + (end - start) // 2 # find the mid of the array\n",
    "            if nums[mid] == target: # check if target is mid and return mid if that is true\n",
    "                return mid\n",
    "            elif nums[mid] >= nums[start]:# if first half of array is not rotated\n",
    "                if nums[start]  <= target < nums[mid]: # if target is in first half of array\n",
    "                    end = mid - 1 # search only the first half\n",
    "                else:         # if target not in first half\n",
    "                    start = mid + 1 # Search second half\n",
    "            else: # if first half is not rotated\n",
    "                if nums[end] >= target > nums[mid]: # if target is in second half\n",
    "                    start = mid + 1 # search only second half\n",
    "                else: # if target is not there, search first half\n",
    "                    end = mid - 1\n",
    "        return -1 # Target not found"
   ]
  },
  {
   "cell_type": "code",
   "execution_count": 2,
   "metadata": {},
   "outputs": [
    {
     "name": "stdout",
     "output_type": "stream",
     "text": [
      "True\n",
      "True\n",
      "True\n",
      "True\n",
      "True\n"
     ]
    }
   ],
   "source": [
    "# str    #Expected\n",
    "test_cases = [\n",
    "    ([4, 5, 6, 7, 0, 1, 2], 0, 4),\n",
    "    ([4, 5, 6, 7, 0, 1, 2], 3, -1),\n",
    "    ([6, 0,  1,  2, 3], 0, 1),\n",
    "    ([1], 0, -1),\n",
    "    ([1], 1, 0),\n",
    "]\n",
    "for case in test_cases:\n",
    "    print(search(case[0], case[1])== case[2])\n"
   ]
  },
  {
   "cell_type": "code",
   "execution_count": null,
   "metadata": {},
   "outputs": [],
   "source": []
  }
 ],
 "metadata": {
  "kernelspec": {
   "display_name": "Python 3.10.4 64-bit",
   "language": "python",
   "name": "python3"
  },
  "language_info": {
   "codemirror_mode": {
    "name": "ipython",
    "version": 3
   },
   "file_extension": ".py",
   "mimetype": "text/x-python",
   "name": "python",
   "nbconvert_exporter": "python",
   "pygments_lexer": "ipython3",
   "version": "3.10.4"
  },
  "orig_nbformat": 4,
  "vscode": {
   "interpreter": {
    "hash": "e7370f93d1d0cde622a1f8e1c04877d8463912d04d973331ad4851f04de6915a"
   }
  }
 },
 "nbformat": 4,
 "nbformat_minor": 2
}
