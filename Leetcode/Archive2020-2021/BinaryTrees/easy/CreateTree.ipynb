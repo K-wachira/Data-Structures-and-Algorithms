{
 "cells": [
  {
   "cell_type": "markdown",
   "metadata": {},
   "source": [
    "# This here is to implement a binary search tree"
   ]
  },
  {
   "cell_type": "code",
   "execution_count": 101,
   "metadata": {},
   "outputs": [],
   "source": [
    "# Definition for a binary tree node.\n",
    "class TreeNode(object):\n",
    "    def __init__(self,  val = 0 ):\n",
    "        self.val = val\n",
    "        self.left = None\n",
    "        self.right = None \n"
   ]
  },
  {
   "cell_type": "code",
   "execution_count": 104,
   "metadata": {},
   "outputs": [
    {
     "name": "stdout",
     "output_type": "stream",
     "text": [
      "True\n"
     ]
    },
    {
     "data": {
      "text/plain": [
       "4"
      ]
     },
     "execution_count": 104,
     "metadata": {},
     "output_type": "execute_result"
    }
   ],
   "source": [
    "class Solution(object):\n",
    "    def __init__(self):\n",
    "        self.root = None\n",
    "    \n",
    "    def insert(self, value): # insert a value on the tree\n",
    "        if self.root == None :\n",
    "            self.root = TreeNode(value)\n",
    "        else:\n",
    "            self._insert(value, self.root)\n",
    "            \n",
    "    def _insert(self, value, curr_node):\n",
    "        \n",
    "        if value > curr_node.val :\n",
    "            if curr_node.right == None:\n",
    "                curr_node.right = TreeNode(value)\n",
    "            else:\n",
    "                self._insert(value, curr_node.right)\n",
    "        elif value < curr_node.val :\n",
    "            if curr_node.left== None:\n",
    "                curr_node.left = TreeNode(value)\n",
    "            else:\n",
    "                self._insert(value, curr_node.left)\n",
    "        else:\n",
    "            print(\"Value already in Tree\")\n",
    "            \n",
    "            \n",
    "    def search(self, value):\n",
    "        if self.root == None:\n",
    "            return False\n",
    "        else:\n",
    "            return self._search(value, self.root)\n",
    "        \n",
    "    def _search(self, value, curr_node):\n",
    "        if curr_node.val == value:\n",
    "            return True\n",
    "        elif value < curr_node.val and curr_node.left != None:\n",
    "                return self._search(value, curr_node.left)\n",
    "        elif value  > curr_node.val and curr_node.right != None:\n",
    "                return self._search(value, curr_node.right)\n",
    "        return False\n",
    "            \n",
    "    def get_height(self):\n",
    "        if self.root!= None:\n",
    "            return self._get_height(self.root, 0)\n",
    "        else:\n",
    "            return 0\n",
    "            \n",
    "    def _get_height(self, curr_node,curr_height):\n",
    "        if curr_node == None : return curr_height\n",
    "        left_height =self._get_height(curr_node.left, curr_height+1)\n",
    "        right_height = self._get_height(curr_node.right, curr_height+1)\n",
    "        return (max(left_height, right_height))\n",
    "            \n",
    "    def print_tree(self):\n",
    "        if self.root != None:\n",
    "            self._print_tree(self.root)\n",
    "            \n",
    "    def _print_tree(self, curr_node):\n",
    "        if curr_node != None:\n",
    "            self._print_tree(curr_node.left)\n",
    "            print(curr_node.val)\n",
    "            self._print_tree(curr_node.right)\n",
    "\n",
    "        \n",
    "        \n",
    "tree = Solution()\n",
    "list = [ 5,10,7,8,1,3,6]\n",
    "for i in list:\n",
    "    tree.insert(i)\n",
    "tree.search(1)\n",
    "tree.get_height()\n",
    "\n",
    "    \n",
    "            "
   ]
  },
  {
   "cell_type": "code",
   "execution_count": null,
   "metadata": {},
   "outputs": [],
   "source": []
  }
 ],
 "metadata": {
  "kernelspec": {
   "display_name": "Python 3",
   "language": "python",
   "name": "python3"
  },
  "language_info": {
   "codemirror_mode": {
    "name": "ipython",
    "version": 3
   },
   "file_extension": ".py",
   "mimetype": "text/x-python",
   "name": "python",
   "nbconvert_exporter": "python",
   "pygments_lexer": "ipython3",
   "version": "3.8.3"
  }
 },
 "nbformat": 4,
 "nbformat_minor": 4
}
