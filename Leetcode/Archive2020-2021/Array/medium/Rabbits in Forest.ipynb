{
 "cells": [
  {
   "cell_type": "markdown",
   "metadata": {},
   "source": [
    "# 781. Rabbits in Forest\n",
    "\n",
    "In a forest, each rabbit has some color. Some subset of rabbits (possibly all of them) tell you how many other rabbits have the same color as them. Those answers are placed in an array.\n",
    "\n",
    "Return the minimum number of rabbits that could be in the forest.\n",
    "\n",
    "Examples:\n",
    "Input: answers = [1, 1, 2]\n",
    "Output: 5\n",
    "Explanation:\n",
    "The two rabbits that answered \"1\" could both be the same color, say red.\n",
    "The rabbit than answered \"2\" can't be red or the answers would be inconsistent.\n",
    "Say the rabbit that answered \"2\" was blue.\n",
    "Then there should be 2 other blue rabbits in the forest that didn't answer into the array.\n",
    "The smallest possible number of rabbits in the forest is therefore 5: 3 that answered plus 2 that didn't.\n",
    "\n",
    "Input: answers = [10, 10, 10]\n",
    "Output: 11\n",
    "\n",
    "Input: answers = []\n",
    "Output: 0"
   ]
  },
  {
   "cell_type": "code",
   "execution_count": 17,
   "metadata": {},
   "outputs": [
    {
     "data": {
      "text/plain": [
       "29"
      ]
     },
     "execution_count": 17,
     "metadata": {},
     "output_type": "execute_result"
    }
   ],
   "source": [
    "class Solution(object):\n",
    "    def numRabbits(self, answers):\n",
    "        \"\"\"\n",
    "        :type answers: List[int]\n",
    "        :rtype: int\n",
    "        \"\"\"\n",
    "        \n",
    "        rabbitcount =0\n",
    "        if not answers: return rabbitcount\n",
    "        counted = set()\n",
    "        for i in answers:\n",
    "            if i not in counted:\n",
    "                if answers.count(i) > 1:\n",
    "                    if answers.count(i) %2 == 0: # is even\n",
    "                        \n",
    "                        rabbitcount+= answers.count(i) \n",
    "                        counted.add(i)\n",
    "                    else:\n",
    "                        rabbitcount+= answers.count(i) +1\n",
    "                        counted.add(i)\n",
    "                        \n",
    "                else:\n",
    "                    rabbitcount += i + 1\n",
    "                    counted.add(i)\n",
    "                \n",
    "        return rabbitcount\n",
    "    \n",
    "    \n",
    "    \n",
    "obj = Solution()\n",
    "answers =[[2,2,2,2,2,2,20]\n",
    "\n",
    "\n",
    "obj.numRabbits(answers)\n",
    "                \n",
    "                "
   ]
  },
  {
   "cell_type": "code",
   "execution_count": 28,
   "metadata": {},
   "outputs": [
    {
     "name": "stdout",
     "output_type": "stream",
     "text": [
      "Counter({2: 6, 20: 1})\n"
     ]
    },
    {
     "data": {
      "text/plain": [
       "27"
      ]
     },
     "execution_count": 28,
     "metadata": {},
     "output_type": "execute_result"
    }
   ],
   "source": [
    "from collections import Counter\n",
    "import math\n",
    "class Solution:\n",
    "    def numRabbits(self, answers):\n",
    "        counter = Counter(answers)\n",
    "        res = 0\n",
    "        for k, v in counter.items():\n",
    "            res += math.ceil(v / (k+1)) * (k+1)\n",
    "        return res\n",
    "            \n",
    "obj = Solution()\n",
    "answers =[2,2,2,2,2,2,20]\n",
    "\n",
    "obj.numRabbits(answers)"
   ]
  },
  {
   "cell_type": "code",
   "execution_count": 8,
   "metadata": {},
   "outputs": [
    {
     "name": "stdout",
     "output_type": "stream",
     "text": [
      "Counter({'Klevin': 1, 'Wachira': 1, 'Nderitu': 1})\n"
     ]
    }
   ],
   "source": [
    "from collections import Counter\n",
    "Names =['Klevin', 'Wachira', 'Nderitu']\n",
    "c = Counter(Names)\n",
    "res = 0\n",
    "print(c)"
   ]
  },
  {
   "cell_type": "code",
   "execution_count": null,
   "metadata": {},
   "outputs": [],
   "source": []
  }
 ],
 "metadata": {
  "kernelspec": {
   "display_name": "Python 3",
   "language": "python",
   "name": "python3"
  },
  "language_info": {
   "codemirror_mode": {
    "name": "ipython",
    "version": 3
   },
   "file_extension": ".py",
   "mimetype": "text/x-python",
   "name": "python",
   "nbconvert_exporter": "python",
   "pygments_lexer": "ipython3",
   "version": "3.8.3"
  }
 },
 "nbformat": 4,
 "nbformat_minor": 4
}
