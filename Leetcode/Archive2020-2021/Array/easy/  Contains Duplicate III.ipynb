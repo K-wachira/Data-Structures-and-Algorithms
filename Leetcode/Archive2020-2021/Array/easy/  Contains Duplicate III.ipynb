{
 "cells": [
  {
   "cell_type": "markdown",
   "metadata": {},
   "source": [
    "##   Contains Duplicate III\n",
    "\n",
    "\n",
    "[Question Link](https://leetcode.com/explore/featured/card/september-leetcoding-challenge/554/week-1-september-1st-september-7th/3446/)\n",
    "\n",
    "Given an array of integers, find out whether there are two distinct indices i and j in the array such that the absolute difference between nums[i] and nums[j] is at most t and the absolute difference between i and j is at most k.\n",
    "\n",
    "Example 1:\n",
    "\n",
    "Input: nums = [1,2,3,1], k = 3, t = 0\n",
    "\n",
    "Output: true\n"
   ]
  },
  {
   "cell_type": "code",
   "execution_count": 22,
   "metadata": {},
   "outputs": [
    {
     "data": {
      "text/plain": [
       "False"
      ]
     },
     "execution_count": 22,
     "metadata": {},
     "output_type": "execute_result"
    }
   ],
   "source": [
    "class Solution:\n",
    "    def containsNearbyAlmostDuplicate(self, nums, k: int, t: int) -> bool:\n",
    "        for i, n in enumerate(nums):\n",
    "            for j in range(i+1, min(i+k+1, len(nums))):\n",
    "                if abs(n - nums[j]) <= t : \n",
    "                    return True\n",
    "        return False\n",
    "\n",
    "obj = Solution()\n",
    "\n",
    "nums = [1,5,9,1,5,9]\n",
    "k = 2\n",
    "t = 3\n",
    "obj.containsNearbyAlmostDuplicate(nums, k, t)"
   ]
  },
  {
   "cell_type": "code",
   "execution_count": 30,
   "metadata": {},
   "outputs": [
    {
     "ename": "SyntaxError",
     "evalue": "invalid syntax (<ipython-input-30-56d4378c7255>, line 7)",
     "output_type": "error",
     "traceback": [
      "\u001b[0;36m  File \u001b[0;32m\"<ipython-input-30-56d4378c7255>\"\u001b[0;36m, line \u001b[0;32m7\u001b[0m\n\u001b[0;31m    if\u001b[0m\n\u001b[0m       ^\u001b[0m\n\u001b[0;31mSyntaxError\u001b[0m\u001b[0;31m:\u001b[0m invalid syntax\n"
     ]
    }
   ],
   "source": [
    "class Solution:\n",
    "    def containsNearbyAlmostDuplicate(self, nums, k: int, t: int) -> bool:\n",
    "        from sortedcontainers import SortedDict\n",
    "        sd = SortedDict()\n",
    "        for i, curr_val in nums:\n",
    "            for j in range(max(0,curr_val-t, curr_val+T):\n",
    "                if \n",
    "            \n",
    "            \n",
    "            \n",
    "obj = Solution()\n",
    "\n",
    "nums = [1,5,9,1,5,9]\n",
    "k = 2\n",
    "t = 3\n",
    "obj.containsNearbyAlmostDuplicate(nums, k, t)          "
   ]
  },
  {
   "cell_type": "code",
   "execution_count": 35,
   "metadata": {},
   "outputs": [
    {
     "name": "stdout",
     "output_type": "stream",
     "text": [
      "SortedDict({}) 0\n",
      "SortedDict({1: 1}) 1\n",
      "SortedDict({1: 1, 5: 1}) 2\n",
      "SortedDict({5: 1, 9: 1}) 0\n",
      "SortedDict({1: 1, 9: 1}) 1\n",
      "SortedDict({1: 1, 5: 1}) 2\n"
     ]
    },
    {
     "data": {
      "text/plain": [
       "False"
      ]
     },
     "execution_count": 35,
     "metadata": {},
     "output_type": "execute_result"
    }
   ],
   "source": [
    "class Solution(object):\n",
    "    def containsNearbyAlmostDuplicate(self, nums, k, t):\n",
    "        \"\"\"\n",
    "        :type nums: List[int]\n",
    "        :type k: int\n",
    "        :type t: int\n",
    "        :rtype: bool\n",
    "        \"\"\"\n",
    "        if k < 0 or t < 0:\n",
    "            return False\n",
    "        \n",
    "        from sortedcontainers import SortedDict\n",
    "        \n",
    "        sd = SortedDict()\n",
    "        \n",
    "        for i, x in enumerate(nums):\n",
    "            print(sd, sd.bisect_right(x+t))\n",
    "            if sd.bisect_right(x+t) - sd.bisect_left(x-t) > 0:\n",
    "                return True\n",
    "            if not x in sd:\n",
    "                sd[x] = 1\n",
    "            \n",
    "            if len(sd) > k:\n",
    "                y = nums[i-k]\n",
    "                sd[y] -= 1\n",
    "                if sd[y] == 0:\n",
    "                    del sd[y]\n",
    "                    \n",
    "        return False\n",
    "\n",
    "obj = Solution()\n",
    "    \n",
    "nums = [1,5,9,1,5,9]\n",
    "k = 2\n",
    "t = 3\n",
    "obj.containsNearbyAlmostDuplicate(nums, k, t)   "
   ]
  },
  {
   "cell_type": "code",
   "execution_count": null,
   "metadata": {},
   "outputs": [],
   "source": []
  },
  {
   "cell_type": "code",
   "execution_count": null,
   "metadata": {},
   "outputs": [],
   "source": []
  }
 ],
 "metadata": {
  "kernelspec": {
   "display_name": "Python 3",
   "language": "python",
   "name": "python3"
  },
  "language_info": {
   "codemirror_mode": {
    "name": "ipython",
    "version": 3
   },
   "file_extension": ".py",
   "mimetype": "text/x-python",
   "name": "python",
   "nbconvert_exporter": "python",
   "pygments_lexer": "ipython3",
   "version": "3.8.3"
  }
 },
 "nbformat": 4,
 "nbformat_minor": 4
}
