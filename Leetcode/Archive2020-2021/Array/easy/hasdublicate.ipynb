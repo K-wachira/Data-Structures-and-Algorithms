{
 "cells": [
  {
   "cell_type": "code",
   "execution_count": 4,
   "id": "4a2483d4-efdc-40a7-85a1-191034fb4351",
   "metadata": {},
   "outputs": [
    {
     "data": {
      "text/plain": [
       "1"
      ]
     },
     "execution_count": 4,
     "metadata": {},
     "output_type": "execute_result"
    }
   ],
   "source": [
    "def hasdublicate(arr):\n",
    "    \n",
    "    x = 0 \n",
    "    \n",
    "    for i in arr:\n",
    "        x = x ^ i\n",
    "    return x\n",
    "arr = [1,2,3,1]\n",
    "\n",
    "hasdublicate(arr)"
   ]
  },
  {
   "cell_type": "code",
   "execution_count": null,
   "id": "bbdd5541-8810-4948-8abc-c8e03169f175",
   "metadata": {},
   "outputs": [],
   "source": []
  }
 ],
 "metadata": {
  "kernelspec": {
   "display_name": "Python 3",
   "language": "python",
   "name": "python3"
  },
  "language_info": {
   "codemirror_mode": {
    "name": "ipython",
    "version": 3
   },
   "file_extension": ".py",
   "mimetype": "text/x-python",
   "name": "python",
   "nbconvert_exporter": "python",
   "pygments_lexer": "ipython3",
   "version": "3.8.0"
  }
 },
 "nbformat": 4,
 "nbformat_minor": 5
}
