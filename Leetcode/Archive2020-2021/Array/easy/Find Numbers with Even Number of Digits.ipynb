{
 "cells": [
  {
   "cell_type": "markdown",
   "metadata": {},
   "source": [
    "# Find Numbers with Even Number of Digits\n",
    "\n",
    "[Question Link](https://leetcode.com/explore/learn/card/fun-with-arrays/521/introduction/3237/)\n",
    "\n",
    "Given an array nums of integers, return how many of them contain an even number of digits. \n",
    "\n",
    "\n",
    "### Example 1:\n",
    "\n",
    "    Input: nums = [12,345,2,6,7896]\n",
    "    Output: 2\n",
    "    Explanation: \n",
    "    12 contains 2 digits (even number of digits). \n",
    "    345 contains 3 digits (odd number of digits). \n",
    "    2 contains 1 digit (odd number of digits). \n",
    "    6 contains 1 digit (odd number of digits). \n",
    "    7896 contains 4 digits (even number of digits). \n",
    "    Therefore only 12 and 7896 contain an even number of digits.\n",
    "\n",
    "### Example 2:\n",
    "\n",
    "    Input: nums = [555,901,482,1771]\n",
    "    Output: 1 \n",
    "    Explanation: \n",
    "    Only 1771 contains an even number of digits.\n",
    "\n",
    " \n",
    "\n",
    "### Constraints:\n",
    "\n",
    "    1 <= nums.length <= 500\n",
    "    1 <= nums[i] <= 10^5\n"
   ]
  },
  {
   "cell_type": "code",
   "execution_count": 4,
   "metadata": {},
   "outputs": [
    {
     "data": {
      "text/plain": [
       "1"
      ]
     },
     "execution_count": 4,
     "metadata": {},
     "output_type": "execute_result"
    }
   ],
   "source": [
    "class Solution(object):\n",
    "    def findNumbers(self, nums):\n",
    "        \"\"\"\n",
    "        :type nums: List[int]\n",
    "        :rtype: int\n",
    "        \"\"\"\n",
    "        counta = 0\n",
    "        for i in nums:\n",
    "                if len(str(i)) % 2 ==0: \n",
    "                    counta +=1\n",
    "        return counta\n",
    "    \n",
    "    \n",
    "obj = Solution()\n",
    "nums = [555,901,482,1771]\n",
    "obj.findNumbers(nums)\n",
    "                    "
   ]
  },
  {
   "cell_type": "code",
   "execution_count": 12,
   "metadata": {},
   "outputs": [
    {
     "name": "stdout",
     "output_type": "stream",
     "text": [
      "10000.0\n",
      "1000.0\n",
      "100.0\n",
      "10.0\n",
      "1.0\n",
      "6\n"
     ]
    },
    {
     "data": {
      "text/plain": [
       "1"
      ]
     },
     "execution_count": 12,
     "metadata": {},
     "output_type": "execute_result"
    }
   ],
   "source": [
    "class Solution(object):\n",
    "    def findNumbers(self, nums):\n",
    "        \"\"\"\n",
    "        :type nums: List[int]\n",
    "        :rtype: int\n",
    "        \"\"\"\n",
    "        counta = 0\n",
    "        for i in nums:\n",
    "            temp = 1\n",
    "            j = i\n",
    "            while j >= 10:\n",
    "                j = j / 10\n",
    "                print(j)\n",
    "                temp +=1\n",
    "            print(temp)\n",
    "            if temp % 2 == 0: \n",
    "                counta +=1\n",
    "        return counta\n",
    "    \n",
    "    \n",
    "obj = Solution()\n",
    "nums = [100000]\n",
    "obj.findNumbers(nums)"
   ]
  },
  {
   "cell_type": "code",
   "execution_count": null,
   "metadata": {},
   "outputs": [],
   "source": []
  }
 ],
 "metadata": {
  "kernelspec": {
   "display_name": "Python 3",
   "language": "python",
   "name": "python3"
  },
  "language_info": {
   "codemirror_mode": {
    "name": "ipython",
    "version": 3
   },
   "file_extension": ".py",
   "mimetype": "text/x-python",
   "name": "python",
   "nbconvert_exporter": "python",
   "pygments_lexer": "ipython3",
   "version": "3.8.3"
  }
 },
 "nbformat": 4,
 "nbformat_minor": 4
}
