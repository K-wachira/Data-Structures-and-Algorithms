{
 "cells": [
  {
   "cell_type": "code",
   "execution_count": 6,
   "metadata": {},
   "outputs": [
    {
     "name": "stdout",
     "output_type": "stream",
     "text": [
      "1 27 e\n",
      "2 27 s\n",
      "3 27 t\n",
      "4 27 .\n",
      "5 27 e\n",
      "6 27 m\n",
      "7 27 a\n",
      "8 27 i\n",
      "9 27 l\n",
      "10 27 +\n",
      "1 33 e\n",
      "2 33 s\n",
      "3 33 t\n",
      "4 33 .\n",
      "5 33 e\n",
      "6 33 .\n",
      "7 33 m\n",
      "8 33 a\n",
      "9 33 i\n",
      "10 33 l\n",
      "11 33 +\n",
      "1 28 e\n",
      "2 28 s\n",
      "3 28 t\n",
      "4 28 e\n",
      "5 28 m\n",
      "6 28 a\n",
      "7 28 i\n",
      "8 28 l\n",
      "9 28 +\n"
     ]
    },
    {
     "data": {
      "text/plain": [
       "2"
      ]
     },
     "execution_count": 6,
     "metadata": {},
     "output_type": "execute_result"
    }
   ],
   "source": [
    "class Solution:\n",
    "    def numUniqueEmails(self, emails):\n",
    "        \n",
    "        lista = set()\n",
    "        \n",
    "        for i in emails:\n",
    "            newmail = ''\n",
    "            x = len(i)-1\n",
    "            j =0\n",
    "            while j <= x:\n",
    "                if i[j] == \"@\":\n",
    "                    newmail +=i[j:]\n",
    "                    break\n",
    "                elif i[j] == '+':\n",
    "                    newmail+=i[i.index(\"@\"):]\n",
    "                    break\n",
    "                elif i[j] ==\".\":\n",
    "                    pass\n",
    "                else:\n",
    "                    newmail +=i[j]\n",
    "                j+=1\n",
    "                print(j, x, i[j])\n",
    "            lista.add(newmail)\n",
    "        return len(lista)\n",
    "            \n",
    "        \n",
    "        \n",
    "obj = Solution()\n",
    "emails = [\"test.email+alex@leetcode.com\",\"test.e.mail+bob.cathy@leetcode.com\",\"testemail+david@lee.tcode.com\"]\n",
    "obj.numUniqueEmails(emails)"
   ]
  },
  {
   "cell_type": "code",
   "execution_count": null,
   "metadata": {},
   "outputs": [],
   "source": []
  }
 ],
 "metadata": {
  "kernelspec": {
   "display_name": "Python 3",
   "language": "python",
   "name": "python3"
  },
  "language_info": {
   "codemirror_mode": {
    "name": "ipython",
    "version": 3
   },
   "file_extension": ".py",
   "mimetype": "text/x-python",
   "name": "python",
   "nbconvert_exporter": "python",
   "pygments_lexer": "ipython3",
   "version": "3.8.5"
  }
 },
 "nbformat": 4,
 "nbformat_minor": 4
}
