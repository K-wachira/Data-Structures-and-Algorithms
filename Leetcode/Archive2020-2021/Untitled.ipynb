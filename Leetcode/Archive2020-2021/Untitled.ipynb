{
 "cells": [
  {
   "cell_type": "code",
   "execution_count": 19,
   "metadata": {},
   "outputs": [
    {
     "name": "stdout",
     "output_type": "stream",
     "text": [
      "a##c #a#c\n",
      "#c #a#c\n",
      "c #a#c\n",
      "c a#c\n",
      "c c\n"
     ]
    },
    {
     "data": {
      "text/plain": [
       "True"
      ]
     },
     "execution_count": 19,
     "metadata": {},
     "output_type": "execute_result"
    }
   ],
   "source": [
    "class Solution:\n",
    "    \n",
    "    def backspaceCompare(self, s: str, t: str) -> bool:\n",
    "        news = ''\n",
    "        newt = ''\n",
    "        print(s, t)\n",
    "        for i, n in enumerate(s):\n",
    "            \n",
    "            if n == \"#\":\n",
    "                if i != 0 : \n",
    "                    #s[i-1] = \"\"\n",
    "                    news = s[:i-1]\n",
    "                    news +=  s[i+1:]\n",
    "                else:\n",
    "                    news = s[i+1:]\n",
    "                return self.backspaceCompare(news, t)\n",
    "                \n",
    "        for i, n in enumerate(t):\n",
    "            if n == \"#\":\n",
    "                if i != 0 : \n",
    "                    newt = t[:i-1] \n",
    "                    newt += t[i+1:]\n",
    "                else:\n",
    "                    newt = t[i+1:]\n",
    "                return self.backspaceCompare(s, newt)\n",
    "            \n",
    "        return s == t\n",
    "    \n",
    "    \n",
    "    \n",
    "    \n",
    "obj = Solution()\n",
    "s = \"a##c\"\n",
    "t = \"#a#c\"\n",
    "obj.backspaceCompare(s, t)"
   ]
  },
  {
   "cell_type": "code",
   "execution_count": 1,
   "metadata": {},
   "outputs": [
    {
     "name": "stdout",
     "output_type": "stream",
     "text": [
      "[1] [2]\n"
     ]
    }
   ],
   "source": [
    "def appends(path, value):\n",
    "    path.append(value)\n",
    "    return True\n",
    "\n",
    "\n",
    "def main():\n",
    "    p1 = []\n",
    "    p2 = []\n",
    "\n",
    "    appends(p1, 1)\n",
    "    appends(p2, 2)\n",
    "\n",
    "    print( p1, p2)\n",
    "\n",
    "main()"
   ]
  },
  {
   "cell_type": "code",
   "execution_count": null,
   "metadata": {},
   "outputs": [],
   "source": []
  }
 ],
 "metadata": {
  "kernelspec": {
   "display_name": "Python 3.10.7 64-bit",
   "language": "python",
   "name": "python3"
  },
  "language_info": {
   "codemirror_mode": {
    "name": "ipython",
    "version": 3
   },
   "file_extension": ".py",
   "mimetype": "text/x-python",
   "name": "python",
   "nbconvert_exporter": "python",
   "pygments_lexer": "ipython3",
   "version": "3.10.8"
  },
  "vscode": {
   "interpreter": {
    "hash": "e7370f93d1d0cde622a1f8e1c04877d8463912d04d973331ad4851f04de6915a"
   }
  }
 },
 "nbformat": 4,
 "nbformat_minor": 4
}
