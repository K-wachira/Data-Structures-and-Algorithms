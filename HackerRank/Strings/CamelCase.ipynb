{
 "cells": [
  {
   "cell_type": "markdown",
   "metadata": {},
   "source": [
    "# CamelCase\n",
    "\n",
    "\n",
    "[Question Link](https://www.hackerrank.com/challenges/camelcase/problem?h_r=next-challenge&h_v=zen)\n",
    "\n",
    "\n",
    "Alice wrote a sequence of words in CamelCase as a string of letters,\n",
    "\n",
    ", having the following properties:\n",
    "\n",
    "    It is a concatenation of one or more words consisting of English letters.\n",
    "    All letters in the first word are lowercase.\n",
    "    For each of the subsequent words, the first letter is uppercase and rest of the letters are lowercase.\n",
    "\n",
    "Given\n",
    ", print the number of words in\n",
    "\n",
    "on a new line.\n",
    "\n",
    "For example,\n",
    ". There are\n",
    "\n",
    "words in the string.\n",
    "\n",
    "Function Description\n",
    "\n",
    "Complete the camelcase function in the editor below. It must return the integer number of words in the input string.\n",
    "\n",
    "camelcase has the following parameter(s):\n",
    "\n",
    "    s: the string to analyze\n"
   ]
  },
  {
   "cell_type": "code",
   "execution_count": 2,
   "metadata": {},
   "outputs": [
    {
     "data": {
      "text/plain": [
       "5"
      ]
     },
     "execution_count": 2,
     "metadata": {},
     "output_type": "execute_result"
    }
   ],
   "source": [
    "def camelcase(s):\n",
    "    counter =1 \n",
    "    if len(s) == 0:\n",
    "        return 0\n",
    "    for  i in s:\n",
    "        if i.isupper():\n",
    "            counter +=1\n",
    "\n",
    "    return counter\n",
    "\n",
    "s = 'saveChangesInTheEditor'\n",
    "camelcase(s)"
   ]
  }
 ],
 "metadata": {
  "kernelspec": {
   "display_name": "Python 3",
   "language": "python",
   "name": "python3"
  },
  "language_info": {
   "codemirror_mode": {
    "name": "ipython",
    "version": 3
   },
   "file_extension": ".py",
   "mimetype": "text/x-python",
   "name": "python",
   "nbconvert_exporter": "python",
   "pygments_lexer": "ipython3",
   "version": "3.8.3"
  }
 },
 "nbformat": 4,
 "nbformat_minor": 4
}
