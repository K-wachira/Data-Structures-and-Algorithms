{
 "cells": [
  {
   "cell_type": "code",
   "execution_count": 19,
   "metadata": {},
   "outputs": [
    {
     "data": {
      "text/plain": [
       "'erdii'"
      ]
     },
     "execution_count": 19,
     "metadata": {},
     "output_type": "execute_result"
    }
   ],
   "source": [
    "from itertools import cycle\n",
    "def findSubstring(s, k):\n",
    "    # Write your code here\n",
    "    vowels = {'a', 'e' , 'i', 'o', 'u'}\n",
    "    sliced = []\n",
    "    returnNum = [0, '']\n",
    "    for i, n in enumerate(s):\n",
    "        if i+k > len(s):\n",
    "            break\n",
    "        else:\n",
    "            x = 0\n",
    "            for j in s[i:k+i]:\n",
    "                if j in vowels:\n",
    "                    x+=1\n",
    "            if x > returnNum[0]:\n",
    "                returnNum[0] = x\n",
    "                returnNum[1] = s[i:k+i]\n",
    "            \n",
    "            \n",
    "\n",
    "        \n",
    "\n",
    "    return returnNum[1] if returnNum[0] >0 else  'Not found!'\n",
    "\n",
    "s = 'azerdii'\n",
    "\n",
    "    \n",
    "k = 5\n",
    "\n",
    "findSubstring(s, k)"
   ]
  },
  {
   "cell_type": "code",
   "execution_count": 65,
   "metadata": {},
   "outputs": [
    {
     "name": "stdout",
     "output_type": "stream",
     "text": [
      "2\n"
     ]
    },
    {
     "data": {
      "text/plain": [
       "'erdii'"
      ]
     },
     "execution_count": 65,
     "metadata": {},
     "output_type": "execute_result"
    }
   ],
   "source": [
    "from collections import Counter\n",
    "def findSubstring(s, k):\n",
    "    # Write your code here\n",
    "    vowels = {'a', 'e' , 'i', 'o', 'u'}\n",
    "    \n",
    "    sliced = 'Not found!'\n",
    "    leng  =0 \n",
    "    x =0\n",
    "    start = 0\n",
    "    \n",
    "    dicti = {}\n",
    "    for i in range(len(s)):\n",
    "        if i+k > len(s):\n",
    "            break\n",
    "        else:\n",
    "            z = Counter(s[i:i+k])\n",
    "            dicti[i] = z\n",
    "            \n",
    "            \n",
    "    for key, v in dicti.items():\n",
    "        for j in v:\n",
    "            if j in  vowels:\n",
    "                x += v[j]\n",
    "                \n",
    "        if x > leng:\n",
    "            leng = x\n",
    "            start = key\n",
    "    print(start)\n",
    "    return s[start:start+k] if leng > 0 else sliced\n",
    "\n",
    "                \n",
    "            \n",
    "s = 'azerdii'\n",
    "\n",
    "    \n",
    "k = 5\n",
    "findSubstring(s, k)     "
   ]
  },
  {
   "cell_type": "code",
   "execution_count": 62,
   "metadata": {},
   "outputs": [
    {
     "data": {
      "text/plain": [
       "'erdii'"
      ]
     },
     "execution_count": 62,
     "metadata": {},
     "output_type": "execute_result"
    }
   ],
   "source": [
    "\n",
    "from collections import Counter\n",
    "def findSubstring(s, k):\n",
    "    # Write your code here\n",
    "    vowels = {'a', 'e' , 'i', 'o', 'u'}\n",
    "    \n",
    "    sliced = 'Not found!'\n",
    "    leng  =0 \n",
    "    x =0\n",
    "    start = 0    \n",
    "    dicti = {}\n",
    "    for i in range(len(s)):\n",
    "        if i+k > len(s):\n",
    "            break\n",
    "        else:\n",
    "            z = Counter(s[i:i+k])\n",
    "            dicti[i] = z\n",
    "            \n",
    "            \n",
    "    for i, v in dicti.items():\n",
    "        for j in v:\n",
    "            if j in  vowels:\n",
    "                x += v[j]\n",
    "        if x > leng:\n",
    "            leng = x\n",
    "            start = i\n",
    "    return s[start:start+k] if leng > 0 else sliced\n",
    "        \n",
    "    \n",
    "s = 'azerdii'\n",
    "\n",
    "    \n",
    "k = 5\n",
    "findSubstring(s, k)   "
   ]
  },
  {
   "cell_type": "code",
   "execution_count": 88,
   "metadata": {},
   "outputs": [
    {
     "data": {
      "text/plain": [
       "'erdii'"
      ]
     },
     "execution_count": 88,
     "metadata": {},
     "output_type": "execute_result"
    }
   ],
   "source": [
    "from collections import Counter\n",
    "def findSubstring(s, k):\n",
    "    # Write your code here\n",
    "    vowels = {'a', 'e' , 'i', 'o', 'u'}\n",
    "    nums = [0] * len(s)\n",
    "    leng = 0\n",
    "    \n",
    "    for x in nums:\n",
    "        if x != 0:\n",
    "            break\n",
    "    nums = nums[x:]\n",
    "    \n",
    "    nums = nums[::-1]\n",
    "    \n",
    "    for y in nums:\n",
    "        if y != 0:\n",
    "            break\n",
    "    nums = nums[::-1]\n",
    "    nums = nums[:len(s) - y]\n",
    "    s = s[x: len(s) -y]\n",
    "    for g in range(len(s)):\n",
    "        if s[g] in vowels:\n",
    "            nums[g] = 1\n",
    "        \n",
    "        \n",
    "    for i in range(len(nums)):\n",
    "        end = i +k\n",
    "        if end > len(nums):\n",
    "            break\n",
    "        \n",
    "        else:\n",
    "            x = sum(nums[i:end])\n",
    "            \n",
    "        if x > leng:\n",
    "            leng = x\n",
    "            start = i\n",
    "    return s[start: start+ k] if leng > 0 else 'Not found!'\n",
    "\n",
    "s = 'azerdii'\n",
    "\n",
    "    \n",
    "k = 5\n",
    "findSubstring(s, k)   "
   ]
  },
  {
   "cell_type": "code",
   "execution_count": null,
   "metadata": {},
   "outputs": [],
   "source": []
  }
 ],
 "metadata": {
  "kernelspec": {
   "display_name": "Python 3",
   "language": "python",
   "name": "python3"
  },
  "language_info": {
   "codemirror_mode": {
    "name": "ipython",
    "version": 3
   },
   "file_extension": ".py",
   "mimetype": "text/x-python",
   "name": "python",
   "nbconvert_exporter": "python",
   "pygments_lexer": "ipython3",
   "version": "3.8.3"
  }
 },
 "nbformat": 4,
 "nbformat_minor": 4
}
