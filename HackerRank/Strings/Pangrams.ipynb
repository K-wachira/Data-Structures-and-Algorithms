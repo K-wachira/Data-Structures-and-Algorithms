{
 "cells": [
  {
   "cell_type": "markdown",
   "metadata": {},
   "source": [
    "Roy wanted to increase his typing speed for programming contests. His friend suggested that he type the sentence \"The quick brown fox jumps over the lazy dog\" repeatedly. This sentence is known as a pangram because it contains every letter of the alphabet.\n",
    "\n",
    "After typing the sentence several times, Roy became bored with it so he started to look for other pangrams.\n",
    "\n",
    "Given a sentence, determine whether it is a pangram. Ignore case."
   ]
  },
  {
   "cell_type": "code",
   "execution_count": null,
   "metadata": {},
   "outputs": [],
   "source": [
    "def pangrams(s):\n",
    "    s = s.lower()\n",
    "    j = set(s)\n",
    "    j.discard(' ')\n",
    "    return 'pangram' if len(j) >= 26 else 'not pangram'\n",
    "\n",
    "s = 'We promptly judged antique ivory buckles for the prize'\n",
    "pangrams(s)"
   ]
  }
 ],
 "metadata": {
  "kernelspec": {
   "display_name": "Python 3",
   "language": "python",
   "name": "python3"
  },
  "language_info": {
   "codemirror_mode": {
    "name": "ipython",
    "version": 3
   },
   "file_extension": ".py",
   "mimetype": "text/x-python",
   "name": "python",
   "nbconvert_exporter": "python",
   "pygments_lexer": "ipython3",
   "version": "3.8.5"
  }
 },
 "nbformat": 4,
 "nbformat_minor": 4
}
