{
 "cells": [
  {
   "cell_type": "markdown",
   "metadata": {},
   "source": [
    "# Mars Exploration\n",
    "\n",
    "\n",
    "[Question Link](https://www.hackerrank.com/challenges/mars-exploration/problem)\n",
    "\n",
    "\n",
    "Sami's spaceship crashed on Mars! She sends a series of SOS messages to Earth for help. \n",
    "\n",
    "Letters in some of the SOS messages are altered by cosmic radiation during transmission. Given the signal received by Earth as a string,\n",
    "\n",
    ", determine how many letters of Sami's SOS have been changed by radiation.\n",
    "\n",
    "For example, Earth receives SOSTOT. Sami's original message was SOSSOS. Two of the message characters were changed in transit. "
   ]
  },
  {
   "cell_type": "code",
   "execution_count": 31,
   "metadata": {},
   "outputs": [
    {
     "data": {
      "text/plain": [
       "0"
      ]
     },
     "execution_count": 31,
     "metadata": {},
     "output_type": "execute_result"
    }
   ],
   "source": [
    "def marsExploration(s):\n",
    "    counter = 0\n",
    "    j= 0\n",
    "    y = 0\n",
    "    while y < len(s)//3:\n",
    "        end = j+3\n",
    "        z =s[j:end]\n",
    "        if z[0] != 'S':\n",
    "            counter+=1\n",
    "        if z[1] != 'O':\n",
    "            counter+=1\n",
    "        if z[2] != 'S':\n",
    "            counter +=1\n",
    "        j = end \n",
    "        y +=1\n",
    "    return counter\n",
    "\n",
    "s = 'SOS'\n",
    "marsExploration(s)"
   ]
  },
  {
   "cell_type": "code",
   "execution_count": 40,
   "metadata": {},
   "outputs": [
    {
     "name": "stdout",
     "output_type": "stream",
     "text": [
      "1\n"
     ]
    }
   ],
   "source": [
    "from itertools import cycle\n",
    "def marsExploration(s):\n",
    "    x = sum(1 for i, j in zip(s, cycle(\"SOS\") )if i != j)\n",
    "    print(x)\n",
    "    \n",
    "s = 'SOT'\n",
    "marsExploration(s)"
   ]
  },
  {
   "cell_type": "code",
   "execution_count": null,
   "metadata": {},
   "outputs": [],
   "source": []
  }
 ],
 "metadata": {
  "kernelspec": {
   "display_name": "Python 3",
   "language": "python",
   "name": "python3"
  },
  "language_info": {
   "codemirror_mode": {
    "name": "ipython",
    "version": 3
   },
   "file_extension": ".py",
   "mimetype": "text/x-python",
   "name": "python",
   "nbconvert_exporter": "python",
   "pygments_lexer": "ipython3",
   "version": "3.8.3"
  }
 },
 "nbformat": 4,
 "nbformat_minor": 4
}
