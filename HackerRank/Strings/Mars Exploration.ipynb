{
 "cells": [
  {
   "cell_type": "code",
   "execution_count": null,
   "metadata": {},
   "outputs": [],
   "source": [
    "# Mars Exploration"
   ]
  },
  {
   "cell_type": "code",
   "execution_count": 31,
   "metadata": {},
   "outputs": [
    {
     "data": {
      "text/plain": [
       "0"
      ]
     },
     "execution_count": 31,
     "metadata": {},
     "output_type": "execute_result"
    }
   ],
   "source": [
    "def marsExploration(s):\n",
    "    counter = 0\n",
    "    j= 0\n",
    "    y = 0\n",
    "    while y < len(s)//3:\n",
    "        end = j+3\n",
    "        z =s[j:end]\n",
    "        if z[0] != 'S':\n",
    "            counter+=1\n",
    "        if z[1] != 'O':\n",
    "            counter+=1\n",
    "        if z[2] != 'S':\n",
    "            counter +=1\n",
    "        j = end \n",
    "        y +=1\n",
    "    return counter\n",
    "\n",
    "s = 'SOS'\n",
    "marsExploration(s)"
   ]
  },
  {
   "cell_type": "code",
   "execution_count": null,
   "metadata": {},
   "outputs": [],
   "source": []
  }
 ],
 "metadata": {
  "kernelspec": {
   "display_name": "Python 3",
   "language": "python",
   "name": "python3"
  },
  "language_info": {
   "codemirror_mode": {
    "name": "ipython",
    "version": 3
   },
   "file_extension": ".py",
   "mimetype": "text/x-python",
   "name": "python",
   "nbconvert_exporter": "python",
   "pygments_lexer": "ipython3",
   "version": "3.8.3"
  }
 },
 "nbformat": 4,
 "nbformat_minor": 4
}
