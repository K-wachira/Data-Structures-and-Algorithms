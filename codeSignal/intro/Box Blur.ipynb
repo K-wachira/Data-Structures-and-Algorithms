{
 "cells": [
  {
   "cell_type": "markdown",
   "metadata": {},
   "source": [
    "# Box Blur\n",
    "\n",
    "[QuestionLink](https://app.codesignal.com/arcade/intro/level-5/5xPitc3yT3dqS7XkP/drafts)\n",
    "\n",
    "\n",
    "Last night you partied a little too hard. Now there's a black and white photo of you that's about to go viral! You can't let this ruin your reputation, so you want to apply the box blur algorithm to the photo to hide its content.\n",
    "\n",
    "The pixels in the input image are represented as integers. The algorithm distorts the input image in the following way: Every pixel x in the output image has a value equal to the average value of the pixel values from the 3 × 3 square that has its center at x, including x itself. All the pixels on the border of x are then removed.\n",
    "\n",
    "Return the blurred image as an integer, with the fractions rounded down."
   ]
  },
  {
   "cell_type": "code",
   "execution_count": 115,
   "metadata": {},
   "outputs": [],
   "source": [
    "def solution(image):\n",
    "    Rows = len(image)\n",
    "    Cols = len(image[0])\n",
    "    r= 0\n",
    "    x = []\n",
    "    for row in range(0, Rows-2):\n",
    "        mini_grid = []\n",
    "        out = []\n",
    "        for c in range(0, Cols -2):\n",
    "            r = row\n",
    "            while r <row +3:\n",
    "                    mini_grid.append( image[r][c:c+3])\n",
    "                    r+=1\n",
    "            sums = sum([sum(temp) for temp in mini_grid])//9\n",
    "            out.append(sums)\n",
    "            mini_grid = []\n",
    "    return x\n"
   ]
  },
  {
   "cell_type": "code",
   "execution_count": 116,
   "metadata": {},
   "outputs": [],
   "source": [
    "image = [[7, 4, 0, 1], \n",
    "         [5, 6, 2, 2], \n",
    "         [6, 10, 7, 8], \n",
    "         [1, 4, 2, 0]]"
   ]
  },
  {
   "cell_type": "code",
   "execution_count": 117,
   "metadata": {},
   "outputs": [
    {
     "name": "stdout",
     "output_type": "stream",
     "text": [
      "5\n",
      "4\n",
      "[5, 4] |\n",
      "4\n",
      "4\n",
      "[4, 4] |\n"
     ]
    },
    {
     "data": {
      "text/plain": [
       "[[5, 4], [4, 4]]"
      ]
     },
     "execution_count": 117,
     "metadata": {},
     "output_type": "execute_result"
    }
   ],
   "source": [
    "solution(image)"
   ]
  },
  {
   "cell_type": "code",
   "execution_count": null,
   "metadata": {},
   "outputs": [],
   "source": []
  }
 ],
 "metadata": {
  "kernelspec": {
   "display_name": "Python 3 (ipykernel)",
   "language": "python",
   "name": "python3"
  },
  "language_info": {
   "codemirror_mode": {
    "name": "ipython",
    "version": 3
   },
   "file_extension": ".py",
   "mimetype": "text/x-python",
   "name": "python",
   "nbconvert_exporter": "python",
   "pygments_lexer": "ipython3",
   "version": "3.9.7"
  }
 },
 "nbformat": 4,
 "nbformat_minor": 4
}
