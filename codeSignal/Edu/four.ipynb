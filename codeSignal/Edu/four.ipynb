{
 "cells": [
  {
   "cell_type": "code",
   "execution_count": null,
   "metadata": {},
   "outputs": [],
   "source": [
    "def isIPv4Address(inputString):\n",
    "    listy=inputString.split(\".\")\n",
    "    print(listy)\n",
    "    # CHecking ip length\n",
    "    if len(listy)==4:\n",
    "        for i in listy:\n",
    "            # To check if value is number\n",
    "                try:\n",
    "                    if (0 <= int(i) <= 255)==False or (i[0] == \"0\" and (len(i) > 1)):\n",
    "                        return False\n",
    "                except: return False\n",
    "        return True\n",
    "    else:\n",
    "        return False\n",
    "isIPv4Address(inputString)"
   ]
  }
 ],
 "metadata": {
  "kernelspec": {
   "display_name": "Python 3",
   "language": "python",
   "name": "python3"
  },
  "language_info": {
   "codemirror_mode": {
    "name": "ipython",
    "version": 3
   },
   "file_extension": ".py",
   "mimetype": "text/x-python",
   "name": "python",
   "nbconvert_exporter": "python",
   "pygments_lexer": "ipython3",
   "version": "3.8.3"
  }
 },
 "nbformat": 4,
 "nbformat_minor": 4
}
