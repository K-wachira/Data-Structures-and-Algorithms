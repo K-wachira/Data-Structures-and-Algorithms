{
 "cells": [
  {
   "cell_type": "markdown",
   "metadata": {},
   "source": [
    "![image](https://lh3.googleusercontent.com/XVxfwqPNMgJ4M8UIr7QYnjgKTdsHPzxKYsh8OEkDXe1Z9xS3xTXifLNe2RNartXNGS0Z5xHpKCo9QuIBhEdOgILZxY1vs2IpuEOYoyQwvG6wmg2ORoSDSh3zlCLvnMe3rP18vMGR1l4Z9NmyAamBcMxRa1BaXgIOaM7o258zMr0nmYaPvdvr3L6uri4tOOc8MvwdKfuNGeNHKokCJzldbLXHNmkG3hYHFKrA-RHdWYUGxiKKY_tSpHckGFrRJgliRmUU=w512)"
   ]
  },
  {
   "cell_type": "code",
   "execution_count": 9,
   "metadata": {},
   "outputs": [
    {
     "data": {
      "text/plain": [
       "21784"
      ]
     },
     "execution_count": 9,
     "metadata": {},
     "output_type": "execute_result"
    }
   ],
   "source": [
    "def packing(a):\n",
    "    out = ''\n",
    "    for i in a[::-1]:\n",
    "        x = decimalToBinary(i)\n",
    "        y = toEight(str(x))\n",
    "        out = out + y\n",
    "    return binaryToDecimal(int(out))\n",
    "        \n",
    "    \n",
    "def decimalToBinary(n): \n",
    "    return bin(n).replace(\"0b\", \"\") \n",
    "\n",
    "\n",
    "def toEight(string):\n",
    "    if len(string) == 8:\n",
    "        return string\n",
    "    else: return ((8-len(string)) * \"0\") + string\n",
    "    \n",
    "    \n",
    "\n",
    "def binaryToDecimal(binary): \n",
    "      \n",
    "    binary1 = binary \n",
    "    decimal, i, n = 0, 0, 0\n",
    "    while(binary != 0): \n",
    "        dec = binary % 10\n",
    "        decimal = decimal + dec * pow(2, i) \n",
    "        binary = binary//10\n",
    "        i += 1\n",
    "    return decimal    \n",
    "\n",
    "packing([24, 85 , 0])"
   ]
  },
  {
   "cell_type": "code",
   "execution_count": null,
   "metadata": {},
   "outputs": [],
   "source": []
  }
 ],
 "metadata": {
  "kernelspec": {
   "display_name": "Python 3",
   "language": "python",
   "name": "python3"
  },
  "language_info": {
   "codemirror_mode": {
    "name": "ipython",
    "version": 3
   },
   "file_extension": ".py",
   "mimetype": "text/x-python",
   "name": "python",
   "nbconvert_exporter": "python",
   "pygments_lexer": "ipython3",
   "version": "3.8.3"
  }
 },
 "nbformat": 4,
 "nbformat_minor": 4
}
