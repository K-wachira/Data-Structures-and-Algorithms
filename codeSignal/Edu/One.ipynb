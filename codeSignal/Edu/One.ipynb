{
 "cells": [
  {
   "cell_type": "markdown",
   "metadata": {},
   "source": [
    "![image](https://lh4.googleusercontent.com/nlgucAefjF4cHojxmB_mptIaMNhwZw_mKR9lEcrKSa51KD4Kh12LV2CCagyGvdHR9fmR19CtI92EhCmDb6SKPCEW5wSj1g1FqnjM6RI7iBRmedxF87-2an30-d_g6aHF4d-rATR6C8DM1awuZizs-Hr2tOf98xV4eiALf2-t1ce9PbGgrSuHl0wDCqgubgWXV9BoPGhsAqoeXiKZlkbsV7RpLMkXPP80nJEhl7TNG6fwZ7azr6ubIPvnN7YKkSAYatiwx-o=w512)"
   ]
  },
  {
   "cell_type": "code",
   "execution_count": 28,
   "metadata": {},
   "outputs": [
    {
     "name": "stdout",
     "output_type": "stream",
     "text": [
      "['X', 'O', 'X']\n",
      "['O', 'X', 'O']\n",
      "['.', 'X', '.']\n",
      "['X', 'X', '.']\n",
      "[['X', 'O', 'X'], ['O', 'X', 'O'], ['.', 'X', '.'], ['X', 'O', '.'], ['O', 'X', 'X'], ['X', 'O', '.'], ['X', 'X', '.'], ['X', 'X', '.']]\n"
     ]
    },
    {
     "data": {
      "text/plain": [
       "'ONGOING'"
      ]
     },
     "execution_count": 28,
     "metadata": {},
     "output_type": "execute_result"
    }
   ],
   "source": [
    "def ticktak(board):\n",
    "    row = []\n",
    "    board1 = []\n",
    "    ongoing = False\n",
    "    for i in board:\n",
    "        for x in i:\n",
    "            row.append(x)\n",
    "        board1.append(row)\n",
    "        row = []\n",
    "        \n",
    "    for i in board1:\n",
    "        print(i)\n",
    "    board = board1\n",
    "    \n",
    "    \n",
    "    outlist = []\n",
    "    \n",
    "    for i in board:\n",
    "        outlist.append(i)\n",
    "    \n",
    "    for col in range( len(board[0])):\n",
    "        mini = []\n",
    "        for row in range( len(board)):\n",
    "            mini.append( board[row][col])\n",
    "            if board[row][col] == '.': \n",
    "                ongoing = True\n",
    "        outlist.append(mini)\n",
    "        mini = []\n",
    "    mini = []\n",
    "    i  = 0\n",
    "    while i < len(board):\n",
    "        mini.append (board[i][i])\n",
    "        i+=1\n",
    "    outlist.append(mini)\n",
    "    \n",
    "    col = len(board[0]) -1\n",
    "    row = 0\n",
    "    mini = []\n",
    "    while col >= 0:\n",
    "        mini.append(board[row][col])\n",
    "        col -=1\n",
    "        row +=1\n",
    "    print(mini)\n",
    "    outlist.append(mini)\n",
    "    print(outlist)\n",
    "    \n",
    "    \n",
    "            \n",
    "    for played in outlist:\n",
    "        if len( set(played) ) == 1:\n",
    "            if played[0] == \"X\": return \"X WIN\"\n",
    "            elif played[0] == \"O\": return \"O WIN\"\n",
    "    \n",
    "    if ongoing:\n",
    "        return \"ONGOING\"\n",
    "    return \"TIE\"\n",
    "\n",
    "\n",
    "M = [\"XOX\", \n",
    " \"OXO\", \n",
    " \".X.\"]\n",
    "ticktak(M)"
   ]
  }
 ],
 "metadata": {
  "kernelspec": {
   "display_name": "Python 3",
   "language": "python",
   "name": "python3"
  },
  "language_info": {
   "codemirror_mode": {
    "name": "ipython",
    "version": 3
   },
   "file_extension": ".py",
   "mimetype": "text/x-python",
   "name": "python",
   "nbconvert_exporter": "python",
   "pygments_lexer": "ipython3",
   "version": "3.8.3"
  }
 },
 "nbformat": 4,
 "nbformat_minor": 4
}
