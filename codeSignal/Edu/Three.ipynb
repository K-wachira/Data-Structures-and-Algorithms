{
 "cells": [
  {
   "cell_type": "markdown",
   "metadata": {},
   "source": [
    "![image](https://lh5.googleusercontent.com/TrZB7wzbArebmKet9mnKEtnR0GJoUwUZMeKSfWaXn9DKvPNgi8sPEb845rsAChr54Yy1SPNCMfKIBpvfx4oWm-Cu6M_Kd4vi5EZ797K7x-U54Y7uy5CZedHT0Z_Fuj5MIl6tReBIIudfGxk1Jg0v74fixD7yvTLdazeE3DkP_u8okhzRIpJEOsRCPAUTQPS2eBdTx6ldAX0oiHjvNkyNdKbpY1TBTw5IzlNmbT_iHAqxN5fJ7ocmiRQhftN9a8SOdX_BoLI=w512)"
   ]
  },
  {
   "cell_type": "code",
   "execution_count": 6,
   "metadata": {},
   "outputs": [
    {
     "name": "stdout",
     "output_type": "stream",
     "text": [
      "True\n",
      "False\n"
     ]
    },
    {
     "data": {
      "text/plain": [
       "True"
      ]
     },
     "execution_count": 6,
     "metadata": {},
     "output_type": "execute_result"
    }
   ],
   "source": [
    "def palindrom(inputString):\n",
    "    return inputString == inputString[::-1]\n",
    "\n",
    "print(palindrom( \"aabaa\"))\n",
    "print(palindrom( \"abac\"))\n",
    "palindrom( \"a\")"
   ]
  },
  {
   "cell_type": "code",
   "execution_count": null,
   "metadata": {},
   "outputs": [],
   "source": []
  }
 ],
 "metadata": {
  "kernelspec": {
   "display_name": "Python 3",
   "language": "python",
   "name": "python3"
  },
  "language_info": {
   "codemirror_mode": {
    "name": "ipython",
    "version": 3
   },
   "file_extension": ".py",
   "mimetype": "text/x-python",
   "name": "python",
   "nbconvert_exporter": "python",
   "pygments_lexer": "ipython3",
   "version": "3.8.3"
  }
 },
 "nbformat": 4,
 "nbformat_minor": 4
}
