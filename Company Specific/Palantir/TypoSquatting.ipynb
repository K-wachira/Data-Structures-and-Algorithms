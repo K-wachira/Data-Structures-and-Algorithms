{
 "cells": [
  {
   "cell_type": "markdown",
   "id": "b63f6dfb-b0cc-4d17-8b21-b6e9cefda09b",
   "metadata": {},
   "source": [
    "You are given a list of company domains and new domains. You are supposed to detect typosquats of the company domains in new domains. domains are in list of form name.host where name represents the company and host is the rest of the domain.\n",
    "\n",
    "\n",
    "## Task 1:\n",
    "Detect domains that use the same name as the company but have a different host.\n",
    "\n",
    "Input:\n",
    "['palantir.com','apple.com'],['palantir.biz','apple.org','apple.com','appleorchard.net']\n",
    "\n",
    "Output:\n",
    "['palantir.biz', 'apple.org']\n",
    "\n",
    "\n",
    "\n",
    "## Task 2:\n",
    "Detect those typosquats that replace characters in the domain with any number of other similar looking characters.\n",
    "\n",
    "Task2 should also work for Task1.\n",
    "\n",
    "Characters that look similar:\n",
    "['1', 'i', 'l', '!', '|']\n",
    "['s', '5', '$']\n",
    "['o', '0']\n",
    "['a', '@']\n",
    "['e', '3']\n",
    "\n",
    "Input:\n",
    "['palantir.com','nic.ci'],['paiantir.com','nic.cl','palantirtechnologies.com','nlc.biz']\n",
    "\n",
    "Output:\n",
    "['paiantir.com', 'nic.cl', 'nlc.biz']\n",
    "\n",
    "\n",
    "## Task 3:\n",
    "Detect those kind of typosquats that contains maximum of one adjacent swapped characters in the domain.\n",
    "\n",
    "Task3 should also work for Task2 and Task1.\n",
    "\n",
    "Input:\n",
    "['palantir.com','apple.com'],['plaantir.com','aplantirtechnologies.com','palanti.rbiz']\n",
    "\n",
    "Output:\n",
    "['plaantir.com', 'palanti.rbiz']\n"
   ]
  },
  {
   "cell_type": "code",
   "execution_count": 6,
   "id": "3f16286d-ec5c-49ed-951f-d32ecf6ee56e",
   "metadata": {},
   "outputs": [
    {
     "data": {
      "text/plain": [
       "['palantir.biz']"
      ]
     },
     "execution_count": 6,
     "metadata": {},
     "output_type": "execute_result"
    }
   ],
   "source": [
    "class Solution():\n",
    "    def task1(self, list1, list2):\n",
    "        if len(list1) > len(list2):\n",
    "            list2, list1 = list1, list2\n",
    "        res = []\n",
    "        for company in list1:\n",
    "            name, host = company.split('.')\n",
    "            for company2 in list2:\n",
    "                name2, host2 = company2.split('.')\n",
    "                if name == name2 and host != host2:\n",
    "                    res.append(company2)\n",
    "        return res\n",
    "    \n",
    "    def task1a(self, list1, list2):\n",
    "        if len(list1) > len(list2):\n",
    "            list2, list1 = list1, list2\n",
    "        res = []\n",
    "        dicti = {}\n",
    "        \n",
    "        for companylink in list2:\n",
    "            name, host = companylink.split('.')\n",
    "            dicti[name] = companylink\n",
    "\n",
    "        for company in list1:\n",
    "            name, host = company.split('.')\n",
    "            if name in dicti.keys() and dicti[name] != company:\n",
    "                res.append(dicti[name])\n",
    "                \n",
    "        return res\n",
    "\n",
    "        \n",
    "# dictionary = {key= name, val= companylink}\n",
    "        \n",
    "list1 = ['palantir.com','apple.com']\n",
    "list2 = ['palantir.biz','apple.org','apple.com','appleorchard.net']\n",
    "\n",
    "\n",
    "obj = Solution()\n",
    "obj.task1a( list1, list2)"
   ]
  }
 ],
 "metadata": {
  "kernelspec": {
   "display_name": "Python 3.10.6 64-bit",
   "language": "python",
   "name": "python3"
  },
  "language_info": {
   "codemirror_mode": {
    "name": "ipython",
    "version": 3
   },
   "file_extension": ".py",
   "mimetype": "text/x-python",
   "name": "python",
   "nbconvert_exporter": "python",
   "pygments_lexer": "ipython3",
   "version": "3.10.6"
  },
  "vscode": {
   "interpreter": {
    "hash": "e7370f93d1d0cde622a1f8e1c04877d8463912d04d973331ad4851f04de6915a"
   }
  }
 },
 "nbformat": 4,
 "nbformat_minor": 5
}
