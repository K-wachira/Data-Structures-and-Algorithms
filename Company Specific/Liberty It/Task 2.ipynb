{
 "cells": [
  {
   "cell_type": "markdown",
   "metadata": {},
   "source": [
    "![image](https://i.imgur.com/swc39bA.png)"
   ]
  },
  {
   "cell_type": "markdown",
   "metadata": {},
   "source": [
    "maintain a max heap \n",
    "for while the sum of heap is > half  \n",
    "    pop the top\n",
    "    divide by 2 \n",
    "    return it to array "
   ]
  },
  {
   "cell_type": "code",
   "execution_count": 35,
   "metadata": {},
   "outputs": [],
   "source": [
    "# you can write to stdout for debugging purposes, e.g.\n",
    "# print(\"this is a debug message\")\n",
    "\n",
    "# # write your code in Python 3.8.10\n",
    "# go through each item and \n",
    "from heapq import heappop, heappush, heapify\n",
    "def solution(A):\n",
    "    heap = []\n",
    "    heapify(heap)           \n",
    "    for i in A:\n",
    "        heappush(heap, i*-1)\n",
    "    \n",
    "    sum_so_far = sum(A)\n",
    "    count = 0 \n",
    "    while sum_so_far > sum(A)/2:\n",
    "        element = heappop(heap)\n",
    "        element_half= (element*-1) /2\n",
    "        sum_so_far -= element_half\n",
    "        heappush(heap, element_half *-1)\n",
    "        count +=1\n",
    "    return count\n",
    "\n"
   ]
  },
  {
   "cell_type": "code",
   "execution_count": 36,
   "metadata": {},
   "outputs": [
    {
     "name": "stdout",
     "output_type": "stream",
     "text": [
      "True\n"
     ]
    }
   ],
   "source": [
    "test_cases = [ \n",
    "    ([5, 19, 8, 1], 3),\n",
    "    # ([10, 10], 2),\n",
    "    # ( [3, 0, 5], 3)\n",
    "]\n",
    "\n",
    "for case in test_cases:\n",
    "    print(solution(case[0]) == case[1])"
   ]
  },
  {
   "cell_type": "code",
   "execution_count": 34,
   "metadata": {},
   "outputs": [
    {
     "data": {
      "text/plain": [
       "14.75"
      ]
     },
     "execution_count": 34,
     "metadata": {},
     "output_type": "execute_result"
    }
   ],
   "source": [
    "A = [5, 4.75, 4, 1]\n",
    "sum(A)"
   ]
  },
  {
   "cell_type": "code",
   "execution_count": null,
   "metadata": {},
   "outputs": [],
   "source": []
  }
 ],
 "metadata": {
  "kernelspec": {
   "display_name": "Python 3.10.8 64-bit",
   "language": "python",
   "name": "python3"
  },
  "language_info": {
   "codemirror_mode": {
    "name": "ipython",
    "version": 3
   },
   "file_extension": ".py",
   "mimetype": "text/x-python",
   "name": "python",
   "nbconvert_exporter": "python",
   "pygments_lexer": "ipython3",
   "version": "3.10.8"
  },
  "orig_nbformat": 4,
  "vscode": {
   "interpreter": {
    "hash": "e7370f93d1d0cde622a1f8e1c04877d8463912d04d973331ad4851f04de6915a"
   }
  }
 },
 "nbformat": 4,
 "nbformat_minor": 2
}
