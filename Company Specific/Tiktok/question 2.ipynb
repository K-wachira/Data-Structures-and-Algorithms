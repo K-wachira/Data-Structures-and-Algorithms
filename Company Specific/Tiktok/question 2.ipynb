{
 "cells": [
  {
   "cell_type": "markdown",
   "metadata": {},
   "source": [
    "![image](https://i.imgur.com/MWsWt1Y.png)"
   ]
  },
  {
   "cell_type": "code",
   "execution_count": 8,
   "metadata": {},
   "outputs": [],
   "source": [
    "import heapq\n",
    "class Solution():\n",
    "    def minSwaps(self, labels):\n",
    "        keyToIndex = dict([(labels[i], i) for i in range(len(labels))])\n",
    "        heap = labels[::]\n",
    "        heapq.heapify(heap)\n",
    "\n",
    "        swaps = 0\n",
    "        for i in range(len(labels)):\n",
    "            smallest = heapq.heappop(heap)\n",
    "            if labels[i] != smallest:\n",
    "                currNum = labels[i] # needed to update the dic two lines below\n",
    "                labels[i], labels[keyToIndex[smallest]] = labels[keyToIndex[smallest]], labels[i]\n",
    "                keyToIndex[smallest], keyToIndex[currNum] = keyToIndex[currNum], keyToIndex[smallest]\n",
    "                swaps += 1\n",
    "        return swaps\n",
    " "
   ]
  },
  {
   "cell_type": "code",
   "execution_count": 9,
   "metadata": {},
   "outputs": [
    {
     "name": "stdout",
     "output_type": "stream",
     "text": [
      "3\n"
     ]
    }
   ],
   "source": [
    "labels = [ 3, 1, 2, 5, 4]\n",
    "obj = Solution()\n",
    "ans = obj.minSwaps(labels)\n",
    "print(ans)"
   ]
  },
  {
   "cell_type": "code",
   "execution_count": null,
   "metadata": {},
   "outputs": [],
   "source": []
  }
 ],
 "metadata": {
  "kernelspec": {
   "display_name": "Python 3.10.8 64-bit",
   "language": "python",
   "name": "python3"
  },
  "language_info": {
   "codemirror_mode": {
    "name": "ipython",
    "version": 3
   },
   "file_extension": ".py",
   "mimetype": "text/x-python",
   "name": "python",
   "nbconvert_exporter": "python",
   "pygments_lexer": "ipython3",
   "version": "3.10.8"
  },
  "orig_nbformat": 4,
  "vscode": {
   "interpreter": {
    "hash": "e7370f93d1d0cde622a1f8e1c04877d8463912d04d973331ad4851f04de6915a"
   }
  }
 },
 "nbformat": 4,
 "nbformat_minor": 2
}
