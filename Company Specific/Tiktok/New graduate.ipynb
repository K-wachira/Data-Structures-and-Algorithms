{
 "cells": [
  {
   "cell_type": "markdown",
   "metadata": {},
   "source": [
    "![image](https://i.imgur.com/gK6wfni.png)\n"
   ]
  },
  {
   "cell_type": "code",
   "execution_count": 59,
   "metadata": {},
   "outputs": [],
   "source": [
    "class Solution():\n",
    "    def maxCandiesCount(self, candies):\n",
    "        alice_candies = candies[0]\n",
    "        bob_candies = 0 \n",
    "        start, end = 1, len(candies)-1 \n",
    "        max_candies= 0\n",
    "        cycle = False\n",
    "        while start <= end: \n",
    "            print(alice_candies,\"--\", bob_candies)\n",
    "            if alice_candies > bob_candies:\n",
    "                bob_candies += candies[end]\n",
    "                end -=1\n",
    "            else:\n",
    "                if alice_candies == bob_candies and bob_candies != 0:\n",
    "                    max_candies +=1 \n",
    "                alice_candies += candies[start]\n",
    "                start +=1 \n",
    "\n",
    "        return max_candies *2 \n"
   ]
  },
  {
   "cell_type": "code",
   "execution_count": 61,
   "metadata": {},
   "outputs": [
    {
     "name": "stdout",
     "output_type": "stream",
     "text": [
      "2 -- 0\n",
      "2 -- 1\n",
      "2 -- 5\n",
      "3 -- 5\n",
      "7 -- 5\n",
      "0\n"
     ]
    }
   ],
   "source": [
    "candies = [ 2,1,4,2,4,1]\n",
    "obj = Solution()\n",
    "ans = obj.maxCandiesCount(candies)\n",
    "print(ans)"
   ]
  },
  {
   "cell_type": "code",
   "execution_count": null,
   "metadata": {},
   "outputs": [],
   "source": [
    "1 2,3,\n",
    "   2, 3, 4, 5, \n",
    "            5, 6 "
   ]
  },
  {
   "cell_type": "code",
   "execution_count": null,
   "metadata": {},
   "outputs": [],
   "source": [
    "mini= 0 \n",
    "maxi =0 \n",
    "for i in tasks: \n",
    "    mini = min( mini, i[0])\n",
    "    maxi = max(maxi, i[1])\n",
    "\n",
    "return maxi - mini"
   ]
  }
 ],
 "metadata": {
  "kernelspec": {
   "display_name": "Python 3.10.8 64-bit",
   "language": "python",
   "name": "python3"
  },
  "language_info": {
   "codemirror_mode": {
    "name": "ipython",
    "version": 3
   },
   "file_extension": ".py",
   "mimetype": "text/x-python",
   "name": "python",
   "nbconvert_exporter": "python",
   "pygments_lexer": "ipython3",
   "version": "3.10.8"
  },
  "orig_nbformat": 4,
  "vscode": {
   "interpreter": {
    "hash": "e7370f93d1d0cde622a1f8e1c04877d8463912d04d973331ad4851f04de6915a"
   }
  }
 },
 "nbformat": 4,
 "nbformat_minor": 2
}
