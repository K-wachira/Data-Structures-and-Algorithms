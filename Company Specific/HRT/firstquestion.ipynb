{
 "cells": [
  {
   "cell_type": "code",
   "execution_count": 7,
   "id": "c1b35140-1e6e-453a-b783-725831252d4a",
   "metadata": {},
   "outputs": [
    {
     "ename": "KeyboardInterrupt",
     "evalue": "",
     "output_type": "error",
     "traceback": [
      "\u001b[0;31m---------------------------------------------------------------------------\u001b[0m",
      "\u001b[0;31mKeyboardInterrupt\u001b[0m                         Traceback (most recent call last)",
      "\u001b[0;32m<ipython-input-7-35f461d4ccbb>\u001b[0m in \u001b[0;36m<module>\u001b[0;34m\u001b[0m\n\u001b[1;32m     34\u001b[0m     \u001b[0;32mreturn\u001b[0m \u001b[0mcount\u001b[0m\u001b[0;34m\u001b[0m\u001b[0;34m\u001b[0m\u001b[0m\n\u001b[1;32m     35\u001b[0m \u001b[0;34m\u001b[0m\u001b[0m\n\u001b[0;32m---> 36\u001b[0;31m \u001b[0mprint\u001b[0m\u001b[0;34m(\u001b[0m\u001b[0mgetvert\u001b[0m\u001b[0;34m(\u001b[0m\u001b[0;34m\"bba\"\u001b[0m\u001b[0;34m)\u001b[0m\u001b[0;34m)\u001b[0m\u001b[0;34m\u001b[0m\u001b[0;34m\u001b[0m\u001b[0m\n\u001b[0m\u001b[1;32m     37\u001b[0m \u001b[0;34m\u001b[0m\u001b[0m\n\u001b[1;32m     38\u001b[0m \u001b[0;34m\u001b[0m\u001b[0m\n",
      "\u001b[0;32m<ipython-input-7-35f461d4ccbb>\u001b[0m in \u001b[0;36mgetvert\u001b[0;34m(string)\u001b[0m\n\u001b[1;32m     23\u001b[0m     \u001b[0mcount\u001b[0m \u001b[0;34m=\u001b[0m \u001b[0;36m0\u001b[0m\u001b[0;34m\u001b[0m\u001b[0;34m\u001b[0m\u001b[0m\n\u001b[1;32m     24\u001b[0m     \u001b[0mon\u001b[0m \u001b[0;34m=\u001b[0m \u001b[0;32mFalse\u001b[0m\u001b[0;34m\u001b[0m\u001b[0;34m\u001b[0m\u001b[0m\n\u001b[0;32m---> 25\u001b[0;31m     \u001b[0;32mwhile\u001b[0m \u001b[0mfast\u001b[0m \u001b[0;34m<\u001b[0m \u001b[0mlen\u001b[0m\u001b[0;34m(\u001b[0m\u001b[0mstring\u001b[0m\u001b[0;34m)\u001b[0m\u001b[0;34m:\u001b[0m\u001b[0;34m\u001b[0m\u001b[0;34m\u001b[0m\u001b[0m\n\u001b[0m\u001b[1;32m     26\u001b[0m \u001b[0;34m\u001b[0m\u001b[0m\n\u001b[1;32m     27\u001b[0m         \u001b[0;32mif\u001b[0m \u001b[0mstring\u001b[0m\u001b[0;34m[\u001b[0m\u001b[0mfast\u001b[0m\u001b[0;34m]\u001b[0m \u001b[0;34m==\u001b[0m \u001b[0mstring\u001b[0m\u001b[0;34m[\u001b[0m\u001b[0mslow\u001b[0m\u001b[0;34m]\u001b[0m \u001b[0;32mand\u001b[0m \u001b[0mon\u001b[0m\u001b[0;34m:\u001b[0m\u001b[0;34m\u001b[0m\u001b[0;34m\u001b[0m\u001b[0m\n",
      "\u001b[0;31mKeyboardInterrupt\u001b[0m: "
     ]
    }
   ],
   "source": [
    "# you can write to stdout for debugging purposes, e.g.\n",
    "# print(\"this is a debug message\")\n",
    "\n",
    "def solution(S, A):\n",
    "    # write your code in Python 3.6\n",
    "    seen=set()\n",
    "    x = len(A)-1\n",
    "    L = set()\n",
    "    while x >= 0:\n",
    "        templetters, tempseen = helper(seen, A, S, x)\n",
    "        L.add(templetters)\n",
    "        seen.add( i for i in tempseen)\n",
    "        x -=1\n",
    "\n",
    "    print(L)\n",
    "        \n",
    "\n",
    "\n",
    "        \n",
    "def getvert(string):\n",
    "    if len(string) == 1: return 0\n",
    "    slow , fast = 0,1\n",
    "    count = 0 \n",
    "    on = False\n",
    "    while fast < len(string):\n",
    "        \n",
    "        if string[fast] == string[slow] and on:\n",
    "            count +=1\n",
    "            on = False\n",
    "        elif string[fast] != string[slow]:\n",
    "            fast+=1\n",
    "            slow+=1\n",
    "            on = True\n",
    "    return count \n",
    "\n",
    "        \n",
    "        \n",
    "    \n",
    "\n",
    "def helper (seen, arr, S, x):\n",
    "\n",
    "    letters = ''\n",
    "    \n",
    "    while x >=0:\n",
    "        print(x)\n",
    "        temp = arr[x]\n",
    "        letters += S[x]\n",
    "        seen.add(x)\n",
    "        x = temp\n",
    "    return (letters, seen)\n",
    "\n",
    "\n",
    "\n",
    "S = 'abbab'\n",
    "A = [-1, 0, 0, 0 ,2]\n",
    "print(solution(S, A))"
   ]
  },
  {
   "cell_type": "code",
   "execution_count": 16,
   "id": "66f319e5-9cb1-4f41-b6d1-85255b306dc3",
   "metadata": {},
   "outputs": [
    {
     "name": "stdout",
     "output_type": "stream",
     "text": [
      "1 0\n",
      "2 1\n",
      "2 1\n",
      "2\n"
     ]
    }
   ],
   "source": [
    "def getvert(string):\n",
    "    if len(string) == 1: return 0\n",
    "    slow , fast = 0,1\n",
    "    count = 0 \n",
    "    on = False\n",
    "    while fast < len(string):\n",
    "        print(fast, slow)\n",
    "        if string[fast] == string[slow] and on:\n",
    "            count +=1\n",
    "            on = False\n",
    "        elif string[fast] != string[slow]:\n",
    "            count +=1\n",
    "            \n",
    "            fast+=1\n",
    "            slow+=1\n",
    "            on = True\n",
    "        else:\n",
    "\n",
    "            fast +=1\n",
    "            slow +=1\n",
    "    return count\n",
    "\n",
    "string = \"abb\"\n",
    "print( getvert(string))"
   ]
  },
  {
   "cell_type": "code",
   "execution_count": null,
   "id": "f4d20ed4-9b11-45a1-9912-2ab420b6dd8e",
   "metadata": {},
   "outputs": [],
   "source": []
  }
 ],
 "metadata": {
  "kernelspec": {
   "display_name": "Python 3",
   "language": "python",
   "name": "python3"
  },
  "language_info": {
   "codemirror_mode": {
    "name": "ipython",
    "version": 3
   },
   "file_extension": ".py",
   "mimetype": "text/x-python",
   "name": "python",
   "nbconvert_exporter": "python",
   "pygments_lexer": "ipython3",
   "version": "3.8.8"
  }
 },
 "nbformat": 4,
 "nbformat_minor": 5
}
