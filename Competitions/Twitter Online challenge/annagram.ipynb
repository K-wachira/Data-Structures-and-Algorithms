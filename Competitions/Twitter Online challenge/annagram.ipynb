{
 "cells": [
  {
   "cell_type": "markdown",
   "metadata": {},
   "source": [
    "Twitter one\n",
    "\n",
    "Minimum Number of Manipulations required to make two Strings Anagram Without Deletion of Character\n",
    "\n",
    "\n",
    "An anagram is a word or phrase formed by rearranging the letters of a different word or phrase, typically using all the original letters exactly once.\n"
   ]
  },
  {
   "cell_type": "markdown",
   "metadata": {},
   "source": [
    "## Using counter \n",
    "\n",
    "Time complexity is O(n) where n is the max len of the two given strings \n",
    "Space complexity is O(n) where n is the max len of the counter dictionaries \n",
    "\n",
    "Create dictionaty with keys as the letters on the dict and values as the counter of the letters \n",
    "\n",
    "loop though the first dictionary and check if the letters appear in the second dictionary and if they do add the abs diff to a counter variable \n",
    "change the values of the two letters to 0 to avoid double counting in the future \n",
    "\n",
    "if they dont add the letters count to the counter variable \n",
    "\n",
    "when done with the fisrt loop, loop though the dictionary adding letters that are in it to the first dictionary "
   ]
  },
  {
   "cell_type": "code",
   "execution_count": null,
   "metadata": {},
   "outputs": [],
   "source": [
    "from collections import Counter\n",
    "class Solution():\n",
    "    def isannagram(self, str1, str2):\n",
    "#         ensure str1 is the smallest when it comes to hash table \n",
    "        if len(set(str2)) < len( set(str1)):\n",
    "            str1, str2 = str2, str1\n",
    "        s1 = Counter(str1)\n",
    "        s2 = Counter(str2)\n",
    "        counter = 0 \n",
    "        \n",
    "        for key, value in s1.items(): \n",
    "            if key in s2.keys():\n",
    "                counter = abs( s2[key] - value)\n",
    "                s2[key] = 0\n",
    "                s1[key] = 0\n",
    "            else:\n",
    "                counter +=value\n",
    "        for val in s2.values():\n",
    "                counter +=val\n",
    "        return counter\n",
    "        \n",
    "obj = Solution()\n",
    "print(obj.isannagram(\"make\", \"male\"))\n",
    "print(obj.isannagram(\"god\", \"dog\"))\n",
    "print(obj.isannagram(\"aaabbc\", \"abc\"))\n",
    "print(obj.isannagram(\"doneit\", \"dink\"))\n",
    "\n",
    "            \n",
    "    "
   ]
  },
  {
   "cell_type": "code",
   "execution_count": null,
   "metadata": {},
   "outputs": [],
   "source": []
  }
 ],
 "metadata": {
  "kernelspec": {
   "display_name": "Python 3",
   "language": "python",
   "name": "python3"
  },
  "language_info": {
   "codemirror_mode": {
    "name": "ipython",
    "version": 3
   },
   "file_extension": ".py",
   "mimetype": "text/x-python",
   "name": "python",
   "nbconvert_exporter": "python",
   "pygments_lexer": "ipython3",
   "version": "3.8.3"
  }
 },
 "nbformat": 4,
 "nbformat_minor": 4
}
