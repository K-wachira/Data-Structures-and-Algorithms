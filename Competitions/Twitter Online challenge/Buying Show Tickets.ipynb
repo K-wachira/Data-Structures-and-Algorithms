{
 "cells": [
  {
   "cell_type": "markdown",
   "metadata": {},
   "source": [
    "Buying Show Tickets\n",
    "\n",
    "There are n people standing in line to buy show tickets.Due to high demand, the venue sells tickets according to the following rules:\n",
    "\n",
    "The person at the head of the line can buy exactly one ticket and must then exit the line.\n",
    "\n",
    "if a person needs to purchase additional tickets,they must re-enter the end of the line and wait to be sold their next ticket(assume exit and re-entry takes zero seconds).\n",
    "\n",
    "Each ticket sale takes exactly one second.\n",
    "\n",
    "We express initial line of n people as an array, tickets = [tickets0, tickets1 ... ticketsN-1], where ticketsi denotes the number of tickets person i wishes to buy.\n",
    "\n",
    "If Jesse is standing at a position p in this line, find out how much time it would take for him to buy all tickets. Complete the waiting time function in the editor below. It has two parameters:\n",
    "\n",
    "An array, tickets, of n positive integers describing initial sequence of people standing in line. Each ticketsi describes number of tickets that a person waiting at initial place.\n",
    "\n",
    "An integer p, denoting Alex's position in tickets.\n",
    "\n",
    "Sample Input 5 [2 ,6 ,3 ,4,  5] 2\n",
    "\n",
    "Sample Output 12\n",
    "\n",
    "\n",
    "\n",
    "Sample Input 4 [5, 5, 2, 3] 3\n",
    "\n",
    "Sample Output 11"
   ]
  },
  {
   "cell_type": "code",
   "execution_count": null,
   "metadata": {},
   "outputs": [],
   "source": []
  },
  {
   "cell_type": "code",
   "execution_count": 14,
   "metadata": {},
   "outputs": [
    {
     "data": {
      "text/plain": [
       "12"
      ]
     },
     "execution_count": 14,
     "metadata": {},
     "output_type": "execute_result"
    }
   ],
   "source": [
    "from collections import deque\n",
    "    \n",
    "class Solutions():\n",
    "    \n",
    "    def bytickets( self, array , P):\n",
    "        \n",
    "        tickets = array[P]\n",
    "        counter = 0\n",
    "        queue = deque([])\n",
    "       \n",
    "        for i, n  in enumerate( array):\n",
    "            if i != P:\n",
    "                queue.append ( ( n, False))\n",
    "            elif i == P:\n",
    "                queue.append( ( n, True))\n",
    "        while True:\n",
    "            tickets , person = queue.popleft()\n",
    "            nextone = tickets -1\n",
    "            counter +=1\n",
    "            if  person : \n",
    "                if nextone == 0: \n",
    "                    return counter\n",
    "                else :\n",
    "                    queue.append( ( nextone , True))\n",
    "            else:\n",
    "                if nextone > 0:\n",
    "                    queue.append( ( nextone , False))\n",
    "obj = Solutions()\n",
    "arr = [2 ,6 ,3 ,4 ,5]\n",
    "P = 2\n",
    "obj.bytickets( arr, P)\n",
    "\n",
    "                    \n"
   ]
  },
  {
   "cell_type": "code",
   "execution_count": null,
   "metadata": {},
   "outputs": [],
   "source": []
  }
 ],
 "metadata": {
  "kernelspec": {
   "display_name": "Python 3",
   "language": "python",
   "name": "python3"
  },
  "language_info": {
   "codemirror_mode": {
    "name": "ipython",
    "version": 3
   },
   "file_extension": ".py",
   "mimetype": "text/x-python",
   "name": "python",
   "nbconvert_exporter": "python",
   "pygments_lexer": "ipython3",
   "version": "3.8.3"
  }
 },
 "nbformat": 4,
 "nbformat_minor": 4
}
