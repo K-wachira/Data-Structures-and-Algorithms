{
 "cells": [
  {
   "cell_type": "markdown",
   "metadata": {},
   "source": [
    "![image](https://i.imgur.com/QgJKe9U.png)"
   ]
  },
  {
   "cell_type": "code",
   "execution_count": 4,
   "metadata": {},
   "outputs": [
    {
     "data": {
      "text/plain": [
       "17"
      ]
     },
     "execution_count": 4,
     "metadata": {},
     "output_type": "execute_result"
    }
   ],
   "source": [
    "class Solution():\n",
    "    def arrUnique(self, array):\n",
    "        \n",
    "        seen = set(array)\n",
    "        seen2 = set()\n",
    "        \n",
    "        for i in array:\n",
    "            if i not in seen2:\n",
    "                seen2.add(i)\n",
    "            else:\n",
    "                seen2.add ( self.incrementor(seen2, i)) \n",
    "        return sum (seen2)\n",
    "                \n",
    "    def incrementor(self, seen, value):\n",
    "        x = value\n",
    "        while x in seen:\n",
    "            x+=1 \n",
    "        return x\n",
    "            \n",
    "        \n",
    "obj = Solution()\n",
    "arr = [3, 2, 1, 2, 7]\n",
    "obj.arrUnique( arr)"
   ]
  },
  {
   "cell_type": "code",
   "execution_count": null,
   "metadata": {},
   "outputs": [],
   "source": []
  }
 ],
 "metadata": {
  "kernelspec": {
   "display_name": "Python 3",
   "language": "python",
   "name": "python3"
  },
  "language_info": {
   "codemirror_mode": {
    "name": "ipython",
    "version": 3
   },
   "file_extension": ".py",
   "mimetype": "text/x-python",
   "name": "python",
   "nbconvert_exporter": "python",
   "pygments_lexer": "ipython3",
   "version": "3.8.3"
  }
 },
 "nbformat": 4,
 "nbformat_minor": 4
}
