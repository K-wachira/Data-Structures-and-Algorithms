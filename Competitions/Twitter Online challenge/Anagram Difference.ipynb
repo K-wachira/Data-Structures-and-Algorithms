{
 "cells": [
  {
   "cell_type": "markdown",
   "metadata": {},
   "source": [
    "![image](https://assets.leetcode.com/users/sunnypatel165/image_1571270788.png)\n",
    "![image](https://assets.leetcode.com/users/sunnypatel165/image_1571270781.png)\n",
    "![image](https://assets.leetcode.com/users/sunnypatel165/image_1571270773.png)"
   ]
  },
  {
   "cell_type": "code",
   "execution_count": 7,
   "metadata": {},
   "outputs": [
    {
     "data": {
      "text/plain": [
       "[-1, 0, 1, 2, 3]"
      ]
     },
     "execution_count": 7,
     "metadata": {},
     "output_type": "execute_result"
    }
   ],
   "source": [
    "class Solution():\n",
    "    def anagramDifference(self, a, b):\n",
    "        out = []\n",
    "        for i in range(len(a) ):\n",
    "            out.append (  self.maxdif( a[i], b[i]) ) \n",
    "        return out \n",
    "        \n",
    "    def maxdif( self, str1, str2):\n",
    "        if len(str1) != len(str2): return -1 \n",
    "        \n",
    "        counter = 0\n",
    "        for i in set(str2):\n",
    "            if i not in str1:\n",
    "                counter +=1 \n",
    "        return counter\n",
    "obj = Solution()\n",
    "a = [\"a\" , \"jk\" , \"abb\" , \"mn\",\"abc\" ]\n",
    "b = [\"bb\", \"kj\" , \"bbc\" ,\"op\", \"def\" ]\n",
    "\n",
    "obj.anagramDifference( a, b )"
   ]
  },
  {
   "cell_type": "code",
   "execution_count": null,
   "metadata": {},
   "outputs": [],
   "source": []
  }
 ],
 "metadata": {
  "kernelspec": {
   "display_name": "Python 3",
   "language": "python",
   "name": "python3"
  },
  "language_info": {
   "codemirror_mode": {
    "name": "ipython",
    "version": 3
   },
   "file_extension": ".py",
   "mimetype": "text/x-python",
   "name": "python",
   "nbconvert_exporter": "python",
   "pygments_lexer": "ipython3",
   "version": "3.8.3"
  }
 },
 "nbformat": 4,
 "nbformat_minor": 4
}
