{
 "cells": [
  {
   "cell_type": "markdown",
   "metadata": {},
   "source": [
    "![image](https://i.imgur.com/0rHuq7N.png)\n",
    "\n",
    "Example 1:\n",
    "\n",
    "Input: [1, 0, 0, 1, 0]\n",
    "\n",
    "Output: 0\n",
    "\n",
    "Explanation:\n",
    "\n",
    "\n",
    "If you answer 0 questions (k = 0) your_result = 0 and your friend_result = -1 (2 correct answers and 3 wrong answers).\n",
    "\n",
    "Example 2:\n",
    "\n",
    "Input: [1, 0, 0, 1, 1]\n",
    "Output: 1\n",
    "\n",
    "Example 3:\n",
    "\n",
    "Input: [1, 1, 1, 0, 1]\n",
    "Output: 2\n"
   ]
  },
  {
   "cell_type": "code",
   "execution_count": 20,
   "metadata": {},
   "outputs": [
    {
     "name": "stdout",
     "output_type": "stream",
     "text": [
      "0 -1\n"
     ]
    },
    {
     "data": {
      "text/plain": [
       "0"
      ]
     },
     "execution_count": 20,
     "metadata": {},
     "output_type": "execute_result"
    }
   ],
   "source": [
    "class Solution():\n",
    "    def results (self, array):\n",
    "        \n",
    "        myresults = 0 \n",
    "        friends_results = self.calc( array)\n",
    "        print(myresults, friends_results)\n",
    "        i = 0 \n",
    "        while myresults <= friends_results: \n",
    "            myresults += array[i]\n",
    "            i +=1 \n",
    "            friends_results =  self.calc(array[i:])\n",
    "        return i\n",
    "    def calc(self, array):\n",
    "        initial  = 0\n",
    "        for i in array:\n",
    "            if i == 0:\n",
    "                initial -=1 \n",
    "            else: initial +=1\n",
    "        return initial\n",
    "obj = Solution()\n",
    "array =  [1, 0, 0, 1, 0]\n",
    "obj.results( array)"
   ]
  },
  {
   "cell_type": "code",
   "execution_count": null,
   "metadata": {},
   "outputs": [],
   "source": []
  }
 ],
 "metadata": {
  "kernelspec": {
   "display_name": "Python 3",
   "language": "python",
   "name": "python3"
  },
  "language_info": {
   "codemirror_mode": {
    "name": "ipython",
    "version": 3
   },
   "file_extension": ".py",
   "mimetype": "text/x-python",
   "name": "python",
   "nbconvert_exporter": "python",
   "pygments_lexer": "ipython3",
   "version": "3.8.3"
  }
 },
 "nbformat": 4,
 "nbformat_minor": 4
}
