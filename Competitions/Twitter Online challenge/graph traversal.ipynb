{
 "cells": [
  {
   "cell_type": "markdown",
   "metadata": {},
   "source": [
    "Twitter two\n",
    "\n",
    "Given that you are at (0, 0) coordinate and you can move one step either up or right. Is it possible to reach some coordinate (x, y). Is yes, then print \"yes\", else \"no\"."
   ]
  },
  {
   "cell_type": "markdown",
   "metadata": {},
   "source": [
    "# Breath first approach \n",
    "\n",
    "\n",
    "use a breath first approach but going though each coordinate on the right (column +1) and on top (row -1 ) and if you get a  coordinate that is more less than the row and more then the given column return False \n",
    "otherwise you are guatanteed to get to the destination \n",
    "\n",
    "this method could be more viable if you were asked to keep track of the shortest path from start to destination if the path exists at all \n",
    "\n"
   ]
  },
  {
   "cell_type": "code",
   "execution_count": 21,
   "metadata": {},
   "outputs": [
    {
     "name": "stdout",
     "output_type": "stream",
     "text": [
      "0 0\n",
      "0 1\n",
      "-1 0\n",
      "0 2\n",
      "-1 1\n",
      "-2 0\n",
      "0 3\n",
      "-1 2\n",
      "-2 1\n",
      "-3 0\n",
      "0 4\n",
      "-1 3\n",
      "-2 2\n",
      "-3 1\n",
      "-4 0\n",
      "0 5\n",
      "-1 4\n",
      "-2 3\n",
      "-3 2\n",
      "-4 1\n",
      "-5 0\n",
      "0 6\n",
      "-1 5\n"
     ]
    },
    {
     "data": {
      "text/plain": [
       "True"
      ]
     },
     "execution_count": 21,
     "metadata": {},
     "output_type": "execute_result"
    }
   ],
   "source": [
    "class Coordinate():\n",
    "    def __init__(self, x,y):\n",
    "        self.x= x\n",
    "        self.y= y\n",
    "        \n",
    "class Solution():\n",
    "    def travel(self, start, destination ):\n",
    "        from collections import deque\n",
    "        queue = deque([start])\n",
    "        seen = set( (start.x, start.y ))\n",
    "        while queue:\n",
    "            curr = queue.popleft()\n",
    "            print (curr.x, curr.y)\n",
    "            if curr.x  == destination.x and curr.y == destination.y: return True\n",
    "            if curr.x < destination.x and curr.y > destination.y: return False \n",
    "            if start.y > destination.y: return False  # if the  destination is on the second quadrant from the starting  point  (anticlockwise)\n",
    "            if start.x < destination.x : return False # if the destination is on the fourth quadrant (anticlockwise)\n",
    "            \n",
    "            right = Coordinate( curr.x , curr.y+ 1)\n",
    "            up = Coordinate( curr.x -1 , curr.y)\n",
    "            directions = [ right , up]\n",
    "            \n",
    "            for i in directions:\n",
    "                if (i.x, i.y ) not in seen:\n",
    "                    queue.append( i )\n",
    "                    seen.add(( i.x, i.y))\n",
    "start = Coordinate(0,0)\n",
    "end = Coordinate(-1, 5)\n",
    "\n",
    "obj = Solution()\n",
    "obj.travel(start, end)"
   ]
  },
  {
   "cell_type": "markdown",
   "metadata": {},
   "source": [
    "# Optimized approach \n",
    "\n",
    "Time complexity is O(1) because there is no looping \n",
    "\n",
    "Space complexity is also O(1) bacuse there is no data structure being used \n",
    "\n",
    "Because we already have a 'preset' path  that is up or right we know that the destination has to be within a specifi direction and thus constrained only to one quadrant when useing the start point of the x and y axis \n",
    "\n"
   ]
  },
  {
   "cell_type": "code",
   "execution_count": 22,
   "metadata": {},
   "outputs": [
    {
     "data": {
      "text/plain": [
       "True"
      ]
     },
     "execution_count": 22,
     "metadata": {},
     "output_type": "execute_result"
    }
   ],
   "source": [
    "class Coordinate():\n",
    "    def __init__(self, x,y):\n",
    "        self.x= x\n",
    "        self.y= y\n",
    "        \n",
    "class Solution():\n",
    "    def travel(self, start, destination ):\n",
    "            if start.x < destination.x and start.y > destination.y: return False \n",
    "            if start.y > destination.y: return False  # if the  destination is on the second quadrant from the starting  point  (anticlockwise)\n",
    "            if start.x < destination.x : return False # if the destination is on the fourth quadrant (anticlockwise)\n",
    "            \n",
    "\n",
    "            return True\n",
    "    \n",
    "\n",
    "start = Coordinate(0,0)\n",
    "end = Coordinate(-1, 5)\n",
    "\n",
    "obj = Solution()\n",
    "obj.travel(start, end)\n"
   ]
  },
  {
   "cell_type": "code",
   "execution_count": null,
   "metadata": {},
   "outputs": [],
   "source": []
  }
 ],
 "metadata": {
  "kernelspec": {
   "display_name": "Python 3",
   "language": "python",
   "name": "python3"
  },
  "language_info": {
   "codemirror_mode": {
    "name": "ipython",
    "version": 3
   },
   "file_extension": ".py",
   "mimetype": "text/x-python",
   "name": "python",
   "nbconvert_exporter": "python",
   "pygments_lexer": "ipython3",
   "version": "3.8.3"
  }
 },
 "nbformat": 4,
 "nbformat_minor": 4
}
