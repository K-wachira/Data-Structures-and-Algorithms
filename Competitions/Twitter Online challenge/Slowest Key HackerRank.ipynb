{
 "cells": [
  {
   "cell_type": "markdown",
   "metadata": {},
   "source": [
    "![image](https://miro.medium.com/max/700/1*jYYknPqHEcf5DWpPNif2kg.png)"
   ]
  },
  {
   "cell_type": "markdown",
   "metadata": {},
   "source": [
    "# Approach \n",
    "\n",
    "Loop though the whole imput while maintaining a tuple of the slowest key press and its time taken \n",
    "\n",
    "Create a map of number and letters \n"
   ]
  },
  {
   "cell_type": "code",
   "execution_count": 21,
   "metadata": {},
   "outputs": [
    {
     "name": "stdout",
     "output_type": "stream",
     "text": [
      "{0: 'a', 1: 'b', 2: 'c', 3: 'd', 4: 'e', 5: 'f', 6: 'g', 7: 'h', 8: 'i', 9: 'j', 10: 'k', 11: 'l', 12: 'm', 13: 'n', 14: 'o', 15: 'p', 16: 'q', 17: 'r', 18: 's', 19: 't', 20: 'u', 21: 'v', 22: 'w', 23: 'x', 24: 'y', 25: 'z'}\n",
      "2\n",
      "5 2\n",
      "5\n",
      "9 5\n",
      "5\n",
      "15 9\n"
     ]
    },
    {
     "data": {
      "text/plain": [
       "'c'"
      ]
     },
     "execution_count": 21,
     "metadata": {},
     "output_type": "execute_result"
    }
   ],
   "source": [
    "import string\n",
    "class Solution():\n",
    "\n",
    "    def slowestkeypress(self, keytimes):\n",
    "        dicf = {}\n",
    "        \n",
    "        for i in range(25+1):\n",
    "            dicf[i] = string.ascii_lowercase[i]\n",
    "        print(dicf)\n",
    "        \n",
    "        currentmax = keytimes[0]\n",
    "        \n",
    "        for i in range(1, len(keytimes)):\n",
    "            print(currentmax[1])\n",
    "            print( keytimes[i][1] , keytimes[i-1][1] )\n",
    "            \n",
    "            if keytimes[i][1] - keytimes[i-1][1] > currentmax[1]:\n",
    "                currentmax = keytimes[i]\n",
    "        return dicf[currentmax[0]]\n",
    "    \n",
    "    \n",
    "obj = Solution()\n",
    "obj.slowestkeypress([  [0,2], [1,5], [0, 9], [2,15] ] )"
   ]
  },
  {
   "cell_type": "code",
   "execution_count": null,
   "metadata": {},
   "outputs": [],
   "source": []
  }
 ],
 "metadata": {
  "kernelspec": {
   "display_name": "Python 3",
   "language": "python",
   "name": "python3"
  },
  "language_info": {
   "codemirror_mode": {
    "name": "ipython",
    "version": 3
   },
   "file_extension": ".py",
   "mimetype": "text/x-python",
   "name": "python",
   "nbconvert_exporter": "python",
   "pygments_lexer": "ipython3",
   "version": "3.8.3"
  }
 },
 "nbformat": 4,
 "nbformat_minor": 4
}
