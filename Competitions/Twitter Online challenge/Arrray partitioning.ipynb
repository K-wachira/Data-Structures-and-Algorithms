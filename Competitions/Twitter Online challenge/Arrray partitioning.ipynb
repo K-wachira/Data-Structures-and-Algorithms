{
 "cells": [
  {
   "cell_type": "markdown",
   "metadata": {},
   "source": [
    "![image](https://i.imgur.com/IMFiBj1.png)"
   ]
  },
  {
   "cell_type": "code",
   "execution_count": 19,
   "metadata": {},
   "outputs": [
    {
     "name": "stdout",
     "output_type": "stream",
     "text": [
      "{1, 2}\n",
      "{3, 4}\n",
      "{5, 6}\n"
     ]
    },
    {
     "data": {
      "text/plain": [
       "'Yes'"
      ]
     },
     "execution_count": 19,
     "metadata": {},
     "output_type": "execute_result"
    }
   ],
   "source": [
    "class Solution():\n",
    "    \n",
    "    def partitioningArray(self, array, k):\n",
    "        i = 0 \n",
    "        counter = 0 \n",
    "        windows = 0\n",
    "        window = set()\n",
    "        while i <= len(array)-1:\n",
    "            while array[i] not in window and windows < k :\n",
    "                windows +=1\n",
    "                window.add(array[i])\n",
    "                i+=1\n",
    "                if i > len(array)-1:\n",
    "                    break\n",
    "            print(window)\n",
    "\n",
    "            if windows != k:\n",
    "                return \"No\"\n",
    "            else: \n",
    "                windows = 0 \n",
    "                window.clear()\n",
    "        return \"Yes\"\n",
    "\n",
    "            \n",
    "obj = Solution()\n",
    "obj.partitioningArray( [1,2,3,4,5,6], 2)"
   ]
  },
  {
   "cell_type": "code",
   "execution_count": null,
   "metadata": {},
   "outputs": [],
   "source": [
    "def solve(k, numbers):\n",
    "    # Write your code here\n",
    "    i = 0 \n",
    "    counter = 0 \n",
    "    windowsize = 0 \n",
    "    window = set()\n",
    "    \n",
    "    while i <= len(numbers)-1:\n",
    "        while numbers[i]  not in window and windowsize <k:\n",
    "            windowsize +=1 \n",
    "            window.add(numbers[i])\n",
    "            i+=1 \n",
    "            if i > len(numbers) -1:\n",
    "                break\n",
    "        if windowsize != k:\n",
    "            return \"No\"\n",
    "        else:\n",
    "            windowsize = 0 \n",
    "            window.clear()\n",
    "    return \"Yes\" \n",
    "                "
   ]
  }
 ],
 "metadata": {
  "kernelspec": {
   "display_name": "Python 3",
   "language": "python",
   "name": "python3"
  },
  "language_info": {
   "codemirror_mode": {
    "name": "ipython",
    "version": 3
   },
   "file_extension": ".py",
   "mimetype": "text/x-python",
   "name": "python",
   "nbconvert_exporter": "python",
   "pygments_lexer": "ipython3",
   "version": "3.8.3"
  }
 },
 "nbformat": 4,
 "nbformat_minor": 4
}
