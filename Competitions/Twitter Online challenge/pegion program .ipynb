{
 "cells": [
  {
   "cell_type": "markdown",
   "metadata": {},
   "source": [
    "![image](https://assets.leetcode.com/users/mithunjmistry/image_1567573596.png)"
   ]
  },
  {
   "cell_type": "code",
   "execution_count": null,
   "metadata": {},
   "outputs": [],
   "source": [
    "task ... a task is processed in double the actual duration \n",
    "every task has a weight \n",
    "\n",
    "a pegion has a maximum runtime \n",
    "\n",
    "eg given \n",
    "taks =  [ 2,2, 3,4]\n",
    "\n",
    "weights = [2, 4, 4, 5]\n",
    "max_runtime = 15\n",
    "\n",
    "\n",
    "newtime = [ 4, 4, 6, 8]\n",
    "new max_time= 14\n"
   ]
  },
  {
   "cell_type": "code",
   "execution_count": 60,
   "metadata": {},
   "outputs": [
    {
     "data": {
      "text/plain": [
       "10"
      ]
     },
     "execution_count": 60,
     "metadata": {},
     "output_type": "execute_result"
    }
   ],
   "source": [
    "class Solution():\n",
    "    def maximumTotalWeight ( self, task, weights , runtime ):\n",
    "        \n",
    "        newtasks = []\n",
    "        newruntime = 0\n",
    "        newmax = 0\n",
    "        for i in task: \n",
    "            newtasks.append(i*2)\n",
    "        newruntime = self.maxFinder(newtasks, runtime)\n",
    "        task = sorted(weights)\n",
    "        newmax = sum (weights)\n",
    "        return self.maxFinder( weights, newruntime)\n",
    "    def maxFinder(self, arr, currmax):\n",
    "        tempsum = sum(arr)\n",
    "        newarr = sorted(arr) #nlogn\n",
    "        \n",
    "        while tempsum > currmax:\n",
    "            tempsum -= newarr[-1]\n",
    "            newarr.pop()\n",
    "        return tempsum\n",
    "        \n",
    "      \n",
    "obj = Solution()\n",
    "task = [ 2,2, 3,4]\n",
    "weights = [2, 4, 4, 5]\n",
    "runtime = 15\n",
    "obj.maximumTotalWeight(task, weights , runtime )"
   ]
  },
  {
   "cell_type": "code",
   "execution_count": 11,
   "metadata": {},
   "outputs": [
    {
     "data": {
      "text/plain": [
       "10"
      ]
     },
     "execution_count": 11,
     "metadata": {},
     "output_type": "execute_result"
    }
   ],
   "source": [
    "def maximumTotalWeight(weights, tasks, p):\n",
    "    # Write your code here\n",
    "    newtasks = [ ]\n",
    "    newruntime = 0 \n",
    "    newmax = 0 \n",
    "    for i in tasks:\n",
    "        newtasks.append(i*2)\n",
    "        \n",
    "    newruntime = maxFinder( newtasks, p)\n",
    "    weights = sorted(weights)\n",
    "    newmax = sum(weights)\n",
    "    return maxFinder( weights, newruntime)\n",
    "    \n",
    "def maxFinder( arr, currmax):\n",
    "    tempsum = sum(arr)\n",
    "    newarr = sorted(arr) #nlogn\n",
    "    \n",
    "    while tempsum > currmax:\n",
    "        tempsum -= newarr[-1]\n",
    "        newarr.pop()\n",
    "    return tempsum\n",
    "\n",
    "\n",
    "weights = [2,4,4,5]\n",
    "tasks= [2,2,3,4]\n",
    "p = \n",
    "maximumTotalWeight(weights, tasks, p)"
   ]
  },
  {
   "cell_type": "code",
   "execution_count": 52,
   "metadata": {},
   "outputs": [
    {
     "name": "stdout",
     "output_type": "stream",
     "text": [
      "mokkori\n"
     ]
    },
    {
     "data": {
      "text/plain": [
       "7"
      ]
     },
     "execution_count": 52,
     "metadata": {},
     "output_type": "execute_result"
    }
   ],
   "source": [
    "\n",
    "def palindrome(s):\n",
    "    # Write your code here\n",
    "    # generate substrings \n",
    "    print(s)\n",
    "    m = len(s)\n",
    "    counter = 0\n",
    "    seen = set()\n",
    "    out = []\n",
    "    for i in range(m):\n",
    "        k = i\n",
    "        while k <= m:\n",
    "            string = s[i:k]\n",
    "            seen.add(string)  \n",
    "            k+=1\n",
    "    for i in seen:\n",
    "        if i == i[::-1] and i != \"\":\n",
    "            out.append(i)\n",
    "            \n",
    "#     print(len(seen))\n",
    "    return len(out) \n",
    "            \n",
    "    \n",
    "s = \"mokkori\"\n",
    "\n",
    "palindrome(s)"
   ]
  },
  {
   "cell_type": "code",
   "execution_count": 38,
   "metadata": {},
   "outputs": [
    {
     "ename": "NameError",
     "evalue": "name 'xrange' is not defined",
     "output_type": "error",
     "traceback": [
      "\u001b[0;31m---------------------------------------------------------------------------\u001b[0m",
      "\u001b[0;31mNameError\u001b[0m                                 Traceback (most recent call last)",
      "\u001b[0;32m<ipython-input-38-93059c29a46e>\u001b[0m in \u001b[0;36m<module>\u001b[0;34m\u001b[0m\n\u001b[1;32m     45\u001b[0m         \u001b[0mm\u001b[0m\u001b[0;34m[\u001b[0m\u001b[0ms\u001b[0m\u001b[0;34m[\u001b[0m\u001b[0mi\u001b[0m\u001b[0;34m]\u001b[0m\u001b[0;34m]\u001b[0m \u001b[0;34m=\u001b[0m \u001b[0;36m1\u001b[0m\u001b[0;34m\u001b[0m\u001b[0;34m\u001b[0m\u001b[0m\n\u001b[1;32m     46\u001b[0m \u001b[0;34m\u001b[0m\u001b[0m\n\u001b[0;32m---> 47\u001b[0;31m \u001b[0mpalindromeSubStrs\u001b[0m\u001b[0;34m(\u001b[0m\u001b[0ms\u001b[0m\u001b[0;34m)\u001b[0m\u001b[0;34m\u001b[0m\u001b[0;34m\u001b[0m\u001b[0m\n\u001b[0m",
      "\u001b[0;32m<ipython-input-38-93059c29a46e>\u001b[0m in \u001b[0;36mpalindromeSubStrs\u001b[0;34m(s)\u001b[0m\n\u001b[1;32m      5\u001b[0m     \u001b[0;31m# table for storing results (2 rows for odd-\u001b[0m\u001b[0;34m\u001b[0m\u001b[0;34m\u001b[0m\u001b[0;34m\u001b[0m\u001b[0m\n\u001b[1;32m      6\u001b[0m     \u001b[0;31m# and even-length palindromes\u001b[0m\u001b[0;34m\u001b[0m\u001b[0;34m\u001b[0m\u001b[0;34m\u001b[0m\u001b[0m\n\u001b[0;32m----> 7\u001b[0;31m     \u001b[0mR\u001b[0m \u001b[0;34m=\u001b[0m \u001b[0;34m[\u001b[0m\u001b[0;34m[\u001b[0m\u001b[0;36m0\u001b[0m \u001b[0;32mfor\u001b[0m \u001b[0mx\u001b[0m \u001b[0;32min\u001b[0m \u001b[0mxrange\u001b[0m\u001b[0;34m(\u001b[0m\u001b[0mn\u001b[0m\u001b[0;34m+\u001b[0m\u001b[0;36m1\u001b[0m\u001b[0;34m)\u001b[0m\u001b[0;34m]\u001b[0m \u001b[0;32mfor\u001b[0m \u001b[0mx\u001b[0m \u001b[0;32min\u001b[0m \u001b[0mxrange\u001b[0m\u001b[0;34m(\u001b[0m\u001b[0;36m2\u001b[0m\u001b[0;34m)\u001b[0m\u001b[0;34m]\u001b[0m\u001b[0;34m\u001b[0m\u001b[0;34m\u001b[0m\u001b[0m\n\u001b[0m\u001b[1;32m      8\u001b[0m \u001b[0;34m\u001b[0m\u001b[0m\n\u001b[1;32m      9\u001b[0m     \u001b[0;31m# Find all sub-string palindromes from the given input\u001b[0m\u001b[0;34m\u001b[0m\u001b[0;34m\u001b[0m\u001b[0;34m\u001b[0m\u001b[0m\n",
      "\u001b[0;31mNameError\u001b[0m: name 'xrange' is not defined"
     ]
    }
   ],
   "source": [
    "def palindromeSubStrs(s): \n",
    "    m = dict() \n",
    "    n = len(s) \n",
    "  \n",
    "    # table for storing results (2 rows for odd- \n",
    "    # and even-length palindromes \n",
    "    R = [[0 for x in xrange(n+1)] for x in xrange(2)] \n",
    "  \n",
    "    # Find all sub-string palindromes from the given input \n",
    "    # string insert 'guards' to iterate easily over s \n",
    "    s = \"@\" + s + \"#\"\n",
    "  \n",
    "    for j in xrange(2): \n",
    "        rp = 0    # length of 'palindrome radius' \n",
    "        R[j][0] = 0\n",
    "  \n",
    "        i = 1\n",
    "        while i <= n: \n",
    "  \n",
    "            # Attempt to expand palindrome centered at i \n",
    "            while s[i - rp - 1] == s[i + j + rp]: \n",
    "                rp += 1 # Incrementing the length of palindromic \n",
    "                        # radius as and when we find valid palindrome \n",
    "  \n",
    "            # Assigning the found palindromic length to odd/even \n",
    "            # length array \n",
    "            R[j][i] = rp \n",
    "            k = 1\n",
    "            while (R[j][i - k] != rp - k) and (k < rp): \n",
    "                R[j][i+k] = min(R[j][i-k], rp - k) \n",
    "                k += 1\n",
    "            rp = max(rp - k, 0) \n",
    "            i += k \n",
    "  \n",
    "    # remove guards \n",
    "    s = s[1:len(s)-1] \n",
    "  \n",
    "    # Put all obtained palindromes in a hash map to \n",
    "    # find only distinct palindrome \n",
    "    m[s[0]] = 1\n",
    "    for i in xrange(1,n): \n",
    "        for j in xrange(2): \n",
    "            for rp in xrange(R[j][i],0,-1): \n",
    "                m[s[i - rp - 1 : i - rp - 1 + 2 * rp + j]] = 1\n",
    "        m[s[i]] = 1\n",
    "\n",
    "palindromeSubStrs(s)"
   ]
  },
  {
   "cell_type": "code",
   "execution_count": null,
   "metadata": {},
   "outputs": [],
   "source": []
  }
 ],
 "metadata": {
  "kernelspec": {
   "display_name": "Python 3",
   "language": "python",
   "name": "python3"
  },
  "language_info": {
   "codemirror_mode": {
    "name": "ipython",
    "version": 3
   },
   "file_extension": ".py",
   "mimetype": "text/x-python",
   "name": "python",
   "nbconvert_exporter": "python",
   "pygments_lexer": "ipython3",
   "version": "3.8.3"
  }
 },
 "nbformat": 4,
 "nbformat_minor": 4
}
