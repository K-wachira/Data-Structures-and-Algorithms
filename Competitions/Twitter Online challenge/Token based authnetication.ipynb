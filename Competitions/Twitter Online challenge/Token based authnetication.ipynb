{
 "cells": [
  {
   "cell_type": "markdown",
   "metadata": {},
   "source": [
    "Twitter 3\n",
    "\n",
    "![image](https://i.imgur.com/uhAnnYc.jpg)"
   ]
  },
  {
   "cell_type": "markdown",
   "metadata": {},
   "source": [
    "Time complexity will be O(n) where n is the len of the 2D array ( commands )\n",
    "\n",
    "Space complexity will also be 0(n) where n is the number of unique tokens given "
   ]
  },
  {
   "cell_type": "code",
   "execution_count": 15,
   "metadata": {},
   "outputs": [
    {
     "name": "stdout",
     "output_type": "stream",
     "text": [
      "5 5\n",
      "7 6\n",
      "{1: 9, 2: 0}\n"
     ]
    },
    {
     "data": {
      "text/plain": [
       "{1}"
      ]
     },
     "execution_count": 15,
     "metadata": {},
     "output_type": "execute_result"
    }
   ],
   "source": [
    "# Commands in a 2d array of inputs\n",
    "# command [0,1,1] =>  \n",
    "# command[0] zero means get token and 1 means reset token \n",
    "# command[1] gets the token ID \n",
    "# command[2] gets the time of the request to reset the token\n",
    "# we have to maintain the token id and rest time for each token \n",
    "# Commands => [ [0,1,1], [0,2,2], [1,1,5], [1,2,7] ]\n",
    "class Solution():\n",
    "    def get_token_id(self, token): # returns whethere a token is valid or not i.e 1/0\n",
    "        pass\n",
    "        \n",
    "    def reset_token_id(self, tokens): # updates the list of tokens \n",
    "        pass\n",
    "    \n",
    "    \n",
    "    def solver(self, commands, expiryLimit ):\n",
    "        \n",
    "        dictf = {} # takes token id and timefor reaset\n",
    "        active_tokens = set()\n",
    "        for index , token in enumerate ( commands ):\n",
    "            token_id = token[1]\n",
    "            token_ex_time = token[2] # this is supposed to be query time or time the request is sent \n",
    "            if token[0] == 0: \n",
    "                dictf[token_id] = expiryLimit + token_ex_time\n",
    "                active_tokens.add( token_id )\n",
    "            elif token[0] == 1:\n",
    "                # check if its below time ...if so remove  it from seen \n",
    "                # if not update its value in dict \n",
    "                if token_id in dictf:\n",
    "                    print( token_ex_time , dictf[token_id] )\n",
    "                    if token_ex_time > dictf[token_id]:\n",
    "                            dictf[token_id] = 0\n",
    "                            active_tokens.remove(token_id)\n",
    "                    elif token_ex_time <= dictf[token_id]:\n",
    "                            dictf[token_id] =  token_ex_time + expiryLimit \n",
    "        print(dictf)\n",
    "        return active_tokens\n",
    "                                    \n",
    "obj = Solution()\n",
    "commands = [ [0,1,1], [0,2,2], [1,1,5], [1,2,7] ]\n",
    "exp = 4\n",
    "obj.solver( commands, exp)\n",
    "        \n"
   ]
  },
  {
   "cell_type": "code",
   "execution_count": null,
   "metadata": {},
   "outputs": [],
   "source": []
  }
 ],
 "metadata": {
  "kernelspec": {
   "display_name": "Python 3",
   "language": "python",
   "name": "python3"
  },
  "language_info": {
   "codemirror_mode": {
    "name": "ipython",
    "version": 3
   },
   "file_extension": ".py",
   "mimetype": "text/x-python",
   "name": "python",
   "nbconvert_exporter": "python",
   "pygments_lexer": "ipython3",
   "version": "3.8.3"
  }
 },
 "nbformat": 4,
 "nbformat_minor": 4
}
