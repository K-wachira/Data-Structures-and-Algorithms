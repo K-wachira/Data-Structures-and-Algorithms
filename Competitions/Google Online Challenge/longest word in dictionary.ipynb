{
 "cells": [
  {
   "cell_type": "code",
   "execution_count": null,
   "metadata": {},
   "outputs": [],
   "source": [
    "Find longest word in dictionary that is a subsequence of a given string \n",
    "\n",
    "\n",
    "\n"
   ]
  },
  {
   "cell_type": "code",
   "execution_count": 2,
   "metadata": {},
   "outputs": [
    {
     "name": "stdout",
     "output_type": "stream",
     "text": [
      "{'ale', 'apple', 'able', 'bale'}\n",
      "apple\n"
     ]
    }
   ],
   "source": [
    "\n",
    "S = \"abppplee\"\n",
    "D = {\"able\", \"ale\", \"apple\", \"bale\", \"kangaroo\"}\n",
    "D2 = set()\n",
    "\n",
    "#remove all words in D that have letters not in S\n",
    "for j in D:\n",
    "    add = True\n",
    "    for k in j:\n",
    "        if k not in S: \n",
    "            add = False            \n",
    "    if add:\n",
    "        D2.add(j)\n",
    "\n",
    "prev = 0\n",
    "Validwords =set()\n",
    "# loop through D and check if a word is valid\n",
    "for word in sorted(D2, key =lambda w: len(w), reverse=True):\n",
    "    Valid = True\n",
    "    for j in word:\n",
    "        if j in S[prev:]:\n",
    "            prev= S.index(j)\n",
    "        else: \n",
    "            Valid = False\n",
    "            break\n",
    "    prev = 0\n",
    "    if Valid: # if a word is valid return it and break the loop \n",
    "        print(word)\n",
    "        break\n",
    "\n",
    "\n",
    "\n"
   ]
  },
  {
   "cell_type": "code",
   "execution_count": null,
   "metadata": {},
   "outputs": [],
   "source": [
    "#!/usr/bin/env python\n",
    "import collections\n",
    "import sys\n",
    "def find_longest_word_in_string(letters, words):\n",
    "    letter_positions = collections.defaultdict(list)\n",
    "    # For each letter in 'letters', collect all the indices at which it appears.\n",
    "    # O(#letters) space and speed.\n",
    "    for index, letter in enumerate(letters):\n",
    "        letter_positions[letter].append(index)\n",
    "    # For words, in descending order by length...\n",
    "    # Bails out early on first matched word, and within word on\n",
    "    # impossible letter/position combinations, but worst case is\n",
    "    # O(#words # avg-len) * O(#letters / 26) time; constant space.\n",
    "    # With some work, could be O(#W * avg-len) * log2(#letters/26)\n",
    "    # But since binary search has more overhead\n",
    "    # than simple iteration, log2(#letters) is about as \n",
    "    # expensive as simple iterations as long as \n",
    "    # the length of the arrays for each letter is\n",
    "    # “small”.  If letters are randomly present in the\n",
    "    # search string, the log2 is about equal in speed to simple traversal\n",
    "    # up to lengths of a few hundred characters.              \n",
    "    for word in sorted(words, key=lambda w: len(w), reverse=True):\n",
    "        pos = 0\n",
    "        for letter in word:\n",
    "            if letter not in letter_positions:\n",
    "                break\n",
    "        # Find any remaining valid positions in search string where this\n",
    "        # letter appears.  It would be better to do this with binary search,\n",
    "        # but this is very Python-ic.\n",
    "        possible_positions = [p for p in letter_positions[letter] if p >= pos]\n",
    "        if not possible_positions:\n",
    "            break\n",
    "        pos = possible_positions[0] + 1\n",
    "        else:\n",
    "            # We didn't break out of the loop, so all letters have valid positions  \n",
    "            return word\n",
    "if __name__ == '__main__':\n",
    "    print subdict(sys.argv[1], sys.argv[2:])\n"
   ]
  }
 ],
 "metadata": {
  "kernelspec": {
   "display_name": "Python 3",
   "language": "python",
   "name": "python3"
  },
  "language_info": {
   "codemirror_mode": {
    "name": "ipython",
    "version": 3
   },
   "file_extension": ".py",
   "mimetype": "text/x-python",
   "name": "python",
   "nbconvert_exporter": "python",
   "pygments_lexer": "ipython3",
   "version": "3.8.3"
  }
 },
 "nbformat": 4,
 "nbformat_minor": 4
}
