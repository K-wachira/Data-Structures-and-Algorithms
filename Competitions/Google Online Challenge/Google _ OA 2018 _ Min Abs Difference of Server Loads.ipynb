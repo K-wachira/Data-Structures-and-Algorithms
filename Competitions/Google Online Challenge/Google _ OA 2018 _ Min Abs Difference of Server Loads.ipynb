{
 "cells": [
  {
   "cell_type": "code",
   "execution_count": null,
   "metadata": {
    "tags": [
     "Unfinnished"
    ]
   },
   "outputs": [],
   "source": [
    "Google | OA 2018 | Min Abs Difference of Server Loads"
   ]
  }
 ],
 "metadata": {
  "kernelspec": {
   "display_name": "Python 3",
   "language": "python",
   "name": "python3"
  },
  "language_info": {
   "codemirror_mode": {
    "name": "ipython",
    "version": 3
   },
   "file_extension": ".py",
   "mimetype": "text/x-python",
   "name": "python",
   "nbconvert_exporter": "python",
   "pygments_lexer": "ipython3",
   "version": "3.8.3"
  }
 },
 "nbformat": 4,
 "nbformat_minor": 4
}
