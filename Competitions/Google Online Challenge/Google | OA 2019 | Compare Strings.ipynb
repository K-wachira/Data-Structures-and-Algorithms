{
 "cells": [
  {
   "cell_type": "markdown",
   "metadata": {},
   "source": [
    "# Google | OA 2019 | Compare Strings\n",
    "\n",
    "[Question Link](https://leetcode.com/discuss/interview-question/352458/)\n",
    "\n",
    "![image.png](https://assets.leetcode.com/users/sithis/image_1563485161.png)\n",
    "![image.png](https://assets.leetcode.com/users/sithis/image_1563485166.png)"
   ]
  },
  {
   "cell_type": "code",
   "execution_count": 62,
   "metadata": {},
   "outputs": [
    {
     "data": {
      "text/plain": [
       "[3, 2]"
      ]
     },
     "execution_count": 62,
     "metadata": {},
     "output_type": "execute_result"
    }
   ],
   "source": [
    "def solution(A, B):\n",
    "        stringa = A.split(\",\")\n",
    "        stringb = B.split(\",\")\n",
    "        stringz =[]\n",
    "        stringw = []\n",
    "        for x in stringa:\n",
    "            stra = []\n",
    "            for j in x:\n",
    "                stra.append(j)\n",
    "            stringz.append(stra)\n",
    "        for x in stringb:\n",
    "            stra = []\n",
    "            for j in x:\n",
    "                stra.append(j)\n",
    "            stringw.append(stra)\n",
    "\n",
    "        toreturn= [] \n",
    "        for i in range((min(len(stringz), len(stringw)))):\n",
    "            mincommon = [value for value in stringz[i] if value in stringw[i]]\n",
    "            minx = min(mincommon)\n",
    "            toreturn.append(max(stringz[i].count(minx), stringw[i].count(minx)))\n",
    "        return toreturn\n",
    "\n",
    "\n",
    "\n",
    "A = 'abcd,aabc,bd'\n",
    "B = 'aaa ,aa'    \n",
    "solution(A, B)\n",
    "\n",
    "\n"
   ]
  },
  {
   "cell_type": "code",
   "execution_count": 52,
   "metadata": {},
   "outputs": [
    {
     "name": "stdout",
     "output_type": "stream",
     "text": [
      "4\n"
     ]
    }
   ],
   "source": [
    "araay = [1,1,1,1]\n",
    "print(araay.count(1))"
   ]
  },
  {
   "cell_type": "code",
   "execution_count": 70,
   "metadata": {},
   "outputs": [
    {
     "name": "stdout",
     "output_type": "stream",
     "text": [
      "[3, 2]\n"
     ]
    }
   ],
   "source": [
    "from collections import defaultdict\n",
    "def compare_st1(A, B):\n",
    "\n",
    "    wordA = A.split(\" \")\n",
    "    wordB = B.split(\" \")\n",
    "    freqC = defaultdict(int)\n",
    "    result = []\n",
    "\n",
    "    for a1 in wordA:\n",
    "        min_freq = a1.count(min(a1))\n",
    "        freqC[min_freq] = freqC[min_freq] + 1\n",
    "\n",
    "    for b1 in wordB:\n",
    "        min_f2 = b1.count(min(b1))\n",
    "        result.append(sum([freqC[m] for m in range(1, min_f2)]))\n",
    "    return result\n",
    "\n",
    "A = 'abcd aabc bd'\n",
    "B = 'aaa aa'\n",
    "out1=compare_st1(A, B)\n",
    "print(out1)"
   ]
  },
  {
   "cell_type": "code",
   "execution_count": null,
   "metadata": {},
   "outputs": [],
   "source": []
  }
 ],
 "metadata": {
  "kernelspec": {
   "display_name": "Python 3",
   "language": "python",
   "name": "python3"
  },
  "language_info": {
   "codemirror_mode": {
    "name": "ipython",
    "version": 3
   },
   "file_extension": ".py",
   "mimetype": "text/x-python",
   "name": "python",
   "nbconvert_exporter": "python",
   "pygments_lexer": "ipython3",
   "version": "3.8.3"
  }
 },
 "nbformat": 4,
 "nbformat_minor": 4
}
