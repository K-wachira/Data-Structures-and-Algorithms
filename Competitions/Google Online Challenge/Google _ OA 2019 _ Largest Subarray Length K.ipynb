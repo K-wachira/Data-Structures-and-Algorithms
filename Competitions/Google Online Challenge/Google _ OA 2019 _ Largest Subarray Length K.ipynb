{
 "cells": [
  {
   "cell_type": "markdown",
   "metadata": {},
   "source": [
    "# Google | OA 2019 | Largest Subarray Length K\n",
    "\n",
    "[Question Link](https://leetcode.com/discuss/interview-question/352459/)\n",
    "\n",
    "![image.png](https://assets.leetcode.com/users/sithis/image_1563485177.png)\n",
    "![image.png](https://assets.leetcode.com/users/sithis/image_1563485206.png)\n",
    "\n",
    "\n"
   ]
  },
  {
   "cell_type": "code",
   "execution_count": 14,
   "metadata": {},
   "outputs": [
    {
     "data": {
      "text/plain": [
       "[5, 10, 11, 12]"
      ]
     },
     "execution_count": 14,
     "metadata": {},
     "output_type": "execute_result"
    }
   ],
   "source": [
    "def solver(A, K):\n",
    "    ArrayA = A[:K]\n",
    "    ArrayB = A[::-1][:K]\n",
    "    A =(ArrayA)\n",
    "    B =(ArrayB[::-1])\n",
    "    \n",
    "    for i in range(K):\n",
    "        if A[i] > B[i]:\n",
    "            return A\n",
    "        elif A[i] < B[i]:\n",
    "            return B\n",
    "A =[1,4,3,2,5,6,4,3,5,10,11,12]   \n",
    "K = 4\n",
    "solver(A, K)"
   ]
  },
  {
   "cell_type": "code",
   "execution_count": 13,
   "metadata": {},
   "outputs": [
    {
     "data": {
      "text/plain": [
       "[6, 4, 3, 5]"
      ]
     },
     "execution_count": 13,
     "metadata": {},
     "output_type": "execute_result"
    }
   ],
   "source": [
    "def largest_subarray(a, k):\n",
    "  # store first starting index for a subarray as the largest, since 'a' will always be <= 'k'\n",
    "  first_idx = 0\n",
    "  # check indices where a subarray of size k can be made\n",
    "  for x in range(1, len(a) - k + 1):\n",
    "    # replace the largest first index if a larger value is found\n",
    "    if a[first_idx] < a[x]:\n",
    "      first_idx = x\n",
    "\n",
    "  # return subarray starting at that largest possible first index with size k\n",
    "  return a[first_idx:first_idx+k]\n",
    "a =[1,4,3,2,5,6,4,3,5,10,11,12]      \n",
    "k = 4\n",
    "largest_subarray(a, k)"
   ]
  },
  {
   "cell_type": "code",
   "execution_count": 16,
   "metadata": {},
   "outputs": [
    {
     "data": {
      "text/plain": [
       "[6, 4, 3, 5]"
      ]
     },
     "execution_count": 16,
     "metadata": {},
     "output_type": "execute_result"
    }
   ],
   "source": [
    "def solver(A, K):\n",
    "    first_index = 0\n",
    "    maxindex = 0\n",
    "    for i in range(len(A)-k):\n",
    "        if A[i] > maxindex:\n",
    "            maxindex = A[i]\n",
    "            first_index = i\n",
    "            \n",
    "    return A[first_index:K+first_index]\n",
    "\n",
    "A =[1,4,3,2,5,6,4,3,5,10,11,12]   \n",
    "K = 4\n",
    "solver(A, K)"
   ]
  },
  {
   "cell_type": "code",
   "execution_count": null,
   "metadata": {},
   "outputs": [],
   "source": []
  }
 ],
 "metadata": {
  "kernelspec": {
   "display_name": "Python 3",
   "language": "python",
   "name": "python3"
  },
  "language_info": {
   "codemirror_mode": {
    "name": "ipython",
    "version": 3
   },
   "file_extension": ".py",
   "mimetype": "text/x-python",
   "name": "python",
   "nbconvert_exporter": "python",
   "pygments_lexer": "ipython3",
   "version": "3.8.3"
  }
 },
 "nbformat": 4,
 "nbformat_minor": 4
}
