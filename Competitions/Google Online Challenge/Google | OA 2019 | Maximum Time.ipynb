{
 "cells": [
  {
   "cell_type": "markdown",
   "metadata": {},
   "source": [
    "# Google | OA 2019 | Maximum Time\n",
    "\n",
    "[Question Link](https://leetcode.com/discuss/interview-question/396769/)\n",
    "\n",
    "You are given a string that represents time in the format hh:mm. Some of the digits are blank (represented by ?). Fill in ? such that the time represented by this string is the maximum possible. Maximum time: 23:59, minimum time: 00:00. You can assume that input string is always valid."
   ]
  },
  {
   "cell_type": "code",
   "execution_count": 32,
   "metadata": {},
   "outputs": [
    {
     "name": "stdout",
     "output_type": "stream",
     "text": [
      "{0: 2, 1: 9, 2: ':', 3: 5, 4: 9}\n"
     ]
    },
    {
     "data": {
      "text/plain": [
       "'23:59'"
      ]
     },
     "execution_count": 32,
     "metadata": {},
     "output_type": "execute_result"
    }
   ],
   "source": [
    "def solver(time):\n",
    "    indexing = {0:2, 1:9 , 2:\":\" , 3:5, 4:9}\n",
    "    print(indexing)\n",
    "    newtime = ''\n",
    "    \n",
    "    for i, n in enumerate(time):\n",
    "        \n",
    "        if i == 0:\n",
    "            if n == '?':\n",
    "                if time[1] == '?':\n",
    "                    newtime = newtime + '2'\n",
    "                elif time[1] >'3':\n",
    "                    newtime = newtime+ \"1\"\n",
    "                elif time[1] <= '3' :\n",
    "                    newtime = newtime + '2'\n",
    "               \n",
    "            else: \n",
    "                newtime = newtime +n\n",
    "        if i == 1:\n",
    "            if n == \"?\":\n",
    "                if time[0] == '1':\n",
    "                    newtime = newtime + '9'\n",
    "                if time[0] == '0':\n",
    "                    newtime = newtime + '9'\n",
    "                else:\n",
    "                    newtime = newtime + '3'\n",
    "            else:\n",
    "                newtime = newtime + n\n",
    "        if i == 2:\n",
    "            newtime = newtime + \":\"\n",
    "        \n",
    "        if i == 3:\n",
    "            if n =='?':\n",
    "                newtime = newtime + '5'\n",
    "            else:\n",
    "                newtime = newtime + n\n",
    "        if i == 4:\n",
    "            if n == '?':\n",
    "                newtime = newtime + '9'\n",
    "            else:\n",
    "                newtime = newtime  +n\n",
    "                    \n",
    "            \n",
    "                \n",
    "                \n",
    "    \n",
    "\n",
    "    return newtime\n",
    "            \n",
    "            \n",
    "        \n",
    "time  = \"23:5?\"\n",
    "solver(time)"
   ]
  }
 ],
 "metadata": {
  "kernelspec": {
   "display_name": "Python 3",
   "language": "python",
   "name": "python3"
  },
  "language_info": {
   "codemirror_mode": {
    "name": "ipython",
    "version": 3
   },
   "file_extension": ".py",
   "mimetype": "text/x-python",
   "name": "python",
   "nbconvert_exporter": "python",
   "pygments_lexer": "ipython3",
   "version": "3.8.3"
  }
 },
 "nbformat": 4,
 "nbformat_minor": 4
}
