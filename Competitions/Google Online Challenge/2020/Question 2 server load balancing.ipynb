{
 "cells": [
  {
   "cell_type": "markdown",
   "metadata": {},
   "source": [
    "There are some processes that need to be executed. Amount of a load that process causes on a server that runs it, is being represented by a single integer. Total load caused on a server is the sum of the loads of all the processes that run on that server. You have at your disposal two servers, on which mentioned processes can be run. Your goal is to distribute given processes between those two servers in the way that, absolute difference of their loads will be minimized.\n",
    "\n",
    "\n",
    "Write a function that, given an array A of N integers, of which represents loads caused by successive processes, the function should return the minimum absolute difference of server loads.\n",
    "\n",
    "\n",
    "For example, given array A such that:\n",
    "\n",
    "  A[0] = 1\n",
    "\n",
    "  A[1] = 2\n",
    "\n",
    "  A[2] = 3\n",
    "\n",
    "  A[3] = 4\n",
    "\n",
    "  A[4] = 5\n",
    "\n",
    "\n",
    "your function should return 1. We can distribute the processes with loads 1, 2, 4 to the first server and 3, 5 to the second one, so that their total loads will be 7 and 8, respectively, and the difference of their loads will be equal to 1.\n",
    "\n",
    "\n",
    "Assume that:\n",
    "\n",
    "    N is an integer within the range [1..1,000]\n",
    "\n",
    "    the sum of the elements of array A does not exceed 100,000\n",
    "\n",
    "\n",
    "In your solution, focus on correctness. The performance of your solution will not be the focus of the assessment."
   ]
  },
  {
   "cell_type": "code",
   "execution_count": 23,
   "metadata": {},
   "outputs": [
    {
     "data": {
      "text/plain": [
       "8"
      ]
     },
     "execution_count": 23,
     "metadata": {},
     "output_type": "execute_result"
    }
   ],
   "source": [
    "def solution(A):\n",
    "    totalLoad = sum(A)\n",
    "    A = sorted(A)\n",
    "    middleLoad = totalLoad//2\n",
    "    \n",
    "    serverA = 0\n",
    "    for i in range(len(A)):\n",
    "        load = 0\n",
    "        j = 0\n",
    "        while j < len(A):\n",
    "            if A[j] <= middleLoad:\n",
    "                load = max(load, A[j])\n",
    "                A.remove(load)\n",
    "            j+=1\n",
    "        middleLoad -= load\n",
    "        serverA +=load\n",
    "        \n",
    "    return abs(serverA -(totalLoad-serverA))\n",
    "    \n",
    "\n",
    "A = [1,9]\n",
    "solution(A)\n"
   ]
  },
  {
   "cell_type": "code",
   "execution_count": null,
   "metadata": {},
   "outputs": [],
   "source": []
  }
 ],
 "metadata": {
  "kernelspec": {
   "display_name": "Python 3",
   "language": "python",
   "name": "python3"
  },
  "language_info": {
   "codemirror_mode": {
    "name": "ipython",
    "version": 3
   },
   "file_extension": ".py",
   "mimetype": "text/x-python",
   "name": "python",
   "nbconvert_exporter": "python",
   "pygments_lexer": "ipython3",
   "version": "3.8.3"
  }
 },
 "nbformat": 4,
 "nbformat_minor": 4
}
