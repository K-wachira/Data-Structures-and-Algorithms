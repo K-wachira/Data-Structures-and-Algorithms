{
 "cells": [
  {
   "cell_type": "code",
   "execution_count": null,
   "metadata": {},
   "outputs": [],
   "source": [
    "class messages():\n",
    "    def __init__(self, source, messages =[]):\n",
    "        self.source = source\n",
    "        self.messages = messages\n",
    "        \n",
    "        \n",
    "objlist = []\n",
    "indexno = 0 \n",
    "mylist = [ ]\n",
    "m = 0\n",
    "k = 10\n",
    "while m < k:\n",
    "    for i in objlist:\n",
    "        if len(i.messages) > indexno:\n",
    "            mylist.append(i.messages[indexno])\n",
    "        indexno+=1 \n",
    "       # m = len(mylist)\n",
    "        m+=1\n",
    "    \n",
    "    \n",
    "    \n",
    "# output to be of size m "
   ]
  },
  {
   "cell_type": "code",
   "execution_count": null,
   "metadata": {},
   "outputs": [],
   "source": []
  }
 ],
 "metadata": {
  "kernelspec": {
   "display_name": "Python 3",
   "language": "python",
   "name": "python3"
  },
  "language_info": {
   "codemirror_mode": {
    "name": "ipython",
    "version": 3
   },
   "file_extension": ".py",
   "mimetype": "text/x-python",
   "name": "python",
   "nbconvert_exporter": "python",
   "pygments_lexer": "ipython3",
   "version": "3.8.3"
  }
 },
 "nbformat": 4,
 "nbformat_minor": 4
}
