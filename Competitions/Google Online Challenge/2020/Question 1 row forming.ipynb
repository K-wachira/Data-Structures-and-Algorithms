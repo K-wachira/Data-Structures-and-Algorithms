{
 "cells": [
  {
   "cell_type": "markdown",
   "metadata": {},
   "source": [
    "You are given an array A representing heights of students. All the students are asked to stand in rows. The students arrive by one, sequentially (as their heights appear in A). For the i-th student, if there is a row in which all the students are taller than A[i], the student will stand in one of such rows. If there is no such row, the student will create a new row. Your task is to find the minimum number of rows created.\n",
    "\n",
    "Write a function that, given a non-empty array A containing N integers, denoting the heights of the students, returns the minimum number of rows created.\n",
    "\n",
    "\n",
    "For example, given A = [5, 4, 3, 6, 1], the function should return 2.\n",
    "\n",
    "Students will arrive in sequential order from A[0] to A[N−1]. So, the first student will have height = 5, the second student will have height = 4, and so on.\n",
    "\n",
    "\n",
    "For the first student, there is no row, so the student will create a new row.\n",
    "\n",
    "Row1 = [5]\n",
    "\n",
    "For the second student, all the students in Row1 have height greater than 4. So, the student will stand in Row1.\n",
    "\n",
    "Row1 = [5, 4]\n",
    "\n",
    "Similarly, for the third student, all the students in Row1 have height greater than 3. So, the student will stand in Row1.\n",
    "\n",
    "Row1 = [5, 4, 3]\n",
    "\n",
    "For the fourth student, there is no row in which all the students have height greater than 6. So, the student will create a new row.\n",
    "\n",
    "\n",
    "Row1 = [5, 4, 3]\n",
    "\n",
    "Row2 = [6]\n",
    "\n",
    "For the fifth student, all the students in Row1 and Row2 have height greater than 1. So, the student can stand in either of the two rows.\n",
    "\n",
    "Row1 = [5, 4, 3, 1]\n",
    "\n",
    "Row2 = [6]\n",
    "\n",
    "Since two rows are created, the function should return 2.\n",
    "\n",
    "Assume that:\n",
    "\n",
    "    N is an integer within the range [1..1,000]\n",
    "\n",
    "    each element of array A is an integer within the range [1..10,000]\n",
    "\n",
    "\n",
    "In your solution, focus on correctness. The performance of your solution will not be the focus of the assessment"
   ]
  },
  {
   "cell_type": "code",
   "execution_count": 30,
   "metadata": {},
   "outputs": [
    {
     "name": "stdout",
     "output_type": "stream",
     "text": [
      "1 2\n",
      "2 3\n",
      "3 4\n",
      "4 5\n",
      "5 6\n",
      "6 7\n",
      "7 8\n"
     ]
    },
    {
     "data": {
      "text/plain": [
       "8"
      ]
     },
     "execution_count": 30,
     "metadata": {},
     "output_type": "execute_result"
    }
   ],
   "source": [
    "def solution(A):\n",
    "    counter = 1\n",
    "    for i , n in enumerate(A):\n",
    "            if A[i-1] < n:\n",
    "                counter +=1\n",
    "                \n",
    "    if A[0] > A[len(A)-1]:\n",
    "        return counter-1\n",
    "    return counter\n",
    "\n",
    "A =1,2,3,4,5,6,7,8\n",
    "solution(A)"
   ]
  },
  {
   "cell_type": "code",
   "execution_count": null,
   "metadata": {},
   "outputs": [],
   "source": []
  }
 ],
 "metadata": {
  "kernelspec": {
   "display_name": "Python 3",
   "language": "python",
   "name": "python3"
  },
  "language_info": {
   "codemirror_mode": {
    "name": "ipython",
    "version": 3
   },
   "file_extension": ".py",
   "mimetype": "text/x-python",
   "name": "python",
   "nbconvert_exporter": "python",
   "pygments_lexer": "ipython3",
   "version": "3.8.3"
  }
 },
 "nbformat": 4,
 "nbformat_minor": 4
}
