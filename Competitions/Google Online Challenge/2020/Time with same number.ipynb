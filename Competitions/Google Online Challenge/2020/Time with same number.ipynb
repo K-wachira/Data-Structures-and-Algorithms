{
 "cells": [
  {
   "cell_type": "code",
   "execution_count": 73,
   "metadata": {},
   "outputs": [
    {
     "data": {
      "text/plain": [
       "'22:22'"
      ]
     },
     "execution_count": 73,
     "metadata": {},
     "output_type": "execute_result"
    }
   ],
   "source": [
    "from datetime import datetime\n",
    "def solution(T):\n",
    "  # Your solution goes here.\n",
    "    poss_time = []  ## Gets every possible time with all the inserted digits being the same \n",
    "    temp = str(T)\n",
    "    \n",
    "    \n",
    "    i = 0\n",
    "    while i < 10:   # while loop to populate the poss_time list\n",
    "        x = temp.replace('?', str(i))\n",
    "        poss_time.append(x)\n",
    "        temp = str(T)\n",
    "        i +=1\n",
    "        \n",
    "    # E.g poss_time = ['00:00', '11:11', '22:22', '33:33', '44:44', '55:55', '66:66', '77:77', '88:88', '99:99']\n",
    "    time = [] # store the actual time in 24hr formar\n",
    "    for i in poss_time:\n",
    "        try:\n",
    "            time_in_datetime = datetime.strptime(i, \"%H:%M\") #converts string to HH;MM formart\n",
    "            times.append(time_in_datetime)\n",
    "        except :\n",
    "            pass\n",
    "        \n",
    "    # E.g times = [datetime.datetime(1900, 1, 1, 0, 0), datetime.datetime(1900, 1, 1, 11, 11), datetime.datetime(1900, 1, 1, 22, 22)]\n",
    "    T = str(max(times)) # gets the maximum possible time from all the generated 'times'\n",
    "    # E.g   T = 1900-01-01 22:22:00\n",
    "    return T[11:16]    # strip down T\n",
    "    \n",
    "    \n",
    "    \n",
    "        \n",
    "\n",
    "        \n",
    "    \n",
    "    \n",
    "        \n",
    "\n",
    "s = \"??:??\"\n",
    "solution(s)"
   ]
  }
 ],
 "metadata": {
  "kernelspec": {
   "display_name": "Python 3",
   "language": "python",
   "name": "python3"
  },
  "language_info": {
   "codemirror_mode": {
    "name": "ipython",
    "version": 3
   },
   "file_extension": ".py",
   "mimetype": "text/x-python",
   "name": "python",
   "nbconvert_exporter": "python",
   "pygments_lexer": "ipython3",
   "version": "3.8.3"
  }
 },
 "nbformat": 4,
 "nbformat_minor": 4
}
