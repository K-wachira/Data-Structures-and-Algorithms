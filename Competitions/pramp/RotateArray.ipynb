{
 "cells": [
  {
   "cell_type": "code",
   "execution_count": null,
   "metadata": {},
   "outputs": [],
   "source": [
    "#Given a linked list, rotate the list to the right by k places, where k is non-negative. (in place)\n",
    "#input =  1,2,3,4,5 , k = 2\n",
    "# output =  4,5,1,2,3\n",
    "\n",
    "\n"
   ]
  },
  {
   "cell_type": "code",
   "execution_count": 2,
   "metadata": {},
   "outputs": [
    {
     "name": "stdout",
     "output_type": "stream",
     "text": [
      "[4, 5, 1, 2, 3]\n"
     ]
    }
   ],
   "source": [
    "def rotate_arr_k_places(arr, k):\n",
    "    \n",
    "    \n",
    "        arr.reverse()\n",
    "        \n",
    "        k = k%len(arr)\n",
    "        arr[:k] = list(reversed(arr[:k]))   \n",
    "        arr[k:] = list(reversed(arr[k:]))   \n",
    "        return arr\n",
    "\n",
    "        \n",
    "    \n",
    "    \n",
    "arr = [1,2,3,4,5]\n",
    "k = 2\n",
    "print(rotate_arr_k_places(arr, k))\n",
    "  \n",
    "\n",
    "\n"
   ]
  },
  {
   "cell_type": "code",
   "execution_count": null,
   "metadata": {},
   "outputs": [],
   "source": []
  }
 ],
 "metadata": {
  "kernelspec": {
   "display_name": "Python 3",
   "language": "python",
   "name": "python3"
  },
  "language_info": {
   "codemirror_mode": {
    "name": "ipython",
    "version": 3
   },
   "file_extension": ".py",
   "mimetype": "text/x-python",
   "name": "python",
   "nbconvert_exporter": "python",
   "pygments_lexer": "ipython3",
   "version": "3.8.3"
  }
 },
 "nbformat": 4,
 "nbformat_minor": 4
}
