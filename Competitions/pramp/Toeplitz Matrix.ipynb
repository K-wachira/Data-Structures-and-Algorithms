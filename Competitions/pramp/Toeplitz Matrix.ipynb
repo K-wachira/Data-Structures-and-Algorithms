{
 "cells": [
  {
   "cell_type": "markdown",
   "metadata": {},
   "source": [
    "# Toeplitz Matrix\n",
    "\n",
    "A Toeplitz matrix is a matrix where every left-to-right-descending diagonal has the same element. Given a non-empty matrix arr, write a function that returns true if and only if it is a Toeplitz matrix. The matrix can be any dimensions, not necessarily square."
   ]
  },
  {
   "cell_type": "code",
   "execution_count": 3,
   "metadata": {},
   "outputs": [
    {
     "ename": "IndexError",
     "evalue": "list index out of range",
     "output_type": "error",
     "traceback": [
      "\u001b[0;31m---------------------------------------------------------------------------\u001b[0m",
      "\u001b[0;31mIndexError\u001b[0m                                Traceback (most recent call last)",
      "\u001b[0;32m<ipython-input-3-67c7ffaff847>\u001b[0m in \u001b[0;36m<module>\u001b[0;34m\u001b[0m\n\u001b[1;32m     32\u001b[0m \u001b[0;34m\u001b[0m\u001b[0m\n\u001b[1;32m     33\u001b[0m \u001b[0;34m\u001b[0m\u001b[0m\n\u001b[0;32m---> 34\u001b[0;31m \u001b[0mToeplitz\u001b[0m\u001b[0;34m(\u001b[0m\u001b[0mgrid\u001b[0m\u001b[0;34m)\u001b[0m\u001b[0;34m\u001b[0m\u001b[0;34m\u001b[0m\u001b[0m\n\u001b[0m\u001b[1;32m     35\u001b[0m \u001b[0;34m\u001b[0m\u001b[0m\n",
      "\u001b[0;32m<ipython-input-3-67c7ffaff847>\u001b[0m in \u001b[0;36mToeplitz\u001b[0;34m(grid)\u001b[0m\n\u001b[1;32m     19\u001b[0m \u001b[0;34m\u001b[0m\u001b[0m\n\u001b[1;32m     20\u001b[0m     \u001b[0;32mwhile\u001b[0m \u001b[0mx\u001b[0m \u001b[0;34m<\u001b[0m \u001b[0mlen\u001b[0m\u001b[0;34m(\u001b[0m\u001b[0mgrid\u001b[0m\u001b[0;34m)\u001b[0m\u001b[0;34m:\u001b[0m\u001b[0;34m\u001b[0m\u001b[0;34m\u001b[0m\u001b[0m\n\u001b[0;32m---> 21\u001b[0;31m         \u001b[0minitial\u001b[0m \u001b[0;34m=\u001b[0m \u001b[0mgrid\u001b[0m\u001b[0;34m[\u001b[0m\u001b[0mx\u001b[0m\u001b[0;34m]\u001b[0m\u001b[0;34m[\u001b[0m\u001b[0;36m0\u001b[0m\u001b[0;34m]\u001b[0m\u001b[0;34m\u001b[0m\u001b[0;34m\u001b[0m\u001b[0m\n\u001b[0m\u001b[1;32m     22\u001b[0m         \u001b[0mnumbers\u001b[0m \u001b[0;34m=\u001b[0m \u001b[0mset\u001b[0m\u001b[0;34m(\u001b[0m\u001b[0;34m)\u001b[0m\u001b[0;34m\u001b[0m\u001b[0;34m\u001b[0m\u001b[0m\n\u001b[1;32m     23\u001b[0m         \u001b[0mz\u001b[0m \u001b[0;34m=\u001b[0m \u001b[0mx\u001b[0m\u001b[0;34m\u001b[0m\u001b[0;34m\u001b[0m\u001b[0m\n",
      "\u001b[0;31mIndexError\u001b[0m: list index out of range"
     ]
    }
   ],
   "source": [
    "grid  = [[]]\n",
    "\n",
    "\n",
    "def Toeplitz(grid):\n",
    "\n",
    "    z = 0\n",
    "    while z < len(grid[0]):\n",
    "        numbers = set()\n",
    "        i = z\n",
    "        for row in (grid):\n",
    "            if i < len(row):\n",
    "                numbers.add(row[i])\n",
    "            i+=1\n",
    "        if len(numbers) > 1: return False\n",
    "        \n",
    "        z+=1\n",
    "    \n",
    "    x = 0\n",
    "  \n",
    "    while x < len(grid):\n",
    "        initial = grid[x][0]\n",
    "        numbers = set()\n",
    "        z = x\n",
    "        start = 0\n",
    "        while z < len(grid):\n",
    "            if initial != grid[z][start]: return False \n",
    "            start +=1\n",
    "            z+=1\n",
    "        x+=1\n",
    "    return True\n",
    "\n",
    "        \n",
    "\n",
    "Toeplitz(grid)\n",
    "  "
   ]
  },
  {
   "cell_type": "code",
   "execution_count": 68,
   "metadata": {},
   "outputs": [
    {
     "data": {
      "text/plain": [
       "False"
      ]
     },
     "execution_count": 68,
     "metadata": {},
     "output_type": "execute_result"
    }
   ],
   "source": [
    "def isToeplitz(arr):\n",
    "\n",
    "      grid  = arr\n",
    "\n",
    "      z = 0\n",
    "      while z < len(grid[0]):\n",
    "          numbers = set()\n",
    "          i = z\n",
    "          for row in (grid):\n",
    "              if i < len(row):\n",
    "                  numbers.add(row[i])\n",
    "              i+=1\n",
    "          if len(numbers) > 1: return False\n",
    "\n",
    "          z+=1\n",
    "\n",
    "      x = 0\n",
    "\n",
    "      while x < len(grid):\n",
    "          numbers = set()\n",
    "          z = x\n",
    "          start = 0\n",
    "          while z < len(grid):\n",
    "                \n",
    "              start +=1\n",
    "              z+=1\n",
    "          if len(numbers) > 1: return False\n",
    "          x+=1\n",
    "\n",
    "      return True\n",
    "Toeplitz(grid)\n"
   ]
  },
  {
   "cell_type": "code",
   "execution_count": 71,
   "metadata": {},
   "outputs": [
    {
     "ename": "SyntaxError",
     "evalue": "invalid syntax (<ipython-input-71-72bd9de0dcae>, line 6)",
     "output_type": "error",
     "traceback": [
      "\u001b[0;36m  File \u001b[0;32m\"<ipython-input-71-72bd9de0dcae>\"\u001b[0;36m, line \u001b[0;32m6\u001b[0m\n\u001b[0;31m    for r from 0 to matrix.length - 1:\u001b[0m\n\u001b[0m          ^\u001b[0m\n\u001b[0;31mSyntaxError\u001b[0m\u001b[0;31m:\u001b[0m invalid syntax\n"
     ]
    }
   ],
   "source": [
    "\n",
    "\n",
    "def isToeplitz(matrix):\n",
    "  # seen[diagonal_hash] = value of elements on that diagonal\n",
    "    seen = {}\n",
    "\n",
    "    # For each element\n",
    "    for r from 0 to matrix.length - 1:\n",
    "        for c from 0 to matrix[0].length - 1:\n",
    "            # If we haven't visited this diagonal before,\n",
    "            # record it's value\n",
    "            if r-c not in seen:\n",
    "                seen[r-c] = matrix[r][c]\n",
    "\n",
    "            # Otherwise, if the value we've recorded for\n",
    "            # this diagonal differs, return False\n",
    "            else if seen[r-c] != matrix[r][c]:\n",
    "                return False\n",
    "\n",
    "    return True\n"
   ]
  },
  {
   "cell_type": "code",
   "execution_count": 11,
   "metadata": {},
   "outputs": [
    {
     "name": "stdout",
     "output_type": "stream",
     "text": [
      "1 1\n",
      "2 2\n",
      "3 3\n",
      "5 5\n",
      "1 1\n",
      "2 2\n"
     ]
    },
    {
     "data": {
      "text/plain": [
       "True"
      ]
     },
     "execution_count": 11,
     "metadata": {},
     "output_type": "execute_result"
    }
   ],
   "source": [
    "def isToeplitz(arr):\n",
    "\n",
    "    for i in range(1, len(arr)):\n",
    "        for j in range(1, len(arr[i])):\n",
    "\n",
    "            print(arr[i][j], arr[i-1][j-1])\n",
    "\n",
    "            if arr[i][j] != arr[i-1][j-1]:\n",
    "                return False\n",
    "    \n",
    "    return True\n",
    "\n",
    "\n",
    "arr =[[1,2,3,4],\n",
    " [5,1,2,3],\n",
    " [6,5,1,2]]\n",
    "\n",
    "\n",
    "isToeplitz(arr)"
   ]
  },
  {
   "cell_type": "code",
   "execution_count": 26,
   "metadata": {},
   "outputs": [
    {
     "name": "stdout",
     "output_type": "stream",
     "text": [
      "x\n",
      "y\n",
      "y\n",
      "z\n",
      "y\n",
      "z\n",
      "y\n",
      "x\n"
     ]
    }
   ],
   "source": [
    "\n",
    "def get_shortest_unique_substring(arr, str):\n",
    "    \n",
    "    \n",
    "    start = 0\n",
    "    end = 0\n",
    "    for i in range(len(str)):\n",
    "        str[i] \n",
    "         \n",
    "      \n",
    "arr = ['x','y','z']\n",
    "str = \"xyyzyzyx\"\n",
    "get_shortest_unique_substring(arr, str)\n",
    "      "
   ]
  },
  {
   "cell_type": "code",
   "execution_count": 1,
   "metadata": {},
   "outputs": [
    {
     "ename": "TypeError",
     "evalue": "'set' object is not subscriptable",
     "output_type": "error",
     "traceback": [
      "\u001b[0;31m---------------------------------------------------------------------------\u001b[0m",
      "\u001b[0;31mTypeError\u001b[0m                                 Traceback (most recent call last)",
      "\u001b[0;32m<ipython-input-1-271a8384b1d0>\u001b[0m in \u001b[0;36m<module>\u001b[0;34m\u001b[0m\n\u001b[1;32m      3\u001b[0m     \u001b[0msets\u001b[0m\u001b[0;34m.\u001b[0m\u001b[0madd\u001b[0m\u001b[0;34m(\u001b[0m\u001b[0mi\u001b[0m\u001b[0;34m)\u001b[0m\u001b[0;34m\u001b[0m\u001b[0;34m\u001b[0m\u001b[0m\n\u001b[1;32m      4\u001b[0m \u001b[0;34m\u001b[0m\u001b[0m\n\u001b[0;32m----> 5\u001b[0;31m \u001b[0mprint\u001b[0m\u001b[0;34m(\u001b[0m\u001b[0msets\u001b[0m\u001b[0;34m[\u001b[0m\u001b[0;36m3\u001b[0m\u001b[0;34m:\u001b[0m\u001b[0;34m]\u001b[0m\u001b[0;34m)\u001b[0m\u001b[0;34m\u001b[0m\u001b[0;34m\u001b[0m\u001b[0m\n\u001b[0m",
      "\u001b[0;31mTypeError\u001b[0m: 'set' object is not subscriptable"
     ]
    }
   ],
   "source": [
    "sets = set()\n",
    "for i in range(10):\n",
    "    sets.add(i)\n",
    "    \n",
    "print(sets[3:])"
   ]
  },
  {
   "cell_type": "code",
   "execution_count": 8,
   "metadata": {},
   "outputs": [
    {
     "data": {
      "text/plain": [
       "0"
      ]
     },
     "execution_count": 8,
     "metadata": {},
     "output_type": "execute_result"
    }
   ],
   "source": [
    "def bracket_match(text):\n",
    "  openCount = 0\n",
    "  closeCount = 0\n",
    "  #text = \"(())\" #It doesn't work for this which is strange\n",
    "  for i in text:\n",
    "        if i ==\"(\":\n",
    "            openCount+=1\n",
    "        else:\n",
    "            if openCount ==0:\n",
    "                closeCount+=1\n",
    "            else:\n",
    "                openCount -=1\n",
    "  return openCount + closeCount  \n",
    "text = \"(())\"\n",
    "bracket_match(text)"
   ]
  },
  {
   "cell_type": "code",
   "execution_count": 18,
   "metadata": {},
   "outputs": [
    {
     "name": "stdout",
     "output_type": "stream",
     "text": [
      "1 5 set()\n",
      "5 1 {1}\n",
      "11 7 {1}\n",
      "7 3 {1, 11}\n"
     ]
    },
    {
     "data": {
      "text/plain": [
       "[[1, 5]]"
      ]
     },
     "execution_count": 18,
     "metadata": {},
     "output_type": "execute_result"
    }
   ],
   "source": [
    "def find_pairs_with_given_difference(arr, k):\n",
    "  visited = set()\n",
    "  pairs = []\n",
    "  \n",
    "  # The expected output of this is [[7,5],[4,2]]\n",
    "  \n",
    "  for i in arr:\n",
    "    if i < k:\n",
    "       key = k+i\n",
    "    elif i>k:\n",
    "      key = i-k  \n",
    "    print(i, key, visited)\n",
    "    if key in visited : # access time is 0(1) and order does not matter \n",
    "      temp = []\n",
    "      temp.append(key) # maintains the order of y elements (a)\n",
    "      temp.append(i) # (b)\n",
    "      pairs.append(temp)\n",
    "    \n",
    "      \n",
    "    else:\n",
    "      visited.add(i)\n",
    "  return pairs\n",
    "arr = [1,5,11,7]\n",
    "k = 4\n",
    "find_pairs_with_given_difference(arr, k)"
   ]
  },
  {
   "cell_type": "code",
   "execution_count": 20,
   "metadata": {},
   "outputs": [
    {
     "data": {
      "text/plain": [
       "[[1, 5], [11, 7]]"
      ]
     },
     "execution_count": 20,
     "metadata": {},
     "output_type": "execute_result"
    }
   ],
   "source": [
    "def find_pairs_with_given_difference(arr, k):\n",
    "  visited = set(arr)\n",
    "  pairs = []\n",
    "  \n",
    "  # The expected output of this is [[7,5],[4,2]]\n",
    "  \n",
    "  for i in arr:\n",
    "    if i < k:\n",
    "       key = k+i\n",
    "    elif i>k:\n",
    "      key = i-k  \n",
    "    \n",
    "    if key in visited : # access time is 0(1) and order does not matter \n",
    "      temp = []\n",
    "      temp.append(i) # maintains the order of y elements (a)\n",
    "      temp.append(key) # (b)\n",
    "      pairs.append(temp)\n",
    "      visited.discard(i)  \n",
    "    \n",
    "      \n",
    "  \n",
    "  return pairs\n",
    "\n",
    "arr = [1,5,11,7]\n",
    "k = 4\n",
    "find_pairs_with_given_difference(arr, k)"
   ]
  },
  {
   "cell_type": "code",
   "execution_count": 24,
   "metadata": {},
   "outputs": [
    {
     "ename": "SyntaxError",
     "evalue": "positional argument follows keyword argument (<ipython-input-24-414744fa17ac>, line 12)",
     "output_type": "error",
     "traceback": [
      "\u001b[0;36m  File \u001b[0;32m\"<ipython-input-24-414744fa17ac>\"\u001b[0;36m, line \u001b[0;32m12\u001b[0m\n\u001b[0;31m    sorted_pairs = sorted(pairs, key=lambda x: x[1], [0])\u001b[0m\n\u001b[0m                                                     ^\u001b[0m\n\u001b[0;31mSyntaxError\u001b[0m\u001b[0;31m:\u001b[0m positional argument follows keyword argument\n"
     ]
    }
   ],
   "source": [
    "def absSort(arr):\n",
    "\n",
    "  \n",
    "  \n",
    "  pairs = []\n",
    "  out = []\n",
    "  for i in range(len(arr)):\n",
    "    \n",
    "    pairs.append([   arr[i], abs(arr[i]) ])\n",
    "    \n",
    "    \n",
    "  sorted_pairs = sorted(pairs, key=lambda x: x[1], x[0])\n",
    "  for i in sorted_pairs:\n",
    "    out.append(i[0])\n",
    "    \n",
    "    \n",
    "  return our\n",
    "    \n",
    "arr =   [2, -7, -2, -2, 0]\n",
    "absSort(arr)"
   ]
  },
  {
   "cell_type": "code",
   "execution_count": null,
   "metadata": {},
   "outputs": [],
   "source": [
    "def absSort(arr):\n",
    "  pairs = []\n",
    "\n",
    "  for i in range(len(arr)):\n",
    "    pairs.append([   arr[i], abs(arr[i]) ])\n",
    "    \n",
    "  sorted_pairs = sorted(pairs, key=lambda x: (x[1], x[0]))\n",
    "  \n",
    "  \n",
    "  for i, n in enumerate(sorted_pairs):\n",
    "    arr[i] = n[0]\n",
    "    \n",
    "  return arr\n",
    "\n",
    "arr = [2, -7, -2, -2, 0]\n",
    "print(absSort(arr))\n"
   ]
  },
  {
   "cell_type": "code",
   "execution_count": null,
   "metadata": {},
   "outputs": [],
   "source": [
    "def absSort(arr):\n",
    "  \n",
    "  x = 0\n",
    "  y = 0\n",
    "  \n",
    "  for i in range(len(arr)):\n",
    "    x = arr[i]\n",
    "    y = i - 1\n",
    "    \n",
    "    while y >= 0 and abs(arr[y]) > abs(x) or (abs(arr[y]) == abs(x) and arr[y] > x):\n",
    "      arr[y+1] = arr[y]\n",
    "      y = y - 1\n",
    "    arr[y+1] = x\n",
    "    \n",
    "  return arr"
   ]
  },
  {
   "cell_type": "code",
   "execution_count": 17,
   "metadata": {},
   "outputs": [
    {
     "name": "stdout",
     "output_type": "stream",
     "text": [
      "{0: 1, 1: 2, 2: 3, 3: 4, -1: 5}\n",
      "{0: 1, 1: 2, 2: 3, 3: 4, -1: 5}\n",
      "{0: 1, 1: 2, 2: 3, 3: 4, -1: 5}\n",
      "{0: 1, 1: 2, 2: 3, 3: 4, -1: 5, -2: 6}\n",
      "False\n"
     ]
    }
   ],
   "source": [
    "def isToeplitz(arr):\n",
    "\n",
    "    dia = {}\n",
    "    for i in range(len(arr)):\n",
    "        for j in range(len(arr[0])):\n",
    "          if j-i not in dia:\n",
    "            dia[j-i] = arr[i][j]\n",
    "          else:\n",
    "            print(dia)\n",
    "            if not dia[j-1] == arr[i][j]:\n",
    "              return False\n",
    "    return True      \n",
    "   \n",
    "\n",
    "\n",
    "arr =[[1,2,3,4],\n",
    "      [5,1,2,3],\n",
    "      [6,9,1,2]]\n",
    "print(isToeplitz(arr))\n",
    "\n"
   ]
  },
  {
   "cell_type": "code",
   "execution_count": 34,
   "metadata": {},
   "outputs": [
    {
     "name": "stdout",
     "output_type": "stream",
     "text": [
      "[0] [1]\n",
      "[0] [1]\n",
      "2\n"
     ]
    }
   ],
   "source": [
    "def remove_dublicate(nums):\n",
    "\n",
    "  \n",
    "    i = 0 #slow runner\n",
    "    j = 1 #fast runner \n",
    "    while j < len(nums):\n",
    "        print([i], [j])\n",
    "        if nums[i] == nums[j]:\n",
    "            nums.pop(j)\n",
    "        else:\n",
    "            j+=1\n",
    "            i+=1\n",
    "            \n",
    "    return len(nums)\n",
    "    \n",
    "nums = [1,1,2]  \n",
    "print(remove_dublicate(nums))\n",
    "    \n",
    "    \n",
    "    "
   ]
  },
  {
   "cell_type": "code",
   "execution_count": 1,
   "metadata": {},
   "outputs": [
    {
     "name": "stdout",
     "output_type": "stream",
     "text": [
      "9223372036854775807\n"
     ]
    }
   ],
   "source": [
    "import sys \n",
    "\n",
    "print (sys.maxsize)"
   ]
  },
  {
   "cell_type": "code",
   "execution_count": null,
   "metadata": {},
   "outputs": [],
   "source": [
    "import sys\n",
    "\n",
    "  \n",
    "########################################## \n",
    "# Use the helper code below to implement #\n",
    "# and test your function above           #\n",
    "##########################################\n",
    "\n",
    "# A node \n",
    "class Node:\n",
    "\n",
    "  # Constructor to create a new node\n",
    "  def __init__(self, cost):\n",
    "    self.cost = cost\n",
    "    self.children = []\n",
    "    self.parent = None\n",
    " \n",
    "\n",
    "\n",
    "def get_cheapest_cost(rootNode):\n",
    "  stack = []\n",
    "  \n",
    "  stack.append((rootNode, rootNode.cost))\n",
    "  min_path = float('inf')\n",
    "  \n",
    "  while stack:\n",
    "    \n",
    "    curr_node, cost = stack.pop() # last node (node, weight )\n",
    "    \n",
    "    #curr_node.cost  # do smth\n",
    "    #populate the stack\n",
    "    if not curr_node.children:\n",
    "      # we are at the botom \n",
    "      min_path = min(cost, min_path )\n",
    "      \n",
    "    for i in curr_node.children:\n",
    "      stack.append((i, i.cost + cost))\n",
    "      \n",
    "      \n",
    "  \n",
    "  return min_path     \n",
    "\n",
    "\"\"\"\n",
    "             0\n",
    "          /  |  \\\n",
    "         3   1   4\n",
    "        /   / \\\n",
    "       1   1   2\n",
    "\"\"\"\n",
    "if __name__ == \"__main__\":\n",
    "  root = Node(0)\n",
    "  leaf1 = Node(1)\n",
    "  leaf2 = Node(2)\n",
    "  leaf3 = Node(1)\n",
    "  leaf4 = Node(4)\n",
    "  mid1 = Node(3)\n",
    "  mid2 = Node(1)\n",
    "  mid1.children = [leaf3]\n",
    "  mid2.children = [leaf1,leaf2]\n",
    "  root.children = [mid1,mid2,leaf4]\n",
    "\n",
    "  print(get_cheapest_cost(root))\n",
    "\n",
    "# Dfs "
   ]
  },
  {
   "cell_type": "code",
   "execution_count": 25,
   "metadata": {},
   "outputs": [
    {
     "name": "stdout",
     "output_type": "stream",
     "text": [
      "-1\n"
     ]
    }
   ],
   "source": [
    "#Shortest Cell Path\n",
    "#In a given grid of 0s and 1s, we have some starting row and column sr, sc and a target row and column tr, tc. Return the length of the shortest path from sr, sc to tr, tc that walks along 1 values only.\n",
    "#Each location in the path, including the start and the end, must be a 1. Each subsequent location in the path must be 4-directionally adjacent to the previous location.\n",
    "#It is guaranteed that grid[sr][sc] = grid[tr][tc] = 1, and the starting and target positions are different.\n",
    "#If the task is impossible, return -1. https://repl.it/\n",
    "def shortestCellPath(grid, sr, sc, tr, tc):\n",
    "    queue = []\n",
    "    queue.append((sr, sc, 0))\n",
    "    seen = set()\n",
    "    seen.add((sr, sc))\n",
    "    \n",
    "    \n",
    "    while queue:\n",
    "        \n",
    "        r,c, depth = queue.pop(0)\n",
    "        if r==tr and c == tc : return depth\n",
    "        \n",
    "        for (nr, nc) in ((r-1, c), (r+1, c), (r, c-1), (r, c+1)):\n",
    "            if (0 <= nr < r and 0 <= nc < c )and (grid[nr][nc] == 1) and (nr, nc) not in seen:\n",
    "                queue.append((nr, nc, depth + 1))\n",
    "                seen.add((nr, nc))\n",
    "    return -1\n",
    "            \n",
    "    \n",
    "\n",
    "    \n",
    "  \n",
    "\n",
    "\"\"\"\n",
    "\n",
    "function shortestCellPath(grid, sr, sc, tr, tc):\n",
    "    queue = Queue()\n",
    "    queue.add((sr, sc, 0))\n",
    "    seen = new HashSet()\n",
    "    seen.add((sr, sc))\n",
    "\n",
    "    while queue:\n",
    "        r, c, depth = queue.popfront()\n",
    "        if r == tr and c == tc: return depth\n",
    "        for (nr, nc) in ((r-1, c), (r+1, c), (r, c-1), (r, c+1)):\n",
    "            if 0 <= nr < R and 0 <= nc < C and grid[nr][nc] == 1 and (nr, nc) not in seen:\n",
    "                queue.append((nr, nc, depth + 1))\n",
    "                seen.add((nr, nc))\n",
    "\n",
    "    return -1\n",
    "\n",
    "\"\"\"\n",
    "\n",
    "   \n",
    "grid = [[1, 1, 1, 1],  \n",
    "        [0, 0, 0, 1],\n",
    "        [1, 1, 1, 1]]\n",
    "sr = 0\n",
    "sc = 0\n",
    "tr = 2\n",
    "tc = 0\n",
    "\n",
    "#[[1, 1, 1, 1],\n",
    "# [0, 0, 0, 1],\n",
    " #[1, 0, 1, 1]]\n",
    "\n",
    "print(shortestCellPath(grid, sr, sc, tr, tc))\n",
    " \n",
    "\n"
   ]
  },
  {
   "cell_type": "code",
   "execution_count": null,
   "metadata": {},
   "outputs": [],
   "source": []
  }
 ],
 "metadata": {
  "kernelspec": {
   "display_name": "Python 3",
   "language": "python",
   "name": "python3"
  },
  "language_info": {
   "codemirror_mode": {
    "name": "ipython",
    "version": 3
   },
   "file_extension": ".py",
   "mimetype": "text/x-python",
   "name": "python",
   "nbconvert_exporter": "python",
   "pygments_lexer": "ipython3",
   "version": "3.8.5"
  }
 },
 "nbformat": 4,
 "nbformat_minor": 4
}
