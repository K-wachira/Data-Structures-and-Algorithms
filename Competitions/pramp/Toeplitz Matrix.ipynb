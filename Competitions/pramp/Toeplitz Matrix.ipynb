{
 "cells": [
  {
   "cell_type": "markdown",
   "metadata": {},
   "source": [
    "# Toeplitz Matrix\n",
    "\n",
    "A Toeplitz matrix is a matrix where every left-to-right-descending diagonal has the same element. Given a non-empty matrix arr, write a function that returns true if and only if it is a Toeplitz matrix. The matrix can be any dimensions, not necessarily square."
   ]
  },
  {
   "cell_type": "code",
   "execution_count": 80,
   "metadata": {},
   "outputs": [
    {
     "data": {
      "text/plain": [
       "True"
      ]
     },
     "execution_count": 80,
     "metadata": {},
     "output_type": "execute_result"
    }
   ],
   "source": [
    "grid  = [[1,2,3,4],\n",
    "         [5,1,2,3],\n",
    "         [6,5,1,2]]\n",
    "\n",
    "\n",
    "def Toeplitz(grid):\n",
    "\n",
    "    z = 0\n",
    "    while z < len(grid[0]):\n",
    "        numbers = set()\n",
    "        i = z\n",
    "        for row in (grid):\n",
    "            if i < len(row):\n",
    "                numbers.add(row[i])\n",
    "            i+=1\n",
    "        if len(numbers) > 1: return False\n",
    "        \n",
    "        z+=1\n",
    "    \n",
    "    x = 0\n",
    "  \n",
    "    while x < len(grid):\n",
    "        initial = grid[x][0]\n",
    "        numbers = set()\n",
    "        z = x\n",
    "        start = 0\n",
    "        while z < len(grid):\n",
    "            if initial != grid[z][start]: return False \n",
    "            start +=1\n",
    "            z+=1\n",
    "        x+=1\n",
    "    return True\n",
    "\n",
    "        \n",
    "\n",
    "Toeplitz(grid)\n",
    "  "
   ]
  },
  {
   "cell_type": "code",
   "execution_count": 68,
   "metadata": {},
   "outputs": [
    {
     "data": {
      "text/plain": [
       "False"
      ]
     },
     "execution_count": 68,
     "metadata": {},
     "output_type": "execute_result"
    }
   ],
   "source": [
    "def isToeplitz(arr):\n",
    "\n",
    "      grid  = arr\n",
    "\n",
    "      z = 0\n",
    "      while z < len(grid[0]):\n",
    "          numbers = set()\n",
    "          i = z\n",
    "          for row in (grid):\n",
    "              if i < len(row):\n",
    "                  numbers.add(row[i])\n",
    "              i+=1\n",
    "          if len(numbers) > 1: return False\n",
    "\n",
    "          z+=1\n",
    "\n",
    "      x = 0\n",
    "\n",
    "      while x < len(grid):\n",
    "          numbers = set()\n",
    "          z = x\n",
    "          start = 0\n",
    "          while z < len(grid):\n",
    "                \n",
    "              start +=1\n",
    "              z+=1\n",
    "          if len(numbers) > 1: return False\n",
    "          x+=1\n",
    "\n",
    "      return True\n",
    "Toeplitz(grid)\n"
   ]
  },
  {
   "cell_type": "code",
   "execution_count": 71,
   "metadata": {},
   "outputs": [
    {
     "ename": "SyntaxError",
     "evalue": "invalid syntax (<ipython-input-71-72bd9de0dcae>, line 6)",
     "output_type": "error",
     "traceback": [
      "\u001b[0;36m  File \u001b[0;32m\"<ipython-input-71-72bd9de0dcae>\"\u001b[0;36m, line \u001b[0;32m6\u001b[0m\n\u001b[0;31m    for r from 0 to matrix.length - 1:\u001b[0m\n\u001b[0m          ^\u001b[0m\n\u001b[0;31mSyntaxError\u001b[0m\u001b[0;31m:\u001b[0m invalid syntax\n"
     ]
    }
   ],
   "source": [
    "\n",
    "\n",
    "def isToeplitz(matrix):\n",
    "  # seen[diagonal_hash] = value of elements on that diagonal\n",
    "    seen = {}\n",
    "\n",
    "    # For each element\n",
    "    for r from 0 to matrix.length - 1:\n",
    "        for c from 0 to matrix[0].length - 1:\n",
    "            # If we haven't visited this diagonal before,\n",
    "            # record it's value\n",
    "            if r-c not in seen:\n",
    "                seen[r-c] = matrix[r][c]\n",
    "\n",
    "            # Otherwise, if the value we've recorded for\n",
    "            # this diagonal differs, return False\n",
    "            else if seen[r-c] != matrix[r][c]:\n",
    "                return False\n",
    "\n",
    "    return True\n"
   ]
  },
  {
   "cell_type": "code",
   "execution_count": null,
   "metadata": {},
   "outputs": [],
   "source": []
  }
 ],
 "metadata": {
  "kernelspec": {
   "display_name": "Python 3",
   "language": "python",
   "name": "python3"
  },
  "language_info": {
   "codemirror_mode": {
    "name": "ipython",
    "version": 3
   },
   "file_extension": ".py",
   "mimetype": "text/x-python",
   "name": "python",
   "nbconvert_exporter": "python",
   "pygments_lexer": "ipython3",
   "version": "3.8.5"
  }
 },
 "nbformat": 4,
 "nbformat_minor": 4
}
