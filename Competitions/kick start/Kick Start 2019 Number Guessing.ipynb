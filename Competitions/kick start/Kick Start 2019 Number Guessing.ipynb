{
 "cells": [
  {
   "cell_type": "markdown",
   "metadata": {},
   "source": [
    "# Kick Start 2019 Number Guessing (practice round)\n",
    "\n",
    "\n",
    "![image.png](../../PrtSc/kick start/practice round/q1.png)\n",
    "\n",
    "![image.png](../../PrtSc/google_competitions/Screenshot_2020-08-16_12-37-25.png)"
   ]
  },
  {
   "cell_type": "code",
   "execution_count": null,
   "metadata": {},
   "outputs": [],
   "source": [
    "import sys\n",
    "def Solution(low, high):\n",
    "    mid = (high + low) //2\n",
    "    print(mid)\n",
    "    sys.stdout.flush()  \n",
    "    answer = input()\n",
    "    if answer ==  \"CORRECT\":\n",
    "        return\n",
    "    elif answer == \"TOO_SMALL\":\n",
    "        low = mid+1\n",
    "    else:\n",
    "        high = mid-1     \n",
    "    Solution(low, high)\n",
    "T = int(input())\n",
    "for _ in range(T):\n",
    "    a, b = map(int, input().split())\n",
    "    _ = int(input())\n",
    "    Solution(a+1, b)"
   ]
  },
  {
   "cell_type": "code",
   "execution_count": null,
   "metadata": {},
   "outputs": [],
   "source": [
    "import sys\n",
    "\n",
    "def solve(a, b):\n",
    "  m = (a + b) // 2\n",
    "  print(m)\n",
    "  sys.stdout.flush()\n",
    "  s = input()\n",
    "  if s == \"CORRECT\":\n",
    "    return\n",
    "  elif s == \"TOO_SMALL\":\n",
    "    a = m + 1\n",
    "  else:\n",
    "    b = m - 1\n",
    "  solve(a, b)\n",
    "\n",
    "T = int(input())\n",
    "for _ in range(T):\n",
    "  a, b = map(int, input().split())\n",
    "  _ = int(input())\n",
    "  solve(a + 1, b)"
   ]
  },
  {
   "cell_type": "code",
   "execution_count": 9,
   "metadata": {},
   "outputs": [
    {
     "name": "stdout",
     "output_type": "stream",
     "text": [
      "abx\n",
      "['a', 'abx']\n"
     ]
    }
   ],
   "source": [
    "x = \"a abx\"\n",
    "z = x.split()\n",
    "print(z[-1])\n",
    "print(z)"
   ]
  },
  {
   "cell_type": "code",
   "execution_count": null,
   "metadata": {},
   "outputs": [],
   "source": []
  }
 ],
 "metadata": {
  "kernelspec": {
   "display_name": "Python 3",
   "language": "python",
   "name": "python3"
  },
  "language_info": {
   "codemirror_mode": {
    "name": "ipython",
    "version": 3
   },
   "file_extension": ".py",
   "mimetype": "text/x-python",
   "name": "python",
   "nbconvert_exporter": "python",
   "pygments_lexer": "ipython3",
   "version": "3.8.3"
  }
 },
 "nbformat": 4,
 "nbformat_minor": 4
}
