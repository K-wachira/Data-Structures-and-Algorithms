{
 "cells": [
  {
   "cell_type": "markdown",
   "metadata": {},
   "source": [
    "# Partition Labels\n",
    "\n",
    "[Question Link](https://leetcode.com/explore/challenge/card/september-leetcoding-challenge/554/week-1-september-1st-september-7th/3448/)\n",
    "\n",
    "A string S of lowercase English letters is given. We want to partition this string into as many parts as possible so that each letter appears in at most one part, and return a list of integers representing the size of these parts.\n",
    "\n",
    " \n",
    "\n",
    "Example 1:\n",
    "\n",
    "Input: S = \"ababcbacadefegdehijhklij\"\n",
    "Output: [9,7,8]\n",
    "Explanation:\n",
    "The partition is \"ababcbaca\", \"defegde\", \"hijhklij\".\n",
    "This is a partition so that each letter appears in at most one part.\n",
    "A partition like \"ababcbacadefegde\", \"hijhklij\" is incorrect, because it splits S into less parts.\n"
   ]
  },
  {
   "cell_type": "code",
   "execution_count": 33,
   "metadata": {},
   "outputs": [
    {
     "name": "stdout",
     "output_type": "stream",
     "text": [
      "{'a': 8, 'b': 5, 'c': 7, 'd': 14, 'e': 15, 'f': 11, 'g': 13, 'h': 19, 'i': 22, 'j': 23, 'k': 20, 'l': 21}\n"
     ]
    },
    {
     "data": {
      "text/plain": [
       "[9, 7, 8]"
      ]
     },
     "execution_count": 33,
     "metadata": {},
     "output_type": "execute_result"
    }
   ],
   "source": [
    "class Solution:\n",
    "    def partitionLabels(self, S: str) :\n",
    "        dic = {}\n",
    "        ans = []\n",
    "        for i in range(len(S)):\n",
    "            dic[S[i]] = i\n",
    "            \n",
    "        print(dic)\n",
    "        \n",
    "        i = 0\n",
    "        while i < len(S):\n",
    "            index = dic[S[i]]\n",
    "            j = i\n",
    "        \n",
    "            while j < index: \n",
    "                if dic[S[j]] > index :\n",
    "                    index = dic[S[j]]\n",
    "                j+=1\n",
    "            ans.append(index-i+1)\n",
    "            i = index+1\n",
    "        return ans\n",
    "    \n",
    "S = \"ababcbaca defegdehijhklij\"\n",
    "           \n",
    "\n",
    "obj = Solution()\n",
    "obj.partitionLabels(S)"
   ]
  },
  {
   "cell_type": "code",
   "execution_count": null,
   "metadata": {},
   "outputs": [],
   "source": [
    "class Solution:\n",
    "    def partitionLabels(self, S: str):\n",
    "\n",
    "        end_idx = {s: i for i, s in enumerate(S)}\n",
    "\n",
    "        start = 0\n",
    "        end = 0\n",
    "\n",
    "        result = []\n",
    "\n",
    "        for i, letter in enumerate(S):\n",
    "\n",
    "            end = max(end, end_idx[letter])\n",
    "\n",
    "            if i == end:\n",
    "                result.append(end - start + 1)\n",
    "                start = i + 1\n",
    "                \n",
    "        return result"
   ]
  },
  {
   "cell_type": "code",
   "execution_count": 50,
   "metadata": {},
   "outputs": [
    {
     "data": {
      "text/plain": [
       "[9, 7, 8]"
      ]
     },
     "execution_count": 50,
     "metadata": {},
     "output_type": "execute_result"
    }
   ],
   "source": [
    "class Solution:\n",
    "    def partitionLabels(self, S: str) :\n",
    "        dic = {}\n",
    "        partition =[]\n",
    "        for i in range(len(S)):\n",
    "            dic[S[i]] = i\n",
    "        i=0  \n",
    "        while i < (len(S)):\n",
    "            x = i\n",
    "            start = S[x]\n",
    "            for i in S[:dic[start]]:\n",
    "                x = max(x, dic[i])\n",
    "            partition.append(x+1- sum(partition) if partition else x+1)\n",
    "            i = x +2\n",
    "        return partition\n",
    "            \n",
    "        \n",
    "S = \"ababcbacadefegdehijhklij\"\n",
    "           \n",
    "\n",
    "obj = Solution()\n",
    "obj.partitionLabels(S)       "
   ]
  },
  {
   "cell_type": "code",
   "execution_count": null,
   "metadata": {},
   "outputs": [],
   "source": []
  }
 ],
 "metadata": {
  "kernelspec": {
   "display_name": "Python 3",
   "language": "python",
   "name": "python3"
  },
  "language_info": {
   "codemirror_mode": {
    "name": "ipython",
    "version": 3
   },
   "file_extension": ".py",
   "mimetype": "text/x-python",
   "name": "python",
   "nbconvert_exporter": "python",
   "pygments_lexer": "ipython3",
   "version": "3.8.3"
  }
 },
 "nbformat": 4,
 "nbformat_minor": 4
}
