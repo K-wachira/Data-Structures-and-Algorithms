{
 "cells": [
  {
   "cell_type": "markdown",
   "metadata": {},
   "source": [
    "# Word Pattern\n",
    "\n",
    "Given a pattern and a string str, find if str follows the same pattern.\n",
    "\n",
    "Here follow means a full match, such that there is a bijection between a letter in pattern and a non-empty word in str.\n",
    "\n",
    "Example 1:\n",
    "\n",
    "    Input: pattern = \"abba\", str = \"dog cat cat dog\"\n",
    "    Output: true\n",
    "\n",
    "Example 2:\n",
    "\n",
    "    Input:pattern = \"abba\", str = \"dog cat cat fish\"\n",
    "    Output: false\n",
    "\n",
    "Example 3:\n",
    "\n",
    "    Input: pattern = \"aaaa\", str = \"dog cat cat dog\"\n",
    "    Output: false\n",
    "\n",
    "Example 4:\n",
    "\n",
    "    Input: pattern = \"abba\", str = \"dog dog dog dog\"\n",
    "    Output: false\n",
    "\n",
    "\n",
    " You may assume pattern contains only lowercase letters, and str contains lowercase letters that may be separated by a single space.\n"
   ]
  },
  {
   "cell_type": "code",
   "execution_count": 39,
   "metadata": {},
   "outputs": [
    {
     "name": "stdout",
     "output_type": "stream",
     "text": [
      "['dog', 'dog', 'dog', 'dog'] \n",
      " abba\n"
     ]
    },
    {
     "data": {
      "text/plain": [
       "False"
      ]
     },
     "execution_count": 39,
     "metadata": {},
     "output_type": "execute_result"
    }
   ],
   "source": [
    "class Solution:\n",
    "    def wordPattern(self, pattern: str, str: str) -> bool:\n",
    "        dict = {}\n",
    "        str = str.split(' ')\n",
    "        postprocessing = set()\n",
    "        \n",
    "        print(str, '\\n', pattern)\n",
    "        for i in range(len(str)):\n",
    "            if pattern[i] not in dict.keys():\n",
    "                dict[pattern[i]] = str[i]\n",
    "            else:\n",
    "                if dict[pattern[i]] != str[i]:\n",
    "                    return False\n",
    "        \n",
    "        \n",
    "        for i in dict.values():\n",
    "            if i in postprocessing:\n",
    "                return False\n",
    "            else:\n",
    "                postprocessing.add(i)\n",
    "        return True\n",
    "            \n",
    "            \n",
    "          \n",
    "\n",
    "obj = Solution()\n",
    "\n",
    "\n",
    "pattern = \"abba\"\n",
    "str = \"dog dog dog dog\"\n",
    "\n",
    "obj.wordPattern(pattern, str)\n",
    "    \n",
    "                    "
   ]
  },
  {
   "cell_type": "code",
   "execution_count": 44,
   "metadata": {},
   "outputs": [
    {
     "name": "stdout",
     "output_type": "stream",
     "text": [
      "a dog 1\n",
      "b dog 2\n",
      "b dog 3\n",
      "a dog 4\n"
     ]
    }
   ],
   "source": [
    "\n",
    "pattern = \"abba\"\n",
    "str = \"dog dog dog dog\"\n",
    "\n",
    "str = str.split(' ')\n",
    "third = [1,2,3,4]\n",
    "for i,j, k in zip(pattern, str, third):\n",
    "    print(i, j,k)"
   ]
  },
  {
   "cell_type": "code",
   "execution_count": null,
   "metadata": {},
   "outputs": [],
   "source": []
  }
 ],
 "metadata": {
  "kernelspec": {
   "display_name": "Python 3",
   "language": "python",
   "name": "python3"
  },
  "language_info": {
   "codemirror_mode": {
    "name": "ipython",
    "version": 3
   },
   "file_extension": ".py",
   "mimetype": "text/x-python",
   "name": "python",
   "nbconvert_exporter": "python",
   "pygments_lexer": "ipython3",
   "version": "3.8.3"
  }
 },
 "nbformat": 4,
 "nbformat_minor": 4
}
