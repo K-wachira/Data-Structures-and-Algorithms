{
 "cells": [
  {
   "cell_type": "markdown",
   "metadata": {},
   "source": [
    "# Largest Time for Given Digits\n",
    "\n",
    "[Question Link](https://leetcode.com/explore/challenge/card/september-leetcoding-challenge/554/week-1-september-1st-september-7th/3445/)\n",
    "\n",
    "\n",
    "Given an array of 4 digits, return the largest 24 hour time that can be made.\n",
    "\n",
    "The smallest 24 hour time is 00:00, and the largest is 23:59.  Starting from 00:00, a time is larger if more time has elapsed since midnight.\n",
    "\n",
    "Return the answer as a string of length 5.  If no valid time can be made, return an empty string.\n",
    "\n",
    "\n",
    "## Example 1:\n",
    "\n",
    "    Input: [1,2,3,4]\n",
    "    Output: \"23:41\"\n"
   ]
  },
  {
   "cell_type": "code",
   "execution_count": 36,
   "metadata": {},
   "outputs": [
    {
     "name": "stdout",
     "output_type": "stream",
     "text": [
      "20\n"
     ]
    },
    {
     "data": {
      "text/plain": [
       "''"
      ]
     },
     "execution_count": 36,
     "metadata": {},
     "output_type": "execute_result"
    }
   ],
   "source": [
    "class Solution(object):\n",
    "    def largestTimeFromDigits(self, A):\n",
    "        \"\"\"\n",
    "        :type A: List[int]\n",
    "        :rtype: str\n",
    "        \"\"\"\n",
    "        T = ''\n",
    "        time = []\n",
    "                    \n",
    "        if min(A)> 2:\n",
    "                print(\"break\")\n",
    "                return ''\n",
    "      \n",
    "        while len(A) >0 :\n",
    "\n",
    "            \n",
    "            if 2 in A and not time :\n",
    "                time.append(2)\n",
    "                A.remove(2)\n",
    "                if 3 in A:\n",
    "                    time.append(3)\n",
    "                    A.remove(3)\n",
    "                elif 2 in A:\n",
    "                    time.append(2)\n",
    "                    A.remove(2)\n",
    "                elif 1 in A:\n",
    "                    time.append(1)\n",
    "                    A.remove(1)\n",
    "            elif 1 in A and not time:\n",
    "                time.append(1)\n",
    "                A.remove(1)\n",
    "                time.append(max(A))\n",
    "                A.remove(max(A))\n",
    "            elif 0 in A and not time:\n",
    "                time.append(0)\n",
    "                A.remove(0)\n",
    "                time.append(max(A))\n",
    "                A.remove(max(A))\n",
    "            \n",
    "               \n",
    "                \n",
    "            if len(time) == 2:\n",
    "                x = 0\n",
    "                for i in A:\n",
    "                    if i < 6:\n",
    "                        x = max(i, x)\n",
    "                time.append(x)\n",
    "                A.remove(x)\n",
    "            time.append(A[0])\n",
    "            A.clear()\n",
    "        \n",
    "        for i in time:\n",
    "            if len(T) == 2:\n",
    "                T +=':'\n",
    "            T +=  str(i)\n",
    "        print(T)\n",
    "        if len(T) == 5:\n",
    "            return T\n",
    "        return '' \n",
    "    \n",
    "    \n",
    "obj = Solution()\n",
    "A = [2,0,8,9]\n",
    "obj.largestTimeFromDigits(A)\n",
    "                \n",
    "                \n",
    "                \n",
    "            \n",
    "                \n",
    "                \n",
    "            "
   ]
  },
  {
   "cell_type": "code",
   "execution_count": 40,
   "metadata": {},
   "outputs": [
    {
     "data": {
      "text/plain": [
       "'09:28'"
      ]
     },
     "execution_count": 40,
     "metadata": {},
     "output_type": "execute_result"
    }
   ],
   "source": [
    "from typing import NoReturn, Set\n",
    "\n",
    "class Solution:\n",
    "    def largestTimeFromDigits(self, A) :\n",
    "        def solve(visited, ret, lst) :\n",
    "            if len(ret) == 4:\n",
    "                if ret[0] == '2' and ret[1] <= '3' and ret[2] <= '5':\n",
    "                    # print(ret)\n",
    "                    lst.add(ret)\n",
    "                if ret[0] <= '1' and ret[2] <= '5':\n",
    "                    # print(ret)\n",
    "                    lst.add(ret)\n",
    "            for i in range(len(A)):\n",
    "                if visited[i] == False:\n",
    "                    visited[i] = True\n",
    "                    solve(visited, f'{ret}{A[i]}', lst)\n",
    "                    visited[i] = False\n",
    "        \n",
    "        lst = set()\n",
    "        solve([False] * 4, '', lst)\n",
    "        \n",
    "        if len(lst) == 0:\n",
    "            return ''\n",
    "        \n",
    "        ret = max(lst)\n",
    "        \n",
    "        return f'{ret[:2]}:{ret[2:]}'\n",
    "\n",
    "        \n",
    "   \n",
    "    \n",
    "obj = Solution()\n",
    "A = [2,0,8,9]\n",
    "obj.largestTimeFromDigits(A)\n",
    "                "
   ]
  },
  {
   "cell_type": "code",
   "execution_count": null,
   "metadata": {},
   "outputs": [],
   "source": [
    "09:28"
   ]
  }
 ],
 "metadata": {
  "kernelspec": {
   "display_name": "Python 3",
   "language": "python",
   "name": "python3"
  },
  "language_info": {
   "codemirror_mode": {
    "name": "ipython",
    "version": 3
   },
   "file_extension": ".py",
   "mimetype": "text/x-python",
   "name": "python",
   "nbconvert_exporter": "python",
   "pygments_lexer": "ipython3",
   "version": "3.8.3"
  }
 },
 "nbformat": 4,
 "nbformat_minor": 4
}
