{
 "cells": [
  {
   "cell_type": "markdown",
   "metadata": {},
   "source": [
    "# Compare Version Numbers\n",
    "\n",
    "Compare two version numbers version1 and version2.\n",
    "If version1 > version2 return 1; if version1 < version2 return -1;otherwise return 0.\n",
    "\n",
    "You may assume that the version strings are non-empty and contain only digits and the . character.\n",
    "\n",
    "The . character does not represent a decimal point and is used to separate number sequences.\n",
    "\n",
    "For instance, 2.5 is not \"two and a half\" or \"half way to version three\", it is the fifth second-level revision of the second first-level revision.\n",
    "\n",
    "You may assume the default revision number for each level of a version number to be 0. For example, version number 3.4 has a revision number of 3 and 4 for its first and second level revision number. Its third and fourth level revision number are both 0.\n",
    "\n",
    "\n",
    "Example 1:\n",
    "\n",
    "    Input: version1 = \"0.1\", version2 = \"1.1\"\n",
    "    Output: -1\n",
    "\n",
    "Example 2:\n",
    "\n",
    "    Input: version1 = \"1.0.1\", version2 = \"1\"\n",
    "    Output: 1\n",
    "\n",
    "Example 3:\n",
    "\n",
    "    Input: version1 = \"7.5.2.4\", version2 = \"7.5.3\"\n",
    "    Output: -1\n",
    "\n",
    "Example 4:\n",
    "\n",
    "    Input: version1 = \"1.01\", version2 = \"1.001\"\n",
    "    Output: 0\n",
    "Explanation: Ignoring leading zeroes, both “01” and “001\" represent the same number “1”\n",
    "\n",
    "Example 5:\n",
    "\n",
    "    Input: version1 = \"1.0\", version2 = \"1.0.0\"\n",
    "    Output: 0\n",
    "Explanation: The first version number does not have a third level revision number, which means its third level revision number is default to \"0\"\n",
    "\n",
    " \n",
    "\n",
    "Note:\n",
    "\n",
    "    Version strings are composed of numeric strings separated by dots . and this numeric strings may have leading zeroes.\n",
    "    Version strings do not start or end with dots, and they will not be two consecutive dots.\n"
   ]
  },
  {
   "cell_type": "code",
   "execution_count": 32,
   "metadata": {},
   "outputs": [
    {
     "name": "stdout",
     "output_type": "stream",
     "text": [
      "['1', '1'] ['1', '01']\n"
     ]
    },
    {
     "data": {
      "text/plain": [
       "0"
      ]
     },
     "execution_count": 32,
     "metadata": {},
     "output_type": "execute_result"
    }
   ],
   "source": [
    "class Solution:\n",
    "    def compareVersion(self, version1: str, version2: str) -> int:\n",
    "            version1 = version1.split('.')\n",
    "            version2 = version2.split('.')\n",
    "\n",
    "            empty = []\n",
    "            difference = abs(len(version1)-len(version2))\n",
    "            empty = [0]*difference\n",
    "            if len(version1) > len(version2): version2.extend(empty)\n",
    "            elif len(version1) < len(version2) : version1.extend(empty)\n",
    "\n",
    "\n",
    "            print(version1, version2)\n",
    "            for i in range( len(max(version1, version2, key= len))):\n",
    "                        if int(version1[i]) > int(version2[i]):\n",
    "                            return 1\n",
    "                        elif int(version1[i]) < int(version2[i]):\n",
    "                            return -1\n",
    "\n",
    "            return 0\n",
    "        \n",
    "\n",
    "        \n",
    "obj = Solution()\n",
    "version1 = \"1.1\"\n",
    "version2 = \"1.01\"\n",
    "obj.compareVersion(version1, version2)"
   ]
  },
  {
   "cell_type": "code",
   "execution_count": 33,
   "metadata": {},
   "outputs": [
    {
     "data": {
      "text/plain": [
       "0"
      ]
     },
     "execution_count": 33,
     "metadata": {},
     "output_type": "execute_result"
    }
   ],
   "source": [
    "class Solution:\n",
    "    def compareVersion(self, version1: str, version2: str) -> int:\n",
    "        l1, l2 = version1.split('.'), version2.split('.')\n",
    "        n1, n2 = len(l1), len(l2)\n",
    "        \n",
    "        i = 0\n",
    "        for i in range(max(n1, n2)):\n",
    "            val1 = int(l1[i]) if i < n1 else 0\n",
    "            val2 = int(l2[i]) if i < n2 else 0\n",
    "            if val1 != val2:\n",
    "                return 1 if val1 > val2 else -1\n",
    "          \n",
    "        return 0\n",
    "    \n",
    "obj = Solution()\n",
    "version1 = \"1.1\"\n",
    "version2 = \"1.01\"\n",
    "obj.compareVersion(version1, version2)"
   ]
  },
  {
   "cell_type": "code",
   "execution_count": null,
   "metadata": {},
   "outputs": [],
   "source": []
  }
 ],
 "metadata": {
  "kernelspec": {
   "display_name": "Python 3",
   "language": "python",
   "name": "python3"
  },
  "language_info": {
   "codemirror_mode": {
    "name": "ipython",
    "version": 3
   },
   "file_extension": ".py",
   "mimetype": "text/x-python",
   "name": "python",
   "nbconvert_exporter": "python",
   "pygments_lexer": "ipython3",
   "version": "3.8.3"
  }
 },
 "nbformat": 4,
 "nbformat_minor": 4
}
