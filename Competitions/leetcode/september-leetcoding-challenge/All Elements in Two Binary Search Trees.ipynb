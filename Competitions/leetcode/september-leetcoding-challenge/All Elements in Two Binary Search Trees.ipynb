{
 "cells": [
  {
   "cell_type": "code",
   "execution_count": null,
   "metadata": {},
   "outputs": [],
   "source": [
    "# All Elements in Two Binary Search Trees"
   ]
  },
  {
   "cell_type": "code",
   "execution_count": 11,
   "metadata": {},
   "outputs": [],
   "source": [
    "# Definition for a binary tree node.\n",
    "class TreeNode:\n",
    "    def __init__(self, val=0, left=None, right=None):\n",
    "        self.val = val\n",
    "        self.left = left\n",
    "        self.right = right\n",
    "        \n",
    "        \n",
    "class Solution:\n",
    "    def getAllElements(self, root1: TreeNode, root2: TreeNode) :\n",
    "        def traverse(self,root1, root2):\n",
    "            if root1 != None:\n",
    "                x= self._traverse(root1 , [])\n",
    "            if root2 != None:\n",
    "                y = self._traverse(root2 , [])\n",
    "            return x+y\n",
    "\n",
    "\n",
    "        def _traverse(self, curr_node , listx):\n",
    "            if curr_node != None:\n",
    "                listx.append(curr_node.val)\n",
    "                if curr_node.left != None:\n",
    "                    self._traverse(curr_node.left)\n",
    "                if curr_node.right != None:\n",
    "                    self._traverse(curr_node.right)\n",
    "            return listx\n",
    "        \n",
    "        \n",
    "        z = self.traverse(root1, root2)\n",
    "       \n",
    "        return sorted(z)\n",
    "\n",
    "\n",
    "        \n",
    "    \n",
    "        "
   ]
  },
  {
   "cell_type": "code",
   "execution_count": null,
   "metadata": {},
   "outputs": [],
   "source": []
  }
 ],
 "metadata": {
  "kernelspec": {
   "display_name": "Python 3",
   "language": "python",
   "name": "python3"
  },
  "language_info": {
   "codemirror_mode": {
    "name": "ipython",
    "version": 3
   },
   "file_extension": ".py",
   "mimetype": "text/x-python",
   "name": "python",
   "nbconvert_exporter": "python",
   "pygments_lexer": "ipython3",
   "version": "3.8.3"
  }
 },
 "nbformat": 4,
 "nbformat_minor": 4
}
