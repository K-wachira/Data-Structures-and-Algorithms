{
 "cells": [
  {
   "cell_type": "markdown",
   "metadata": {},
   "source": [
    "# Iterator for Combination\n",
    "\n",
    "[Question Link](https://leetcode.com/explore/challenge/card/august-leetcoding-challenge/550/week-2-august-8th-august-14th/3422/)\n",
    "\n",
    "\n",
    "[Question Lema](https://docs.python.org/3/library/itertools.html#itertools.combinations)\n",
    "\n",
    "\n",
    "Design an Iterator class, which has:\n",
    "\n",
    "    A constructor that takes a string characters of sorted distinct lowercase English letters and a number combinationLength as arguments.\n",
    "    A function next() that returns the next combination of length combinationLength in lexicographical order.\n",
    "    A function hasNext() that returns True if and only if there exists a next combination.\n",
    "\n",
    "Example:\n",
    "\n",
    "```\n",
    "    CombinationIterator iterator = new CombinationIterator(\"abc\", 2); // creates the iterator.\n",
    "\n",
    "        iterator.next(); // returns \"ab\"\n",
    "        iterator.hasNext(); // returns true\n",
    "        iterator.next(); // returns \"ac\"\n",
    "        iterator.hasNext(); // returns true\n",
    "        iterator.next(); // returns \"bc\"\n",
    "        iterator.hasNext(); // returns false\n",
    "````"
   ]
  },
  {
   "cell_type": "code",
   "execution_count": 54,
   "metadata": {},
   "outputs": [
    {
     "name": "stdout",
     "output_type": "stream",
     "text": [
      "['ab', 'ac', 'bc']\n",
      "ab\n",
      "True\n",
      "ac\n",
      "True\n",
      "bc\n",
      "False\n"
     ]
    }
   ],
   "source": [
    "import itertools\n",
    "from itertools import combinations\n",
    "\n",
    "class CombinationIterator(object):\n",
    "\n",
    "    def __init__(self, characters, combinationLength):\n",
    "        \"\"\"\n",
    "        :type characters: str\n",
    "        :type combinationLength: int\n",
    "        \"\"\"\n",
    "        self.combination = []\n",
    "        self.counta = 0\n",
    "        self.combination = list(combinations(characters, combinationLength))\n",
    "        self.combination = [''.join(x) for x in self.combination]\n",
    "\n",
    "    def next(self):\n",
    "        \"\"\"\n",
    "        :rtype: str\n",
    "        \"\"\"\n",
    "        if self.hasNext():\n",
    "            str = self.combination[self.counta]\n",
    "            self.counta +=1\n",
    "            return str\n",
    "            \n",
    "\n",
    "    def hasNext(self):\n",
    "        \"\"\"\n",
    "        :rtype: bool\n",
    "        \"\"\"\n",
    "        return len(self.combination) > self.counta\n",
    "        \n",
    "\n",
    "\n",
    "# Your CombinationIterator object will be instantiated and called as such:\n",
    "characters = 'abc'\n",
    "combinationLength =2\n",
    "iterator = CombinationIterator(characters, combinationLength)\n",
    "\n",
    "a = iterator.next(); # returns \"ab\"\n",
    "print(a)\n",
    "b =iterator.hasNext();#  returns true\n",
    "print(b)\n",
    "c =iterator.next(); #returns \"ac\"\n",
    "print(c)\n",
    "d =iterator.hasNext(); #// returns true\n",
    "print(d)\n",
    "e =iterator.next(); #// returns \"bc\"\n",
    "print(e)\n",
    "f =iterator.hasNext();# // returns false\n",
    "print(f)"
   ]
  },
  {
   "cell_type": "code",
   "execution_count": 44,
   "metadata": {},
   "outputs": [
    {
     "name": "stdout",
     "output_type": "stream",
     "text": [
      "abc "
     ]
    }
   ],
   "source": []
  },
  {
   "cell_type": "code",
   "execution_count": null,
   "metadata": {},
   "outputs": [],
   "source": []
  }
 ],
 "metadata": {
  "kernelspec": {
   "display_name": "Python 3",
   "language": "python",
   "name": "python3"
  },
  "language_info": {
   "codemirror_mode": {
    "name": "ipython",
    "version": 3
   },
   "file_extension": ".py",
   "mimetype": "text/x-python",
   "name": "python",
   "nbconvert_exporter": "python",
   "pygments_lexer": "ipython3",
   "version": "3.8.3"
  }
 },
 "nbformat": 4,
 "nbformat_minor": 4
}
