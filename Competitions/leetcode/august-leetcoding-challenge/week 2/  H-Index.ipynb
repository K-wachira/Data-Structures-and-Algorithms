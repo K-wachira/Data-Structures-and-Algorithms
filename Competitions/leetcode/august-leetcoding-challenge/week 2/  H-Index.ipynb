{
 "cells": [
  {
   "cell_type": "markdown",
   "metadata": {},
   "source": [
    " # H-Index\n",
    " \n",
    " Given an array of citations (each citation is a non-negative integer) of a researcher, write a function to compute the researcher's h-index.\n",
    "\n",
    "According to the definition of h-index on Wikipedia: \"A scientist has index h if h of his/her N papers have at least h citations each,\n",
    "and the other N − h papers have no more than h citations each.\""
   ]
  },
  {
   "cell_type": "code",
   "execution_count": 16,
   "metadata": {},
   "outputs": [
    {
     "data": {
      "text/plain": [
       "3"
      ]
     },
     "execution_count": 16,
     "metadata": {},
     "output_type": "execute_result"
    }
   ],
   "source": [
    "class Solution(object):\n",
    "    def hIndex(self, citations):\n",
    "        \"\"\"\n",
    "        :type citations: List[int]\n",
    "        :rtype: int\n",
    "        \"\"\"\n",
    "        if not citations : return 0\n",
    "        \n",
    "        citations =sorted(citations , reverse = True)\n",
    "        \n",
    "        for i, n in enumerate(citations):\n",
    "            if i+1 == n:\n",
    "                return n\n",
    "            elif i+1 > n:\n",
    "                return i\n",
    "        return len(citations)\n",
    "            \n",
    "obj = Solution()\n",
    "citations = [3,0,6,1,5]\n",
    "obj.hIndex(citations)\n",
    "            "
   ]
  },
  {
   "cell_type": "code",
   "execution_count": null,
   "metadata": {},
   "outputs": [],
   "source": [
    "class Solution(object):\n",
    "    def hIndex(self, citations):\n",
    "        \"\"\"\n",
    "        :type citations: List[int]\n",
    "        :rtype: int\n",
    "        \"\"\"\n",
    "        # target: find the first index which make citations[i] >= len(citations) - i\n",
    "        return self.first(citations)\n",
    "        \n",
    "    \n",
    "    def first(self, citations):\n",
    "        citations.sort()\n",
    "        for i, num in enumerate(citations):\n",
    "            if num >= len(citations) - i:\n",
    "                return len(citations) - i\n",
    "        return 0\n",
    "    "
   ]
  }
 ],
 "metadata": {
  "kernelspec": {
   "display_name": "Python 3",
   "language": "python",
   "name": "python3"
  },
  "language_info": {
   "codemirror_mode": {
    "name": "ipython",
    "version": 3
   },
   "file_extension": ".py",
   "mimetype": "text/x-python",
   "name": "python",
   "nbconvert_exporter": "python",
   "pygments_lexer": "ipython3",
   "version": "3.8.3"
  }
 },
 "nbformat": 4,
 "nbformat_minor": 4
}
