{
 "cells": [
  {
   "cell_type": "markdown",
   "metadata": {},
   "source": [
    "  # Pascal's Triangle II\n",
    "    \n",
    "Given a non-negative index k where k ≤ 33, return the kth index row of the Pascal's triangle.\n",
    "\n",
    "Note that the row index starts from 0.\n",
    "\n",
    "\n",
    "In Pascal's triangle, each number is the sum of the two numbers directly above it."
   ]
  },
  {
   "cell_type": "code",
   "execution_count": 47,
   "metadata": {},
   "outputs": [
    {
     "name": "stdout",
     "output_type": "stream",
     "text": [
      "[[1], [1, 1], [1, 2, 1]]\n",
      "[1, 2, 1]\n",
      "[[1], [1, 1], [1, 2, 1], [1, 3, 3, 1]]\n",
      "[1, 3, 3, 1]\n",
      "[[1], [1, 1], [1, 2, 1], [1, 3, 3, 1], [1, 4, 6, 4, 1]]\n",
      "[1, 4, 6, 4, 1]\n",
      "[[1], [1, 1], [1, 2, 1], [1, 3, 3, 1], [1, 4, 6, 4, 1], [1, 5, 10, 10, 5, 1]]\n",
      "[1, 5, 10, 10, 5, 1]\n"
     ]
    },
    {
     "data": {
      "text/plain": [
       "[1, 3, 3, 1]"
      ]
     },
     "execution_count": 47,
     "metadata": {},
     "output_type": "execute_result"
    }
   ],
   "source": [
    "class Solution(object):\n",
    "    def getRow(self, rowIndex):\n",
    "        \"\"\"\n",
    "        :type rowIndex: int\n",
    "        :rtype: List[int]\n",
    "        \"\"\"\n",
    "        init =  [[1], [1,1] ]\n",
    "        x = 0\n",
    "        newrow = []\n",
    "        while  x <= rowIndex:\n",
    "            nums = init[len(init)-1]\n",
    "            newrow =[1]\n",
    "            for i, n  in enumerate(nums):\n",
    "                if i < len(nums)-1:\n",
    "                    num = nums[i] +nums[i+1]\n",
    "                    newrow.append(num)\n",
    "                \n",
    "            \n",
    "            newrow.append(1)\n",
    "            init.append(newrow)\n",
    "            print(init)\n",
    "            print(newrow)\n",
    "#             init = newrow\n",
    "            newrow = [1]\n",
    "            x+=1\n",
    "        return init[rowIndex]\n",
    "\n",
    "obj =Solution()\n",
    "obj.getRow(3)"
   ]
  },
  {
   "cell_type": "code",
   "execution_count": 54,
   "metadata": {},
   "outputs": [
    {
     "data": {
      "text/plain": [
       "[1, 5, 10, 10, 5, 1]"
      ]
     },
     "execution_count": 54,
     "metadata": {},
     "output_type": "execute_result"
    }
   ],
   "source": [
    "class Solution(object):\n",
    "    def getRow(self, rowIndex):\n",
    "        \"\"\"\n",
    "        :type rowIndex: int\n",
    "        :rtype: List[int]\n",
    "        \"\"\"\n",
    "        init =  [[1], [1,1] ]\n",
    "        x = 0\n",
    "        newrow = []\n",
    "        while  x <= rowIndex:\n",
    "            nums = init[len(init)-1]\n",
    "            newrow =[1]\n",
    "            for i, n  in enumerate(nums):\n",
    "                if i < len(nums)-1:\n",
    "                    num = nums[i] +nums[i+1]\n",
    "                    newrow.append(num)\n",
    "                \n",
    "            \n",
    "            newrow.append(1)\n",
    "            init.append(newrow)\n",
    "            newrow = [1]\n",
    "            x+=1\n",
    "        return init[rowIndex]\n",
    "\n",
    "obj =Solution()\n",
    "obj.getRow(5)"
   ]
  },
  {
   "cell_type": "code",
   "execution_count": null,
   "metadata": {},
   "outputs": [],
   "source": []
  }
 ],
 "metadata": {
  "kernelspec": {
   "display_name": "Python 3",
   "language": "python",
   "name": "python3"
  },
  "language_info": {
   "codemirror_mode": {
    "name": "ipython",
    "version": 3
   },
   "file_extension": ".py",
   "mimetype": "text/x-python",
   "name": "python",
   "nbconvert_exporter": "python",
   "pygments_lexer": "ipython3",
   "version": "3.8.3"
  }
 },
 "nbformat": 4,
 "nbformat_minor": 4
}
