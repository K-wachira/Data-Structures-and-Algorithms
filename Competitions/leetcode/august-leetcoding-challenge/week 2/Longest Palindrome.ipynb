{
 "cells": [
  {
   "cell_type": "markdown",
   "metadata": {},
   "source": [
    "# Longest Palindrome\n",
    "\n",
    "[Question link]()\n",
    "\n",
    "Given a string which consists of lowercase or uppercase letters, find the length of the longest palindromes that can be built with those letters.\n",
    "\n",
    "This is case sensitive, for example \"Aa\" is not considered a palindrome here.\n",
    "\n",
    "# Note:\n",
    "\n",
    "Assume the length of given string will not exceed 1,010. \n",
    "\n",
    "# Example: \n",
    "```  Input:\n",
    "    \"abccccdd\"\n",
    "\n",
    "    Output:\n",
    "    7\n",
    "\n",
    "    Explanation:\n",
    "    One longest palindrome that can be built is \"dccaccd\", whose length is 7. ````"
   ]
  },
  {
   "cell_type": "code",
   "execution_count": 15,
   "metadata": {},
   "outputs": [
    {
     "name": "stdout",
     "output_type": "stream",
     "text": [
      "dict_values([2, 1, 3, 2, 1])\n"
     ]
    },
    {
     "data": {
      "text/plain": [
       "8"
      ]
     },
     "execution_count": 15,
     "metadata": {},
     "output_type": "execute_result"
    }
   ],
   "source": [
    "from collections import Counter\n",
    "import math\n",
    "\n",
    "class Solution(object):\n",
    "    def longestPalindrome(self, s):\n",
    "        hashtable = Counter(s).values()\n",
    "        print(hashtable)\n",
    "        Values = []\n",
    "        sumSoFar =0\n",
    "        Maxodd = 0\n",
    "        for i in hashtable:\n",
    "            if i% 2 == 0:\n",
    "                sumSoFar +=i\n",
    "            else:\n",
    "                if i > Maxodd:\n",
    "                    sumSoFar -=Maxodd\n",
    "                    sumSoFar += math.floor(Maxodd/2)\n",
    "                    Maxodd = i\n",
    "                    sumSoFar+=Maxodd\n",
    "                else:\n",
    "                    sumSoFar += math.floor(Maxodd/2)    \n",
    "        return sumSoFar\n",
    "                    \n",
    "                    \n",
    "obj = Solution()\n",
    "s = '\"bananas\"'\n",
    "obj.longestPalindrome(s)"
   ]
  },
  {
   "cell_type": "code",
   "execution_count": null,
   "metadata": {},
   "outputs": [],
   "source": [
    "1133311"
   ]
  },
  {
   "cell_type": "code",
   "execution_count": 52,
   "metadata": {},
   "outputs": [
    {
     "name": "stdout",
     "output_type": "stream",
     "text": [
      "Counter({'e': 142, 't': 106, 'a': 87, 'o': 78, 'h': 74, 'r': 67, 'n': 61, 'i': 53, 'd': 52, 'l': 41, 's': 40, 'f': 26, 'c': 25, 'w': 23, 'g': 23, 'v': 22, 'u': 17, 'p': 16, 'm': 13, 'b': 11, 'y': 8, 'I': 3, 'k': 3, 'W': 2, 'T': 2, 'q': 1, 'z': 1, 'B': 1, 'G': 1})\n",
      "[25, 53, 41, 23, 67, 61, 23, 17, 1, 13, 11, 1, 3, 1, 3, 1] 87\n",
      "25 12\n",
      "53 26\n",
      "41 20\n",
      "23 11\n",
      "67 33\n",
      "61 30\n",
      "23 11\n",
      "17 8\n",
      "1 0\n",
      "13 6\n",
      "11 5\n",
      "1 0\n",
      "3 1\n",
      "1 0\n",
      "3 1\n",
      "1 0\n"
     ]
    },
    {
     "data": {
      "text/plain": [
       "983"
      ]
     },
     "execution_count": 52,
     "metadata": {},
     "output_type": "execute_result"
    }
   ],
   "source": [
    "class Solution(object):\n",
    "    def longestPalindrome(self, s):\n",
    "        \"\"\"\n",
    "        :type s: str\n",
    "        :rtype: int\n",
    "        \"\"\"\n",
    "        hashtable = Counter(s)\n",
    "        print(hashtable)\n",
    "        sumSoFar =0\n",
    "        oddValues = []\n",
    "        \n",
    "        for i in hashtable.values():\n",
    "            if i % 2 == 0:\n",
    "                sumSoFar += i\n",
    "            else:\n",
    "                oddValues.append(i)\n",
    "                \n",
    "        center = max(oddValues)    \n",
    "        oddValues.remove(center)\n",
    "        sumSoFar += center\n",
    "        print(oddValues, center)\n",
    "        \n",
    "        for i in oddValues:\n",
    "            print(i, math.floor(i/2) )\n",
    "            sumSoFar += i -1\n",
    "        return sumSoFar\n",
    "                \n",
    "            \n",
    "      \n",
    "       \n",
    "        \n",
    "obj = Solution()\n",
    "s = \"civilwartestingwhetherthatnaptionoranynartionsoconceivedandsodedicatedcanlongendureWeareqmetonagreatbattlefiemldoftzhatwarWehavecometodedicpateaportionofthatfieldasafinalrestingplaceforthosewhoheregavetheirlivesthatthatnationmightliveItisaltogetherfangandproperthatweshoulddothisButinalargersensewecannotdedicatewecannotconsecratewecannothallowthisgroundThebravelmenlivinganddeadwhostruggledherehaveconsecrateditfaraboveourpoorponwertoaddordetractTgheworldadswfilllittlenotlenorlongrememberwhatwesayherebutitcanneverforgetwhattheydidhereItisforusthelivingrathertobededicatedheretotheulnfinishedworkwhichtheywhofoughtherehavethusfarsonoblyadvancedItisratherforustobeherededicatedtothegreattdafskremainingbeforeusthatfromthesehonoreddeadwetakeincreaseddevotiontothatcauseforwhichtheygavethelastpfullmeasureofdevotionthatweherehighlyresolvethatthesedeadshallnothavediedinvainthatthisnationunsderGodshallhaveanewbirthoffreedomandthatgovernmentofthepeoplebythepeopleforthepeopleshallnotperishfromtheearth\"\n",
    "obj.longestPalindrome(s)\n",
    "        "
   ]
  },
  {
   "cell_type": "code",
   "execution_count": null,
   "metadata": {},
   "outputs": [],
   "source": [
    "class Solution(object):\n",
    "    def longestPalindrome(self, s):\n",
    "        \"\"\"\n",
    "        :type s: str\n",
    "        :rtype: int\n",
    "        \"\"\"\n",
    "        result=0\n",
    "        flag=0\n",
    "        c={}\n",
    "        for i in s:\n",
    "            if i in c:\n",
    "                c[i]+=1\n",
    "            else:\n",
    "                c[i]=1\n",
    "        for key, value in c.items():\n",
    "            if value%2==0:\n",
    "                result+=value\n",
    "            else:\n",
    "                flag=1\n",
    "                if value>1:\n",
    "                    result+=(value-1)\n",
    "        if flag==0:\n",
    "            return result\n",
    "        else:\n",
    "            return result+1\n",
    "\n"
   ]
  }
 ],
 "metadata": {
  "kernelspec": {
   "display_name": "Python 3",
   "language": "python",
   "name": "python3"
  },
  "language_info": {
   "codemirror_mode": {
    "name": "ipython",
    "version": 3
   },
   "file_extension": ".py",
   "mimetype": "text/x-python",
   "name": "python",
   "nbconvert_exporter": "python",
   "pygments_lexer": "ipython3",
   "version": "3.8.3"
  }
 },
 "nbformat": 4,
 "nbformat_minor": 4
}
