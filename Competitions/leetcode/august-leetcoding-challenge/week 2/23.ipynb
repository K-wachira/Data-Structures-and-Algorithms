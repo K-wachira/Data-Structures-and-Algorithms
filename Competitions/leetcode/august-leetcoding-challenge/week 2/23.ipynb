{
 "cells": [
  {
   "cell_type": "code",
   "execution_count": 67,
   "metadata": {},
   "outputs": [
    {
     "name": "stdout",
     "output_type": "stream",
     "text": [
      "3 3\n",
      "5 3\n",
      "-3 99\n"
     ]
    },
    {
     "data": {
      "text/plain": [
       "3"
      ]
     },
     "execution_count": 67,
     "metadata": {},
     "output_type": "execute_result"
    }
   ],
   "source": [
    "\n",
    "import math\n",
    "\n",
    "# find the path \n",
    "\n",
    "def simple( nums, sum):\n",
    "    \n",
    "# #     where i is the index of the parent on the root, the child index are on indexes \n",
    "#     child1 = 2*i +1\n",
    "#     child2 = 2*i +2\n",
    "# #     where j is the index of either the left or right child, the parent of the two children is \n",
    "#     parent = math.ceil(j/2) -1\n",
    "    \n",
    "\n",
    "    for i in range(len(nums)-1):\n",
    "         return _path( nums, sum, i, 0)\n",
    "            \n",
    "\n",
    "def _path(nums, sum, index, counta ):\n",
    "    child1 = 2*index +1\n",
    "    child2 = 2*index +2\n",
    "    if index == len(nums)-1: return counta #when done \n",
    "    \n",
    "    \n",
    "    if nums[index] == 99: #when null\n",
    "        _path(nums, sum, index+1, counta)\n",
    "        \n",
    "    if sum == index:\n",
    "          counta+=1\n",
    "   \n",
    "    if child1 != 99 and child1 < len(nums)-1:\n",
    "        if nums[index] + nums[child1] == sum:\n",
    "            print( nums[index],nums[child1] )\n",
    "            counta +=1\n",
    "        elif nums[index] + nums[child1] < sum:\n",
    "            newsum = sum -( nums[index] + nums[child1])\n",
    "            _path( nums, newsum, child1, counta)\n",
    "            \n",
    "\n",
    "        \n",
    "        \n",
    "    if child2 != 99 and child1 < len(nums)-1:\n",
    "        if nums[index] + nums[child2] == sum:\n",
    "            counta+=1\n",
    "            print( nums[index],nums[child1] )\n",
    "\n",
    "        if nums[index] + nums[child2] < sum:\n",
    "            newsum = sum - (nums[index] + nums[child2])\n",
    "            _path(nums, newsum, child2, counta)\n",
    "    return _path(nums, sum, index+1, counta)\n",
    "    \n",
    "root = [10,5,-3,3,2,99,11,3,-2,99,1]\n",
    "sum = 8\n",
    "\n",
    "simple(root, sum )"
   ]
  },
  {
   "cell_type": "code",
   "execution_count": null,
   "metadata": {},
   "outputs": [],
   "source": []
  }
 ],
 "metadata": {
  "kernelspec": {
   "display_name": "Python 3",
   "language": "python",
   "name": "python3"
  },
  "language_info": {
   "codemirror_mode": {
    "name": "ipython",
    "version": 3
   },
   "file_extension": ".py",
   "mimetype": "text/x-python",
   "name": "python",
   "nbconvert_exporter": "python",
   "pygments_lexer": "ipython3",
   "version": "3.8.3"
  }
 },
 "nbformat": 4,
 "nbformat_minor": 4
}
