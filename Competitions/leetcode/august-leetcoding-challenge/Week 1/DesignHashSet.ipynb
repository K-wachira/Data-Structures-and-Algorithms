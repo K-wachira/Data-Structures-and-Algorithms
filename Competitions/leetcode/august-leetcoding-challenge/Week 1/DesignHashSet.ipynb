{
 "cells": [
  {
   "cell_type": "markdown",
   "metadata": {},
   "source": [
    " # Design HashSet\n",
    " [Question Link](https://leetcode.com/explore/featured/card/august-leetcoding-challenge/549/week-1-august-1st-august-7th/3410/)\n",
    " \n",
    "Design a HashSet without using any built-in hash table libraries.\n",
    "\n",
    "To be specific, your design should include these functions:\n",
    "\n",
    "    - add(value): Insert a value into the HashSet. \n",
    "    - contains(value) : Return whether the value exists in the HashSet or not.\n",
    "    - remove(value): Remove a value in the HashSet. If the value does not exist in the HashSet, do nothing.\n",
    "    \n",
    "## Approach \n",
    "\n",
    "1. Initialize an empty container \n",
    "   NB since we are creating a hashset we have to use a set as out container formart to avoid having dublicates\n",
    "2. Use python inbuilt methods for `set` to perfom the add() and remove() methods on our container\n",
    "   For looking if it exists use `if in ..`\n",
    "   \n",
    "\n"
   ]
  },
  {
   "cell_type": "code",
   "execution_count": 6,
   "metadata": {},
   "outputs": [
    {
     "name": "stdout",
     "output_type": "stream",
     "text": [
      "True\n",
      "False\n",
      "True\n",
      "False\n"
     ]
    }
   ],
   "source": [
    "class MyHashSet(object):\n",
    "\n",
    "    def __init__(self):\n",
    "        \"\"\"\n",
    "        Initialize your data structure here.\n",
    "        \"\"\"\n",
    "        self.bucket = set()\n",
    "        \n",
    "\n",
    "    def add(self, key):\n",
    "        \"\"\"\n",
    "        :type key: int\n",
    "        :rtype: None\n",
    "        \"\"\"\n",
    "        self.bucket.add(key)\n",
    "        \n",
    "\n",
    "    def remove(self, key):\n",
    "        \"\"\"\n",
    "        :type key: int\n",
    "        :rtype: None\n",
    "        \"\"\"\n",
    "        self.bucket.discard(key)\n",
    "        \n",
    "\n",
    "    def contains(self, key):\n",
    "        \"\"\"\n",
    "        Returns true if this set contains the specified element\n",
    "        :type key: int\n",
    "        :rtype: bool\n",
    "        \"\"\"\n",
    "        if key in self.bucket:\n",
    "            return True\n",
    "        else:\n",
    "            return False\n",
    "        \n",
    "\n",
    "\n",
    "# Your MyHashSet object will be instantiated and called as such:\n",
    "[\"MyHashSet\",\"add\",\"add\",\"contains\",\"contains\",\"add\",\"contains\",\"remove\",\"contains\"]\n",
    "[[],[1],[2],[1],[3],[2],[2],[2],[2]]\n",
    "obj = MyHashSet()\n",
    "obj.add(1)\n",
    "obj.add(2)\n",
    "print(obj.contains(1))\n",
    "print(obj.contains(3))\n",
    "obj.add(2)\n",
    "print(obj.contains(2))\n",
    "obj.remove(2)\n",
    "print(obj.contains(2))\n",
    "\n",
    "\n",
    "\n",
    "\n"
   ]
  },
  {
   "cell_type": "code",
   "execution_count": null,
   "metadata": {},
   "outputs": [],
   "source": []
  }
 ],
 "metadata": {
  "kernelspec": {
   "display_name": "Python 3",
   "language": "python",
   "name": "python3"
  },
  "language_info": {
   "codemirror_mode": {
    "name": "ipython",
    "version": 3
   },
   "file_extension": ".py",
   "mimetype": "text/x-python",
   "name": "python",
   "nbconvert_exporter": "python",
   "pygments_lexer": "ipython3",
   "version": "3.8.3"
  }
 },
 "nbformat": 4,
 "nbformat_minor": 4
}
