{
 "cells": [
  {
   "cell_type": "markdown",
   "metadata": {},
   "source": [
    "  # Detect Capital\n",
    "  \n",
    "  [Question Link](https://leetcode.com/explore/featured/card/august-leetcoding-challenge/549/week-1-august-1st-august-7th/3409/)\n",
    "  \n",
    "Given a word, you need to judge whether the usage of capitals in it is right or not.\n",
    "\n",
    "We define the usage of capitals in a word to be right when one of the following cases holds:\n",
    "\n",
    "    All letters in this word are capitals, like \"USA\".\n",
    "    All letters in this word are not capitals, like \"leetcode\".\n",
    "    Only the first letter in this word is capital, like \"Google\".\n",
    "\n",
    "Otherwise, we define that this word doesn't use capitals in a right way. \n",
    "\n",
    "***\n",
    "### Approach 1(User Python inbuilt methods)\n",
    "\n",
    "1. isupper() checks if every letter is in capitals\n",
    "2. islower() checks if every letter is in lowercase\n",
    "3. for thr third case first check if the first letter is upper and the rest of the letter a\n"
   ]
  },
  {
   "cell_type": "code",
   "execution_count": 4,
   "metadata": {},
   "outputs": [
    {
     "data": {
      "text/plain": [
       "True"
      ]
     },
     "execution_count": 4,
     "metadata": {},
     "output_type": "execute_result"
    }
   ],
   "source": [
    "class Solution(object):\n",
    "        def detectCapitalUse(self, word):\n",
    "            \"\"\"\n",
    "            :type word: str\n",
    "            :rtype: bool\n",
    "            \"\"\"\n",
    "            return word.isupper() or word.islower() or (word[0].isupper() and word[1:].islower())\n",
    "    \n",
    "results = Solution()\n",
    "word = \"Google\"\n",
    "results.detectCapitalUse(word)\n",
    "        "
   ]
  },
  {
   "cell_type": "code",
   "execution_count": null,
   "metadata": {},
   "outputs": [],
   "source": []
  }
 ],
 "metadata": {
  "kernelspec": {
   "display_name": "Python 3",
   "language": "python",
   "name": "python3"
  },
  "language_info": {
   "codemirror_mode": {
    "name": "ipython",
    "version": 3
   },
   "file_extension": ".py",
   "mimetype": "text/x-python",
   "name": "python",
   "nbconvert_exporter": "python",
   "pygments_lexer": "ipython3",
   "version": "3.8.3"
  }
 },
 "nbformat": 4,
 "nbformat_minor": 4
}
