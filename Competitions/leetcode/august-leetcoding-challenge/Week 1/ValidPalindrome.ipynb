{
 "cells": [
  {
   "cell_type": "markdown",
   "metadata": {},
   "source": [
    "  # Valid Palindrome\n",
    "  \n",
    " (Reads the same from the back and front)\n",
    "  \n",
    " [Question Link](https://leetcode.com/explore/challenge/card/august-leetcoding-challenge/549/week-1-august-1st-august-7th/3411/)\n",
    " \n",
    " Given a string, determine if it is a palindrome, considering only alphanumeric characters and ignoring cases.\n",
    "\n",
    "Note: For the purpose of this problem, we define empty string as valid palindrome.\n",
    "Constraints:\n",
    "\n",
    "    s consists only of printable ASCII characters.\n",
    "***\n",
    "## Approach 1(Iterating )\n",
    "\n",
    "### Steps ::\n",
    "\n",
    "1. Strip everything thats not part of a-z and convert what you get after striping to lowwer case\n",
    "2. Check if the new `s` is same as `s` reversed\n",
    "\n",
    "Approach 1 is slower than Approach 2\n",
    "  "
   ]
  },
  {
   "cell_type": "code",
   "execution_count": 33,
   "metadata": {},
   "outputs": [
    {
     "data": {
      "text/plain": [
       "False"
      ]
     },
     "execution_count": 33,
     "metadata": {},
     "output_type": "execute_result"
    }
   ],
   "source": [
    "class Solution(object):\n",
    "    def isPalindrome(self, s):\n",
    "        \"\"\"\n",
    "        :type s: str\n",
    "        :rtype: bool\n",
    "        \"\"\"\n",
    "        if s == '': return True   # check if its empty\n",
    "\n",
    "        news = \"\"\n",
    "        for i in s:\n",
    "            if i.isalnum():\n",
    "                news+=i.lower()\n",
    "        return (news == news[::-1])\n",
    "        \n",
    "        \n",
    "obj = Solution()\n",
    "s =  \"A man, a plan, a canal: Panama2\"\n",
    "obj.isPalindrome(s)\n",
    "            \n",
    "        "
   ]
  },
  {
   "cell_type": "markdown",
   "metadata": {},
   "source": [
    "## Approach 2(using regular Expresion)\n",
    "\n",
    "### Steps ::\n",
    "\n",
    "1. Strip the `s.lower()` to only contain `letters` and `numbers`\n",
    "2. Compare the newS to newS reversed\n",
    "\n",
    "\n",
    "\n"
   ]
  },
  {
   "cell_type": "code",
   "execution_count": 32,
   "metadata": {},
   "outputs": [
    {
     "data": {
      "text/plain": [
       "True"
      ]
     },
     "execution_count": 32,
     "metadata": {},
     "output_type": "execute_result"
    }
   ],
   "source": [
    "import re\n",
    "class Solution2(object):\n",
    "    def isPalindrome(self, s):\n",
    "        \"\"\"\n",
    "        :type s: str\n",
    "        :rtype: bool\n",
    "        \"\"\"\n",
    "        if s == '': return True   # check if its empty\n",
    "        \n",
    "        news = re.sub(\"[^a-zA-Z0-9]\",        # Anything except 0..9, a..z and A..Z\n",
    "               \"\",                # replaced with nothing\n",
    "                s.lower())\n",
    "        return news == news[::-1]\n",
    "        \n",
    "        \n",
    "        \n",
    "        \n",
    "obj = Solution2()\n",
    "s =  \"A man, a plan, a canal: Panama\"\n",
    "obj.isPalindrome(s)\n",
    "            "
   ]
  },
  {
   "cell_type": "code",
   "execution_count": null,
   "metadata": {},
   "outputs": [],
   "source": []
  }
 ],
 "metadata": {
  "kernelspec": {
   "display_name": "Python 3",
   "language": "python",
   "name": "python3"
  },
  "language_info": {
   "codemirror_mode": {
    "name": "ipython",
    "version": 3
   },
   "file_extension": ".py",
   "mimetype": "text/x-python",
   "name": "python",
   "nbconvert_exporter": "python",
   "pygments_lexer": "ipython3",
   "version": "3.8.3"
  }
 },
 "nbformat": 4,
 "nbformat_minor": 4
}
