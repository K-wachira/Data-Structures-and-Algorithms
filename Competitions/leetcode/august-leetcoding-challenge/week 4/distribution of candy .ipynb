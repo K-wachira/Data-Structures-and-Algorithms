{
 "cells": [
  {
   "cell_type": "code",
   "execution_count": 17,
   "metadata": {},
   "outputs": [
    {
     "name": "stdout",
     "output_type": "stream",
     "text": [
      "[0, 0, 0, 0]\n",
      "5\n",
      "1\n",
      "[1, 2, 0, 0]\n"
     ]
    }
   ],
   "source": [
    "class Solution(object):\n",
    "    def distributeCandies(self, candies, num_people):\n",
    "        \"\"\"\n",
    "        :type candies: int\n",
    "        :type num_people: int\n",
    "        :rtype: List[int]\n",
    "        \"\"\"\n",
    "        pass\n",
    "    \n",
    "        candies = 7\n",
    "        num_people = 4\n",
    "        \n",
    "        i, x = 0 , 1\n",
    "        \n",
    "        candies_pple = [0] * num_people\n",
    "        print(candies_pple)\n",
    "        \n",
    "        while x <= num_people:\n",
    "            if sum(candies_pple) <= candies:\n",
    "                candies_pple[i] += x\n",
    "                candies -= x+ candies_pple[i]\n",
    "                print(candies)\n",
    "            x +=1\n",
    "            i+=1\n",
    "            \n",
    "        print(candies_pple)\n",
    "        \n",
    "        \n",
    "        \n",
    "candies = 3\n",
    "num_people =3\n",
    "\n",
    "obj = Solution()\n",
    "obj.distributeCandies(candies, num_people)"
   ]
  },
  {
   "cell_type": "code",
   "execution_count": null,
   "metadata": {},
   "outputs": [],
   "source": [
    "[1,2,3,1]"
   ]
  }
 ],
 "metadata": {
  "kernelspec": {
   "display_name": "Python 3",
   "language": "python",
   "name": "python3"
  },
  "language_info": {
   "codemirror_mode": {
    "name": "ipython",
    "version": 3
   },
   "file_extension": ".py",
   "mimetype": "text/x-python",
   "name": "python",
   "nbconvert_exporter": "python",
   "pygments_lexer": "ipython3",
   "version": "3.8.3"
  }
 },
 "nbformat": 4,
 "nbformat_minor": 4
}
