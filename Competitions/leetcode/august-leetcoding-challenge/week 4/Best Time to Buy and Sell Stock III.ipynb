{
 "cells": [
  {
   "cell_type": "markdown",
   "metadata": {},
   "source": [
    "# Best Time to Buy and Sell Stock III\n",
    "\n",
    "    Say you have an array for which the ith element is the price of a given stock on day i.\n",
    "\n",
    "    Design an algorithm to find the maximum profit. You may complete at most two transactions.\n",
    "\n",
    "    Note: You may not engage in multiple transactions at the same time (i.e., you must sell the stock before you buy again).\n",
    "\n",
    "Example 1:\n",
    "        \n",
    "    Input: [3,3,5,0,0,3,1,4]\n",
    "    Output: 6\n",
    "    Explanation: Buy on day 4 (price = 0) and sell on day 6 (price = 3), profit = 3-0 = 3.\n",
    "             Then buy on day 7 (price = 1) and sell on day 8 (price = 4), profit = 4-1 = 3.\n",
    "    \n",
    "Example 2:\n",
    "    \n",
    "    Input: [1,2,3,4,5]\n",
    "    Output: 4\n",
    "    Explanation: Buy on day 1 (price = 1) and sell on day 5 (price = 5), profit = 5-1 = 4.\n",
    "             Note that you cannot buy on day 1, buy on day 2 and sell them later, as you are\n",
    "             engaging multiple transactions at the same time. You must sell before buying again.\n",
    "                \n",
    "Example 3:\n",
    "    \n",
    "    Input: [7,6,4,3,1]\n",
    "    Output: 0\n",
    "    Explanation: In this case, no transaction is done, i.e. max profit = 0.\n",
    "\n",
    "\n",
    "***\n",
    "\n",
    "This approach fails some test cases like [6,1,3,2,4,7]"
   ]
  },
  {
   "cell_type": "code",
   "execution_count": 39,
   "metadata": {},
   "outputs": [
    {
     "name": "stdout",
     "output_type": "stream",
     "text": [
      "[]\n",
      "[7, 6, 4, 3, 1]\n"
     ]
    },
    {
     "data": {
      "text/plain": [
       "0"
      ]
     },
     "execution_count": 39,
     "metadata": {},
     "output_type": "execute_result"
    }
   ],
   "source": [
    "class Solution(object):\n",
    "    def maxProfit(self, prices):\n",
    "        \"\"\"\n",
    "        :type prices: List[int]\n",
    "        :rtype: int\n",
    "        \"\"\"\n",
    "        \n",
    "        firstsell = self.solver(prices)\n",
    "        daysinvalid = firstsell[:2]\n",
    "        fistarray = prices[:daysinvalid[0]]\n",
    "        secondarray = prices[daysinvalid[1]:]\n",
    "        secondprofit = self.solver(fistarray)\n",
    "        thirdprofit = self.solver(secondarray)\n",
    "        profit = firstsell[2] + max(secondprofit[2], thirdprofit[2])\n",
    "        \n",
    "        return profit\n",
    "        \n",
    "    def solver(self, prices):\n",
    "        if len(prices) <= 1 : return [0,0,0]\n",
    "        slow= 0\n",
    "        fast =0\n",
    "        \n",
    "        maxi =[0,0,0]\n",
    "               \n",
    "        for i in range(len(prices)):\n",
    "            if prices[i] >=slow:\n",
    "                x= i\n",
    "                \n",
    "                while x < len(prices):\n",
    "                    if prices[x] - prices[i] > maxi[2]:\n",
    "                        maxi[0] , maxi[1], maxi[2]= i, x, (prices[x] - prices[i])\n",
    "\n",
    "                    x+=1\n",
    "            elif prices[i] <= slow: \n",
    "                slow = prices[i]\n",
    "        return maxi\n",
    "    \n",
    "    \n",
    "obj = Solution()\n",
    "prices = [7,6,4,3,1]\n",
    "obj.maxProfit(prices)\n",
    "                        \n",
    "    "
   ]
  },
  {
   "cell_type": "markdown",
   "metadata": {},
   "source": [
    "# This approach passes all the test cases"
   ]
  },
  {
   "cell_type": "code",
   "execution_count": 22,
   "metadata": {},
   "outputs": [],
   "source": [
    "class Solution:\n",
    "    def maxProfit(self, prices) :\n",
    "        max_profit = 0\n",
    "        min_price = 99999\n",
    "        max_price = 0\n",
    "        one_tra_max = []\n",
    "        \n",
    "        for i in prices:\n",
    "            if i < min_price:\n",
    "                min_price = i\n",
    "            elif i - min_price > max_profit:\n",
    "                max_profit = i - min_price\n",
    "            one_tra_max.append(max_profit)\n",
    "\n",
    "        i=0\n",
    "        for j in prices[::-1]:\n",
    "            i+=1\n",
    "            if j > max_price:\n",
    "                max_price = j\n",
    "                continue\n",
    "                \n",
    "            a = max_price - j\n",
    "            if a + one_tra_max[-i] > max_profit:\n",
    "                max_profit = a + one_tra_max[-i]\n",
    "            \n",
    "        return max_profit\n",
    "\n"
   ]
  }
 ],
 "metadata": {
  "kernelspec": {
   "display_name": "Python 3",
   "language": "python",
   "name": "python3"
  },
  "language_info": {
   "codemirror_mode": {
    "name": "ipython",
    "version": 3
   },
   "file_extension": ".py",
   "mimetype": "text/x-python",
   "name": "python",
   "nbconvert_exporter": "python",
   "pygments_lexer": "ipython3",
   "version": "3.8.3"
  }
 },
 "nbformat": 4,
 "nbformat_minor": 4
}
