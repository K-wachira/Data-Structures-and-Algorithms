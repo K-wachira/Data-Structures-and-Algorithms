{
 "cells": [
  {
   "cell_type": "markdown",
   "metadata": {},
   "source": [
    "  # Numbers With Same Consecutive Differences ()\n",
    "    \n",
    "Return all non-negative integers of length N such that the absolute difference between every two consecutive digits is K.\n",
    "\n",
    "Note that every number in the answer must not have leading zeros except for the number 0 itself. For example, 01 has one leading zero and is invalid, but 0 is valid.\n",
    "\n",
    "You may return the answer in any order.\n",
    "\n",
    "    Input: N = 3, K = 7\n",
    "    Output: [181,292,707,818,929]\n",
    "    Explanation: Note that 070 is not a valid number, because it has leading zeroes.\n",
    "    \n",
    "    \n",
    "    \n",
    "    Input: N = 2, K = 1\n",
    "    Output: [10,12,21,23,32,34,43,45,54,56,65,67,76,78,87,89,98]"
   ]
  },
  {
   "cell_type": "code",
   "execution_count": null,
   "metadata": {},
   "outputs": [],
   "source": [
    "class Solution(object):\n",
    "    def numsSameConsecDiff(self, N, K):\n",
    "        \"\"\"\n",
    "        :type N: int\n",
    "        :type K: int\n",
    "        :rtype: List[int]\n",
    "        \"\"\"\n",
    "        \n",
    "        output = []\n",
    "        \n",
    "        if len(output) != 0:\n",
    "            self._sameDiff()\n",
    "        else:\n",
    "            while k >= len(num):\n",
    "                for in in \n",
    "            \n",
    "            \n",
    "    def _sameDiff(self,)\n",
    "        \n",
    "        \n",
    "        \n",
    "        \n"
   ]
  },
  {
   "cell_type": "code",
   "execution_count": 22,
   "metadata": {},
   "outputs": [
    {
     "name": "stdout",
     "output_type": "stream",
     "text": [
      "0\n",
      "1\n",
      "2\n",
      "3\n",
      "4\n",
      "5\n",
      "6\n",
      "7\n",
      "8\n",
      "9\n",
      "[10]\n"
     ]
    }
   ],
   "source": [
    "nums =  [10,12,21,23,32,34,43,45,54,56,65,67,76,78,87,89,98]\n",
    "\n",
    "output = []\n",
    "k = 1\n",
    "num = \"1\"\n",
    "while  k >= len(str(num)) :\n",
    "    for i in range(0, 10):\n",
    "        print(i)\n",
    "        if i +int(num) == k:\n",
    "            num+= str(i)\n",
    "            k -=i\n",
    "    \n",
    "\n",
    "output.append(int(num))\n",
    "print(output)\n"
   ]
  },
  {
   "cell_type": "code",
   "execution_count": 25,
   "metadata": {},
   "outputs": [
    {
     "name": "stdout",
     "output_type": "stream",
     "text": [
      "800.0\n"
     ]
    }
   ],
   "source": [
    "print(4000*0.2)"
   ]
  },
  {
   "cell_type": "code",
   "execution_count": null,
   "metadata": {},
   "outputs": [],
   "source": []
  }
 ],
 "metadata": {
  "kernelspec": {
   "display_name": "Python 3",
   "language": "python",
   "name": "python3"
  },
  "language_info": {
   "codemirror_mode": {
    "name": "ipython",
    "version": 3
   },
   "file_extension": ".py",
   "mimetype": "text/x-python",
   "name": "python",
   "nbconvert_exporter": "python",
   "pygments_lexer": "ipython3",
   "version": "3.8.3"
  }
 },
 "nbformat": 4,
 "nbformat_minor": 4
}
