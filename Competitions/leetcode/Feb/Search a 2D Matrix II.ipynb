{
 "cells": [
  {
   "cell_type": "markdown",
   "metadata": {},
   "source": [
    "#  Search a 2D Matrix II\n",
    "\n",
    "Write an efficient algorithm that searches for a target value in an m x n integer matrix. The matrix has the following properties:\n",
    "\n",
    "    Integers in each row are sorted in ascending from left to right.\n",
    "    Integers in each column are sorted in ascending from top to bottom.\n",
    "\n",
    "\n",
    "Example 1:\n",
    "\n",
    "![](https://assets.leetcode.com/uploads/2020/11/24/searchgrid2.jpg)\n",
    "```\n",
    "Input: matrix = [[1,4,7,11,15],[2,5,8,12,19],[3,6,9,16,22],[10,13,14,17,24],[18,21,23,26,30]], \n",
    "target = 5\n",
    "Output: true\n",
    "```\n",
    "\n",
    "Example 2:\n",
    "\n",
    "![](https://assets.leetcode.com/uploads/2020/11/24/searchgrid.jpg)\n",
    "```\n",
    "Input: matrix = [[1,4,7,11,15],[2,5,8,12,19],[3,6,9,16,22],[10,13,14,17,24],[18,21,23,26,30]], \n",
    "target = 20\n",
    "Output: false\n",
    "```\n",
    "\n",
    "\n",
    "\n",
    "Constraints:\n",
    "\n",
    "    m == matrix.length\n",
    "    n == matrix[i].length\n",
    "    1 <= n, m <= 300\n",
    "    -109 <= matix[i][j] <= 109\n",
    "    All the integers in each row are sorted in ascending order.\n",
    "    All the integers in each column are sorted in ascending order.\n",
    "    -109 <= target <= 109\n",
    "\n"
   ]
  },
  {
   "cell_type": "markdown",
   "metadata": {},
   "source": [
    "# Approach One (BFS) \n",
    "```\n",
    "Time Complexity = O(m*n) = 432 ms\n",
    "Space Complexity = O(m*n+k) =  25.9 MB\n",
    "\n",
    "where: \n",
    "n is number of rows\n",
    "m is number of columns \n",
    "k is the max len of set (seen)\n",
    "\n",
    "```\n",
    "## Steps ::\n",
    "\n",
    "\n",
    "1. do a dfs on the matrix \n",
    "2. only append coordinates that have values less than the target \n",
    "3. return True if a coordinate has value that is same as target\n",
    "4. Return  matrix[0][0] == target to check if first value is equal to target\n"
   ]
  },
  {
   "cell_type": "code",
   "execution_count": 13,
   "metadata": {},
   "outputs": [
    {
     "name": "stdout",
     "output_type": "stream",
     "text": [
      "0 0\n"
     ]
    },
    {
     "data": {
      "text/plain": [
       "True"
      ]
     },
     "execution_count": 13,
     "metadata": {},
     "output_type": "execute_result"
    }
   ],
   "source": [
    "from collections import deque\n",
    "class Solution(object):\n",
    "    def searchMatrix(self, matrix, target):\n",
    "        \"\"\"\n",
    "        :type matrix: List[List[int]]\n",
    "        :type target: int\n",
    "        :rtype: bool\n",
    "        \"\"\"\n",
    "        queue = deque([])\n",
    "        queue.append((0,0))\n",
    "        seen = set( (0,0))\n",
    "        R = len(matrix)\n",
    "        C = len(matrix[0])\n",
    "        \n",
    "        while queue:\n",
    "            r,c  = queue.popleft()\n",
    "            #if matrix[r][c] == target: return True\n",
    "            print( r, c)\n",
    "            \n",
    "            directions = [ (r, c+1),(r+1, c),(r+1, c+1) ]\n",
    "            for rr , cc in directions:\n",
    "                if 0<= rr <R and 0 <= cc <C and (rr, cc) not in seen:\n",
    "                    value =  matrix[rr][cc]\n",
    "                    if value == target: return True\n",
    "                    if value < target:\n",
    "                        queue.append( (rr, cc))\n",
    "                    seen.add( (rr, cc))\n",
    "        return matrix[0][0] == target\n",
    "            \n",
    "                    \n",
    "                    \n",
    "                \n",
    "obj = Solution()\n",
    "matrix =[[-5]]\n",
    "target = -5\n",
    "obj.searchMatrix(matrix, target)\n",
    "        "
   ]
  },
  {
   "cell_type": "markdown",
   "metadata": {},
   "source": [
    "# Approach Two\n",
    "\n",
    "Time Complexity =\n",
    "Space Complexity = \n",
    "\n",
    "## Steps ::\n",
    "\n",
    "1. Loop though the matrix rows \n",
    "2. Perfom a binary search on each row if the first or the last value is less than target else return False\n",
    "3. return False if you get to the end\n",
    "\n"
   ]
  },
  {
   "cell_type": "code",
   "execution_count": 19,
   "metadata": {},
   "outputs": [
    {
     "data": {
      "text/plain": [
       "True"
      ]
     },
     "execution_count": 19,
     "metadata": {},
     "output_type": "execute_result"
    }
   ],
   "source": [
    "class Solution(object):\n",
    "    def searchMatrix(self, matrix, target):\n",
    "        for i in matrix:\n",
    "            if i[0] <= target or i[-1] <= target:\n",
    "                res = self.binarySearch( i, target)\n",
    "                if res: return True\n",
    "            else: return False\n",
    "        return False \n",
    "    def binarySearch(self, arr, target ):\n",
    "        \n",
    "        low = 0\n",
    "        high = len(arr)-1\n",
    "        \n",
    "        while low <= high:\n",
    "            mid = (low+high)//2\n",
    "            \n",
    "            if arr[mid] == target: return True\n",
    "            \n",
    "            elif target < arr[mid]:\n",
    "                high = mid-1\n",
    "            elif target > arr[mid]:\n",
    "                low = mid+1\n",
    "        return False\n",
    "        \n",
    "        \n",
    "obj = Solution()\n",
    "matrix = [[1,2,5]]\n",
    "target = 5\n",
    "obj.searchMatrix(matrix, target)"
   ]
  },
  {
   "cell_type": "code",
   "execution_count": null,
   "metadata": {},
   "outputs": [],
   "source": []
  }
 ],
 "metadata": {
  "kernelspec": {
   "display_name": "Python 3",
   "language": "python",
   "name": "python3"
  },
  "language_info": {
   "codemirror_mode": {
    "name": "ipython",
    "version": 3
   },
   "file_extension": ".py",
   "mimetype": "text/x-python",
   "name": "python",
   "nbconvert_exporter": "python",
   "pygments_lexer": "ipython3",
   "version": "3.8.3"
  }
 },
 "nbformat": 4,
 "nbformat_minor": 4
}
