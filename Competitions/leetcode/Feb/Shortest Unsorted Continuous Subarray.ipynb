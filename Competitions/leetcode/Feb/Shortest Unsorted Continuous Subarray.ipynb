{
 "cells": [
  {
   "cell_type": "markdown",
   "metadata": {},
   "source": [
    "# Shortest Unsorted Continuous Subarray\n",
    "\n",
    "Given an integer array nums, you need to find one continuous subarray that if you only sort this subarray in ascending order, then the whole array will be sorted in ascending order.\n",
    "\n",
    "Return the shortest such subarray and output its length.\n",
    "\n",
    "````\n",
    "Example 1:\n",
    "\n",
    "Input: nums = [2,6,4,8,10,9,15]\n",
    "Output: 5\n",
    "Explanation: You need to sort [6, 4, 8, 10, 9] in ascending order to make the whole array sorted in ascending order.\n",
    "\n",
    "Example 2:\n",
    "\n",
    "Input: nums = [1,2,3,4]\n",
    "Output: 0\n",
    "\n",
    "Example 3:\n",
    "\n",
    "Input: nums = [1]\n",
    "Output: 0\n",
    "\n",
    "````\n",
    "\n",
    "Constraints:\n",
    "\n",
    "    1 <= nums.length <= 104\n",
    "    -105 <= nums[i] <= 105\n",
    "\n"
   ]
  },
  {
   "cell_type": "code",
   "execution_count": 64,
   "metadata": {},
   "outputs": [
    {
     "data": {
      "text/plain": [
       "3"
      ]
     },
     "execution_count": 64,
     "metadata": {},
     "output_type": "execute_result"
    }
   ],
   "source": [
    "import itertools\n",
    "import bisect\n",
    "\n",
    "\n",
    "class Solution(object):\n",
    "    def findUnsortedSubarray(self, nums):\n",
    "        \"\"\"\n",
    "        :type nums: List[int]\n",
    "        :rtype: int\n",
    "        \"\"\"\n",
    "        n = len(nums)\n",
    "        \n",
    "        l = 1\n",
    "        while l < n and nums[l-1] <= nums[l]:\n",
    "            l += 1\n",
    "        if l == n:\n",
    "            return 0\n",
    "        \n",
    "        # nums[l-1] > nums[l]\n",
    "        # nums[:l] is ascending\n",
    "        \n",
    "        r = n-1\n",
    "        while nums[r-1] <= nums[r]:\n",
    "            r -= 1\n",
    "        \n",
    "        # nums[r-1] > nums[r]\n",
    "        # nums[r:] is ascending\n",
    "        \n",
    "        min_ = min(itertools.islice(nums, l, r+1))\n",
    "        max_ = max(itertools.islice(nums, l-1, r))\n",
    "        \n",
    "        l = bisect.bisect_right(nums, min_, 0, l)\n",
    "        r = bisect.bisect_left(nums, max_, r, n)\n",
    "        \n",
    "        return r - l\n",
    "    \n",
    "obj = Solution()\n",
    "arr = [1,2,4,5,3]\n",
    "obj.findUnsortedSubarray( arr)\n",
    "            \n",
    "            \n",
    "                \n",
    "                \n",
    "                "
   ]
  },
  {
   "cell_type": "code",
   "execution_count": 44,
   "metadata": {},
   "outputs": [
    {
     "data": {
      "text/plain": [
       "True"
      ]
     },
     "execution_count": 44,
     "metadata": {},
     "output_type": "execute_result"
    }
   ],
   "source": [
    "curr_max = [0 ,float(\"-inf\") ]\n",
    "curr_max[1] < -105"
   ]
  },
  {
   "cell_type": "code",
   "execution_count": null,
   "metadata": {},
   "outputs": [],
   "source": []
  }
 ],
 "metadata": {
  "kernelspec": {
   "display_name": "Python 3",
   "language": "python",
   "name": "python3"
  },
  "language_info": {
   "codemirror_mode": {
    "name": "ipython",
    "version": 3
   },
   "file_extension": ".py",
   "mimetype": "text/x-python",
   "name": "python",
   "nbconvert_exporter": "python",
   "pygments_lexer": "ipython3",
   "version": "3.8.3"
  }
 },
 "nbformat": 4,
 "nbformat_minor": 4
}
