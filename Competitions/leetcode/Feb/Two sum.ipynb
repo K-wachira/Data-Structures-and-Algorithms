{
 "cells": [
  {
   "cell_type": "code",
   "execution_count": 6,
   "metadata": {},
   "outputs": [
    {
     "data": {
      "text/plain": [
       "True"
      ]
     },
     "execution_count": 6,
     "metadata": {},
     "output_type": "execute_result"
    }
   ],
   "source": [
    "class Solution():\n",
    "    def twoSum(self, array, target):\n",
    "        seen = set()\n",
    "        for i,n in enumerate(array):\n",
    "            T = target - n\n",
    "            if T in seen: return True\n",
    "            else: seen.add(n)\n",
    "                \n",
    "        return False\n",
    "obj = Solution()\n",
    "array = [1,10,2,3,4,5,6,7,8,9, 0]\n",
    "target = 2\n",
    "\n",
    "obj.twoSum( array, target)\n",
    "        \n",
    "\n",
    "                \n",
    "            "
   ]
  },
  {
   "cell_type": "code",
   "execution_count": null,
   "metadata": {},
   "outputs": [],
   "source": []
  }
 ],
 "metadata": {
  "kernelspec": {
   "display_name": "Python 3",
   "language": "python",
   "name": "python3"
  },
  "language_info": {
   "codemirror_mode": {
    "name": "ipython",
    "version": 3
   },
   "file_extension": ".py",
   "mimetype": "text/x-python",
   "name": "python",
   "nbconvert_exporter": "python",
   "pygments_lexer": "ipython3",
   "version": "3.8.3"
  }
 },
 "nbformat": 4,
 "nbformat_minor": 4
}
