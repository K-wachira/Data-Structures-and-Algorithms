{
 "cells": [
  {
   "cell_type": "markdown",
   "metadata": {},
   "source": [
    "# Binary Tree Right Side View\n",
    "\n",
    "## Given a binary tree, imagine yourself standing on the right side of it, return the values of the nodes you can see ordered from top to bottom.\n",
    "\n",
    "Example:\n",
    "\n",
    "\n",
    "Input: [1,2,3,null,5,null,4]\n",
    "\n",
    "Output: [1, 3, 4]\n",
    "\n",
    "Explanation:\n",
    "```\n",
    "\n",
    "   1            <---\n",
    " /   \\\n",
    "2     3         <---\n",
    " \\     \\\n",
    "  5     4       <---\n",
    "  \n",
    "  ```"
   ]
  },
  {
   "cell_type": "code",
   "execution_count": 1,
   "metadata": {},
   "outputs": [],
   "source": [
    "\n",
    "def func(node, d, l):\n",
    "    if not node:\n",
    "        return\n",
    "    if not l in d:\n",
    "        d[l] = []\n",
    "    d[l].append(node.val)\n",
    "    func(node.left, d, l + 1)\n",
    "    func(node.right, d, l + 1)\n",
    "    \n",
    "    \n",
    "class Solution:\n",
    "    def rightSideView(self, root):\n",
    "        d = dict()\n",
    "        func(root, d, 0)\n",
    "        ans = []\n",
    "        print(d)\n",
    "        for l in sorted(d):\n",
    "            ans.append(d[l][-1])\n",
    "        return ans"
   ]
  },
  {
   "cell_type": "code",
   "execution_count": null,
   "metadata": {},
   "outputs": [],
   "source": []
  }
 ],
 "metadata": {
  "kernelspec": {
   "display_name": "Python 3",
   "language": "python",
   "name": "python3"
  },
  "language_info": {
   "codemirror_mode": {
    "name": "ipython",
    "version": 3
   },
   "file_extension": ".py",
   "mimetype": "text/x-python",
   "name": "python",
   "nbconvert_exporter": "python",
   "pygments_lexer": "ipython3",
   "version": "3.8.3"
  }
 },
 "nbformat": 4,
 "nbformat_minor": 4
}
