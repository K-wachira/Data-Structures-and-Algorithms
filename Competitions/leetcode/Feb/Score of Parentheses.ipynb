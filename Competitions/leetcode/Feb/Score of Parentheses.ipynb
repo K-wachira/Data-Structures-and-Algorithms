{
 "cells": [
  {
   "cell_type": "markdown",
   "metadata": {},
   "source": [
    "# Score of Parentheses\n",
    "\n",
    "[Question link](https://leetcode.com/explore/challenge/card/february-leetcoding-challenge-2021/587/week-4-february-22nd-february-28th/3651/)\n",
    "\n",
    "\n",
    "Given a balanced parentheses string S, compute the score of the string based on the following rule:\n",
    "\n",
    "    () has score 1\n",
    "    AB has score A + B, where A and B are balanced parentheses strings.\n",
    "    (A) has score 2 * A, where A is a balanced parentheses string.\n",
    "\n",
    "   \n",
    "Example 1:\n",
    "\n",
    "    Input: \"()\"\n",
    "    Output: 1\n",
    "  \n",
    "Example 2:\n",
    "\n",
    "    Input: \"(())\"\n",
    "    Output: 2\n",
    "  \n",
    "Example 3:\n",
    "\n",
    "    Input: \"()()\"\n",
    "    Output: 2\n",
    "\n",
    "Example 4:\n",
    "\n",
    "    Input: \"(()(()))\"\n",
    "    Output: 6\n"
   ]
  },
  {
   "cell_type": "code",
   "execution_count": null,
   "metadata": {},
   "outputs": [],
   "source": []
  }
 ],
 "metadata": {
  "kernelspec": {
   "display_name": "Python 3",
   "language": "python",
   "name": "python3"
  },
  "language_info": {
   "codemirror_mode": {
    "name": "ipython",
    "version": 3
   },
   "file_extension": ".py",
   "mimetype": "text/x-python",
   "name": "python",
   "nbconvert_exporter": "python",
   "pygments_lexer": "ipython3",
   "version": "3.8.3"
  }
 },
 "nbformat": 4,
 "nbformat_minor": 4
}
