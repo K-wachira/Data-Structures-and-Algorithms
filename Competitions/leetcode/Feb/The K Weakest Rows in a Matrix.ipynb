{
 "cells": [
  {
   "cell_type": "markdown",
   "metadata": {},
   "source": [
    "# The K Weakest Rows in a Matrix\n",
    "\n",
    "[Question Link](https://leetcode.com/explore/challenge/card/february-leetcoding-challenge-2021/586/week-3-february-15th-february-21st/3641/)\n",
    "\n",
    "You are given an m x n binary matrix mat of 1's (representing soldiers) and 0's (representing civilians). The soldiers are positioned in front of the civilians. That is, all the 1's will appear to the left of all the 0's in each row.\n",
    "\n",
    "A row i is weaker than a row j if one of the following is true:\n",
    "\n",
    "    The number of soldiers in row i is less than the number of soldiers in row j.\n",
    "    Both rows have the same number of soldiers and i < j.\n",
    "\n",
    "Return the indices of the k weakest rows in the matrix ordered from weakest to strongest.\n",
    "\n",
    "```\n",
    "#Example 1:\n",
    "\n",
    "Input: mat =[[1,1,0,0,0], [1,1,1,1,0],  [1,0,0,0,0],  [1,1,0,0,0],  [1,1,1,1,1]], \n",
    "k = 3\n",
    "Output: [2,0,3]\n",
    "Explanation: \n",
    "The number of soldiers in each row is: \n",
    "- Row 0: 2 \n",
    "- Row 1: 4 \n",
    "- Row 2: 1 \n",
    "- Row 3: 2 \n",
    "- Row 4: 5 \n",
    "The rows ordered from weakest to strongest are [2,0,3,1,4].\n",
    "\n",
    "\n",
    "#Example 2:\n",
    "\n",
    "Input: mat =  [[1,0,0,0],  [1,1,1,1],  [1,0,0,0],  [1,0,0,0]], \n",
    "k = 2\n",
    "Output: [0,2]\n",
    "Explanation: \n",
    "The number of soldiers in each row is: \n",
    "- Row 0: 1 \n",
    "- Row 1: 4 \n",
    "- Row 2: 1 \n",
    "- Row 3: 1 \n",
    "The rows ordered from weakest to strongest are [0,2,3,1].\n",
    "\n",
    "\n",
    "Constraints:\n",
    "\n",
    "    m == mat.length\n",
    "    n == mat[i].length\n",
    "    2 <= n, m <= 100\n",
    "    1 <= k <= m\n",
    "    matrix[i][j] is either 0 or 1.\n",
    "\n"
   ]
  },
  {
   "cell_type": "markdown",
   "metadata": {},
   "source": [
    "# Approach One () \n",
    "\n",
    "Time Complexity = O( n*m + logn + k) \n",
    "\n",
    "Space Complexity =  O(n+k) \n",
    "```\n",
    "Where:\n",
    "n is then number of rows in the given matrix\n",
    "m is the number of soldiers in the matrix\n",
    "k is the given parementer k \n",
    "\n",
    "## Steps ::\n",
    "\n",
    "1. Initalize a list of lists ( empty ) and a list (empty)\n",
    "2. Loop through the mat and store index and number of soldiers in the current row on the nested lists \n",
    "3. sort the list first by number of soldiers and then by index if they are both equal \n",
    "4. loop through the list of lists and append the 0 index of the nested lists to the output list\n",
    "5. return the outputlist at the end \n",
    "\n"
   ]
  },
  {
   "cell_type": "code",
   "execution_count": 30,
   "metadata": {},
   "outputs": [
    {
     "name": "stdout",
     "output_type": "stream",
     "text": [
      "[[0, 5], [1, 1], [2, 2], [3, 4], [4, 5]]\n",
      "[[1, 1], [2, 2], [3, 4], [0, 5], [4, 5]]\n"
     ]
    },
    {
     "data": {
      "text/plain": [
       "[1, 2, 3]"
      ]
     },
     "execution_count": 30,
     "metadata": {},
     "output_type": "execute_result"
    }
   ],
   "source": [
    "class Solution():\n",
    "    def KWeakestRows(self, mat, k):\n",
    "        listoflists = []\n",
    "        output = []    \n",
    "        \n",
    "        for n,i in enumerate(mat):\n",
    "            listoflists.append([n, sum(i)])\n",
    "        print(listoflists)\n",
    "        listoflists = sorted( listoflists , key = lambda x: ( x[1], x[0]))\n",
    "        print(listoflists)\n",
    "        j = 0 \n",
    "        while j < k:\n",
    "            output.append(listoflists[j][0])\n",
    "            j+=1\n",
    "        return output\n",
    "    \n",
    "obj = Solution() \n",
    "mat = [[1,1,1,1,1],\n",
    "       [1,0,0,0,0],\n",
    "       [1,1,0,0,0],\n",
    "       [1,1,1,1,0],\n",
    "       [1,1,1,1,1]]\n",
    "k = 3\n",
    "obj.KWeakestRows(mat, k)\n",
    "\n",
    "                \n",
    "                \n",
    "            \n",
    "        "
   ]
  },
  {
   "cell_type": "code",
   "execution_count": 31,
   "metadata": {},
   "outputs": [
    {
     "data": {
      "text/plain": [
       "[1, 2, 3]"
      ]
     },
     "execution_count": 31,
     "metadata": {},
     "output_type": "execute_result"
    }
   ],
   "source": [
    "class Solution():\n",
    "    def KWeakestRows(self, mat, k):\n",
    "        temp = [[i,sum(mat[i])] for i in range(len(mat))]\n",
    "        temp.sort(key = lambda x:(x[1],x[0]))\n",
    "        ret_val = []\n",
    "        for i in range(k):\n",
    "            ret_val.append(temp[i][0])\n",
    "        return ret_val\n",
    "    \n",
    "obj = Solution() \n",
    "mat = [[1,1,1,1,1],\n",
    "       [1,0,0,0,0],\n",
    "       [1,1,0,0,0],\n",
    "       [1,1,1,1,0],\n",
    "       [1,1,1,1,1]]\n",
    "k = 3\n",
    "obj.KWeakestRows(mat, k)\n"
   ]
  },
  {
   "cell_type": "code",
   "execution_count": null,
   "metadata": {},
   "outputs": [],
   "source": []
  }
 ],
 "metadata": {
  "kernelspec": {
   "display_name": "Python 3",
   "language": "python",
   "name": "python3"
  },
  "language_info": {
   "codemirror_mode": {
    "name": "ipython",
    "version": 3
   },
   "file_extension": ".py",
   "mimetype": "text/x-python",
   "name": "python",
   "nbconvert_exporter": "python",
   "pygments_lexer": "ipython3",
   "version": "3.8.3"
  }
 },
 "nbformat": 4,
 "nbformat_minor": 4
}
