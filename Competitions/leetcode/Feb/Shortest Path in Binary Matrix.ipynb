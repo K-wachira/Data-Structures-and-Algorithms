{
 "cells": [
  {
   "cell_type": "markdown",
   "metadata": {},
   "source": [
    "# Shortest Path in Binary Matrix\n",
    "\n",
    "In an N by N square grid, each cell is either empty (0) or blocked (1).\n",
    "\n",
    "A clear path from top-left to bottom-right has length k if and only if it is composed of cells C_1, C_2, ..., C_k such that:\n",
    "```\n",
    "    Adjacent cells C_i and C_{i+1} are connected 8-directionally (ie., they are different and share an edge or corner)\n",
    "    C_1 is at location (0, 0) (ie. has value grid[0][0])\n",
    "    C_k is at location (N-1, N-1) (ie. has value grid[N-1][N-1])\n",
    "    If C_i is located at (r, c), then grid[r][c] is empty (ie. grid[r][c] == 0).\n",
    "```\n",
    "Return the length of the shortest such clear path from top-left to bottom-right.  If such a path does not exist, return -1."
   ]
  },
  {
   "cell_type": "code",
   "execution_count": 26,
   "metadata": {},
   "outputs": [
    {
     "name": "stdout",
     "output_type": "stream",
     "text": [
      "\n"
     ]
    },
    {
     "data": {
      "text/plain": [
       "2"
      ]
     },
     "execution_count": 26,
     "metadata": {},
     "output_type": "execute_result"
    }
   ],
   "source": [
    "from collections import deque\n",
    "class Solution(object):\n",
    "    def shortestPathBinaryMatrix(self, grid):\n",
    "        \"\"\"\n",
    "        :type grid: List[List[int]]\n",
    "        :rtype: int\n",
    "        \n",
    "        \"\"\"\n",
    "        \n",
    "        queue = deque([])\n",
    "        start = (0, 0 , 1) # row , col , distance \n",
    "        n = len(grid)-1\n",
    "        queue.append(start)\n",
    "        seen= [(0,0)]\n",
    "        R = len(grid)\n",
    "        C = len(grid[0])\n",
    "        print()\n",
    "        \n",
    "        \n",
    "        while queue:\n",
    "            rr, cc, distance = queue.popleft()\n",
    "            directions = [ (rr+1, cc), (rr-1, cc), (rr, cc+1), (rr, cc-1), (rr+1, cc+1), (rr-1, cc-1)]\n",
    "            \n",
    "            \n",
    "            for r, c in directions:\n",
    "                if (r, c) == (n, n): return distance +1 # if its at he end which is n, n  where  n , n is the last cell of the matrix \n",
    "                if 0 <= r < R and 0 <= c < C and (r, c) not in seen :\n",
    "                    if grid[r][c] == 0:\n",
    "                        print(r, c)\n",
    "                        queue.append( (r, c, distance+1))\n",
    "                        seen.append( (r,c ))\n",
    "                    \n",
    "        return -1 \n",
    "    \n",
    "    \n",
    "obj = Solution()\n",
    "grid =[[0,1],[1,0]]\n",
    "obj.shortestPathBinaryMatrix(grid)\n",
    "                    \n",
    "            \n",
    "        \n",
    "        "
   ]
  },
  {
   "cell_type": "code",
   "execution_count": 4,
   "metadata": {},
   "outputs": [],
   "source": [
    "s = set([0,1])"
   ]
  },
  {
   "cell_type": "code",
   "execution_count": null,
   "metadata": {},
   "outputs": [],
   "source": []
  }
 ],
 "metadata": {
  "kernelspec": {
   "display_name": "Python 3",
   "language": "python",
   "name": "python3"
  },
  "language_info": {
   "codemirror_mode": {
    "name": "ipython",
    "version": 3
   },
   "file_extension": ".py",
   "mimetype": "text/x-python",
   "name": "python",
   "nbconvert_exporter": "python",
   "pygments_lexer": "ipython3",
   "version": "3.8.3"
  }
 },
 "nbformat": 4,
 "nbformat_minor": 4
}
