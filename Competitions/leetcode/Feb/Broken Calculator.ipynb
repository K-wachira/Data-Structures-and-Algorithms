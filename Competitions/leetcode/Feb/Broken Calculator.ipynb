{
 "cells": [
  {
   "cell_type": "markdown",
   "metadata": {},
   "source": [
    "On a broken calculator that has a number showing on its display, we can perform two operations:\n",
    "\n",
    "    Double: Multiply the number on the display by 2, or;\n",
    "    Decrement: Subtract 1 from the number on the display.\n",
    "\n",
    "Initially, the calculator is displaying the number X.\n",
    "\n",
    "Return the minimum number of operations needed to display the number Y.\n",
    "\n",
    " "
   ]
  },
  {
   "cell_type": "code",
   "execution_count": 6,
   "metadata": {},
   "outputs": [
    {
     "data": {
      "text/plain": [
       "7.0"
      ]
     },
     "execution_count": 6,
     "metadata": {},
     "output_type": "execute_result"
    }
   ],
   "source": [
    "class Solution(object):\n",
    "    def brokenCalc(self, X, Y):\n",
    "        \"\"\"\n",
    "        :type X: int\n",
    "        :type Y: int\n",
    "        :rtype: int\n",
    "        \"\"\"\n",
    "        count = 0 \n",
    "        while X < Y:\n",
    "            count +=1\n",
    "            \n",
    "            if Y % 2 == 1: \n",
    "                Y+=1\n",
    "            else:\n",
    "                Y =Y/2\n",
    "\n",
    "            \n",
    "        return count + (X-Y)\n",
    "            \n",
    "        \n",
    "        \n",
    "obj = Solution()\n",
    "obj.brokenCalc(5, 8)"
   ]
  },
  {
   "cell_type": "code",
   "execution_count": null,
   "metadata": {},
   "outputs": [],
   "source": []
  }
 ],
 "metadata": {
  "kernelspec": {
   "display_name": "Python 3",
   "language": "python",
   "name": "python3"
  },
  "language_info": {
   "codemirror_mode": {
    "name": "ipython",
    "version": 3
   },
   "file_extension": ".py",
   "mimetype": "text/x-python",
   "name": "python",
   "nbconvert_exporter": "python",
   "pygments_lexer": "ipython3",
   "version": "3.8.3"
  }
 },
 "nbformat": 4,
 "nbformat_minor": 4
}
