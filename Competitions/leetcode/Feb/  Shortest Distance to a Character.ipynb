{
 "cells": [
  {
   "cell_type": "markdown",
   "metadata": {},
   "source": [
    "  # Shortest Distance to a Character\n",
    "  \n",
    "  Given a string s and a character c that occurs in s, return an array of integers answer where answer.length == s.length\n",
    "  \n",
    "  and answer[i] is the distance from index i to the closest occurrence of character c in s.\n",
    "  \n",
    "\n",
    "The distance between two indices i and j is abs(i - j), where abs is the absolute value function.\n",
    "\n",
    "\n",
    "Input: s = \"loveleetcode\", c = \"e\"\n",
    "Output: [3,2,1,0,1,0,0,1,2,2,1,0]\n",
    "\n",
    "``\n",
    "Explanation: The character 'e' appears at indices 3, 5, 6, and 11 (0-indexed).\n",
    "The closest occurrence of 'e' for index 0 is at index 3, so the distance is abs(0 - 3) = 3.\n",
    "The closest occurrence of 'e' for index 1 is at index 3, so the distance is abs(1 - 3) = 3.\n",
    "For index 4, there is a tie between the 'e' at index 3 and the 'e' at index 5, but the distance is still the same: abs(4 - 3) == abs(4 - 5) = 1.\n",
    "The closest occurrence of 'e' for index 8 is at index 6, so the distance is abs(8 - 6) = 2.``"
   ]
  },
  {
   "cell_type": "code",
   "execution_count": null,
   "metadata": {},
   "outputs": [],
   "source": [
    "class Solution(object):\n",
    "    def shortestToChar(self, s, c):\n",
    "        \"\"\"\n",
    "        :type s: str\n",
    "        :type c: str\n",
    "        :rtype: List[int]\n",
    "        \"\"\"\n",
    "        \n",
    "        dicti= {}\n",
    "        out = []\n",
    "        x = 0 \n",
    "        for i , n in enumerate(s):\n",
    "            \n",
    "            if n == c:\n",
    "                dicti[x] = i \n",
    "                x +=1 \n",
    "        for i, n  in enumerate(s):\n",
    "            mini = float('inf') \n",
    "            for val in dicti.values():\n",
    "                mini = min( mini, abs(val - i))\n",
    "            out.append(mini)\n",
    "        return out\n",
    "                "
   ]
  }
 ],
 "metadata": {
  "kernelspec": {
   "display_name": "Python 3",
   "language": "python",
   "name": "python3"
  },
  "language_info": {
   "codemirror_mode": {
    "name": "ipython",
    "version": 3
   },
   "file_extension": ".py",
   "mimetype": "text/x-python",
   "name": "python",
   "nbconvert_exporter": "python",
   "pygments_lexer": "ipython3",
   "version": "3.8.3"
  }
 },
 "nbformat": 4,
 "nbformat_minor": 4
}
