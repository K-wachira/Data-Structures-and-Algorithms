{
 "cells": [
  {
   "cell_type": "markdown",
   "metadata": {},
   "source": [
    "# Check Array Formation Through Concatenation\n",
    "\n",
    "[Questionlink](https://leetcode.com/explore/featured/card/january-leetcoding-challenge-2021/579/week-1-january-1st-january-7th/3589/)\n",
    "\n",
    "\n",
    "You are given an array of distinct integers arr and an array of integer arrays pieces, where the integers in pieces are distinct. Your goal is to form arr by concatenating the arrays in pieces in any order. However, you are not allowed to reorder the integers in each array pieces[i].\n",
    "\n",
    "Return true if it is possible to form the array arr from pieces. Otherwise, return false."
   ]
  },
  {
   "cell_type": "markdown",
   "metadata": {},
   "source": [
    "# 1. Use a hash map\n",
    "\n",
    "\n",
    "Time Complexity O(2^n)\n",
    "\n",
    "Space Complexity O(n)\n",
    "\n",
    "1. create a dictionary with the items as keys and their index as values \n",
    "2. loop through the  pieces array and confirm that the items in the nested array follow the order they have on the main array by  querying the created dictionary \n",
    "3. check if the item is first in the dictionary array \n"
   ]
  },
  {
   "cell_type": "code",
   "execution_count": 37,
   "metadata": {},
   "outputs": [
    {
     "data": {
      "text/plain": [
       "True"
      ]
     },
     "execution_count": 37,
     "metadata": {},
     "output_type": "execute_result"
    }
   ],
   "source": [
    "class Solution:\n",
    "    def canFormArray(self, arr ,pieces) -> bool:\n",
    "        f1 = {}\n",
    "        \n",
    "        for i, n in enumerate(arr):\n",
    "            f1[n] = i\n",
    "        for mini in pieces:\n",
    "                if len(mini) == 1:\n",
    "                    if mini[0] not in f1.keys(): return False\n",
    "                i = 0\n",
    "                while i < len(mini)-1:\n",
    "                    if mini[i] not in f1.keys(): return False\n",
    "                    if mini[i+1] not in f1.keys(): return False\n",
    "                    if f1[mini[i]] != f1[mini[i+1]] -1: return False \n",
    "                    print(mini[i])\n",
    "                    i+=1\n",
    "        return True \n",
    "                \n",
    "            \n",
    "obj = Solution()\n",
    "arr = [85]\n",
    "pieces = [[85]]\n",
    "obj.canFormArray(arr, pieces)"
   ]
  },
  {
   "cell_type": "code",
   "execution_count": null,
   "metadata": {},
   "outputs": [],
   "source": []
  }
 ],
 "metadata": {
  "kernelspec": {
   "display_name": "Python 3",
   "language": "python",
   "name": "python3"
  },
  "language_info": {
   "codemirror_mode": {
    "name": "ipython",
    "version": 3
   },
   "file_extension": ".py",
   "mimetype": "text/x-python",
   "name": "python",
   "nbconvert_exporter": "python",
   "pygments_lexer": "ipython3",
   "version": "3.8.3"
  }
 },
 "nbformat": 4,
 "nbformat_minor": 4
}
